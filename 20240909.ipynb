{
 "cells": [
  {
   "cell_type": "code",
   "execution_count": 2,
   "id": "acc4acf4-ab97-4fd7-8472-9a440595ac33",
   "metadata": {},
   "outputs": [
    {
     "name": "stdout",
     "output_type": "stream",
     "text": [
      "0\n",
      "1\n",
      "2\n",
      "3\n",
      "4\n",
      "5\n",
      "6\n",
      "7\n",
      "8\n",
      "9\n",
      "10\n",
      "11\n",
      "12\n",
      "13\n",
      "14\n",
      "15\n",
      "16\n",
      "17\n",
      "18\n",
      "19\n",
      "20\n",
      "21\n",
      "22\n",
      "23\n",
      "24\n",
      "25\n",
      "26\n",
      "27\n",
      "28\n",
      "29\n",
      "30\n",
      "31\n",
      "32\n",
      "33\n",
      "34\n",
      "35\n",
      "36\n",
      "37\n",
      "38\n",
      "39\n",
      "40\n",
      "41\n",
      "42\n",
      "43\n",
      "44\n",
      "45\n",
      "46\n",
      "47\n",
      "48\n",
      "49\n",
      "50\n",
      "51\n",
      "52\n",
      "53\n",
      "54\n",
      "55\n",
      "56\n",
      "57\n",
      "58\n",
      "59\n",
      "60\n",
      "61\n",
      "62\n",
      "63\n",
      "64\n",
      "65\n",
      "66\n",
      "67\n",
      "68\n",
      "69\n",
      "70\n",
      "71\n",
      "72\n",
      "73\n",
      "74\n",
      "75\n",
      "76\n",
      "77\n",
      "78\n",
      "79\n",
      "80\n",
      "81\n",
      "82\n",
      "83\n",
      "84\n",
      "85\n",
      "86\n",
      "87\n",
      "88\n",
      "89\n",
      "90\n",
      "91\n",
      "92\n",
      "93\n",
      "94\n",
      "95\n",
      "96\n",
      "97\n",
      "98\n",
      "99\n"
     ]
    }
   ],
   "source": [
    "#161\n",
    "for i in range(0,100) : \n",
    "    print(i)"
   ]
  },
  {
   "cell_type": "code",
   "execution_count": 251,
   "id": "2bcaf673-2fc5-4f1e-986d-1e3f74249985",
   "metadata": {},
   "outputs": [
    {
     "name": "stdout",
     "output_type": "stream",
     "text": [
      "2002\n",
      "2006\n",
      "2010\n",
      "2014\n",
      "2018\n",
      "2022\n",
      "2026\n",
      "2030\n",
      "2034\n",
      "2038\n",
      "2042\n",
      "2046\n",
      "2050\n"
     ]
    }
   ],
   "source": [
    "#162\n",
    "\n",
    "\n",
    "\n",
    "#for i in range(2002,2051,4):\n",
    "#    print(i)\n",
    "\n",
    "for i in range(2002,2051,4):\n",
    "    print(i)"
   ]
  },
  {
   "cell_type": "code",
   "execution_count": 255,
   "id": "2d128771-5410-4fd3-a470-eb5d3601073d",
   "metadata": {},
   "outputs": [
    {
     "name": "stdout",
     "output_type": "stream",
     "text": [
      "3\n",
      "6\n",
      "9\n",
      "12\n",
      "15\n",
      "18\n",
      "21\n",
      "24\n",
      "27\n",
      "30\n"
     ]
    }
   ],
   "source": [
    "#163\n",
    "for i in range(1,31):\n",
    "    if i %3 ==0 :\n",
    "        print(i) "
   ]
  },
  {
   "cell_type": "code",
   "execution_count": 257,
   "id": "b619ab95-2a26-4f6d-be00-0a5606fef113",
   "metadata": {},
   "outputs": [
    {
     "name": "stdout",
     "output_type": "stream",
     "text": [
      "0\n",
      "1\n",
      "2\n",
      "3\n",
      "4\n",
      "5\n",
      "6\n",
      "7\n",
      "8\n",
      "9\n",
      "10\n",
      "11\n",
      "12\n",
      "13\n",
      "14\n",
      "15\n",
      "16\n",
      "17\n",
      "18\n",
      "19\n",
      "20\n",
      "21\n",
      "22\n",
      "23\n",
      "24\n",
      "25\n",
      "26\n",
      "27\n",
      "28\n",
      "29\n",
      "30\n",
      "31\n",
      "32\n",
      "33\n",
      "34\n",
      "35\n",
      "36\n",
      "37\n",
      "38\n",
      "39\n",
      "40\n",
      "41\n",
      "42\n",
      "43\n",
      "44\n",
      "45\n",
      "46\n",
      "47\n",
      "48\n",
      "49\n",
      "50\n",
      "51\n",
      "52\n",
      "53\n",
      "54\n",
      "55\n",
      "56\n",
      "57\n",
      "58\n",
      "59\n",
      "60\n",
      "61\n",
      "62\n",
      "63\n",
      "64\n",
      "65\n",
      "66\n",
      "67\n",
      "68\n",
      "69\n",
      "70\n",
      "71\n",
      "72\n",
      "73\n",
      "74\n",
      "75\n",
      "76\n",
      "77\n",
      "78\n",
      "79\n",
      "80\n",
      "81\n",
      "82\n",
      "83\n",
      "84\n",
      "85\n",
      "86\n",
      "87\n",
      "88\n",
      "89\n",
      "90\n",
      "91\n",
      "92\n",
      "93\n",
      "94\n",
      "95\n",
      "96\n",
      "97\n",
      "98\n",
      "99\n"
     ]
    }
   ],
   "source": [
    "#164\n",
    "#1\n",
    "l = list(range(0,100))\n",
    "l.sort(reverse=True)\n",
    "for i in l :\n",
    "    print(i)\n",
    "\n",
    "#2\n",
    "for i in range(0,100) :\n",
    "    print(i)"
   ]
  },
  {
   "cell_type": "code",
   "execution_count": 259,
   "id": "da9ffd4d-8943-45c6-b0b4-2a081b394d18",
   "metadata": {},
   "outputs": [
    {
     "name": "stdout",
     "output_type": "stream",
     "text": [
      "0.0\n",
      "0.1\n",
      "0.2\n",
      "0.3\n",
      "0.4\n",
      "0.5\n",
      "0.6\n",
      "0.7\n",
      "0.8\n",
      "0.9\n"
     ]
    }
   ],
   "source": [
    "#165\n",
    "for i in range(0,10):\n",
    "    print(f\"{i/10}\")"
   ]
  },
  {
   "cell_type": "code",
   "execution_count": 42,
   "id": "a0c03e3d-4f16-44ba-8fad-252eab969bad",
   "metadata": {},
   "outputs": [
    {
     "name": "stdout",
     "output_type": "stream",
     "text": [
      "3 x 1 = 3\n",
      "3 x 2 = 6\n",
      "3 x 3 = 9\n",
      "3 x 4 = 12\n",
      "3 x 5 = 15\n",
      "3 x 6 = 18\n",
      "3 x 7 = 21\n",
      "3 x 8 = 24\n",
      "3 x 9 = 27\n"
     ]
    }
   ],
   "source": [
    "#166\n",
    "for i in range(1,10) :\n",
    "    print(f\"3 x {i} = {3*i}\")"
   ]
  },
  {
   "cell_type": "code",
   "execution_count": 46,
   "id": "33c5ebe6-4792-4f56-a213-eb5b4715d935",
   "metadata": {},
   "outputs": [
    {
     "name": "stdout",
     "output_type": "stream",
     "text": [
      "3 x 1 = 3\n",
      "3 x 3 = 9\n",
      "3 x 5 = 15\n",
      "3 x 7 = 21\n",
      "3 x 9 = 27\n"
     ]
    }
   ],
   "source": [
    "#167\n",
    "for i in range(1,10,2):\n",
    "    print(f\"3 x {i} = {3*i}\")"
   ]
  },
  {
   "cell_type": "code",
   "execution_count": 50,
   "id": "6c55ecb3-16db-4021-a3a7-7699aa47a39a",
   "metadata": {},
   "outputs": [
    {
     "name": "stdout",
     "output_type": "stream",
     "text": [
      "55\n"
     ]
    }
   ],
   "source": [
    "#168\n",
    "l=0\n",
    "for i in range(1,11) :\n",
    "    l +=i\n",
    "print(l)"
   ]
  },
  {
   "cell_type": "code",
   "execution_count": 52,
   "id": "df21f04b-86a7-4700-97d4-88608c0019e3",
   "metadata": {},
   "outputs": [
    {
     "name": "stdout",
     "output_type": "stream",
     "text": [
      "25\n"
     ]
    }
   ],
   "source": [
    "#169\n",
    "l=0\n",
    "for i in range(1,11) :\n",
    "    l +=i if i%2==1 else 0\n",
    "print(l)"
   ]
  },
  {
   "cell_type": "code",
   "execution_count": 54,
   "id": "2a26b872-935c-4289-a225-0aba33b0e2d1",
   "metadata": {},
   "outputs": [
    {
     "name": "stdout",
     "output_type": "stream",
     "text": [
      "3628800\n"
     ]
    }
   ],
   "source": [
    "#170\n",
    "l = 1\n",
    "for i in range(1,11) :\n",
    "    l = l * i\n",
    "print(l)"
   ]
  },
  {
   "cell_type": "code",
   "execution_count": 58,
   "id": "9a21fe74-1f5f-4a6e-bb21-2e0d4a434725",
   "metadata": {},
   "outputs": [
    {
     "name": "stdout",
     "output_type": "stream",
     "text": [
      "32100\n",
      "32150\n",
      "32000\n",
      "32500\n"
     ]
    }
   ],
   "source": [
    "#171\n",
    "price_list = [32100, 32150, 32000, 32500]\n",
    "for i in range(4) :\n",
    "    print(price_list[i])"
   ]
  },
  {
   "cell_type": "code",
   "execution_count": 62,
   "id": "30e85ea9-135e-4f7e-b437-de4c89d84e9d",
   "metadata": {},
   "outputs": [
    {
     "name": "stdout",
     "output_type": "stream",
     "text": [
      "0 32100\n",
      "1 32150\n",
      "2 32000\n",
      "3 32500\n"
     ]
    }
   ],
   "source": [
    "#172\n",
    "price_list = [32100, 32150, 32000, 32500]\n",
    "for i in range(4) :\n",
    "    print(f'{i} {price_list[i]}')"
   ]
  },
  {
   "cell_type": "code",
   "execution_count": 68,
   "id": "bebbc9ba-74bb-4039-8fbf-d1b20fd19b98",
   "metadata": {},
   "outputs": [
    {
     "name": "stdout",
     "output_type": "stream",
     "text": [
      "3 32100\n",
      "2 32150\n",
      "1 32000\n",
      "0 32500\n"
     ]
    }
   ],
   "source": [
    "#173\n",
    "price_list = [32100, 32150, 32000, 32500]\n",
    "for i in range(4) :\n",
    "    print(f'{3-i} {price_list[i]}')"
   ]
  },
  {
   "cell_type": "code",
   "execution_count": 66,
   "id": "e9405266-5263-4329-808d-e08a849414d1",
   "metadata": {},
   "outputs": [
    {
     "name": "stdout",
     "output_type": "stream",
     "text": [
      "100 32150\n",
      "110 32000\n",
      "120 32500\n"
     ]
    }
   ],
   "source": [
    "#174\n",
    "price_list = [32100, 32150, 32000, 32500]\n",
    "for i in range(1,4) :\n",
    "    print(f'{100+(i-1)*10} {price_list[i]}')"
   ]
  },
  {
   "cell_type": "code",
   "execution_count": 231,
   "id": "8c4e00d0-23dd-4ad0-bd96-d0d90289a45c",
   "metadata": {},
   "outputs": [
    {
     "name": "stdout",
     "output_type": "stream",
     "text": [
      "가 나\n",
      "나 다\n",
      "다 라\n"
     ]
    }
   ],
   "source": [
    "#175\n",
    "my_list = [\"가\", \"나\", \"다\", \"라\"]\n",
    "\n",
    "for i in range(len(my_list)-1):\n",
    "    print(my_list[i],my_list[i+1])\n"
   ]
  },
  {
   "cell_type": "code",
   "execution_count": 235,
   "id": "80d1a9d6-b1ac-4cad-9cfc-4158802f52fb",
   "metadata": {},
   "outputs": [
    {
     "name": "stdout",
     "output_type": "stream",
     "text": [
      "가 나 다\n",
      "나 다 라\n",
      "다 라 마\n"
     ]
    }
   ],
   "source": [
    "#176\n",
    "my_list = [\"가\", \"나\", \"다\", \"라\", \"마\"]\n",
    "for i in range(len(my_list)-2):\n",
    "    print(f'{my_list[i]} {my_list[i+1]} {my_list[i+2]}')"
   ]
  },
  {
   "cell_type": "code",
   "execution_count": 243,
   "id": "5a273e2a-471c-4acd-a4aa-c438d635e861",
   "metadata": {},
   "outputs": [
    {
     "name": "stdout",
     "output_type": "stream",
     "text": [
      "라 다\n",
      "다 나\n",
      "나 가\n"
     ]
    }
   ],
   "source": [
    "#177\n",
    "my_list = [\"가\", \"나\", \"다\", \"라\"]\n",
    "for i in [0,1,2]:\n",
    "    l = 3 - i\n",
    "    print(my_list[l] , my_list[l-1])\n",
    "    #print(f'{my_list[l]} {my_list[l-1]}')"
   ]
  },
  {
   "cell_type": "code",
   "execution_count": 103,
   "id": "452983d2-065d-48e6-8b98-dacf88ed3691",
   "metadata": {},
   "outputs": [
    {
     "name": "stdout",
     "output_type": "stream",
     "text": [
      "100\n",
      "200\n",
      "400\n"
     ]
    }
   ],
   "source": [
    "#178\n",
    "my_list = [100, 200, 400, 800]\n",
    "for i in range(len(my_list)-1):\n",
    "    print(my_list[i+1]-my_list[i])\n",
    "    "
   ]
  },
  {
   "cell_type": "code",
   "execution_count": 263,
   "id": "b9a2c355-8b84-46b1-a9ea-8fa8e2d7f229",
   "metadata": {},
   "outputs": [
    {
     "name": "stdout",
     "output_type": "stream",
     "text": [
      "433.33333333333337\n",
      "866.6666666666667\n",
      "1533.3333333333333\n",
      "2233.3333333333335\n"
     ]
    }
   ],
   "source": [
    "#179\n",
    "my_list = [100, 200, 400, 800, 1000, 1300]\n",
    "for i in [0,1,2,3]:\n",
    "    #print((my_list[i]+my_list[i+1]+my_list[i+2])/3)\n",
    "    print(my_list[i]+my_list[i+1]+my_list[i+2]/3)"
   ]
  },
  {
   "cell_type": "code",
   "execution_count": 119,
   "id": "2e7f696d-bfc5-4f47-bc2f-850c31becfdc",
   "metadata": {},
   "outputs": [
    {
     "name": "stdout",
     "output_type": "stream",
     "text": [
      "[50, 100, 30, 80, 0]\n"
     ]
    }
   ],
   "source": [
    "#180\n",
    "low_prices  = [100, 200, 400, 800, 1000]\n",
    "high_prices = [150, 300, 430, 880, 1000]\n",
    "\n",
    "a=zip(low_prices,high_prices)\n",
    "\n",
    "volatility = [h-l for l, h in a]\n",
    "    \n",
    "print(volatility)    \n"
   ]
  },
  {
   "cell_type": "code",
   "execution_count": 131,
   "id": "cb131afa-bb45-430f-b061-801a81efa914",
   "metadata": {},
   "outputs": [
    {
     "data": {
      "text/plain": [
       "[['101호', '102호'], ['201호', '202호'], ['301호', '302호']]"
      ]
     },
     "execution_count": 131,
     "metadata": {},
     "output_type": "execute_result"
    }
   ],
   "source": [
    "#181\n",
    "apart= [[\"101호\",\"102호\"],[\"201호\",\"202호\"],[\"301호\",\"302호\"]]\n",
    "apart"
   ]
  },
  {
   "cell_type": "code",
   "execution_count": 133,
   "id": "70b82f78-ad16-4be9-90c4-58d8c7c248b5",
   "metadata": {},
   "outputs": [
    {
     "data": {
      "text/plain": [
       "[[100, 200, 300], [80, 210, 330]]"
      ]
     },
     "execution_count": 133,
     "metadata": {},
     "output_type": "execute_result"
    }
   ],
   "source": [
    "## 182\n",
    "stock = [[100,200,300],[80,210,330]]\n",
    "stock"
   ]
  },
  {
   "cell_type": "code",
   "execution_count": 135,
   "id": "b1c2603e-5ddd-4835-a64f-4361580f2fe9",
   "metadata": {},
   "outputs": [
    {
     "data": {
      "text/plain": [
       "{'시가': [100, 200, 300], '종가': [80, 210, 330]}"
      ]
     },
     "execution_count": 135,
     "metadata": {},
     "output_type": "execute_result"
    }
   ],
   "source": [
    "#183\n",
    "stock = {\"시가\":[100,200,300],\"종가\":[80,210,330]}"
   ]
  },
  {
   "cell_type": "code",
   "execution_count": 141,
   "id": "695db8b4-dd7d-4c94-b6a2-18197be2b77c",
   "metadata": {},
   "outputs": [
    {
     "data": {
      "text/plain": [
       "{'10/10': [80, 110, 70, 90], '10/11': [210, 230, 190, 200]}"
      ]
     },
     "execution_count": 141,
     "metadata": {},
     "output_type": "execute_result"
    }
   ],
   "source": [
    "#184\n",
    "stock = {\"10/10\":[80,110,70,90],\"10/11\":[210,230,190,200]}\n",
    "stock"
   ]
  },
  {
   "cell_type": "code",
   "execution_count": 145,
   "id": "2d50944f-03cb-481b-853a-b89b8abb4ba0",
   "metadata": {},
   "outputs": [
    {
     "name": "stdout",
     "output_type": "stream",
     "text": [
      "101 호\n",
      "102 호\n",
      "201 호\n",
      "202 호\n",
      "301 호\n",
      "302 호\n"
     ]
    }
   ],
   "source": [
    "#185\n",
    "apart = [ [101, 102], [201, 202], [301, 302] ]\n",
    "for i1 in apart:\n",
    "    for i2 in i1:\n",
    "        print(i2,\"호\")\n"
   ]
  },
  {
   "cell_type": "code",
   "execution_count": 149,
   "id": "2223a5c3-891f-4178-af36-e44324933112",
   "metadata": {},
   "outputs": [
    {
     "name": "stdout",
     "output_type": "stream",
     "text": [
      "301 호\n",
      "302 호\n",
      "201 호\n",
      "202 호\n",
      "101 호\n",
      "102 호\n"
     ]
    }
   ],
   "source": [
    "#186\n",
    "apart = [ [101, 102], [201, 202], [301, 302] ]\n",
    "for i1 in apart[::-1]:\n",
    "    for i2 in i1:\n",
    "        print(i2,\"호\")"
   ]
  },
  {
   "cell_type": "code",
   "execution_count": 151,
   "id": "b67f0221-8f15-4e96-be25-4b3020fa85e3",
   "metadata": {},
   "outputs": [
    {
     "name": "stdout",
     "output_type": "stream",
     "text": [
      "302 호\n",
      "301 호\n",
      "202 호\n",
      "201 호\n",
      "102 호\n",
      "101 호\n"
     ]
    }
   ],
   "source": [
    "#187\n",
    "apart = [ [101, 102], [201, 202], [301, 302] ]\n",
    "for i1 in apart[::-1]:\n",
    "    for i2 in i1[::-1]:\n",
    "        print(i2,\"호\")"
   ]
  },
  {
   "cell_type": "code",
   "execution_count": 155,
   "id": "2a4206e9-fbcd-4b38-be10-4a83ecf49ec0",
   "metadata": {},
   "outputs": [
    {
     "name": "stdout",
     "output_type": "stream",
     "text": [
      "101 호\n",
      "-----\n",
      "102 호\n",
      "-----\n",
      "201 호\n",
      "-----\n",
      "202 호\n",
      "-----\n",
      "301 호\n",
      "-----\n",
      "302 호\n",
      "-----\n"
     ]
    }
   ],
   "source": [
    "#188\n",
    "apart = [ [101, 102], [201, 202], [301, 302] ]\n",
    "for i1 in apart:\n",
    "    for i2 in i1:\n",
    "        print(i2,\"호\")\n",
    "        print(\"-----\")"
   ]
  },
  {
   "cell_type": "code",
   "execution_count": 157,
   "id": "2bcc1940-94d0-4fd7-8227-f7c7a870b1c3",
   "metadata": {},
   "outputs": [
    {
     "name": "stdout",
     "output_type": "stream",
     "text": [
      "101 호\n",
      "102 호\n",
      "-----\n",
      "201 호\n",
      "202 호\n",
      "-----\n",
      "301 호\n",
      "302 호\n",
      "-----\n"
     ]
    }
   ],
   "source": [
    "#189\n",
    "apart = [ [101, 102], [201, 202], [301, 302] ]\n",
    "for i1 in apart:\n",
    "    for i2 in i1:\n",
    "        print(i2,\"호\")\n",
    "    print(\"-----\")"
   ]
  },
  {
   "cell_type": "code",
   "execution_count": 159,
   "id": "f7ec05d7-2c06-44eb-ade6-960283674692",
   "metadata": {},
   "outputs": [
    {
     "name": "stdout",
     "output_type": "stream",
     "text": [
      "101 호\n",
      "102 호\n",
      "201 호\n",
      "202 호\n",
      "301 호\n",
      "302 호\n",
      "-----\n"
     ]
    }
   ],
   "source": [
    "#190\n",
    "apart = [ [101, 102], [201, 202], [301, 302] ]\n",
    "for i1 in apart:\n",
    "    for i2 in i1:\n",
    "        print(i2,\"호\")\n",
    "print(\"-----\")"
   ]
  },
  {
   "cell_type": "code",
   "execution_count": 271,
   "id": "7cc443f7-3fba-465f-afc5-fd6d1f29796d",
   "metadata": {},
   "outputs": [
    {
     "name": "stdout",
     "output_type": "stream",
     "text": [
      "2000.28\n",
      "3050.427\n",
      "2050.2870000000003\n",
      "1980.2772\n",
      "7501.05\n",
      "2050.2870000000003\n",
      "2050.2870000000003\n",
      "1980.2772\n",
      "15452.163\n",
      "15052.107\n",
      "15552.177\n",
      "14902.086000000001\n"
     ]
    }
   ],
   "source": [
    "#191\n",
    "data = [\n",
    "    [ 2000,  3050,  2050,  1980],\n",
    "    [ 7500,  2050,  2050,  1980],\n",
    "    [15450, 15050, 15550, 14900]\n",
    "]\n",
    "\n",
    "for l in data:\n",
    "    for c in l:\n",
    "        print(c*1.00014)\n"
   ]
  },
  {
   "cell_type": "code",
   "execution_count": 165,
   "id": "810c2052-8269-400e-80ca-986a7b3fcd5d",
   "metadata": {},
   "outputs": [
    {
     "name": "stdout",
     "output_type": "stream",
     "text": [
      "2000.28\n",
      "3050.427\n",
      "2050.2870000000003\n",
      "1980.2772\n",
      "-----\n",
      "7501.05\n",
      "2050.2870000000003\n",
      "2050.2870000000003\n",
      "1980.2772\n",
      "-----\n",
      "15452.163\n",
      "15052.107\n",
      "15552.177\n",
      "14902.086000000001\n",
      "-----\n"
     ]
    }
   ],
   "source": [
    "#192\n",
    "for l in data:\n",
    "    for c in l:\n",
    "        print(c*1.00014)\n",
    "    print(\"-----\")"
   ]
  },
  {
   "cell_type": "code",
   "execution_count": 175,
   "id": "b5234b1c-92fc-453b-9840-ee0a58208825",
   "metadata": {},
   "outputs": [
    {
     "name": "stdout",
     "output_type": "stream",
     "text": [
      "[2000.28, 3050.427, 2050.2870000000003, 1980.2772, 7501.05, 2050.2870000000003, 2050.2870000000003, 1980.2772, 15452.163, 15052.107, 15552.177, 14902.086000000001]\n"
     ]
    }
   ],
   "source": [
    "#193\n",
    "result = []\n",
    "for l in data:\n",
    "    for c in l:\n",
    "        result.append(c*1.00014)\n",
    "print(result)"
   ]
  },
  {
   "cell_type": "code",
   "execution_count": 291,
   "id": "b164073f-b813-4825-b221-5b34fa6b9f5e",
   "metadata": {},
   "outputs": [
    {
     "name": "stdout",
     "output_type": "stream",
     "text": [
      "[[2000.28, 3050.427, 2050.2870000000003, 1980.2772], [7501.05, 2050.2870000000003, 2050.2870000000003, 1980.2772], [15452.163, 15052.107, 15552.177, 14902.086000000001]]\n"
     ]
    }
   ],
   "source": [
    "#194\n",
    "result = []\n",
    "for l in data:\n",
    "   result2 = []\n",
    "   for r in l  :\n",
    "       result2.append(r*1.00014)\n",
    "   result.append(result2)\n",
    "print(result)"
   ]
  },
  {
   "cell_type": "code",
   "execution_count": 180,
   "id": "05ac0a60-7964-4ab9-aa78-ed3db7c7ccef",
   "metadata": {},
   "outputs": [
    {
     "name": "stdout",
     "output_type": "stream",
     "text": [
      "100\n",
      "190\n",
      "310\n"
     ]
    }
   ],
   "source": [
    "#195\n",
    "ohlc = [[\"open\", \"high\", \"low\", \"close\"],\n",
    "        [100, 110, 70, 100],\n",
    "        [200, 210, 180, 190],\n",
    "        [300, 310, 300, 310]]\n",
    "for i in ohlc[1:] :\n",
    "    print(i[3])"
   ]
  },
  {
   "cell_type": "code",
   "execution_count": 182,
   "id": "d76a6f43-515b-4145-b7b1-54c3702522e7",
   "metadata": {},
   "outputs": [
    {
     "name": "stdout",
     "output_type": "stream",
     "text": [
      "190\n",
      "310\n"
     ]
    }
   ],
   "source": [
    "#196\n",
    "ohlc = [[\"open\", \"high\", \"low\", \"close\"],\n",
    "        [100, 110, 70, 100],\n",
    "        [200, 210, 180, 190],\n",
    "        [300, 310, 300, 310]]\n",
    "for a,b,c,d in ohlc[1:] :\n",
    "    print(d) if d >150 else \"\""
   ]
  },
  {
   "cell_type": "code",
   "execution_count": 186,
   "id": "e54d2a1d-f969-4a10-8656-1ad5ff02e8a7",
   "metadata": {},
   "outputs": [
    {
     "name": "stdout",
     "output_type": "stream",
     "text": [
      "100\n",
      "310\n"
     ]
    }
   ],
   "source": [
    "#197\n",
    "ohlc = [[\"open\", \"high\", \"low\", \"close\"],\n",
    "        [100, 110, 70, 100],\n",
    "        [200, 210, 180, 190],\n",
    "        [300, 310, 300, 310]]\n",
    "for a,b,c,d in ohlc[1:] :\n",
    "    print(d) if d >= a else \"\""
   ]
  },
  {
   "cell_type": "code",
   "execution_count": 190,
   "id": "282035ba-3a88-4b99-ad17-a10d21f52048",
   "metadata": {},
   "outputs": [
    {
     "name": "stdout",
     "output_type": "stream",
     "text": [
      "[40, 30, 10]\n"
     ]
    }
   ],
   "source": [
    "#198\n",
    "ohlc = [[\"open\", \"high\", \"low\", \"close\"],\n",
    "        [100, 110, 70, 100],\n",
    "        [200, 210, 180, 190],\n",
    "        [300, 310, 300, 310]]\n",
    "print([b-c for a,b,c,d in ohlc[1:]])\n",
    "    "
   ]
  },
  {
   "cell_type": "code",
   "execution_count": 198,
   "id": "bad65a57-9fac-4028-bdd7-e183f58183d5",
   "metadata": {},
   "outputs": [
    {
     "name": "stdout",
     "output_type": "stream",
     "text": [
      "10\n"
     ]
    }
   ],
   "source": [
    "#199\n",
    "ohlc = [[\"open\", \"high\", \"low\", \"close\"],\n",
    "        [100, 110, 70, 100],\n",
    "        [200, 210, 180, 190],\n",
    "        [300, 310, 300, 310]]\n",
    "\n",
    "for i in [b-c for a,b,c,d in ohlc[1:] if d > a]:\n",
    "    print(i)"
   ]
  },
  {
   "cell_type": "code",
   "execution_count": 200,
   "id": "d0451d63-4a77-44ff-919e-5fb4863101c7",
   "metadata": {},
   "outputs": [
    {
     "name": "stdout",
     "output_type": "stream",
     "text": [
      "0\n"
     ]
    }
   ],
   "source": [
    "ohlc = [[\"open\", \"high\", \"low\", \"close\"],\n",
    "        [100, 110, 70, 100],\n",
    "        [200, 210, 180, 190],\n",
    "        [300, 310, 300, 310]]\n",
    "\n",
    "#1일차 수익 0원 (100 - 100), 2일차 수익 -10원 (190 - 200), 3일차 수익 10원 (310 - 300) 이다.\n",
    "\n",
    "l = 0\n",
    "for a,b,c,d in ohlc[1:] :\n",
    "    l += (d-a)\n",
    "\n",
    "print(l)"
   ]
  },
  {
   "cell_type": "code",
   "execution_count": null,
   "id": "7f226f09-6f84-4c69-802f-985fcd9d0280",
   "metadata": {},
   "outputs": [],
   "source": []
  }
 ],
 "metadata": {
  "kernelspec": {
   "display_name": "Python 3 (ipykernel)",
   "language": "python",
   "name": "python3"
  },
  "language_info": {
   "codemirror_mode": {
    "name": "ipython",
    "version": 3
   },
   "file_extension": ".py",
   "mimetype": "text/x-python",
   "name": "python",
   "nbconvert_exporter": "python",
   "pygments_lexer": "ipython3",
   "version": "3.12.4"
  }
 },
 "nbformat": 4,
 "nbformat_minor": 5
}
