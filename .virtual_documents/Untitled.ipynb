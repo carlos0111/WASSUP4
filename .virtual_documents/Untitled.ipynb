#101
type(True) 


#102
print(3==5)


#103
print(3 < 5)


#104
x = 4
print(1 < x < 5)


#105
print ((3 == 3) and (4 != 3))


#106
print(3 => 4)


#107
if 4 < 3:
    print("Hello World")


#108
if 4 < 3:
    print("Hello World.")
else:
    print("Hi, there.")



#109
if True :
    print ("1")
    print ("2")
else :
    print("3")
print("4")



#110
if True :
    if False:
        print("1")
        print("2")
    else:
        print("3")
else :
    print("4")
print("5")




#111
a = input("입력 플리즈 : ")
print(a * 2)


#112
a = input("입력 : ")
b=int(a) + 10
print(b)
#print()



#113
a = input("입력 : ")
if int(a)%2 == 0 :
    print("짝수")
else :
    print("홀수")

out_str = "짝수" if int(a)%2==0 else "홀수"
print(out_str)


#114
a = input("입력값: ")
b = int(a) + 20

if b > 255 :
    print(255)
else :
    print(b)


#115
a = input("입력값: ")
b = int(a) - 20

if b < 0 :
    print(0)
elif b > 255: 
    print(255)
else : 
    print(b)


#116
'''
if int(time.split(":")[1].strip()) == 0:
    print("정각 입니다.")
else:
    print("정각이 아닙니다.")
'''
'''
if  min == "00" :
    print("정각입니다.")
else:
    print("정각이 아닙니다.")

'''
time = input("현재시간: ")
print(time)

min = time[3:]
print(min)

con = (min == "00")
print(con)

if con :
    print("정각입니다.")
else:
    print("정각이 아닙니다.")

#print(time)



#117

"""
out_str = "정답입니다." if a in fruit else "오답입니다."
print(out_str)"""

fruit = ["사과","포도","홍시"]

a = input("입력값 : ")

con = a in fruit

if con :
    print("정답입니다.")
else :
    print("오답입니다.")


#118
"""upper_list = [a.upper() for a in warn_investment_list]
a = input("입력값: ")
print("투자 경고 종목입니다.") if a.upper() in upper_list else print("투자 경고 종목이 아닙니다.")
"""
warn_investment_list = ["Microsoft", "Google", "Naver", "Kakao", "SAMSUNG", "LG"]
#print(warn_investment_list) 

a = input("종목명 : ")

con = a in warn_investment_list

if con : 
    print("투자 경고 종목입니다.")
else:
    print("투자 경고 종목이 아닙니다.")




"""
out_str = "정답입니다." if fruit.get(a) else "오답입니다."
print(out_str)
"""
#119
fruit = {  "봄" : "딸기", 
           "여름" : "토마토", 
           "가을" : "사과"
        }

a = input("입력값: ")

con = a in fruit.keys()

if con :
    print("정답입니다")
else :
    print("오답입니다")
    


#120
fruit = {"봄" : "딸기", "여름" : "토마토", "가을" : "사과"}


a = input("입력값: ")
out_str = "정답입니다." if a in fruit.values() else "오답입니다."
print(out_str)



"""
out_str = a.upper() if a.islower() else a.lower()
print(out_str)
"""
#121
a = input("입력값: ")
#print(ord(a))

con = 65<= ord(a) <= 90

if con : 
    print(a.lower())
else : 
    print(a.upper)





#122

a = int(input("입력값: "))

if 0 <= a <=20:
    grade="E"
elif a <= 40:
    grade="D"
elif a <= 60:
    grade="C"
elif a <= 80:
    grade="B"
elif a <= 100:
    grade="A"

print(f'grade is {grade}')


a= 20
a in list( range(0,21))


#123
r = {"달러":1167, "엔":1.096,"유로":1268,"위안":171}
a = input("입력:").split(" ")
l = a[0]
d = a[1]

print(str(int(a[0])*r[a[1]])+"원")


#124
a = int(input("input number1: "))
b = int(input("input number2: "))
c = int(input("input number3: "))
l = a-b
r = a-c
k = b-c
if l > 0 and r > 0:
    print(a)
elif k >0 :
    print(b)
else :
    print(c)


#125
mapp = {"011":"SKT","016":"KT","019":"LGU","010":"알수없음"}
num = input("휴대전화 번호 입력: ")
first = mapp[num.split("-")[0]]
print(f"당신은 {first} 사용자입니다.")


#126
l = ["강북구","강북구","강북구","도봉구","도봉구","도봉구","노원구","노원구","노원구","노원구"]
num = input()
if num.startswith("01") :
    print(l[int(num[2])])
else :
    print("다시 입력 해 주세요")


#127
num = input("주민등록번호 : ")
a = num.split("-")[1][0]
if a == "1" or a == "3":
    print("남자")
else : 
    print("여자")


#128
num = input("주민등록번호 : ")
a = int(num.split("-")[1][1:3])
print("서울이 아닙니다." if a > 8 else "서울")


#129
num = input("주민등록번호 : ")
first= int(num[0])*2+int(num[1])*3+int(num[2])*4+int(num[3])*5+int(num[4])*6+int(num[5])*7



