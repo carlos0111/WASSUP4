#01
print("hello world")


#02
print("Mary's cosmetics")


#03
print('신씨가 소리질렀다. "도둑이야"')


#04
print("C:\\Windows")



#05
print("안녕하세요. \n만나서\t\t반갑습니다.")


#06
print ("오늘은", "일요일")


#07
print("naver","kakao","sk","samsung",sep=";")


#08
print("naver","kakao","sk","samsung",sep="/")


#09
print("first",end="");print("second")


#10
print(5/3)


#11
삼성전자 = 50000
총평가금액 = 삼성전자 * 10
print(총평가금액)


#12
시가총액 = 298*10000*10000*10000
현재가 = 50000
PER = 15.79
print(시가총액, type(시가총액))
print(현재가,type(현재가))
print(PER, type(PER))



