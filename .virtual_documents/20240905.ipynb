#51
movie_rank= ["닥터 스트레인지","스플릿","럭키"]
movie_rank


#52
movie_rank.append("배트맨")
movie_rank


#53
#movie_rank.insert(-1,"슈퍼맨")
movie_rank[1:] 
#movie_rank


#54
movie_rank.remove("럭키")
movie_rank


#55
movie_rank.remove("스플릿")
movie_rank.remove("배트맨")
movie_rank


#56
lang1 = ["C", "C++", "JAVA"]
lang2 = ["Python", "Go", "C#"]
langs = lang1 + lang2
langs


#57
nums = [1, 2, 3, 4, 5, 6, 7]
min(nums),max(nums)


#58
nums = [1, 2, 3, 4, 5]
sum(nums)


#59
cook = ["피자", "김밥", "만두", "양념치킨", "족발", "피자", "김치만두", "쫄면", "소시지", "라면", "팥빙수", "김치전"]
len(cook)


#60
nums = [1, 2, 3, 4, 5]
sum(nums)/len(nums)


#61
price = ['20180728', 100, 130, 140, 150, 160, 170]
price[1:]


#62
nums = [1, 2, 3, 4, 5, 6, 7, 8, 9, 10]
nums[::2]


#63
nums = [1, 2, 3, 4, 5, 6, 7, 8, 9, 10]
nums[::-2]


#64
nums = [1, 2, 3, 4, 5]
nums.reverse()
nums


#65
interest = ['삼성전자', 'LG전자', 'Naver']
print(interest[0],interest[2])


#66
interest = ['삼성전자', 'LG전자', 'Naver', 'SK하이닉스', '미래에셋대우']
" ".join(interest)


#67
interest = ['삼성전자', 'LG전자', 'Naver', 'SK하이닉스', '미래에셋대우']
"/".join(interest)


#68
interest = ['삼성전자', 'LG전자', 'Naver', 'SK하이닉스', '미래에셋대우']
print("\n".join(interest))


#69
string = "삼성전자/LG전자/Naver"
string.split("/")


#70
data = [2, 4, 3, 1, 5, 10, 9]
data.sort()
data


#71
my_variable = ()
print(type(my_variable))



#72
movie_rank = ("닥터 스트레인지", "스플릿", "럭키")
movie_rank


#73
my_tuple = (1,)
type (my_tuple)





#75
t = 1, 2, 3, 4
type(t)


#76
t = ('a','b','c')
('A',)+t[1:]


#77
interest = ('삼성전자', 'LG전자', 'SK Hynix')
data = list(interest)
data


#78
interest = ['삼성전자', 'LG전자', 'SK Hynix']
data = tuple(interest)
data


#79
temp = ('apple', 'banana', 'cake')
a, b, c = temp
print(a, b, c)



#80
a = tuple(range(2,100,2))
a


#81
scores = [8.8, 8.9, 8.7, 9.2, 9.3, 9.7, 9.9, 9.5, 7.8, 9.4]
*valid_score,a,b = scores
valid_score


#82
scores = [8.8, 8.9, 8.7, 9.2, 9.3, 9.7, 9.9, 9.5, 7.8, 9.4]
a,b,*valid_score = scores
valid_score


#83
scores = [8.8, 8.9, 8.7, 9.2, 9.3, 9.7, 9.9, 9.5, 7.8, 9.4]
a,*valid_score,b = scores
valid_score


#84
temp = { }
temp


#85
ice = {"메로나": 1000, "폴라포": 1200, "빵빠레": 1800}
ice


#86
ice["조스바"] = 1200
ice["월드콘"] = 1500
print(ice)


#87
ice = {'메로나': 1000,
       '폴로포': 1200,
       '빵빠레': 1800,
       '죠스바': 1200,
       '월드콘': 1500}

key = "메로나"
print(key,"가격:",ice[key])


#88
ice = {'메로나': 1000,
       '폴로포': 1200,
       '빵빠레': 1800,
       '죠스바': 1200,
       '월드콘': 1500}
ice[key] = 1300
ice


#89
del ice[key]
ice


#90
ice["누가바"]





#91
inventory = {"메로나": [300, 20], 
             "비비빅": [400, 3], 
             "죠스바": [250, 100]}
print(inventory)



#92
print(inventory["메로나"][0],"원")


#93
inventory = {"메로나": [300, 20],
              "비비빅": [400, 3],
              "죠스바": [250, 100]}
print(inventory["메로나"][1])


#94
inventory["월드콘"] = [500,7]
inventory


#95
icecream = {'탱크보이': 1200, '폴라포': 1200, '빵빠레': 1800, '월드콘': 1500, '메로나': 1000}
list(icecream.keys())


#96
icecream = {'탱크보이': 1200, '폴라포': 1200, '빵빠레': 1800, '월드콘': 1500, '메로나': 1000}
list(icecream.values())


#97
icecream = {'탱크보이': 1200, '폴라포': 1200, '빵빠레': 1800, '월드콘': 1500, '메로나': 1000}
print(sum(icecream.values()))


#98
new_product = {'팥빙수':2700, '아맛나':1000}
icecream.update(new_product)
print(icecream)


#99
keys = ("apple", "pear", "peach")
vals = (300, 250, 400)


dict(zip(keys,vals))


#100
date = ['09/05', '09/06', '09/07', '09/08', '09/09']
close_price = [10500, 10300, 10100, 10800, 11000]
close_table = dict(zip(date,close_price))
close_table



