#01
print("hello world")


#02
print("Mary's cosmetics")


#03
print('신씨가 소리질렀다. "도둑이야"')


#04
print("C:\\Windows")



#05
print("안녕하세요. \n만나서\t\t반갑습니다.")


#06
print ("오늘은", "일요일")


#07
print("naver","kakao","sk","samsung",sep=";")


#08
print("naver","kakao","sk","samsung",sep="/")


#09
print("first",end="");print("second")


#10
print(5/3)


#11
삼성전자 = 50000
총평가금액 = 삼성전자 * 10
print(총평가금액)


#12
시가총액 = 298*10000*10000*10000
현재가 = 50000
PER = 15.79
print(시가총액, type(시가총액))
print(현재가,type(현재가))
print(PER, type(PER))


#13
s = "hello"
t = "python"

print(s+"!",t)


#14
print(2 + (2 * 3)) 


#15
a = "132"
print (type(a))


#16
num_str = "720"
num_int = int(num_str)
print(num_int)
print(type(num_int))


#17
num = 100
result = str(num)
print(result, type(result))


#18
data=float("15.79")
print(data,type(data))


#19
year = "2020"
#문자열
print(int(year)-3)  # 2017
print(int(year)-2)  # 2018
print(int(year)-1)  # 2019


#20
월 = 48584
총금액 = 월 * 36
print(총금액)


#21
letters = 'python'
print(letters[0],letters[2])



#22
license_plate = "24가 2210"
print(license_plate[:])
print(license_plate[-4:])


#23
string = "홀짝홀짝홀짝"
print(string[::2])


#24
string = "PYTHON"
print(string[::-1])


#25
phone_number = "010-1111-2222"
phone_number1 = phone_number.replace("-", " ")
print(phone_number1)


#26
phone_number = "010-1111-2222"
phone_number1 = phone_number.replace("-", "")
print(phone_number1)


#27
url = "http://sharebook.kr"
url_split = url.split(".")
print(url_split[-1])


#28
lang = 'python'
lang[0] = 'P'
#lang1=lang.replace('p',"P")
print(lang1)


#29
string = 'abcdfe2a354a32a'
string1 = string.replace("a","A")
print(string1)



#30
string = 'abcd'
string.replace('b', 'B')
print(string)


#31
a = "3"
b = "4"
print(a + b)


#32
print("Hi" * 3)


#33
print("-"*80)


#34
t1 = 'python'
t2 = 'java'
t3 = t1 +" "+ t2 +" "
print((t3*4)[:-1])


#35
name1 = "김민수" 
age1 = 10
name2 = "이철희"
age2 = 13

print("이름: %s 나이: %d" % (name1, age1))
print("이름: %s 나이: %d" % (name2, age2))



#36
name1 = "김민수" 
age1 = 10
name2 = "이철희"
age2 = 13

print("이름: {} 나이: {}".format(name1, age1))
print("이름: {} 나이: {}".format(name2, age2))


#37
name1 = "김민수" 
age1 = 10
name2 = "이철희"
age2 = 13

print(f"이름: {name1} 나이: {age1}")
print(f"이름: {name2} 나이: {age2}")



#38
상장주식수 = "5,969,782,550"
상장주식수_no_쉼표=상장주식수.replace(",","")
print(상장주식수_no_쉼표,type(상장주식수_no_쉼표))
상장주식수_int = int(상장주식수_no_쉼표)
print(상장주식수_int,type(상장주식수_int))


#39
분기 = "2020/03(E) (IFRS연결)"
print(분기[:7])


#40
data = "   삼성전자    "
data_no_space = data.replace(" ","")
data_no_space1 = data.strip()
print(data_no_space1)


#41
ticker = "btc_krw".upper()
print(ticker)


#42
ticker = "BTC_KRW"
ticker2 = ticker.lower()
print(ticker)
print(ticker2)


#43
a = "hello"
a = a.capitalize()
print(a)


#44
file_name = "보고서.xlsx"
print(file_name.endswith("xlsx"))


#45
file_name = "보고서.xlsx"
print(file_name.endswith("xlsx"))
print(file_name.endswith("xls"))
print(file_name.endswith("xlsx")|file_name.endswith("xls"))



#46
file_name = "2020_보고서.xlsx"
print(file_name.startswith("2"))


#47
a = "hello world"
b=a.split()
print(b)


#48
ticker = "btc_krw"
ticker.split("_")


#49
date = "2020-05-01"
date.split("-")


#50
data = "039490     "
data = data.rstrip()


help(str)






