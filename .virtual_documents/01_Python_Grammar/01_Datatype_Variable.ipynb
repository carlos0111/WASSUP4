





a = 1


a


b= 'python'


b


a,b


c = [1,2,3]
c





a = 123
a



a = -178
a


a = 1.2
b = -3.45
a, b


a = 4.24E10
b = 4.24e-10


a,b


a = 0o177


a


a  =0x8ff


a





a=3
b=4
a+b


a-b, a*b , a/b


# x의 Y 제곱을 나타내는 ** 연산자
a ** b


# 나눗셈 후 나머지를 리턴
7%3, 3%7


# 나눗셈 후 몫을 리턴
7//4


# 복합 연산자
a = a + 1


a


a += 1


a


a -= 1


a





"hello world"


'python is fun'


""" Life is too short, You need python"""


''' Life is too short, You need python '''


"Python's favorite food is perl"


'"Python is very easy."he says.'





food ='Python\'s favoirte food is perl'


food


say = "\"Python is verty easy,\" he says."


say


a = 'Life is too short\nYou need python'


a



print(a)


a = ''' 
Life is too short
You need python
'''


print(a)


head = "ython"
tail  = " is unn!"
head + tail


head*2


a = "Life is too short"
len(a)


print("="*50)
print("My Program")
print("="*50)


r = "Life si too short, You need Python"


r[2]


r[17]


r[-1]


r[-6]


r[-0]


r[0:4]


r[12:19]


r[12:]


r[:17]


r[:]


r[-15:-7]


a = "20240904Sunny"


date = a[0:8]


date


weather = a[8:13]


weather


a[:4],a[4:8]


a = "pithon"


a[1] = 'y'


a[0]+"y"+a[2:6]


"I eat %d apples"%3


"I eat %s apples"%"five"


number =10
day = "three"
"I ate %d apple. so I was sick for %s days."%(number, day)


#Error is 98%


"Error is %d%%"%98


# 소수점 표현하기
"%0.2f"%3.42134234





"i eat {0} apples".format(3)


"i eat {0} apples".format("five")


"i eat {0} apples".format(number)


"I ate {1} apples. so i was sick for {0} days".format(number,day)


"I ate {a} apples. so i was sick for {b} days".format(a=number,b=day)


 y = 3.3123434
"{0:0.4f}".format(y)


"{{and}}".format()


name = "홍길동"
age = 30
"나의 이름은 {a}입니다. 나이는 {b} 입니다.".format(a=name,b=age)


f"나의 이름은 {name}입니다. 나이는 {age+1} 입니다."


d = {'name': '홍길동', 'age':30}


d


d['name']


f"나의 이름은 {d['name']}입니다. 나이는 {d['age']}입니다."


f'{y:0.4f}'





a = 'hobby'
len(a)


#특정 문자열 개수를 세기
a.count('b')


a = 'python is the best choice'
a.find('b')


a.find("ree")


a.find?


help(a.find)


a = 'Life is too short'
a.index('t'), a.find('t')


# 문자열 삽입 join
"abcd"


",".join("abcd")


",".join(["a","b","c","d"])


a = "hi"
a.upper()


a.upper?


a = "HI"
a.lower()


a = " hi "


a.rstrip()
a


a.lstrip()


a.rstrip()


a = "Life is too short"


a.replace("Life", "Your leg")


a


a.split()


a.split(maxsplit=2)


b = "a:b:c:d"


b.split(":")



