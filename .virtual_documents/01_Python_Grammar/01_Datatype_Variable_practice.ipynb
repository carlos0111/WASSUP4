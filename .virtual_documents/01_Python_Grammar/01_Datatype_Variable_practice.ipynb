


국어 = 80
영어 = 75
수학 = 55
( 국어 +영어 + 수학 ) / 3

과목 = [80,75,55]
sum(과목)/len(과목)

a = {"국어":80,"영어":75,"수학":55}
새로운과목=list(a.values())
sum(새로운과목)/len(새로운과목)





13%2==1





pin = '881120-1068234'
yyyymmdd = "19"+ pin[:6]
num =  pin[7:]
print(yyyymmdd) # 연월일 부분 출력
print(num) # 숫자부분 출력





pin = "881120-1068234"
split_value = pin.split("-")
last_str=split_value[1]
value=last_str[0]

print(split_value)
print(last_str)
print(value)
print(pin.split("-")[1][0])





a = "a:b:c:d"
b = a.replace(":","#")
print(b)





a = [1, 3, 5, 4, 2]
a.sort(reverse=True)

print(a)





a = ['Life', 'is', 'too', 'short']
em_str = " "
result = em_str.join(a)
print(result)






a = (1, 2, 3)
a = a + (4,)
print(a)














a = {'A':90, 'B':80, 'C':70}
result = a['B']
print(a)
print(result)





a = [1, 1, 1, 2, 2, 3, 3, 3, 4, 4, 5]
aSet =set(a)
b = list(aSet)
print(b)






















