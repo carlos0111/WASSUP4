# marks2.py
marks = [90, 25, 67, 45, 80]

number = 0 
for mark in marks: 
    number = number +1 
    if mark < 60:
        continue 
    print("%d번 학생 축하합니다. 합격입니다. " % number)



range?


l=0
for i in range(1,11):
    l+=i
print(l)


# marks2.py
marks = [90, 25, 67, 45, 80]
for i in range(len(marks)): 
    if marks[i] < 60:
        continue 
    print("%d번 학생 축하합니다. 합격입니다. " % (i+1))


for i in range(2,10):        # 1번 for문
     for j in range(1, 10):   # 2번 for문
         print(f" {i} x {j} = {i*j}" , end=" ") 
     print('') 




import time

start = time.time() 
numbers = [i for i in range(1000000)] 
end = time.time() 
print('List Comprehension Time:', end-start)

start = time.time() 
numbers = []
for i in range(1000000):
    numbers.append(i)
end = time.time() 
print('For loop Time:', end-start)



all = {"남상만":"010-3795-5109", "남상민2":"010-3797-5109"}

print("1 : 추가 , 2: 전체보기, 3: 검색, 4: 수정 , 5: 삭제 , 6 : 끝")
while True:
    try :
        a = input("선택")
        if a=="1" :
            name_num_str=input("입력 : ")
            name_num_list = name_num_str.split(" ")
            name = name_num_list[0]
            num = name_num_list[1]
            
            if all.get(name) == None :
                all[name] = num
            else : 
                print("있는 사람")
        elif a == "2":
            for i in all.keys() :
                print(f'{i} : {all[i]}')
    
        elif a == "3" :
            search=input("검색 : ")
            if all.get(search) :
                print(all.get(search))
            else : 
                print("없는 사람")
        elif a == "4" : 
            
            update =input("수정 : ")
            update_list = update.split(" ")
            update_name = update_list[0]
            update_num = update_list[1]
            if all.get(update_name) :
                all[update_name] = update_num
            else : 
                print("없는 사람")
        elif a == "5":
            delete=input("삭제 : ")
            if all.get(delete) :
                del all[delete]
        elif a == "6":
            print("끝")
            break;
        else : 
            print("다시 선택해 주세요")
    except :
        print("잘못 입력하셨어요")



