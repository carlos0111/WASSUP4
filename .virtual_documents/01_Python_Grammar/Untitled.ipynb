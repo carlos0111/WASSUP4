import numpy as np


a = np.arange(15, dtype=np.int64).reshape(3,5, order="F")
print(a)


print(type(a))
print(a.shape)
print(a.dtype)
print(a.ndim)
print(a.size)
# print(dir(np))


array = [1,2,3,4,5]
array2 = [6,7,8,9,10]
new_array = []
for i in array :
    new_array.append(i)
print(new_array)
print("=====")



array_sum = [array,array2]
new_array_sum = []
for i in array_sum :
    new_array_sum.append(i)
print(new_array_sum)
print("=====")

array_sum = [array,array2]
new_array_sum = []
for i in array_sum :
    print(i)
    print("-----")
print("=====")


array_sum = [array,array2]
new_array_sum = []
for i in array_sum :
    for j in i:
        print(j)
    print("-----")
print("=====")


array_sum = [array,array2]
for i in array_sum :
    inner = []
    for j in i :
        inner.append(j)
    print(inner)
    print("-----")
print("=====")


new_array_sum = []
for i in array_sum :
    inner = []
    for j in i :
        inner.append(j)
    new_array_sum.append(inner)
print(new_array_sum)
    


b = np.array([-1,2,5,-3,0,7,-9,7,-4,-7],dtype=np.int64)
# print(b.reshape(2,5,order="F"))


t = (10,20,30,40,50)
print(type(t))
t = np.array(t)
print(type(t))


t = np.array("hello2")
print(type(t))
print(t.size)
r = t.reshape(2,3)


s = {10,20,30,40,50}
s = np.array(s)
print(type(s))


print(b.shape)
print(b.ndim)
print(b.dtype)
print(b)


print(np.abs(b))


print(np.sqrt(abs(b)))


print(np.square(b))


print(np.isnan(np.sqrt(b)))


print(b)
print(np.sum(b))
print(np.sort(b))
print(np.mean(b))
print(np.max(b))
print(np.min(b))
print(np.argmax(b))
print(np.argmin(b))



