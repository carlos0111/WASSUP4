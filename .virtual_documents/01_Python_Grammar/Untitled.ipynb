money = True
if money:
    print("택시를 타고 가라")
else:
    print("걸어 가라")


monney = True
if money:
    print("택시를")
    print("타고")
    print("가라")


monney = 100
if monney >= 3000:
    print("택시를 타고 가라")
else :
    print("걸어가라")


money = True
money >= 1


monney = 100
card = True
if monney >= 3000 or card:
    print("택시를 타고 가라")
else :
    print("걸어가라")





monney = 100
card = True
kk = ["e",2,3]
if "e" in kk :
    print("택시를 타고 가라")
else :
    print("걸어가라")


pocket = ['money','card','phone']
if 'money' in pocket:
    pass
else :
    print('걸어가라')


pocket = ['money','card','phone']
if 'money' in pocket:
    print("택시를 타고 가라")
else :
    if 'card' in pocket:
        print("택시를 타고 가라")
    else :
        print('걸어가라')


pocket = ['money','phone']
card = True
if 'money' in pocket:
    print("택시를 타고 가라")
elif card :
    print("택시를 타고 가라")
else :
    print('걸어가라')


score = 50
if score >= 60:
    message = "success"
    print(message)
else :
    message = "failure"
    print(message)


message = "success" if score >= 60 else "failure"


if 'money' in pocket : pass
else: print("카드를 꺼내라")


treeHit = 0
while treeHit < 10:
    treeHit = treeHit + 1
    print("나무를 %d번 찍었습니다."%treeHit)
    if treeHit == 10:
        print("나무 넘어갑니다.")


prompt = '''
1. Add
2. Del
3. List
4. Quiit

Enter number : '''
print(prompt)


input()


number = 0
while number != 4 :
    print(prompt)
    number = int(input())





coffee = 10
money = 300
while money:
    print("돈을 받았으니 커피를 줍니다.")
    coffee = coffee - 1
    print("남은 커피의 양은 %d개 입니다."%coffee)
    if coffee == 0:
        print("커피가 다 떨어졌습니다. 판매를 중지합니다.")
        break





coffee = 10
money = 0
while  True:
    if coffee == 0:
        print("커피가 다 떨어졌습니다. 판매를 중지합니다.")
        print(f"거스름돈 {money}원")
        break
    money += int(input())
    if money <300 :
        print("돈을 더 넣어주세요")
        continue
    money = money - 300 
    print("돈을 받았으니 커피를 줍니다.")
    coffee = coffee - 1
    print("남은 커피의 양은 %d개 입니다."%coffee)
    


a = 0
while a <10:
    a +=1
    
    if a%2==0:
        continue 
    
    print(a)


test_list =['one','two','three']
for i in test_list:
    print(i)


a = [(1,2),(3,4),(5,6)]
for i in a:
    print(i)


for first, last in a:
    print(first+last)


scores = [90,25,67,45,80]
number = 0
for s in scores:
    number  +=1
    if s>=60:
        print(f'{number}번 학생은 {s} 합격입니다.')
    else :
        print(f'{number}번 학생은 {s} 불합격입니다.')


|
