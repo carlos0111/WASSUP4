


odd = [1,3,5,7,9]
odd


a = []
b = [1,2,3]
c = ['Life', 'is', 'too','short']
d = [1,2,'Life','is']
e = [1,2,['Life','is']]
f = list()
a,b,c,d,e,f


type(a)


a = [1,2,3]


a


a[0]


a[0]+a[2]


a[-1]


a = [1,2,3,['a','b','c']]
a


len(a)


a[3][1]


a = [1,2,['a','b',["Life","is"]]]
a


a[2][2][0]





a = [1,2,3,4,5]
a[0:2]


a = [1,2,3,['a','b','c'],4,5]


print(a)


a[2:5]


a[3][0:2]





a = [1,2,3]
b = [4,5,6]
a + b


type(a[0])


str(a[2])


a =[1,2,3]
a[2] =4
a


del a[1]
a



a = [1,2,3,4,5]
del a[2]


a


del a[2:]


a





# 리스트에 요소 ㅜ가하기 append
a = [1,2,3]
a.append(4)


a


a.append([5,6])


a


a = [1,3,4,5]
a.sort()
a


a=["a",'b',"c"]
a.sort()
a


a.sort?


a.sort(reverse=True)
a





a = ['a','c','b']
a.reverse()
a


# 인덱스 반환 index
a = [1,2,3]
a.index(2)





a = [1,2,3]
a.insert?


a.insert(0,4)


a


a.insert(3,5)


a


# 리스트 요소 제거 revoe
a = [1,2,3,1,2,3]
a.remove(3)
a


a.remove?


a= [1,2,3]
a.pop()


a = [1,2,3,1]
a.count(1)


# 리스트 확장 extend
a= [1,2,3]
a.extend([4,5])
a


t1= ()
t2= (1,)
t3 = (1,2,3)
t4 = 1,2,3
t5 = ('a','b',('ab','cd'))
t1,t2,t3,t4,t5


type(t1)


t6 =(1,)


t6, type(t6)


t2=(3,4)
t1+ t2


t2 * 3


len(t1)





# 연관배열 , 해시


dic = {'name':'pay',"phone":"010-1234-1234","birth":"1118"}
dic


a = {'a': [1,2,3]}
a


b = {[1,2,3]: "dddd"}


a = {1:'a'}
a


a = {1:'a'}
a


a['name'] = 'pay'
a


a[3] = [1,2,3]


a


del a[1]


a






for k in a.keys():
    print(k)


a.keys()


type(a.keys())


list(a.keys())


list(a.values())


dic.items()


dic.clear()


dic


a = {'name':'pay',"phone":"010-1234-1234","birth":"1118"}



a['name']


a.get('name')


r = a.get('nokey','defaultkey')
a.get?


print(r)


'name' in a





s1 = set([1,2,3])
s1, type(s1)


s2 = set("Hello")
s2


l1 = list(s1)
l1


l1[0]


tuple(s1)


s1 = set([1,2,3,4,5,6])
s2 = set([4,5,6,7,8,9])


s1 & s2


s1.intersection(s2)


s1 | s2


s1.union(s2)


s1 - s2


s1.difference(s2)


# 값 1개 추가하기 add
s1.add(0)
s1


s1.update([7,8,9])
s1


s1.remove(0)
s1





a  = True
b  = False
type(a), type(b)


1==1


2>1


2<1


a = [1,2,3,4]


while a :
    print(a, a.pop())


if [1,2,3] : 
    print('참')
else :
    print('거짓')


if [] :
    print('참')
else : 
    print('거짓')


#불 연산
bool('python')


bool('')


a = [1,2,3]
id(a)


b = a
b


b[1]=9


b


a


a= 1


id(a)


a = 2


id(a)


a is b





a = [1,2,3,4,5]
a , a[:]


b = a[:]
b


a is b


from copy import copy


a = [1,2,3]
b = copy(a)
a,b


id(a) , id(b)


c = a.copy()
a is c


a,b = ('python','life')


a


[a,b] = ['python','life']


a



a=3
b =5
a,b = b,a


a,b



