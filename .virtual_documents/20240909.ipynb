#161
for i in range(0,100) : 
    print(i)


#162
for i in range(2002,2051,4):
    print(i)


#163
for i in range(1,31):
    print(i) if i%3==0 else ""


#164
#1
l = list(range(0,100))
l.sort(reverse=True)
for i in l :
    print(i)

#2
for i in range(0,100) :
    print(99-i)


#165
for i in range(0,10):
    print(f"{i/10}")


#166
for i in range(1,10) :
    print(f"3 x {i} = {3*i}")


#167
for i in range(1,10,2):
    print(f"3 x {i} = {3*i}")


#168
l=0
for i in range(1,11) :
    l +=i
print(l)


#169
l=0
for i in range(1,11) :
    l +=i if i%2==1 else 0
print(l)


#170
l = 1
for i in range(1,11) :
    l = l * i
print(l)


#171
price_list = [32100, 32150, 32000, 32500]
for i in range(4) :
    print(price_list[i])


#172
price_list = [32100, 32150, 32000, 32500]
for i in range(4) :
    print(f'{i} {price_list[i]}')


#173
price_list = [32100, 32150, 32000, 32500]
for i in range(4) :
    print(f'{3-i} {price_list[i]}')


#174
price_list = [32100, 32150, 32000, 32500]
for i in range(1,4) :
    print(f'{100+(i-1)*10} {price_list[i]}')


#175
my_list = ["가", "나", "다", "라"]
for i in range(len(my_list)-1):
    print(f'{my_list[i]} {my_list[i+1]}')


#176
my_list = ["가", "나", "다", "라", "마"]
for i in range(len(my_list)-2):
    print(f'{my_list[i]} {my_list[i+1]} {my_list[i+2]}')


#177
my_list = ["가", "나", "다", "라"]
for i in range(len(my_list)-1):
    l = len(my_list) - 1 - i
    print(f'{my_list[l]} {my_list[l-1]}')


#178
my_list = [100, 200, 400, 800]
for i in range(len(my_list)-1):
    print(my_list[i+1]-my_list[i])
    


#179
my_list = [100, 200, 400, 800, 1000, 1300]
for i in range(len(my_list)-2):
    print((my_list[i]+my_list[i+1]+my_list[i+2])/3)


#180
low_prices  = [100, 200, 400, 800, 1000]
high_prices = [150, 300, 430, 880, 1000]

a=zip(low_prices,high_prices)

volatility = [h-l for l, h in a]
    
print(volatility)    



#181
apart= [["101호","102호"],["201호","202호"],["301호","302호"]]
apart


## 182
stock = [[100,200,300],[80,210,330]]
stock


#183
stock = {"시가":[100,200,300],"종가":[80,210,330]}


#184
stock = {"10/10":[80,110,70,90],"10/11":[210,230,190,200]}
stock


#185
apart = [ [101, 102], [201, 202], [301, 302] ]
for i1 in apart:
    for i2 in i1:
        print(i2,"호")



#186
apart = [ [101, 102], [201, 202], [301, 302] ]
for i1 in apart[::-1]:
    for i2 in i1:
        print(i2,"호")


#187
apart = [ [101, 102], [201, 202], [301, 302] ]
for i1 in apart[::-1]:
    for i2 in i1[::-1]:
        print(i2,"호")


#188
apart = [ [101, 102], [201, 202], [301, 302] ]
for i1 in apart:
    for i2 in i1:
        print(i2,"호")
        print("-----")


#189
apart = [ [101, 102], [201, 202], [301, 302] ]
for i1 in apart:
    for i2 in i1:
        print(i2,"호")
    print("-----")


#190
apart = [ [101, 102], [201, 202], [301, 302] ]
for i1 in apart:
    for i2 in i1:
        print(i2,"호")
print("-----")


#191
data = [
    [ 2000,  3050,  2050,  1980],
    [ 7500,  2050,  2050,  1980],
    [15450, 15050, 15550, 14900]
]

for l in data:
    for c in l:
        print(c*1.00014)



#192
for l in data:
    for c in l:
        print(c*1.00014)
    print("-----")


#193
result = []
for l in data:
    for c in l:
        result.append(c*1.00014)
print(result)


#194
result = []
for l in data:
    in_l = []
    result.append(in_l)
    for c in l:
        in_l.append(c*1.00014)
print(result)


#195
ohlc = [["open", "high", "low", "close"],
        [100, 110, 70, 100],
        [200, 210, 180, 190],
        [300, 310, 300, 310]]
for i in ohlc[1:] :
    print(i[3])


#196
ohlc = [["open", "high", "low", "close"],
        [100, 110, 70, 100],
        [200, 210, 180, 190],
        [300, 310, 300, 310]]
for a,b,c,d in ohlc[1:] :
    print(d) if d >150 else ""


#197
ohlc = [["open", "high", "low", "close"],
        [100, 110, 70, 100],
        [200, 210, 180, 190],
        [300, 310, 300, 310]]
for a,b,c,d in ohlc[1:] :
    print(d) if d >= a else ""


#198
ohlc = [["open", "high", "low", "close"],
        [100, 110, 70, 100],
        [200, 210, 180, 190],
        [300, 310, 300, 310]]
print([b-c for a,b,c,d in ohlc[1:]])
    


#199
ohlc = [["open", "high", "low", "close"],
        [100, 110, 70, 100],
        [200, 210, 180, 190],
        [300, 310, 300, 310]]

for i in [b-c for a,b,c,d in ohlc[1:] if d > a]:
    print(i)


ohlc = [["open", "high", "low", "close"],
        [100, 110, 70, 100],
        [200, 210, 180, 190],
        [300, 310, 300, 310]]

#1일차 수익 0원 (100 - 100), 2일차 수익 -10원 (190 - 200), 3일차 수익 10원 (310 - 300) 이다.

l = 0
for a,b,c,d in ohlc[1:] :
    l += (d-a)

print(l)



