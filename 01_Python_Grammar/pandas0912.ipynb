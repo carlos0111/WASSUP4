{
 "cells": [
  {
   "cell_type": "code",
   "execution_count": 9,
   "id": "2911d093-52c7-495c-a2d0-4f39ae4b68c2",
   "metadata": {},
   "outputs": [
    {
     "name": "stdout",
     "output_type": "stream",
     "text": [
      "<class 'pandas.core.series.Series'>\n",
      "RangeIndex(start=0, stop=100, step=1)\n",
      "float64\n",
      "0     0.825194\n",
      "1     0.957043\n",
      "2     0.457772\n",
      "3     0.521382\n",
      "4     0.096820\n",
      "        ...   \n",
      "95    0.851265\n",
      "96    0.701635\n",
      "97    0.586147\n",
      "98    0.635242\n",
      "99    0.552264\n",
      "Length: 100, dtype: float64\n"
     ]
    }
   ],
   "source": [
    "# Pandas\n",
    "# Series                    1차원\n",
    "# DataFrame                 2차원\n",
    "\n",
    "\n",
    "import pandas as pd\n",
    "import numpy as np\n",
    "#Series\n",
    "\n",
    "s = pd.Series( np.random.rand(100) )\n",
    "print(type(s))\n",
    "print(s.index)\n",
    "print(s.dtype)\n",
    "print(s)"
   ]
  },
  {
   "cell_type": "code",
   "execution_count": 13,
   "id": "2ffc8541-5d46-40b7-87ef-7461aed0e164",
   "metadata": {},
   "outputs": [
    {
     "name": "stdout",
     "output_type": "stream",
     "text": [
      "<class 'pandas.core.series.Series'>\n",
      "RangeIndex(start=0, stop=10, step=1)\n",
      "int64\n",
      "0     1\n",
      "1     2\n",
      "2     3\n",
      "3     4\n",
      "4     5\n",
      "5     6\n",
      "6     7\n",
      "7     8\n",
      "8     9\n",
      "9    10\n",
      "dtype: int64\n",
      "A     1\n",
      "B     2\n",
      "C     3\n",
      "D     4\n",
      "E     5\n",
      "F     6\n",
      "G     7\n",
      "H     8\n",
      "I     9\n",
      "j    10\n",
      "dtype: int64\n"
     ]
    }
   ],
   "source": [
    "s = pd.Series( [1,2,3,4,5,6,7,8,9,10] )\n",
    "print(type(s))\n",
    "print(s.index)\n",
    "print(s.dtype)\n",
    "print(s)\n",
    "s.index = ['A','B','C','D','E','F','G','H','I',\"j\"]\n",
    "print(s)"
   ]
  },
  {
   "cell_type": "code",
   "execution_count": 15,
   "id": "e348a73e-b0af-4784-ad49-c9a7bff8c6f9",
   "metadata": {},
   "outputs": [],
   "source": [
    "s = pd.Series([1,2,3,4,5,6,7,8,9],['A','B','C','D','E','F','G','H','I'])"
   ]
  },
  {
   "cell_type": "code",
   "execution_count": 29,
   "id": "4501c39a-04c1-49dc-a394-ec3607dae5eb",
   "metadata": {},
   "outputs": [
    {
     "name": "stdout",
     "output_type": "stream",
     "text": [
      "A    1\n",
      "B    2\n",
      "C    3\n",
      "D    4\n",
      "E    5\n",
      "F    6\n",
      "G    7\n",
      "H    8\n",
      "I    9\n",
      "dtype: int64\n",
      "Index(['A', 'B', 'C', 'D', 'E', 'F', 'G', 'H', 'I'], dtype='object')\n",
      "[1 2 3 4 5 6 7 8 9]\n",
      "1\n",
      "1\n"
     ]
    },
    {
     "name": "stderr",
     "output_type": "stream",
     "text": [
      "C:\\Users\\min\\AppData\\Local\\Temp\\ipykernel_28060\\793597647.py:4: FutureWarning: Series.__getitem__ treating keys as positions is deprecated. In a future version, integer keys will always be treated as labels (consistent with DataFrame behavior). To access a value by position, use `ser.iloc[pos]`\n",
      "  print(s[0])\n"
     ]
    }
   ],
   "source": [
    "print(s)\n",
    "print(s.index)\n",
    "print(s.values)\n",
    "print(s[0])\n",
    "print(s['A'])"
   ]
  },
  {
   "cell_type": "code",
   "execution_count": 33,
   "id": "f41d15cf-fa78-409c-8c1b-b407f1af624d",
   "metadata": {},
   "outputs": [
    {
     "name": "stdout",
     "output_type": "stream",
     "text": [
      "1\n"
     ]
    }
   ],
   "source": [
    "m = [1,2,3,4,5,6,7,8,9]\n",
    "print(m[0])"
   ]
  },
  {
   "cell_type": "code",
   "execution_count": 37,
   "id": "d5492425-622b-4fd1-b853-ebdb080ec213",
   "metadata": {},
   "outputs": [
    {
     "name": "stdout",
     "output_type": "stream",
     "text": [
      "1\n",
      "A    1\n",
      "B    2\n",
      "C    3\n",
      "D    4\n",
      "E    5\n",
      "dtype: int64\n",
      "A    1\n",
      "B    2\n",
      "C    3\n",
      "D    4\n",
      "dtype: int64\n"
     ]
    }
   ],
   "source": [
    "print(s.A)\n",
    "print(s[0:5])\n",
    "print(s['A':'D'])"
   ]
  },
  {
   "cell_type": "code",
   "execution_count": 39,
   "id": "b6d3704f-6629-48d8-ad7d-8ae682fff1b0",
   "metadata": {},
   "outputs": [
    {
     "name": "stdout",
     "output_type": "stream",
     "text": [
      "<class 'dict'>\n"
     ]
    }
   ],
   "source": [
    "d = {'A':10,'D':20,'F':30,'H':40}\n",
    "print(type(d))"
   ]
  },
  {
   "cell_type": "code",
   "execution_count": 51,
   "id": "0efcde6d-dbe4-48bc-9d54-f4c6b9beedd9",
   "metadata": {},
   "outputs": [
    {
     "name": "stdout",
     "output_type": "stream",
     "text": [
      "<class 'dict'>\n",
      "A : 10\n",
      "D : 20\n",
      "F : 30\n",
      "H : 40\n",
      "10\n",
      "Index(['A', 'D', 'F', 'H'], dtype='object')\n",
      "[10 20 30 40]\n",
      "10\n",
      "10\n"
     ]
    }
   ],
   "source": [
    "print(type(d))\n",
    "for key,value in d.items():\n",
    "    print(key,\":\",value)\n",
    "print(d['A'])\n",
    "#print(d.A)\n",
    "\n",
    "s = pd.Series(d)\n",
    "print(s.index)\n",
    "print(s.values)\n",
    "print(s['A'])\n",
    "print(s.A)\n",
    "\n"
   ]
  },
  {
   "cell_type": "code",
   "execution_count": 53,
   "id": "650c60ed-61c0-46e8-a4e6-6a0574377cf5",
   "metadata": {},
   "outputs": [
    {
     "name": "stdout",
     "output_type": "stream",
     "text": [
      "<class 'dict'>\n"
     ]
    }
   ],
   "source": [
    "d = {\n",
    "    \"name\":['kim','lee','park','jung'],\n",
    "    \"age\":[25,30,35,20],\n",
    "    'tel':['1111-2222','2222-1111','3333-1111','2222-3333']    \n",
    "}\n",
    "\n",
    "print(type(d))"
   ]
  },
  {
   "cell_type": "code",
   "execution_count": 65,
   "id": "3843ad6c-b4ec-4a90-b6de-9e552c4c3479",
   "metadata": {},
   "outputs": [
    {
     "name": "stdout",
     "output_type": "stream",
     "text": [
      "   name  age        tel\n",
      "0   kim   25  1111-2222\n",
      "1   lee   30  2222-1111\n",
      "2  park   35  3333-1111\n",
      "3  jung   20  2222-3333\n",
      "RangeIndex(start=0, stop=4, step=1)\n",
      "[['kim' 25 '1111-2222']\n",
      " ['lee' 30 '2222-1111']\n",
      " ['park' 35 '3333-1111']\n",
      " ['jung' 20 '2222-3333']]\n",
      "Index(['name', 'age', 'tel'], dtype='object')\n",
      "C    name  age        tel\n",
      "NUM                      \n",
      "0     kim   25  1111-2222\n",
      "1     lee   30  2222-1111\n",
      "2    park   35  3333-1111\n",
      "3    jung   20  2222-3333\n",
      "RangeIndex(start=0, stop=4, step=1, name='NUM')\n",
      "[['kim' 25 '1111-2222']\n",
      " ['lee' 30 '2222-1111']\n",
      " ['park' 35 '3333-1111']\n",
      " ['jung' 20 '2222-3333']]\n",
      "Index(['name', 'age', 'tel'], dtype='object', name='C')\n"
     ]
    }
   ],
   "source": [
    "df = pd.DataFrame(d)\n",
    "print(df)\n",
    "print(df.index)\n",
    "print(df.values)\n",
    "print(df.columns)\n",
    "df.index.name = \"NUM\"\n",
    "df.columns.name = \"C\"\n",
    "print(df)\n",
    "print(df.index)\n",
    "print(df.values)\n",
    "print(df.columns)"
   ]
  },
  {
   "cell_type": "code",
   "execution_count": 73,
   "id": "53e4d8b9-5456-4b32-87f2-ed5cdf69593b",
   "metadata": {},
   "outputs": [
    {
     "name": "stdout",
     "output_type": "stream",
     "text": [
      "<class 'numpy.ndarray'>\n",
      "      0   1          2\n",
      "0   kim  20  1111-2222\n",
      "1   lee  30  2222-1111\n",
      "2  park  35  3333-2222\n",
      "3  jung  25  3333-1111\n",
      "RangeIndex(start=0, stop=4, step=1)\n",
      "RangeIndex(start=0, stop=3, step=1)\n",
      "   name age        tel\n",
      "A   kim  20  1111-2222\n",
      "B   lee  30  2222-1111\n",
      "C  park  35  3333-2222\n",
      "D  jung  25  3333-1111\n",
      "Index(['A', 'B', 'C', 'D'], dtype='object')\n",
      "Index(['name', 'age', 'tel'], dtype='object')\n"
     ]
    }
   ],
   "source": [
    "# Numpy -> DataFrame\n",
    "n = np.array([['kim',20,'1111-2222'],\n",
    "             ['lee',30,'2222-1111'],\n",
    "             ['park',35,'3333-2222'],\n",
    "              ['jung',25,'3333-1111']\n",
    "             ])\n",
    "\n",
    "print(type(n))\n",
    "\n",
    "df = pd.DataFrame(n)\n",
    "print(df)\n",
    "print(df.index)\n",
    "print(df.columns)\n",
    "\n",
    "df.columns = ['name','age','tel']\n",
    "df.index = ['A','B','C','D']\n",
    "print(df)\n",
    "print(df.index)\n",
    "print(df.columns)\n"
   ]
  },
  {
   "cell_type": "code",
   "execution_count": 75,
   "id": "fe2b55f6-f563-4941-8e90-5e23a0f0193a",
   "metadata": {},
   "outputs": [],
   "source": [
    "df = pd.DataFrame(n,columns=['name','age','tel'])"
   ]
  },
  {
   "cell_type": "code",
   "execution_count": 77,
   "id": "355c64b4-8ca7-4ebf-960b-09c24b179ea8",
   "metadata": {},
   "outputs": [
    {
     "name": "stdout",
     "output_type": "stream",
     "text": [
      "   name age        tel\n",
      "0   kim  20  1111-2222\n",
      "1   lee  30  2222-1111\n",
      "2  park  35  3333-2222\n",
      "3  jung  25  3333-1111\n"
     ]
    }
   ],
   "source": [
    "print(df)"
   ]
  },
  {
   "cell_type": "code",
   "execution_count": 79,
   "id": "de84d75a-c031-4bb4-82d2-a760ccc99d0f",
   "metadata": {},
   "outputs": [
    {
     "name": "stdout",
     "output_type": "stream",
     "text": [
      "   name age        tel\n",
      "A   kim  20  1111-2222\n",
      "B   lee  30  2222-1111\n",
      "C  park  35  3333-2222\n",
      "D  jung  25  3333-1111\n"
     ]
    }
   ],
   "source": [
    "df = pd.DataFrame(n,columns=['name','age','tel'],index=['A','B','C','D'])\n",
    "print(df)"
   ]
  },
  {
   "cell_type": "code",
   "execution_count": 81,
   "id": "709dfd92-4357-43d9-980b-cf0e860646ab",
   "metadata": {},
   "outputs": [
    {
     "name": "stdout",
     "output_type": "stream",
     "text": [
      "       name age        tel\n",
      "count     4   4          4\n",
      "unique    4   4          4\n",
      "top     kim  20  1111-2222\n",
      "freq      1   1          1\n"
     ]
    }
   ],
   "source": [
    "print(df.describe())"
   ]
  },
  {
   "cell_type": "code",
   "execution_count": 97,
   "id": "cd8d2f94-bcc8-4f47-9f0e-8c4184e82594",
   "metadata": {},
   "outputs": [
    {
     "name": "stdout",
     "output_type": "stream",
     "text": [
      "A     kim\n",
      "B     lee\n",
      "C    park\n",
      "D    jung\n",
      "Name: name, dtype: object\n",
      "   name        tel\n",
      "A   kim  1111-2222\n",
      "B   lee  2222-1111\n",
      "C  park  3333-2222\n",
      "D  jung  3333-1111\n",
      "park\n",
      "B     lee\n",
      "C    park\n",
      "D    jung\n",
      "Name: name, dtype: object\n"
     ]
    }
   ],
   "source": [
    "print(df['name'])\n",
    "print(df[['name','tel']])\n",
    "#print(df['name'][2])\n",
    "print(df['name'].C)\n",
    "print(df['name']['B':'D'])"
   ]
  },
  {
   "cell_type": "code",
   "execution_count": 99,
   "id": "f14a554c-61b6-4938-9c4b-544755d7ae56",
   "metadata": {},
   "outputs": [
    {
     "name": "stdout",
     "output_type": "stream",
     "text": [
      "A     kim\n",
      "B     lee\n",
      "C    park\n",
      "D    jung\n",
      "Name: name, dtype: object A    20\n",
      "B    30\n",
      "C    35\n",
      "D    25\n",
      "Name: age, dtype: object\n"
     ]
    }
   ],
   "source": [
    "print(df.name,df.age)"
   ]
  },
  {
   "cell_type": "code",
   "execution_count": 101,
   "id": "c2ed2853-80ee-464b-946a-4ae289585e27",
   "metadata": {},
   "outputs": [
    {
     "name": "stdout",
     "output_type": "stream",
     "text": [
      "park\n"
     ]
    }
   ],
   "source": [
    "print(df.name.C)"
   ]
  },
  {
   "cell_type": "code",
   "execution_count": 141,
   "id": "e0d08788-9b48-49b9-b176-ebcfb9e3c52e",
   "metadata": {},
   "outputs": [
    {
     "name": "stdout",
     "output_type": "stream",
     "text": [
      "   name age        tel\n",
      "A   kim  20  1111-2222\n",
      "B   lee  30  2222-1111\n",
      "C  park  35  3333-2222\n",
      "D  jung  25  3333-1111\n",
      "A    kim\n",
      "B    lee\n",
      "Name: name, dtype: object\n"
     ]
    }
   ],
   "source": [
    "print(df[:][:])\n",
    "print(df['name'][:2])"
   ]
  },
  {
   "cell_type": "code",
   "execution_count": 117,
   "id": "d6832356-5f5f-45f9-bc83-015017179390",
   "metadata": {},
   "outputs": [
    {
     "name": "stdout",
     "output_type": "stream",
     "text": [
      "   name age        tel\n",
      "A   kim  20  1111-2222\n",
      "B   lee  30  2222-1111\n",
      "C  park  35  3333-2222\n"
     ]
    }
   ],
   "source": [
    "print(df[:'C'])"
   ]
  },
  {
   "cell_type": "code",
   "execution_count": 125,
   "id": "5813ed9e-aa59-4995-8d27-4e98859add4d",
   "metadata": {},
   "outputs": [
    {
     "name": "stdout",
     "output_type": "stream",
     "text": [
      "   name        tel\n",
      "A   kim  1111-2222\n",
      "B   lee  2222-1111\n",
      "C  park  3333-2222\n",
      "D  jung  3333-1111\n"
     ]
    }
   ],
   "source": [
    "print(df[['name','tel']])\n",
    "#print(df[[0,2]])"
   ]
  },
  {
   "cell_type": "code",
   "execution_count": 143,
   "id": "c17486ba-baa5-4d84-b173-725a3124c1d8",
   "metadata": {},
   "outputs": [
    {
     "name": "stdout",
     "output_type": "stream",
     "text": [
      "   name age        tel\n",
      "A   kim  20  1111-2222\n",
      "B   lee  30  2222-1111\n",
      "C  park  35  3333-2222\n",
      "D  jung  25  3333-1111\n",
      "   name age        tel address\n",
      "A   kim  20  1111-2222      서울\n",
      "B   lee  30  2222-1111      수원\n",
      "C  park  35  3333-2222      인천\n",
      "D  jung  25  3333-1111      안산\n"
     ]
    }
   ],
   "source": [
    "print(df)\n",
    "df['address'] = ['서울','수원','인천','안산']\n",
    "print(df)"
   ]
  },
  {
   "cell_type": "code",
   "execution_count": 165,
   "id": "ccd32044-3cbd-45dc-bb66-2bfa8f73b310",
   "metadata": {},
   "outputs": [
    {
     "name": "stdout",
     "output_type": "stream",
     "text": [
      "   name  age        tel address  adult\n",
      "A   kim   40  1111-2222      서울   True\n",
      "B   lee   30  2222-1111      수원  False\n",
      "C  park   35  3333-2222      인천   True\n",
      "D  jung   25  3333-1111      안산  False\n"
     ]
    }
   ],
   "source": [
    "df['age']=df['age'].astype(np.int64)\n",
    "\n",
    "df['adult'] = df['age'] > 30\n",
    "print(df)"
   ]
  },
  {
   "cell_type": "code",
   "execution_count": 179,
   "id": "df5705de-670b-480f-bd7f-7b4e32c6ebbd",
   "metadata": {},
   "outputs": [
    {
     "name": "stdout",
     "output_type": "stream",
     "text": [
      "r    40\n",
      "g    20\n",
      "f    60\n",
      "e    70\n",
      "c    50\n",
      "a    10\n",
      "dtype: int64\n",
      "a    10\n",
      "g    20\n",
      "r    40\n",
      "c    50\n",
      "f    60\n",
      "e    70\n",
      "dtype: int64\n"
     ]
    }
   ],
   "source": [
    "s = pd.Series([10,40,50,20,70,60],index=['a','r','c','g','e','f'])\n",
    "\n",
    "s = s.sort_index(ascending=False)\n",
    "print(s)\n",
    "s = s.sort_values()\n",
    "print(s)"
   ]
  },
  {
   "cell_type": "code",
   "execution_count": null,
   "id": "156d2e83-72cf-45f8-b1fa-b33ff99b7925",
   "metadata": {},
   "outputs": [],
   "source": [
    "df = pd.DataFrame([[4,5,1,2],[20,10,40,30],['B','D','A','C']])"
   ]
  },
  {
   "cell_type": "code",
   "execution_count": 181,
   "id": "6c820143-57a4-4bd9-8596-10f168f9ab69",
   "metadata": {},
   "outputs": [],
   "source": [
    "df = pd.DataFrame([[4,5,1,2],[300,400,200,100],[20,10,40,30]], index=['c','a','b'],columns=['D','C','A','B'])"
   ]
  },
  {
   "cell_type": "code",
   "execution_count": 183,
   "id": "b25d6780-a5d0-4688-a58c-8ee68e24c791",
   "metadata": {},
   "outputs": [
    {
     "name": "stdout",
     "output_type": "stream",
     "text": [
      "     D    C    A    B\n",
      "c    4    5    1    2\n",
      "a  300  400  200  100\n",
      "b   20   10   40   30\n"
     ]
    }
   ],
   "source": [
    "print(df)"
   ]
  },
  {
   "cell_type": "code",
   "execution_count": 207,
   "id": "190df9ff-7ab5-4087-b1cb-a0eaa10c7fa7",
   "metadata": {},
   "outputs": [
    {
     "data": {
      "text/html": [
       "<div>\n",
       "<style scoped>\n",
       "    .dataframe tbody tr th:only-of-type {\n",
       "        vertical-align: middle;\n",
       "    }\n",
       "\n",
       "    .dataframe tbody tr th {\n",
       "        vertical-align: top;\n",
       "    }\n",
       "\n",
       "    .dataframe thead th {\n",
       "        text-align: right;\n",
       "    }\n",
       "</style>\n",
       "<table border=\"1\" class=\"dataframe\">\n",
       "  <thead>\n",
       "    <tr style=\"text-align: right;\">\n",
       "      <th></th>\n",
       "      <th>D</th>\n",
       "      <th>C</th>\n",
       "      <th>B</th>\n",
       "      <th>A</th>\n",
       "    </tr>\n",
       "  </thead>\n",
       "  <tbody>\n",
       "    <tr>\n",
       "      <th>a</th>\n",
       "      <td>300</td>\n",
       "      <td>400</td>\n",
       "      <td>100</td>\n",
       "      <td>200</td>\n",
       "    </tr>\n",
       "    <tr>\n",
       "      <th>b</th>\n",
       "      <td>20</td>\n",
       "      <td>10</td>\n",
       "      <td>30</td>\n",
       "      <td>40</td>\n",
       "    </tr>\n",
       "    <tr>\n",
       "      <th>c</th>\n",
       "      <td>4</td>\n",
       "      <td>5</td>\n",
       "      <td>2</td>\n",
       "      <td>1</td>\n",
       "    </tr>\n",
       "  </tbody>\n",
       "</table>\n",
       "</div>"
      ],
      "text/plain": [
       "     D    C    B    A\n",
       "a  300  400  100  200\n",
       "b   20   10   30   40\n",
       "c    4    5    2    1"
      ]
     },
     "execution_count": 207,
     "metadata": {},
     "output_type": "execute_result"
    }
   ],
   "source": [
    "df.sort_values(\"D\")\n",
    "df.sort_index()\n",
    "df=df.sort_index(axis=0)\n",
    "df.sort_index(axis=1,ascending=False)\n",
    "\n",
    "\n"
   ]
  },
  {
   "cell_type": "code",
   "execution_count": 227,
   "id": "03c40235-23a0-4535-8e8d-6bde3dd2a472",
   "metadata": {},
   "outputs": [
    {
     "name": "stdout",
     "output_type": "stream",
     "text": [
      "     A    B    C    D\n",
      "a  200  100  400  300\n",
      "b   40   30   10   20\n",
      "c    1    2    5    4\n",
      "     C    D    B    A\n",
      "c    5    4    2    1\n",
      "b   10   20   30   40\n",
      "a  400  300  100  200\n"
     ]
    }
   ],
   "source": [
    "#행끼리\n",
    "df = df.sort_values(by='A', ascending=False)\n",
    "print(df)\n",
    "df = df.sort_values(by=\"A\",ascending=False)\n",
    "df = df.sort_values(by=['A','B'])\n",
    "\n",
    "df = df.sort_values(by='b' ,axis=1)\n",
    "\n",
    "print(df)"
   ]
  },
  {
   "cell_type": "code",
   "execution_count": 221,
   "id": "3bb53c3e-8f49-441a-aaea-e7ca6a88d90a",
   "metadata": {},
   "outputs": [
    {
     "name": "stdout",
     "output_type": "stream",
     "text": [
      "Kim\n",
      "Lee\n",
      "Park\n",
      "Jung\n",
      "Hong\n"
     ]
    }
   ],
   "source": [
    "l = [[\"kim\",30,\"1111-2222\"],[\"Lee\",20,\"2222-3333\"],[\"Park\",35,\"1111-3333\"],[\"Jung\",40,\"1111-2222\"],[\"Hong\",30,\"1111-2222\"]]\n",
    "\n"
   ]
  },
  {
   "cell_type": "code",
   "execution_count": 233,
   "id": "6109c56f-bc95-4520-9c55-e8922f280254",
   "metadata": {},
   "outputs": [
    {
     "name": "stdout",
     "output_type": "stream",
     "text": [
      "     C    D    B    A\n",
      "c    5    4    2    1\n",
      "b   10   20   30   40\n",
      "a  400  300  100  200\n",
      "   C  D  B  A\n",
      "c  5  4  2  1\n"
     ]
    }
   ],
   "source": [
    "print(df[:][:])\n",
    "print(df[:2][:1])\n",
    "\n",
    "#슬라이싱\n",
    "# .iLoc\n",
    "# .loc\n",
    "# .ix              deprecated\n",
    "# list\n",
    "\n",
    "m = [[1,2,3],[4,5,6],[7,8,9]]\n"
   ]
  },
  {
   "cell_type": "code",
   "execution_count": 235,
   "id": "3e4789c1-9662-4fb3-909e-5182862887d3",
   "metadata": {},
   "outputs": [
    {
     "name": "stdout",
     "output_type": "stream",
     "text": [
      "[[1, 2, 3], [4, 5, 6], [7, 8, 9]]\n",
      "9\n",
      "[[1, 2, 3], [4, 5, 6], [7, 8, 9]]\n"
     ]
    }
   ],
   "source": [
    "print(m)\n",
    "print(m[2][2])\n",
    "print(m[:][:])\n"
   ]
  },
  {
   "cell_type": "code",
   "execution_count": 237,
   "id": "005783a6-40db-4922-8304-f1d9b0488357",
   "metadata": {},
   "outputs": [
    {
     "name": "stdout",
     "output_type": "stream",
     "text": [
      "[[1, 2, 3], [4, 5, 6]]\n"
     ]
    }
   ],
   "source": [
    "print(m[:2][:2])"
   ]
  },
  {
   "cell_type": "code",
   "execution_count": 241,
   "id": "b8ded489-cf79-4f04-9eb1-e33d971e0c79",
   "metadata": {},
   "outputs": [
    {
     "name": "stdout",
     "output_type": "stream",
     "text": [
      "[[1 2 3]\n",
      " [4 5 6]\n",
      " [7 8 9]]\n",
      "9\n",
      "[[1 2 3]\n",
      " [4 5 6]]\n"
     ]
    }
   ],
   "source": [
    "# Numpy\n",
    "n = np.array(m)\n",
    "print(n)\n",
    "print(n[2][2])\n",
    "print(n[:2][:2])"
   ]
  },
  {
   "cell_type": "code",
   "execution_count": 243,
   "id": "62d0ea6a-1395-4e23-a453-e7bc76b3be1c",
   "metadata": {},
   "outputs": [
    {
     "name": "stdout",
     "output_type": "stream",
     "text": [
      "[[1 2]\n",
      " [4 5]]\n"
     ]
    }
   ],
   "source": [
    "print(n[:2,:2])"
   ]
  },
  {
   "cell_type": "code",
   "execution_count": 249,
   "id": "4cfaa837-3abe-4542-9d02-0560eff8b90a",
   "metadata": {},
   "outputs": [
    {
     "name": "stdout",
     "output_type": "stream",
     "text": [
      "   0  1  2\n",
      "0  1  2  3\n",
      "1  4  5  6\n",
      "2  7  8  9\n",
      "9\n"
     ]
    }
   ],
   "source": [
    "# Pandas\n",
    "df = pd.DataFrame(n)\n",
    "print(df)\n",
    "print(df[2][2])"
   ]
  },
  {
   "cell_type": "code",
   "execution_count": 251,
   "id": "05f20152-2706-4e84-80a9-cb9da09c0919",
   "metadata": {},
   "outputs": [
    {
     "name": "stdout",
     "output_type": "stream",
     "text": [
      "   0  1  2\n",
      "0  1  2  3\n",
      "1  4  5  6\n",
      "2  7  8  9\n"
     ]
    }
   ],
   "source": [
    "print(df[:][:])"
   ]
  },
  {
   "cell_type": "code",
   "execution_count": 253,
   "id": "ee44ded4-be0f-4cc8-a9df-a8459a38e0d9",
   "metadata": {},
   "outputs": [
    {
     "name": "stdout",
     "output_type": "stream",
     "text": [
      "   0  1  2\n",
      "0  1  2  3\n",
      "1  4  5  6\n"
     ]
    }
   ],
   "source": [
    "print(df[:2][:2])"
   ]
  },
  {
   "cell_type": "code",
   "execution_count": 289,
   "id": "ebeb65d5-ff30-45ba-9028-c63d993a7df2",
   "metadata": {},
   "outputs": [
    {
     "name": "stdout",
     "output_type": "stream",
     "text": [
      "   0  1  2\n",
      "0  1  2  3\n"
     ]
    }
   ],
   "source": [
    "print(df[:1][:2])"
   ]
  },
  {
   "cell_type": "code",
   "execution_count": 305,
   "id": "3fcde111-3e55-4975-a763-a3ad3fcf083c",
   "metadata": {},
   "outputs": [
    {
     "name": "stdout",
     "output_type": "stream",
     "text": [
      "    A   B   C   D\n",
      "0   1   2   3   4\n",
      "1   5   6   7   8\n",
      "2   9  10  11  12\n",
      "3  13  14  15  16\n",
      "4  17  18  19  20\n",
      "11\n",
      "    A   D\n",
      "0   1   4\n",
      "1   5   8\n",
      "2   9  12\n",
      "3  13  16\n",
      "4  17  20\n"
     ]
    }
   ],
   "source": [
    "df = pd.DataFrame(np.arange(1,21).reshape(5,4),columns=['A','B','C','D'])\n",
    "print(df)\n",
    "print(df['C'][2])\n",
    "print(df[['A','D']])"
   ]
  },
  {
   "cell_type": "code",
   "execution_count": 335,
   "id": "28a0d8ed-6a51-4553-912a-1c395b94e56c",
   "metadata": {},
   "outputs": [
    {
     "name": "stdout",
     "output_type": "stream",
     "text": [
      "   A  B\n",
      "0  1  2\n",
      "1  5  6\n",
      "   A   C\n",
      "0  1   3\n",
      "2  9  11\n",
      "   A   B   C\n",
      "0  1   2   3\n",
      "1  5   6   7\n",
      "2  9  10  11\n",
      "    D   C   B   A\n",
      "4  20  19  18  17\n",
      "3  16  15  14  13\n",
      "2  12  11  10   9\n",
      "1   8   7   6   5\n",
      "0   4   3   2   1\n"
     ]
    }
   ],
   "source": [
    "df.iloc[2,2]\n",
    "#print(df.iloc[2,2])\n",
    "print(df.iloc[:2,:2])\n",
    "print(df.iloc[:3:2,:3:2])\n",
    "print(df.iloc[:3,:-1])\n",
    "print(df.iloc[::-1,::-1])"
   ]
  },
  {
   "cell_type": "code",
   "execution_count": 347,
   "id": "45813ecd-5111-4b29-aeaf-a0853ba85cfc",
   "metadata": {},
   "outputs": [
    {
     "name": "stdout",
     "output_type": "stream",
     "text": [
      "    A   B   C   D\n",
      "0   1   2   3   4\n",
      "1   5   6   7   8\n",
      "2   9  10  11  12\n",
      "3  13  14  15  16\n",
      "4  17  18  19  20\n",
      "11\n"
     ]
    }
   ],
   "source": [
    "print(df)\n",
    "print(df.loc[2,\"C\"])"
   ]
  },
  {
   "cell_type": "code",
   "execution_count": 355,
   "id": "9454e9da-8a44-4d0a-8c7f-03bbc715f8af",
   "metadata": {},
   "outputs": [
    {
     "name": "stdout",
     "output_type": "stream",
     "text": [
      "   A   B   C\n",
      "0  1   2   3\n",
      "1  5   6   7\n",
      "2  9  10  11\n"
     ]
    }
   ],
   "source": [
    "print(df.loc[:2,:\"C\"])"
   ]
  },
  {
   "cell_type": "code",
   "execution_count": 361,
   "id": "270c05b5-895f-4dd0-b836-0e93e5bbcc12",
   "metadata": {},
   "outputs": [],
   "source": [
    "df['E'] =[31,32,33,34,35]"
   ]
  },
  {
   "cell_type": "code",
   "execution_count": 379,
   "id": "8f5b0823-69d5-4636-b007-093507080e56",
   "metadata": {},
   "outputs": [],
   "source": [
    "df.iloc[4,:] = [1,2,3,4,5]"
   ]
  },
  {
   "cell_type": "code",
   "execution_count": 381,
   "id": "fb69ec0e-a3ce-4f7c-9762-5a4b9b3a64ba",
   "metadata": {},
   "outputs": [
    {
     "data": {
      "text/html": [
       "<div>\n",
       "<style scoped>\n",
       "    .dataframe tbody tr th:only-of-type {\n",
       "        vertical-align: middle;\n",
       "    }\n",
       "\n",
       "    .dataframe tbody tr th {\n",
       "        vertical-align: top;\n",
       "    }\n",
       "\n",
       "    .dataframe thead th {\n",
       "        text-align: right;\n",
       "    }\n",
       "</style>\n",
       "<table border=\"1\" class=\"dataframe\">\n",
       "  <thead>\n",
       "    <tr style=\"text-align: right;\">\n",
       "      <th></th>\n",
       "      <th>A</th>\n",
       "      <th>B</th>\n",
       "      <th>C</th>\n",
       "      <th>D</th>\n",
       "      <th>E</th>\n",
       "    </tr>\n",
       "  </thead>\n",
       "  <tbody>\n",
       "    <tr>\n",
       "      <th>0</th>\n",
       "      <td>1</td>\n",
       "      <td>2</td>\n",
       "      <td>3</td>\n",
       "      <td>4</td>\n",
       "      <td>31</td>\n",
       "    </tr>\n",
       "    <tr>\n",
       "      <th>1</th>\n",
       "      <td>5</td>\n",
       "      <td>6</td>\n",
       "      <td>7</td>\n",
       "      <td>8</td>\n",
       "      <td>32</td>\n",
       "    </tr>\n",
       "    <tr>\n",
       "      <th>2</th>\n",
       "      <td>9</td>\n",
       "      <td>10</td>\n",
       "      <td>11</td>\n",
       "      <td>12</td>\n",
       "      <td>33</td>\n",
       "    </tr>\n",
       "    <tr>\n",
       "      <th>3</th>\n",
       "      <td>13</td>\n",
       "      <td>14</td>\n",
       "      <td>15</td>\n",
       "      <td>16</td>\n",
       "      <td>34</td>\n",
       "    </tr>\n",
       "    <tr>\n",
       "      <th>4</th>\n",
       "      <td>1</td>\n",
       "      <td>2</td>\n",
       "      <td>3</td>\n",
       "      <td>4</td>\n",
       "      <td>5</td>\n",
       "    </tr>\n",
       "  </tbody>\n",
       "</table>\n",
       "</div>"
      ],
      "text/plain": [
       "    A   B   C   D   E\n",
       "0   1   2   3   4  31\n",
       "1   5   6   7   8  32\n",
       "2   9  10  11  12  33\n",
       "3  13  14  15  16  34\n",
       "4   1   2   3   4   5"
      ]
     },
     "execution_count": 381,
     "metadata": {},
     "output_type": "execute_result"
    }
   ],
   "source": [
    "df"
   ]
  },
  {
   "cell_type": "code",
   "execution_count": 383,
   "id": "020a96f5-af21-490e-a44d-4bbfc37e914a",
   "metadata": {},
   "outputs": [],
   "source": [
    "df.loc[5] = [2,3,4,5,6]"
   ]
  },
  {
   "cell_type": "code",
   "execution_count": 385,
   "id": "d1ce84b5-587a-446a-94c7-225033294334",
   "metadata": {},
   "outputs": [
    {
     "name": "stdout",
     "output_type": "stream",
     "text": [
      "    A   B   C   D   E\n",
      "0   1   2   3   4  31\n",
      "1   5   6   7   8  32\n",
      "2   9  10  11  12  33\n",
      "3  13  14  15  16  34\n",
      "4   1   2   3   4   5\n",
      "5   2   3   4   5   6\n"
     ]
    }
   ],
   "source": [
    "print(df)"
   ]
  },
  {
   "cell_type": "code",
   "execution_count": 389,
   "id": "e2d49e58-0746-4804-87d8-27e0a423bb76",
   "metadata": {},
   "outputs": [],
   "source": [
    "df.loc[:,'F'] = [40,41,42,43,44,45]"
   ]
  },
  {
   "cell_type": "code",
   "execution_count": 391,
   "id": "442c93c6-e764-44ef-9a51-d0837361bdd8",
   "metadata": {},
   "outputs": [
    {
     "name": "stdout",
     "output_type": "stream",
     "text": [
      "    A   B   C   D   E   F\n",
      "0   1   2   3   4  31  40\n",
      "1   5   6   7   8  32  41\n",
      "2   9  10  11  12  33  42\n",
      "3  13  14  15  16  34  43\n",
      "4   1   2   3   4   5  44\n",
      "5   2   3   4   5   6  45\n"
     ]
    }
   ],
   "source": [
    "print(df)"
   ]
  },
  {
   "cell_type": "code",
   "execution_count": 393,
   "id": "0abca6f5-7eac-43e8-baf0-500ac7353527",
   "metadata": {},
   "outputs": [],
   "source": [
    "df.loc[0,'A']=99"
   ]
  },
  {
   "cell_type": "code",
   "execution_count": 395,
   "id": "f6d146d6-d84e-4bf8-9e2e-ae0be5db7f2b",
   "metadata": {},
   "outputs": [
    {
     "name": "stdout",
     "output_type": "stream",
     "text": [
      "    A   B   C   D   E   F\n",
      "0  99   2   3   4  31  40\n",
      "1   5   6   7   8  32  41\n",
      "2   9  10  11  12  33  42\n",
      "3  13  14  15  16  34  43\n",
      "4   1   2   3   4   5  44\n",
      "5   2   3   4   5   6  45\n"
     ]
    }
   ],
   "source": [
    "print(df)"
   ]
  },
  {
   "cell_type": "code",
   "execution_count": 397,
   "id": "a175664e-c964-4370-ad0b-430e1fa553d9",
   "metadata": {},
   "outputs": [],
   "source": [
    "df.loc[1,\"A\":\"C\"] =[100,101,102] "
   ]
  },
  {
   "cell_type": "code",
   "execution_count": 399,
   "id": "378c52fb-3515-45c4-8ad4-cc08f3c2ad65",
   "metadata": {},
   "outputs": [
    {
     "name": "stdout",
     "output_type": "stream",
     "text": [
      "     A    B    C   D   E   F\n",
      "0   99    2    3   4  31  40\n",
      "1  100  101  102   8  32  41\n",
      "2    9   10   11  12  33  42\n",
      "3   13   14   15  16  34  43\n",
      "4    1    2    3   4   5  44\n",
      "5    2    3    4   5   6  45\n"
     ]
    }
   ],
   "source": [
    "print(df)"
   ]
  },
  {
   "cell_type": "code",
   "execution_count": 401,
   "id": "8ebe5ad1-543e-4995-bf43-773a91dea271",
   "metadata": {},
   "outputs": [],
   "source": [
    "df.loc[1,\"A\":\"E\":2] =[3,2,1] "
   ]
  },
  {
   "cell_type": "code",
   "execution_count": 403,
   "id": "94d3ec67-c525-4363-b510-a10010fe5442",
   "metadata": {},
   "outputs": [
    {
     "name": "stdout",
     "output_type": "stream",
     "text": [
      "    A    B   C   D   E   F\n",
      "0  99    2   3   4  31  40\n",
      "1   3  101   2   8   1  41\n",
      "2   9   10  11  12  33  42\n",
      "3  13   14  15  16  34  43\n",
      "4   1    2   3   4   5  44\n",
      "5   2    3   4   5   6  45\n"
     ]
    }
   ],
   "source": [
    "print(df)"
   ]
  },
  {
   "cell_type": "code",
   "execution_count": 405,
   "id": "a4cfcd49-ea8e-483d-aa6f-da3f31d74905",
   "metadata": {},
   "outputs": [],
   "source": [
    "del(df['E'])"
   ]
  },
  {
   "cell_type": "code",
   "execution_count": 407,
   "id": "71a71722-b547-4707-97e7-0e46d668b76f",
   "metadata": {},
   "outputs": [
    {
     "name": "stdout",
     "output_type": "stream",
     "text": [
      "    A    B   C   D   F\n",
      "0  99    2   3   4  40\n",
      "1   3  101   2   8  41\n",
      "2   9   10  11  12  42\n",
      "3  13   14  15  16  43\n",
      "4   1    2   3   4  44\n",
      "5   2    3   4   5  45\n"
     ]
    }
   ],
   "source": [
    "print(df)"
   ]
  },
  {
   "cell_type": "code",
   "execution_count": 409,
   "id": "48fef863-af0c-4348-9a19-56c63783bb0f",
   "metadata": {},
   "outputs": [
    {
     "data": {
      "text/html": [
       "<div>\n",
       "<style scoped>\n",
       "    .dataframe tbody tr th:only-of-type {\n",
       "        vertical-align: middle;\n",
       "    }\n",
       "\n",
       "    .dataframe tbody tr th {\n",
       "        vertical-align: top;\n",
       "    }\n",
       "\n",
       "    .dataframe thead th {\n",
       "        text-align: right;\n",
       "    }\n",
       "</style>\n",
       "<table border=\"1\" class=\"dataframe\">\n",
       "  <thead>\n",
       "    <tr style=\"text-align: right;\">\n",
       "      <th></th>\n",
       "      <th>A</th>\n",
       "      <th>B</th>\n",
       "      <th>C</th>\n",
       "      <th>D</th>\n",
       "      <th>F</th>\n",
       "    </tr>\n",
       "  </thead>\n",
       "  <tbody>\n",
       "    <tr>\n",
       "      <th>1</th>\n",
       "      <td>3</td>\n",
       "      <td>101</td>\n",
       "      <td>2</td>\n",
       "      <td>8</td>\n",
       "      <td>41</td>\n",
       "    </tr>\n",
       "    <tr>\n",
       "      <th>2</th>\n",
       "      <td>9</td>\n",
       "      <td>10</td>\n",
       "      <td>11</td>\n",
       "      <td>12</td>\n",
       "      <td>42</td>\n",
       "    </tr>\n",
       "    <tr>\n",
       "      <th>3</th>\n",
       "      <td>13</td>\n",
       "      <td>14</td>\n",
       "      <td>15</td>\n",
       "      <td>16</td>\n",
       "      <td>43</td>\n",
       "    </tr>\n",
       "    <tr>\n",
       "      <th>4</th>\n",
       "      <td>1</td>\n",
       "      <td>2</td>\n",
       "      <td>3</td>\n",
       "      <td>4</td>\n",
       "      <td>44</td>\n",
       "    </tr>\n",
       "    <tr>\n",
       "      <th>5</th>\n",
       "      <td>2</td>\n",
       "      <td>3</td>\n",
       "      <td>4</td>\n",
       "      <td>5</td>\n",
       "      <td>45</td>\n",
       "    </tr>\n",
       "  </tbody>\n",
       "</table>\n",
       "</div>"
      ],
      "text/plain": [
       "    A    B   C   D   F\n",
       "1   3  101   2   8  41\n",
       "2   9   10  11  12  42\n",
       "3  13   14  15  16  43\n",
       "4   1    2   3   4  44\n",
       "5   2    3   4   5  45"
      ]
     },
     "execution_count": 409,
     "metadata": {},
     "output_type": "execute_result"
    }
   ],
   "source": [
    "df.drop(0)"
   ]
  },
  {
   "cell_type": "code",
   "execution_count": 411,
   "id": "00e3104d-f1b5-4185-9c65-3db96061654e",
   "metadata": {},
   "outputs": [
    {
     "data": {
      "text/html": [
       "<div>\n",
       "<style scoped>\n",
       "    .dataframe tbody tr th:only-of-type {\n",
       "        vertical-align: middle;\n",
       "    }\n",
       "\n",
       "    .dataframe tbody tr th {\n",
       "        vertical-align: top;\n",
       "    }\n",
       "\n",
       "    .dataframe thead th {\n",
       "        text-align: right;\n",
       "    }\n",
       "</style>\n",
       "<table border=\"1\" class=\"dataframe\">\n",
       "  <thead>\n",
       "    <tr style=\"text-align: right;\">\n",
       "      <th></th>\n",
       "      <th>A</th>\n",
       "      <th>B</th>\n",
       "      <th>C</th>\n",
       "      <th>D</th>\n",
       "      <th>F</th>\n",
       "    </tr>\n",
       "  </thead>\n",
       "  <tbody>\n",
       "    <tr>\n",
       "      <th>0</th>\n",
       "      <td>99</td>\n",
       "      <td>2</td>\n",
       "      <td>3</td>\n",
       "      <td>4</td>\n",
       "      <td>40</td>\n",
       "    </tr>\n",
       "    <tr>\n",
       "      <th>1</th>\n",
       "      <td>3</td>\n",
       "      <td>101</td>\n",
       "      <td>2</td>\n",
       "      <td>8</td>\n",
       "      <td>41</td>\n",
       "    </tr>\n",
       "    <tr>\n",
       "      <th>2</th>\n",
       "      <td>9</td>\n",
       "      <td>10</td>\n",
       "      <td>11</td>\n",
       "      <td>12</td>\n",
       "      <td>42</td>\n",
       "    </tr>\n",
       "    <tr>\n",
       "      <th>4</th>\n",
       "      <td>1</td>\n",
       "      <td>2</td>\n",
       "      <td>3</td>\n",
       "      <td>4</td>\n",
       "      <td>44</td>\n",
       "    </tr>\n",
       "    <tr>\n",
       "      <th>5</th>\n",
       "      <td>2</td>\n",
       "      <td>3</td>\n",
       "      <td>4</td>\n",
       "      <td>5</td>\n",
       "      <td>45</td>\n",
       "    </tr>\n",
       "  </tbody>\n",
       "</table>\n",
       "</div>"
      ],
      "text/plain": [
       "    A    B   C   D   F\n",
       "0  99    2   3   4  40\n",
       "1   3  101   2   8  41\n",
       "2   9   10  11  12  42\n",
       "4   1    2   3   4  44\n",
       "5   2    3   4   5  45"
      ]
     },
     "execution_count": 411,
     "metadata": {},
     "output_type": "execute_result"
    }
   ],
   "source": [
    "df.drop(3)"
   ]
  },
  {
   "cell_type": "code",
   "execution_count": 413,
   "id": "19d2ff0a-5d10-4b0d-a290-bd039d24feeb",
   "metadata": {},
   "outputs": [
    {
     "data": {
      "text/html": [
       "<div>\n",
       "<style scoped>\n",
       "    .dataframe tbody tr th:only-of-type {\n",
       "        vertical-align: middle;\n",
       "    }\n",
       "\n",
       "    .dataframe tbody tr th {\n",
       "        vertical-align: top;\n",
       "    }\n",
       "\n",
       "    .dataframe thead th {\n",
       "        text-align: right;\n",
       "    }\n",
       "</style>\n",
       "<table border=\"1\" class=\"dataframe\">\n",
       "  <thead>\n",
       "    <tr style=\"text-align: right;\">\n",
       "      <th></th>\n",
       "      <th>A</th>\n",
       "      <th>B</th>\n",
       "      <th>C</th>\n",
       "      <th>D</th>\n",
       "    </tr>\n",
       "  </thead>\n",
       "  <tbody>\n",
       "    <tr>\n",
       "      <th>0</th>\n",
       "      <td>99</td>\n",
       "      <td>2</td>\n",
       "      <td>3</td>\n",
       "      <td>4</td>\n",
       "    </tr>\n",
       "    <tr>\n",
       "      <th>1</th>\n",
       "      <td>3</td>\n",
       "      <td>101</td>\n",
       "      <td>2</td>\n",
       "      <td>8</td>\n",
       "    </tr>\n",
       "    <tr>\n",
       "      <th>2</th>\n",
       "      <td>9</td>\n",
       "      <td>10</td>\n",
       "      <td>11</td>\n",
       "      <td>12</td>\n",
       "    </tr>\n",
       "    <tr>\n",
       "      <th>3</th>\n",
       "      <td>13</td>\n",
       "      <td>14</td>\n",
       "      <td>15</td>\n",
       "      <td>16</td>\n",
       "    </tr>\n",
       "    <tr>\n",
       "      <th>4</th>\n",
       "      <td>1</td>\n",
       "      <td>2</td>\n",
       "      <td>3</td>\n",
       "      <td>4</td>\n",
       "    </tr>\n",
       "    <tr>\n",
       "      <th>5</th>\n",
       "      <td>2</td>\n",
       "      <td>3</td>\n",
       "      <td>4</td>\n",
       "      <td>5</td>\n",
       "    </tr>\n",
       "  </tbody>\n",
       "</table>\n",
       "</div>"
      ],
      "text/plain": [
       "    A    B   C   D\n",
       "0  99    2   3   4\n",
       "1   3  101   2   8\n",
       "2   9   10  11  12\n",
       "3  13   14  15  16\n",
       "4   1    2   3   4\n",
       "5   2    3   4   5"
      ]
     },
     "execution_count": 413,
     "metadata": {},
     "output_type": "execute_result"
    }
   ],
   "source": [
    "df.drop(\"F\",axis=1)"
   ]
  },
  {
   "cell_type": "code",
   "execution_count": 451,
   "id": "a03b86db-6b84-4243-a15e-33921d31727d",
   "metadata": {},
   "outputs": [
    {
     "name": "stdout",
     "output_type": "stream",
     "text": [
      "   name  age        tel\n",
      "0   kim   20  1111-2222\n",
      "1   lee   30  2222-1111\n",
      "2  park   35  3333-2222\n",
      "3  jung   25  3333-1111\n",
      "4  hong   40  1111-2222\n",
      "jung\n",
      "   name  age\n",
      "0   kim   20\n",
      "2  park   35\n",
      "   name  age\n",
      "2  park   35\n",
      "4  hong   40\n",
      "  name  age\n",
      "0  kim   20\n",
      "   name  age        tel\n",
      "1   lee   30  2222-1111\n",
      "2  park   35  3333-2222\n",
      "3  jung   25  3333-1111\n"
     ]
    }
   ],
   "source": [
    "df = pd.DataFrame([['kim',20,'1111-2222'],\n",
    "             ['lee',30,'2222-1111'],\n",
    "             ['park',35,'3333-2222'],\n",
    "              ['jung',25,'3333-1111'],\n",
    "              ['hong',40,'1111-2222']\n",
    "             ],columns=['name','age','tel'])\n",
    "print(df)\n",
    "print(df.loc[3,'name'])\n",
    "print(df.loc[[True,False,True,False,False],['name','age']])\n",
    "print(df.loc[df[\"age\"]>30,['name','age']])\n",
    "print(df.loc[df[\"name\"]=='kim',['name','age']])\n",
    "print(df.loc[( df['age'] >20 ) & (df['age']<40),'name':'tel'])"
   ]
  },
  {
   "cell_type": "code",
   "execution_count": 561,
   "id": "0157749a-6dbe-486e-8d66-d2afaae733e7",
   "metadata": {},
   "outputs": [],
   "source": [
    "df = pd.DataFrame([['kim',20,'1111-2222'],\n",
    "             ['lee',30,'2222-1111'],\n",
    "             ['park',35,'3333-2222'],\n",
    "              ['jung',25,'3333-1111'],\n",
    "                   ['hong',40,\"1111-3333\"]\n",
    "             ],)\n",
    "\n",
    "\n",
    "# 결측값 대체\n",
    "df.columns = [\"name\",\"age\",\"phone\"]\n",
    "df['address'] = ['서울', np.nan,np.nan,\"수원\",np.nan]\n"
   ]
  },
  {
   "cell_type": "code",
   "execution_count": 563,
   "id": "66db9957-63bc-4b36-93c0-72616e0babe3",
   "metadata": {},
   "outputs": [],
   "source": [
    "df.loc[df['address'].isnull(),'address']=\"서울\"\n",
    "\n"
   ]
  },
  {
   "cell_type": "code",
   "execution_count": 541,
   "id": "7257f1d6-5644-44e0-9ac9-3f20b4766229",
   "metadata": {},
   "outputs": [],
   "source": [
    "df.loc[::2,'address'] =''"
   ]
  },
  {
   "cell_type": "code",
   "execution_count": 565,
   "id": "70d6b420-5b9d-4436-a2b0-06448b68d82a",
   "metadata": {},
   "outputs": [
    {
     "data": {
      "text/html": [
       "<div>\n",
       "<style scoped>\n",
       "    .dataframe tbody tr th:only-of-type {\n",
       "        vertical-align: middle;\n",
       "    }\n",
       "\n",
       "    .dataframe tbody tr th {\n",
       "        vertical-align: top;\n",
       "    }\n",
       "\n",
       "    .dataframe thead th {\n",
       "        text-align: right;\n",
       "    }\n",
       "</style>\n",
       "<table border=\"1\" class=\"dataframe\">\n",
       "  <thead>\n",
       "    <tr style=\"text-align: right;\">\n",
       "      <th></th>\n",
       "      <th>name</th>\n",
       "      <th>age</th>\n",
       "      <th>phone</th>\n",
       "      <th>address</th>\n",
       "    </tr>\n",
       "  </thead>\n",
       "  <tbody>\n",
       "    <tr>\n",
       "      <th>0</th>\n",
       "      <td>kim</td>\n",
       "      <td>20</td>\n",
       "      <td>1111-2222</td>\n",
       "      <td>서울</td>\n",
       "    </tr>\n",
       "    <tr>\n",
       "      <th>1</th>\n",
       "      <td>lee</td>\n",
       "      <td>30</td>\n",
       "      <td>2222-1111</td>\n",
       "      <td>서울</td>\n",
       "    </tr>\n",
       "    <tr>\n",
       "      <th>2</th>\n",
       "      <td>park</td>\n",
       "      <td>35</td>\n",
       "      <td>3333-2222</td>\n",
       "      <td>서울</td>\n",
       "    </tr>\n",
       "    <tr>\n",
       "      <th>3</th>\n",
       "      <td>jung</td>\n",
       "      <td>25</td>\n",
       "      <td>3333-1111</td>\n",
       "      <td>수원</td>\n",
       "    </tr>\n",
       "    <tr>\n",
       "      <th>4</th>\n",
       "      <td>hong</td>\n",
       "      <td>40</td>\n",
       "      <td>1111-3333</td>\n",
       "      <td>서울</td>\n",
       "    </tr>\n",
       "  </tbody>\n",
       "</table>\n",
       "</div>"
      ],
      "text/plain": [
       "   name  age      phone address\n",
       "0   kim   20  1111-2222      서울\n",
       "1   lee   30  2222-1111      서울\n",
       "2  park   35  3333-2222      서울\n",
       "3  jung   25  3333-1111      수원\n",
       "4  hong   40  1111-3333      서울"
      ]
     },
     "execution_count": 565,
     "metadata": {},
     "output_type": "execute_result"
    }
   ],
   "source": [
    "df"
   ]
  },
  {
   "cell_type": "code",
   "execution_count": 543,
   "id": "68db6346-e759-4134-9438-6023020d9ad8",
   "metadata": {},
   "outputs": [],
   "source": [
    "df.loc[df['address']=='','address'] = '서울'"
   ]
  },
  {
   "cell_type": "code",
   "execution_count": 545,
   "id": "d6f9634e-4b69-4256-a7e7-05c0d0660476",
   "metadata": {},
   "outputs": [
    {
     "data": {
      "text/html": [
       "<div>\n",
       "<style scoped>\n",
       "    .dataframe tbody tr th:only-of-type {\n",
       "        vertical-align: middle;\n",
       "    }\n",
       "\n",
       "    .dataframe tbody tr th {\n",
       "        vertical-align: top;\n",
       "    }\n",
       "\n",
       "    .dataframe thead th {\n",
       "        text-align: right;\n",
       "    }\n",
       "</style>\n",
       "<table border=\"1\" class=\"dataframe\">\n",
       "  <thead>\n",
       "    <tr style=\"text-align: right;\">\n",
       "      <th></th>\n",
       "      <th>name</th>\n",
       "      <th>age</th>\n",
       "      <th>phone</th>\n",
       "      <th>address</th>\n",
       "    </tr>\n",
       "  </thead>\n",
       "  <tbody>\n",
       "    <tr>\n",
       "      <th>0</th>\n",
       "      <td>kim</td>\n",
       "      <td>20</td>\n",
       "      <td>1111-2222</td>\n",
       "      <td>서울</td>\n",
       "    </tr>\n",
       "    <tr>\n",
       "      <th>1</th>\n",
       "      <td>lee</td>\n",
       "      <td>30</td>\n",
       "      <td>2222-1111</td>\n",
       "      <td>서울</td>\n",
       "    </tr>\n",
       "    <tr>\n",
       "      <th>2</th>\n",
       "      <td>park</td>\n",
       "      <td>35</td>\n",
       "      <td>3333-2222</td>\n",
       "      <td>서울</td>\n",
       "    </tr>\n",
       "    <tr>\n",
       "      <th>3</th>\n",
       "      <td>jung</td>\n",
       "      <td>25</td>\n",
       "      <td>3333-1111</td>\n",
       "      <td>수원</td>\n",
       "    </tr>\n",
       "    <tr>\n",
       "      <th>4</th>\n",
       "      <td>hong</td>\n",
       "      <td>40</td>\n",
       "      <td>1111-3333</td>\n",
       "      <td>서울</td>\n",
       "    </tr>\n",
       "  </tbody>\n",
       "</table>\n",
       "</div>"
      ],
      "text/plain": [
       "   name  age      phone address\n",
       "0   kim   20  1111-2222      서울\n",
       "1   lee   30  2222-1111      서울\n",
       "2  park   35  3333-2222      서울\n",
       "3  jung   25  3333-1111      수원\n",
       "4  hong   40  1111-3333      서울"
      ]
     },
     "execution_count": 545,
     "metadata": {},
     "output_type": "execute_result"
    }
   ],
   "source": [
    "# 결측값 제거\n",
    "df.dropna()"
   ]
  },
  {
   "cell_type": "code",
   "execution_count": 579,
   "id": "9f30fb7a-3716-4833-b0a8-3ec12302a0e7",
   "metadata": {},
   "outputs": [],
   "source": [
    "df.loc[::2,'phone'] = np.nan\n",
    "df.loc[5,:] = [np.nan, np.nan, np.nan, np.nan]\n",
    "#df.dropna(how='all', inplace=True)\n",
    "df.dropna(how=\"any\", inplace=True)\n",
    "#print(df)"
   ]
  },
  {
   "cell_type": "code",
   "execution_count": 581,
   "id": "f2c60960-e5d9-414d-b297-7394aee3e443",
   "metadata": {},
   "outputs": [
    {
     "data": {
      "text/html": [
       "<div>\n",
       "<style scoped>\n",
       "    .dataframe tbody tr th:only-of-type {\n",
       "        vertical-align: middle;\n",
       "    }\n",
       "\n",
       "    .dataframe tbody tr th {\n",
       "        vertical-align: top;\n",
       "    }\n",
       "\n",
       "    .dataframe thead th {\n",
       "        text-align: right;\n",
       "    }\n",
       "</style>\n",
       "<table border=\"1\" class=\"dataframe\">\n",
       "  <thead>\n",
       "    <tr style=\"text-align: right;\">\n",
       "      <th></th>\n",
       "      <th>name</th>\n",
       "      <th>age</th>\n",
       "      <th>phone</th>\n",
       "      <th>address</th>\n",
       "    </tr>\n",
       "  </thead>\n",
       "  <tbody>\n",
       "    <tr>\n",
       "      <th>1</th>\n",
       "      <td>lee</td>\n",
       "      <td>30.0</td>\n",
       "      <td>2222-1111</td>\n",
       "      <td>서울</td>\n",
       "    </tr>\n",
       "    <tr>\n",
       "      <th>3</th>\n",
       "      <td>jung</td>\n",
       "      <td>25.0</td>\n",
       "      <td>3333-1111</td>\n",
       "      <td>수원</td>\n",
       "    </tr>\n",
       "  </tbody>\n",
       "</table>\n",
       "</div>"
      ],
      "text/plain": [
       "   name   age      phone address\n",
       "1   lee  30.0  2222-1111      서울\n",
       "3  jung  25.0  3333-1111      수원"
      ]
     },
     "execution_count": 581,
     "metadata": {},
     "output_type": "execute_result"
    }
   ],
   "source": [
    "df"
   ]
  },
  {
   "cell_type": "code",
   "execution_count": 611,
   "id": "3ba80978-409e-45b3-8c87-5813bae5d6b1",
   "metadata": {},
   "outputs": [],
   "source": [
    "df = pd.DataFrame([['kim',20,'1111-2222','서울'],\n",
    "             ['lee',30,'2222-1111',np.nan],\n",
    "             ['park',35,'3333-2222','수원'],\n",
    "              ['jung',25,'3333-1111',np.nan],\n",
    "                   ['hong',40,\"1111-3333\",'서울']\n",
    "             ])\n",
    "df.columns = [\"name\",\"age\",\"tel\",\"address\"]\n",
    "\n",
    "df.loc[5,:] = [np.nan, np.nan, np.nan, np.nan]"
   ]
  },
  {
   "cell_type": "code",
   "execution_count": 613,
   "id": "f8e65210-feb0-4279-bcd4-ba2fffaefb25",
   "metadata": {},
   "outputs": [
    {
     "name": "stdout",
     "output_type": "stream",
     "text": [
      "   name   age        tel address  income\n",
      "0   kim  20.0  1111-2222      서울   300.0\n",
      "1   lee  30.0  2222-1111     NaN     NaN\n",
      "2  park  35.0  3333-2222      수원   400.0\n",
      "3  jung  25.0  3333-1111     NaN   500.0\n",
      "4  hong  40.0  1111-3333      서울     NaN\n",
      "5   NaN   NaN        NaN     NaN   300.0\n"
     ]
    }
   ],
   "source": [
    "df['income'] = [300, np.nan, 400, 500, np.nan,300] \n",
    "print(df)"
   ]
  },
  {
   "cell_type": "code",
   "execution_count": 617,
   "id": "70930c28-6ce5-4da3-88bb-fa572bc0e626",
   "metadata": {},
   "outputs": [],
   "source": [
    "df.fillna({'address':\"서울\"},inplace=True)"
   ]
  },
  {
   "cell_type": "code",
   "execution_count": 619,
   "id": "1f405048-de10-48c2-800c-9683f1212841",
   "metadata": {},
   "outputs": [
    {
     "data": {
      "text/html": [
       "<div>\n",
       "<style scoped>\n",
       "    .dataframe tbody tr th:only-of-type {\n",
       "        vertical-align: middle;\n",
       "    }\n",
       "\n",
       "    .dataframe tbody tr th {\n",
       "        vertical-align: top;\n",
       "    }\n",
       "\n",
       "    .dataframe thead th {\n",
       "        text-align: right;\n",
       "    }\n",
       "</style>\n",
       "<table border=\"1\" class=\"dataframe\">\n",
       "  <thead>\n",
       "    <tr style=\"text-align: right;\">\n",
       "      <th></th>\n",
       "      <th>name</th>\n",
       "      <th>age</th>\n",
       "      <th>tel</th>\n",
       "      <th>address</th>\n",
       "      <th>income</th>\n",
       "    </tr>\n",
       "  </thead>\n",
       "  <tbody>\n",
       "    <tr>\n",
       "      <th>0</th>\n",
       "      <td>kim</td>\n",
       "      <td>20.0</td>\n",
       "      <td>1111-2222</td>\n",
       "      <td>서울</td>\n",
       "      <td>300.0</td>\n",
       "    </tr>\n",
       "    <tr>\n",
       "      <th>1</th>\n",
       "      <td>lee</td>\n",
       "      <td>30.0</td>\n",
       "      <td>2222-1111</td>\n",
       "      <td>서울</td>\n",
       "      <td>NaN</td>\n",
       "    </tr>\n",
       "    <tr>\n",
       "      <th>2</th>\n",
       "      <td>park</td>\n",
       "      <td>35.0</td>\n",
       "      <td>3333-2222</td>\n",
       "      <td>수원</td>\n",
       "      <td>400.0</td>\n",
       "    </tr>\n",
       "    <tr>\n",
       "      <th>3</th>\n",
       "      <td>jung</td>\n",
       "      <td>25.0</td>\n",
       "      <td>3333-1111</td>\n",
       "      <td>서울</td>\n",
       "      <td>500.0</td>\n",
       "    </tr>\n",
       "    <tr>\n",
       "      <th>4</th>\n",
       "      <td>hong</td>\n",
       "      <td>40.0</td>\n",
       "      <td>1111-3333</td>\n",
       "      <td>서울</td>\n",
       "      <td>NaN</td>\n",
       "    </tr>\n",
       "    <tr>\n",
       "      <th>5</th>\n",
       "      <td>NaN</td>\n",
       "      <td>NaN</td>\n",
       "      <td>NaN</td>\n",
       "      <td>서울</td>\n",
       "      <td>300.0</td>\n",
       "    </tr>\n",
       "  </tbody>\n",
       "</table>\n",
       "</div>"
      ],
      "text/plain": [
       "   name   age        tel address  income\n",
       "0   kim  20.0  1111-2222      서울   300.0\n",
       "1   lee  30.0  2222-1111      서울     NaN\n",
       "2  park  35.0  3333-2222      수원   400.0\n",
       "3  jung  25.0  3333-1111      서울   500.0\n",
       "4  hong  40.0  1111-3333      서울     NaN\n",
       "5   NaN   NaN        NaN      서울   300.0"
      ]
     },
     "execution_count": 619,
     "metadata": {},
     "output_type": "execute_result"
    }
   ],
   "source": [
    "df"
   ]
  },
  {
   "cell_type": "code",
   "execution_count": 623,
   "id": "252104db-9974-4c1d-9e94-ddbffc2f94ff",
   "metadata": {},
   "outputs": [],
   "source": [
    "df.fillna({'income':np.mean(df['income'])},inplace=True)"
   ]
  },
  {
   "cell_type": "code",
   "execution_count": 627,
   "id": "dc573338-908d-4350-a57d-ecb25d79c528",
   "metadata": {},
   "outputs": [],
   "source": [
    "df.drop([4,5],inplace=True)"
   ]
  },
  {
   "cell_type": "code",
   "execution_count": 629,
   "id": "daa5d77a-3439-4fdc-9087-d939e6c6736f",
   "metadata": {},
   "outputs": [],
   "source": [
    "df.drop(['address','income'],axis=1,inplace=True)"
   ]
  },
  {
   "cell_type": "code",
   "execution_count": 631,
   "id": "b51d2d53-da6e-4199-95fb-765f4e2a868f",
   "metadata": {},
   "outputs": [
    {
     "data": {
      "text/html": [
       "<div>\n",
       "<style scoped>\n",
       "    .dataframe tbody tr th:only-of-type {\n",
       "        vertical-align: middle;\n",
       "    }\n",
       "\n",
       "    .dataframe tbody tr th {\n",
       "        vertical-align: top;\n",
       "    }\n",
       "\n",
       "    .dataframe thead th {\n",
       "        text-align: right;\n",
       "    }\n",
       "</style>\n",
       "<table border=\"1\" class=\"dataframe\">\n",
       "  <thead>\n",
       "    <tr style=\"text-align: right;\">\n",
       "      <th></th>\n",
       "      <th>name</th>\n",
       "      <th>age</th>\n",
       "      <th>tel</th>\n",
       "    </tr>\n",
       "  </thead>\n",
       "  <tbody>\n",
       "    <tr>\n",
       "      <th>0</th>\n",
       "      <td>kim</td>\n",
       "      <td>20.0</td>\n",
       "      <td>1111-2222</td>\n",
       "    </tr>\n",
       "    <tr>\n",
       "      <th>1</th>\n",
       "      <td>lee</td>\n",
       "      <td>30.0</td>\n",
       "      <td>2222-1111</td>\n",
       "    </tr>\n",
       "    <tr>\n",
       "      <th>2</th>\n",
       "      <td>park</td>\n",
       "      <td>35.0</td>\n",
       "      <td>3333-2222</td>\n",
       "    </tr>\n",
       "    <tr>\n",
       "      <th>3</th>\n",
       "      <td>jung</td>\n",
       "      <td>25.0</td>\n",
       "      <td>3333-1111</td>\n",
       "    </tr>\n",
       "  </tbody>\n",
       "</table>\n",
       "</div>"
      ],
      "text/plain": [
       "   name   age        tel\n",
       "0   kim  20.0  1111-2222\n",
       "1   lee  30.0  2222-1111\n",
       "2  park  35.0  3333-2222\n",
       "3  jung  25.0  3333-1111"
      ]
     },
     "execution_count": 631,
     "metadata": {},
     "output_type": "execute_result"
    }
   ],
   "source": [
    "df"
   ]
  },
  {
   "cell_type": "code",
   "execution_count": 633,
   "id": "1b6cfff4-2e53-4cae-9bdc-7dc193026948",
   "metadata": {},
   "outputs": [
    {
     "name": "stdout",
     "output_type": "stream",
     "text": [
      "              0          1          2          3\n",
      "name        kim        lee       park       jung\n",
      "age        20.0       30.0       35.0       25.0\n",
      "tel   1111-2222  2222-1111  3333-2222  3333-1111\n"
     ]
    }
   ],
   "source": [
    "print(df.T)"
   ]
  },
  {
   "cell_type": "code",
   "execution_count": 635,
   "id": "571ba120-9dc1-49ee-bbcc-45f54961c5c7",
   "metadata": {},
   "outputs": [
    {
     "name": "stdout",
     "output_type": "stream",
     "text": [
      "              0          1          2          3\n",
      "name        kim        lee       park       jung\n",
      "age        20.0       30.0       35.0       25.0\n",
      "tel   1111-2222  2222-1111  3333-2222  3333-1111\n"
     ]
    }
   ],
   "source": [
    "print(df.transpose())"
   ]
  },
  {
   "cell_type": "code",
   "execution_count": 647,
   "id": "893d2334-e460-425a-9a74-965fb7eb0d23",
   "metadata": {},
   "outputs": [
    {
     "data": {
      "text/plain": [
       "27.5"
      ]
     },
     "execution_count": 647,
     "metadata": {},
     "output_type": "execute_result"
    }
   ],
   "source": [
    "np.mean(df[\"age\"])"
   ]
  },
  {
   "cell_type": "code",
   "execution_count": 655,
   "id": "c79690e2-1c76-4019-a8fd-34f7200110f1",
   "metadata": {},
   "outputs": [],
   "source": [
    "df = pd.DataFrame([['kim',90,80,70],['lee',45,np.nan,55],['park',76,77,83],['hong',np.nan,np.nan,77],['kang',35,58,52],['jang',np.nan,np.nan,np.nan]],columns=['name','kor','eng','mat'])"
   ]
  },
  {
   "cell_type": "code",
   "execution_count": 671,
   "id": "63176658-d4da-468b-ab6b-e860b7a8b427",
   "metadata": {},
   "outputs": [
    {
     "name": "stdout",
     "output_type": "stream",
     "text": [
      "   name   kor   eng   mat\n",
      "0   kim  90.0  80.0  70.0\n",
      "1   lee  45.0   NaN  55.0\n",
      "2  park  76.0  77.0  83.0\n",
      "3  hong   NaN   NaN  77.0\n",
      "4  kang  35.0  58.0  52.0\n",
      "5  jang   NaN   NaN   NaN\n",
      "name    6\n",
      "kor     4\n",
      "eng     3\n",
      "mat     5\n",
      "dtype: int64\n",
      "0    4\n",
      "1    3\n",
      "2    4\n",
      "3    2\n",
      "4    4\n",
      "5    1\n",
      "dtype: int64\n",
      "name    hong\n",
      "kor     35.0\n",
      "eng     58.0\n",
      "mat     52.0\n",
      "dtype: object\n",
      "name    park\n",
      "kor     90.0\n",
      "eng     80.0\n",
      "mat     83.0\n",
      "dtype: object\n",
      "kor    35.0\n",
      "eng    58.0\n",
      "dtype: float64\n"
     ]
    }
   ],
   "source": [
    "print(df)\n",
    "print(df.count())\n",
    "print(df.count(axis=1))\n",
    "print(df.min())\n",
    "print(df.max())\n",
    "print(df.loc[:,'kor':'eng'].min())"
   ]
  },
  {
   "cell_type": "code",
   "execution_count": 697,
   "id": "8751c96a-ceeb-4055-b365-72ecc7c26508",
   "metadata": {},
   "outputs": [
    {
     "name": "stdout",
     "output_type": "stream",
     "text": [
      "kor    61.500000\n",
      "eng    71.666667\n",
      "mat    67.400000\n",
      "dtype: float64\n",
      "0    80.000000\n",
      "1    50.000000\n",
      "2    78.666667\n",
      "3    77.000000\n",
      "4    48.333333\n",
      "5          NaN\n",
      "dtype: float64\n"
     ]
    }
   ],
   "source": [
    "print(df.loc[:,'kor':].mean())\n",
    "print(df.loc[:,'kor':].mean(axis=1))"
   ]
  },
  {
   "cell_type": "code",
   "execution_count": 707,
   "id": "8505e4b5-16aa-46a3-b26e-1f5cbe1387c2",
   "metadata": {},
   "outputs": [
    {
     "name": "stdout",
     "output_type": "stream",
     "text": [
      "name    kimleeparkhongkangjang\n",
      "kor                      246.0\n",
      "eng                      215.0\n",
      "mat                      337.0\n",
      "dtype: object\n",
      "kor    246.0\n",
      "eng    215.0\n",
      "mat    337.0\n",
      "dtype: float64\n"
     ]
    }
   ],
   "source": [
    "print(df.sum())\n",
    "print(df.loc[:,'kor':'mat'].sum())"
   ]
  },
  {
   "cell_type": "code",
   "execution_count": 713,
   "id": "057e4c09-1b12-4969-8f18-161ffc30c4a1",
   "metadata": {},
   "outputs": [
    {
     "name": "stdout",
     "output_type": "stream",
     "text": [
      "kor    60.5\n",
      "eng    77.0\n",
      "mat    70.0\n",
      "dtype: float64\n"
     ]
    }
   ],
   "source": [
    "print(df.loc[:,'kor':'mat'].median())"
   ]
  },
  {
   "cell_type": "code",
   "execution_count": 715,
   "id": "f6757cb7-86ed-4b76-a118-a2f7cb01ad99",
   "metadata": {},
   "outputs": [
    {
     "name": "stdout",
     "output_type": "stream",
     "text": [
      "                     name    kor    eng    mat\n",
      "0                     kim   90.0   80.0   70.0\n",
      "1                  kimlee  135.0    NaN  125.0\n",
      "2              kimleepark  211.0  157.0  208.0\n",
      "3          kimleeparkhong    NaN    NaN  285.0\n",
      "4      kimleeparkhongkang  246.0  215.0  337.0\n",
      "5  kimleeparkhongkangjang    NaN    NaN    NaN\n"
     ]
    }
   ],
   "source": [
    "print(df.cumsum())"
   ]
  },
  {
   "cell_type": "code",
   "execution_count": 727,
   "id": "793ccd83-ccb9-4abc-94ae-4f2141e7f7ae",
   "metadata": {},
   "outputs": [
    {
     "name": "stdout",
     "output_type": "stream",
     "text": [
      "kor    60.5\n",
      "eng    77.0\n",
      "mat    70.0\n",
      "dtype: float64\n",
      "kor    665.666667\n",
      "eng    142.333333\n",
      "mat    183.300000\n",
      "dtype: float64\n",
      "kor    25.800517\n",
      "eng    11.930353\n",
      "mat    13.538833\n",
      "dtype: float64\n"
     ]
    }
   ],
   "source": [
    "print(df.loc[:,'kor':'mat'].median())\n",
    "#print(df.loc[:,'kor':'mat'].mad())\n",
    "print(df.loc[:,'kor':'mat'].var())\n",
    "print(df.loc[:,'kor':'mat'].std())"
   ]
  },
  {
   "cell_type": "code",
   "execution_count": 731,
   "id": "8978bc5c-0482-42cb-98eb-e08d7eb565ba",
   "metadata": {},
   "outputs": [],
   "source": [
    "df['tot'] = df.loc[:,'kor':'mat'].sum( axis=1 )"
   ]
  },
  {
   "cell_type": "code",
   "execution_count": 735,
   "id": "a278f7fc-c78f-48b1-a9e5-6afaa06e37dc",
   "metadata": {},
   "outputs": [
    {
     "name": "stdout",
     "output_type": "stream",
     "text": [
      "   name   kor   eng   mat    tot\n",
      "0   kim  90.0  80.0  70.0  240.0\n",
      "1   lee  45.0   NaN  55.0  100.0\n",
      "2  park  76.0  77.0  83.0  236.0\n",
      "3  hong   NaN   NaN  77.0   77.0\n",
      "4  kang  35.0  58.0  52.0  145.0\n",
      "5  jang   NaN   NaN   NaN    0.0\n"
     ]
    }
   ],
   "source": [
    "print(df.transpose().T)"
   ]
  },
  {
   "cell_type": "code",
   "execution_count": 737,
   "id": "5a7ce69f-3707-41d0-a4a3-3ef082d023ef",
   "metadata": {},
   "outputs": [],
   "source": [
    "df['avg'] = df.loc[:,'kor':'mat'].mean(axis=1)"
   ]
  },
  {
   "cell_type": "code",
   "execution_count": 743,
   "id": "5f917192-d103-4541-9002-36e036d6d425",
   "metadata": {},
   "outputs": [
    {
     "name": "stdout",
     "output_type": "stream",
     "text": [
      "0.9926458576614517\n"
     ]
    }
   ],
   "source": [
    "print(df['kor'].corr(df['eng']))"
   ]
  },
  {
   "cell_type": "code",
   "execution_count": null,
   "id": "7c9282c8-24f2-493a-9f83-71c1bb469ec3",
   "metadata": {},
   "outputs": [],
   "source": []
  }
 ],
 "metadata": {
  "kernelspec": {
   "display_name": "Python 3 (ipykernel)",
   "language": "python",
   "name": "python3"
  },
  "language_info": {
   "codemirror_mode": {
    "name": "ipython",
    "version": 3
   },
   "file_extension": ".py",
   "mimetype": "text/x-python",
   "name": "python",
   "nbconvert_exporter": "python",
   "pygments_lexer": "ipython3",
   "version": "3.12.4"
  }
 },
 "nbformat": 4,
 "nbformat_minor": 5
}
