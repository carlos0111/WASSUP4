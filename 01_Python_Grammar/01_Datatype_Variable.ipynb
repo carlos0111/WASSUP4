{
 "cells": [
  {
   "cell_type": "markdown",
   "id": "b5e36fcd-1cf9-46bc-a0f8-4ace5c64a5d1",
   "metadata": {},
   "source": [
    "# 변수와 자료형"
   ]
  },
  {
   "cell_type": "markdown",
   "id": "785e67cc-bfd1-4f03-a792-221f8bad31d8",
   "metadata": {},
   "source": [
    "## 자료형의 값을 저장하는 공간, 변수"
   ]
  },
  {
   "cell_type": "code",
   "execution_count": 6,
   "id": "b00be95c-8058-4dac-9cd3-9ac8f2a2ac3d",
   "metadata": {},
   "outputs": [],
   "source": [
    "a = 1"
   ]
  },
  {
   "cell_type": "code",
   "execution_count": 8,
   "id": "449643a1-1daf-474d-9b20-873ff69b7c8b",
   "metadata": {},
   "outputs": [
    {
     "data": {
      "text/plain": [
       "1"
      ]
     },
     "execution_count": 8,
     "metadata": {},
     "output_type": "execute_result"
    }
   ],
   "source": [
    "a"
   ]
  },
  {
   "cell_type": "code",
   "execution_count": 10,
   "id": "8719a1ce-c30c-491c-b70d-ef780231099f",
   "metadata": {},
   "outputs": [],
   "source": [
    "b= 'python'"
   ]
  },
  {
   "cell_type": "code",
   "execution_count": 12,
   "id": "b18d8d28-7b90-41dd-bdb4-8063fa8f53d4",
   "metadata": {},
   "outputs": [
    {
     "data": {
      "text/plain": [
       "'python'"
      ]
     },
     "execution_count": 12,
     "metadata": {},
     "output_type": "execute_result"
    }
   ],
   "source": [
    "b"
   ]
  },
  {
   "cell_type": "code",
   "execution_count": 14,
   "id": "9b7d8095-58b1-4165-b958-9aed4800316b",
   "metadata": {},
   "outputs": [
    {
     "data": {
      "text/plain": [
       "(1, 'python')"
      ]
     },
     "execution_count": 14,
     "metadata": {},
     "output_type": "execute_result"
    }
   ],
   "source": [
    "a,b"
   ]
  },
  {
   "cell_type": "code",
   "execution_count": 16,
   "id": "c7282f81-7f21-40b7-bcbb-b8e74fbcf9b5",
   "metadata": {},
   "outputs": [
    {
     "data": {
      "text/plain": [
       "[1, 2, 3]"
      ]
     },
     "execution_count": 16,
     "metadata": {},
     "output_type": "execute_result"
    }
   ],
   "source": [
    "c = [1,2,3]\n",
    "c"
   ]
  },
  {
   "cell_type": "markdown",
   "id": "c7b1dcd1-f54b-4c7d-b73f-1ed49f8bf178",
   "metadata": {},
   "source": [
    "## 숫자형"
   ]
  },
  {
   "cell_type": "code",
   "execution_count": 21,
   "id": "1c8efb2d-8518-4f36-aa5a-0b2b13e0b9c8",
   "metadata": {},
   "outputs": [
    {
     "data": {
      "text/plain": [
       "123"
      ]
     },
     "execution_count": 21,
     "metadata": {},
     "output_type": "execute_result"
    }
   ],
   "source": [
    "a = 123\n",
    "a\n"
   ]
  },
  {
   "cell_type": "code",
   "execution_count": 23,
   "id": "db9484e0-ce6b-445b-9537-44be93f1ffb3",
   "metadata": {},
   "outputs": [
    {
     "data": {
      "text/plain": [
       "-178"
      ]
     },
     "execution_count": 23,
     "metadata": {},
     "output_type": "execute_result"
    }
   ],
   "source": [
    "a = -178\n",
    "a"
   ]
  },
  {
   "cell_type": "code",
   "execution_count": 25,
   "id": "76b7ea7c-0cf1-4e80-92b0-9e07f164fbac",
   "metadata": {},
   "outputs": [
    {
     "data": {
      "text/plain": [
       "(1.2, -3.45)"
      ]
     },
     "execution_count": 25,
     "metadata": {},
     "output_type": "execute_result"
    }
   ],
   "source": [
    "a = 1.2\n",
    "b = -3.45\n",
    "a, b"
   ]
  },
  {
   "cell_type": "code",
   "execution_count": 27,
   "id": "7b3d88f1-b4e8-4a71-b370-7d8df4659448",
   "metadata": {},
   "outputs": [],
   "source": [
    "a = 4.24E10\n",
    "b = 4.24e-10"
   ]
  },
  {
   "cell_type": "code",
   "execution_count": 29,
   "id": "36b11d26-718b-41a7-b210-75d9f49d998a",
   "metadata": {},
   "outputs": [
    {
     "data": {
      "text/plain": [
       "(42400000000.0, 4.24e-10)"
      ]
     },
     "execution_count": 29,
     "metadata": {},
     "output_type": "execute_result"
    }
   ],
   "source": [
    "a,b"
   ]
  },
  {
   "cell_type": "code",
   "execution_count": 31,
   "id": "bce57ef3-2f94-49d4-8066-99307513a4d2",
   "metadata": {},
   "outputs": [],
   "source": [
    "a = 0o177"
   ]
  },
  {
   "cell_type": "code",
   "execution_count": 33,
   "id": "18bd699a-9b1d-4394-9069-8a924f9698a9",
   "metadata": {},
   "outputs": [
    {
     "data": {
      "text/plain": [
       "127"
      ]
     },
     "execution_count": 33,
     "metadata": {},
     "output_type": "execute_result"
    }
   ],
   "source": [
    "a"
   ]
  },
  {
   "cell_type": "code",
   "execution_count": 35,
   "id": "46997ea9-ccc2-409a-a64e-4308ae42f6b6",
   "metadata": {},
   "outputs": [],
   "source": [
    "a  =0x8ff"
   ]
  },
  {
   "cell_type": "code",
   "execution_count": 37,
   "id": "f5787dc9-d6c7-4d9e-a66b-748318535a3a",
   "metadata": {},
   "outputs": [
    {
     "data": {
      "text/plain": [
       "2303"
      ]
     },
     "execution_count": 37,
     "metadata": {},
     "output_type": "execute_result"
    }
   ],
   "source": [
    "a"
   ]
  },
  {
   "cell_type": "markdown",
   "id": "a877ca79-6493-4bd7-ad18-396867feec9f",
   "metadata": {},
   "source": [
    "# 연산자"
   ]
  },
  {
   "cell_type": "code",
   "execution_count": 42,
   "id": "a07c9db1-6fe0-4a9f-b0e3-230d34107b29",
   "metadata": {},
   "outputs": [
    {
     "data": {
      "text/plain": [
       "7"
      ]
     },
     "execution_count": 42,
     "metadata": {},
     "output_type": "execute_result"
    }
   ],
   "source": [
    "a=3\n",
    "b=4\n",
    "a+b"
   ]
  },
  {
   "cell_type": "code",
   "execution_count": 44,
   "id": "e09ab06b-55fa-4301-849a-2dbe8dbf8537",
   "metadata": {},
   "outputs": [
    {
     "data": {
      "text/plain": [
       "(-1, 12, 0.75)"
      ]
     },
     "execution_count": 44,
     "metadata": {},
     "output_type": "execute_result"
    }
   ],
   "source": [
    "a-b, a*b , a/b"
   ]
  },
  {
   "cell_type": "code",
   "execution_count": 46,
   "id": "a6d09a94-115c-4c6b-9bd1-0eb15d29ce1b",
   "metadata": {},
   "outputs": [
    {
     "data": {
      "text/plain": [
       "81"
      ]
     },
     "execution_count": 46,
     "metadata": {},
     "output_type": "execute_result"
    }
   ],
   "source": [
    "# x의 Y 제곱을 나타내는 ** 연산자\n",
    "a ** b"
   ]
  },
  {
   "cell_type": "code",
   "execution_count": 50,
   "id": "f6893336-1c3d-4848-9954-789110cd21a2",
   "metadata": {},
   "outputs": [
    {
     "data": {
      "text/plain": [
       "(1, 3)"
      ]
     },
     "execution_count": 50,
     "metadata": {},
     "output_type": "execute_result"
    }
   ],
   "source": [
    "# 나눗셈 후 나머지를 리턴\n",
    "7%3, 3%7"
   ]
  },
  {
   "cell_type": "code",
   "execution_count": 52,
   "id": "4366ee5f-718a-428a-8e6d-60e4128b3606",
   "metadata": {},
   "outputs": [
    {
     "data": {
      "text/plain": [
       "1"
      ]
     },
     "execution_count": 52,
     "metadata": {},
     "output_type": "execute_result"
    }
   ],
   "source": [
    "# 나눗셈 후 몫을 리턴\n",
    "7//4"
   ]
  },
  {
   "cell_type": "code",
   "execution_count": 56,
   "id": "d49b226d-5452-45f6-8a2c-354645c4d2f6",
   "metadata": {},
   "outputs": [],
   "source": [
    "# 복합 연산자\n",
    "a = a + 1"
   ]
  },
  {
   "cell_type": "code",
   "execution_count": 58,
   "id": "e21effd4-9951-41c4-82fb-09d1a469a2c5",
   "metadata": {},
   "outputs": [
    {
     "data": {
      "text/plain": [
       "4"
      ]
     },
     "execution_count": 58,
     "metadata": {},
     "output_type": "execute_result"
    }
   ],
   "source": [
    "a"
   ]
  },
  {
   "cell_type": "code",
   "execution_count": 60,
   "id": "4be60a83-5f50-421d-9269-4f6919119fec",
   "metadata": {},
   "outputs": [],
   "source": [
    "a += 1"
   ]
  },
  {
   "cell_type": "code",
   "execution_count": 62,
   "id": "6bc4f809-ee39-4ef1-9874-216f4552f815",
   "metadata": {},
   "outputs": [
    {
     "data": {
      "text/plain": [
       "5"
      ]
     },
     "execution_count": 62,
     "metadata": {},
     "output_type": "execute_result"
    }
   ],
   "source": [
    "a"
   ]
  },
  {
   "cell_type": "code",
   "execution_count": 64,
   "id": "7b8424bf-df67-48db-a016-43db5989ddd7",
   "metadata": {},
   "outputs": [],
   "source": [
    "a -= 1"
   ]
  },
  {
   "cell_type": "code",
   "execution_count": 66,
   "id": "364c25a1-78d8-4212-81c4-09df27516a1e",
   "metadata": {},
   "outputs": [
    {
     "data": {
      "text/plain": [
       "4"
      ]
     },
     "execution_count": 66,
     "metadata": {},
     "output_type": "execute_result"
    }
   ],
   "source": [
    "a"
   ]
  },
  {
   "cell_type": "markdown",
   "id": "58e3d979-5304-45f1-aaec-0230b94a06b0",
   "metadata": {},
   "source": [
    "# 문자열\n",
    "\"Life is too short, You need Python\""
   ]
  },
  {
   "cell_type": "code",
   "execution_count": 71,
   "id": "4a66b70b-6aaf-4f3c-8fc3-7c625da08b7a",
   "metadata": {},
   "outputs": [
    {
     "data": {
      "text/plain": [
       "'hello world'"
      ]
     },
     "execution_count": 71,
     "metadata": {},
     "output_type": "execute_result"
    }
   ],
   "source": [
    "\"hello world\""
   ]
  },
  {
   "cell_type": "code",
   "execution_count": 73,
   "id": "61f40608-2bc0-4d48-a852-3bb44958389d",
   "metadata": {},
   "outputs": [
    {
     "data": {
      "text/plain": [
       "'python is fun'"
      ]
     },
     "execution_count": 73,
     "metadata": {},
     "output_type": "execute_result"
    }
   ],
   "source": [
    "'python is fun'"
   ]
  },
  {
   "cell_type": "code",
   "execution_count": 75,
   "id": "9896c523-ee11-49e2-97e5-dcc492abb391",
   "metadata": {},
   "outputs": [
    {
     "data": {
      "text/plain": [
       "' Life is too short, You need python'"
      ]
     },
     "execution_count": 75,
     "metadata": {},
     "output_type": "execute_result"
    }
   ],
   "source": [
    "\"\"\" Life is too short, You need python\"\"\""
   ]
  },
  {
   "cell_type": "code",
   "execution_count": 77,
   "id": "b9e590dc-c86a-4a12-9716-c4822608c8a7",
   "metadata": {},
   "outputs": [
    {
     "data": {
      "text/plain": [
       "' Life is too short, You need python '"
      ]
     },
     "execution_count": 77,
     "metadata": {},
     "output_type": "execute_result"
    }
   ],
   "source": [
    "''' Life is too short, You need python '''"
   ]
  },
  {
   "cell_type": "code",
   "execution_count": 81,
   "id": "642620b7-aa25-4e85-a133-918a5dc4a548",
   "metadata": {},
   "outputs": [
    {
     "data": {
      "text/plain": [
       "\"Python's favorite food is perl\""
      ]
     },
     "execution_count": 81,
     "metadata": {},
     "output_type": "execute_result"
    }
   ],
   "source": [
    "\"Python's favorite food is perl\""
   ]
  },
  {
   "cell_type": "code",
   "execution_count": 83,
   "id": "7b254872-d6f5-4207-bd3b-7b28403a89a4",
   "metadata": {},
   "outputs": [
    {
     "data": {
      "text/plain": [
       "'\"Python is very easy.\"he says.'"
      ]
     },
     "execution_count": 83,
     "metadata": {},
     "output_type": "execute_result"
    }
   ],
   "source": [
    "'\"Python is very easy.\"he says.'"
   ]
  },
  {
   "cell_type": "markdown",
   "id": "ab760b72-c1b2-4e0b-90ef-4a499dd7e789",
   "metadata": {},
   "source": [
    "### 3. 역 슬래시를 사용해서 작은 따옴표와 큰따옴표를 문자열에 포함하기\n",
    "food = 'Python\\'s favoirite food is perl'   \n",
    "say = \"\\\"Python is very easy.\\\" he says.\""
   ]
  },
  {
   "cell_type": "code",
   "execution_count": 91,
   "id": "d3620b3e-3cbd-4e1a-bef7-b8dc00e8ea29",
   "metadata": {},
   "outputs": [],
   "source": [
    "food ='Python\\'s favoirte food is perl'"
   ]
  },
  {
   "cell_type": "code",
   "execution_count": 93,
   "id": "131d060a-aa8e-440d-87c0-754c32564d07",
   "metadata": {},
   "outputs": [
    {
     "data": {
      "text/plain": [
       "\"Python's favoirte food is perl\""
      ]
     },
     "execution_count": 93,
     "metadata": {},
     "output_type": "execute_result"
    }
   ],
   "source": [
    "food"
   ]
  },
  {
   "cell_type": "code",
   "execution_count": 95,
   "id": "faa92bc1-d499-465f-834c-17ca884a97a0",
   "metadata": {},
   "outputs": [],
   "source": [
    "say = \"\\\"Python is verty easy,\\\" he says.\""
   ]
  },
  {
   "cell_type": "code",
   "execution_count": 97,
   "id": "ffb2639c-0acf-45b3-a7e4-711b1ab1c75d",
   "metadata": {},
   "outputs": [
    {
     "data": {
      "text/plain": [
       "'\"Python is verty easy,\" he says.'"
      ]
     },
     "execution_count": 97,
     "metadata": {},
     "output_type": "execute_result"
    }
   ],
   "source": [
    "say"
   ]
  },
  {
   "cell_type": "code",
   "execution_count": 117,
   "id": "b51b436c-aedf-4a76-80c8-87670fd11f0e",
   "metadata": {},
   "outputs": [],
   "source": [
    "a = 'Life is too short\\nYou need python'"
   ]
  },
  {
   "cell_type": "code",
   "execution_count": 119,
   "id": "d2976433-ea68-4afe-b7bd-07d1af34b451",
   "metadata": {},
   "outputs": [
    {
     "data": {
      "text/plain": [
       "'Life is too short\\nYou need python'"
      ]
     },
     "execution_count": 119,
     "metadata": {},
     "output_type": "execute_result"
    }
   ],
   "source": [
    "a\n"
   ]
  },
  {
   "cell_type": "code",
   "execution_count": 123,
   "id": "9d555025-69fe-4898-ad71-1c9f94e89770",
   "metadata": {},
   "outputs": [
    {
     "name": "stdout",
     "output_type": "stream",
     "text": [
      "Life is too short\n",
      "You need python\n"
     ]
    }
   ],
   "source": [
    "print(a)"
   ]
  },
  {
   "cell_type": "code",
   "execution_count": 129,
   "id": "86d6a412-756c-4711-acc1-ffd895cbb5ed",
   "metadata": {},
   "outputs": [],
   "source": [
    "a = ''' \n",
    "Life is too short\n",
    "You need python\n",
    "'''"
   ]
  },
  {
   "cell_type": "code",
   "execution_count": 131,
   "id": "6672eb93-26a2-4017-9363-bea2547e8693",
   "metadata": {},
   "outputs": [
    {
     "name": "stdout",
     "output_type": "stream",
     "text": [
      " \n",
      "Life is too short\n",
      "You need python\n",
      "\n"
     ]
    }
   ],
   "source": [
    "print(a)"
   ]
  },
  {
   "cell_type": "code",
   "execution_count": 141,
   "id": "637d5587-98ac-4f80-86b4-7bc8177e05da",
   "metadata": {},
   "outputs": [
    {
     "data": {
      "text/plain": [
       "'ython is unn!'"
      ]
     },
     "execution_count": 141,
     "metadata": {},
     "output_type": "execute_result"
    }
   ],
   "source": [
    "head = \"ython\"\n",
    "tail  = \" is unn!\"\n",
    "head + tail"
   ]
  },
  {
   "cell_type": "code",
   "execution_count": 143,
   "id": "dda2264b-600c-449e-977d-61e6e7d97f1c",
   "metadata": {},
   "outputs": [
    {
     "data": {
      "text/plain": [
       "'ythonython'"
      ]
     },
     "execution_count": 143,
     "metadata": {},
     "output_type": "execute_result"
    }
   ],
   "source": [
    "head*2"
   ]
  },
  {
   "cell_type": "code",
   "execution_count": 145,
   "id": "bf601051-31e9-4cc8-94ad-eba718abfa0d",
   "metadata": {},
   "outputs": [
    {
     "data": {
      "text/plain": [
       "17"
      ]
     },
     "execution_count": 145,
     "metadata": {},
     "output_type": "execute_result"
    }
   ],
   "source": [
    "a = \"Life is too short\"\n",
    "len(a)"
   ]
  },
  {
   "cell_type": "code",
   "execution_count": 150,
   "id": "94e19063-8181-49c7-aade-b2f2c1bfe1d4",
   "metadata": {},
   "outputs": [
    {
     "name": "stdout",
     "output_type": "stream",
     "text": [
      "==================================================\n",
      "My Program\n",
      "==================================================\n"
     ]
    }
   ],
   "source": [
    "print(\"=\"*50)\n",
    "print(\"My Program\")\n",
    "print(\"=\"*50)"
   ]
  },
  {
   "cell_type": "code",
   "execution_count": 152,
   "id": "0452b54c-043f-4f89-a6b0-9015e54e431c",
   "metadata": {},
   "outputs": [],
   "source": [
    "r = \"Life si too short, You need Python\""
   ]
  },
  {
   "cell_type": "code",
   "execution_count": 154,
   "id": "4f3891fd-1f17-4f51-a1bf-d1ad95538da3",
   "metadata": {},
   "outputs": [
    {
     "data": {
      "text/plain": [
       "'f'"
      ]
     },
     "execution_count": 154,
     "metadata": {},
     "output_type": "execute_result"
    }
   ],
   "source": [
    "r[2]"
   ]
  },
  {
   "cell_type": "code",
   "execution_count": 160,
   "id": "013fb96d-3358-41ee-82d7-f703466c1c8b",
   "metadata": {},
   "outputs": [
    {
     "data": {
      "text/plain": [
       "','"
      ]
     },
     "execution_count": 160,
     "metadata": {},
     "output_type": "execute_result"
    }
   ],
   "source": [
    "r[17]"
   ]
  },
  {
   "cell_type": "code",
   "execution_count": 162,
   "id": "aeca2da9-a011-4e3c-a2a2-fdf02cfa3863",
   "metadata": {},
   "outputs": [
    {
     "data": {
      "text/plain": [
       "'n'"
      ]
     },
     "execution_count": 162,
     "metadata": {},
     "output_type": "execute_result"
    }
   ],
   "source": [
    "r[-1]"
   ]
  },
  {
   "cell_type": "code",
   "execution_count": 166,
   "id": "525136cf-e197-46a1-bb8e-35686b5ed863",
   "metadata": {},
   "outputs": [
    {
     "data": {
      "text/plain": [
       "'P'"
      ]
     },
     "execution_count": 166,
     "metadata": {},
     "output_type": "execute_result"
    }
   ],
   "source": [
    "r[-6]"
   ]
  },
  {
   "cell_type": "code",
   "execution_count": 170,
   "id": "ba499690-d08c-4044-a8a0-e1e055ba4c14",
   "metadata": {},
   "outputs": [
    {
     "data": {
      "text/plain": [
       "'L'"
      ]
     },
     "execution_count": 170,
     "metadata": {},
     "output_type": "execute_result"
    }
   ],
   "source": [
    "r[-0]"
   ]
  },
  {
   "cell_type": "code",
   "execution_count": 172,
   "id": "61c2dcaf-86c5-4549-9220-35760ebfb091",
   "metadata": {},
   "outputs": [
    {
     "data": {
      "text/plain": [
       "'Life'"
      ]
     },
     "execution_count": 172,
     "metadata": {},
     "output_type": "execute_result"
    }
   ],
   "source": [
    "r[0:4]"
   ]
  },
  {
   "cell_type": "code",
   "execution_count": 180,
   "id": "937286f8-5b70-4206-bfe7-e39ce1bdf300",
   "metadata": {},
   "outputs": [
    {
     "data": {
      "text/plain": [
       "'short, '"
      ]
     },
     "execution_count": 180,
     "metadata": {},
     "output_type": "execute_result"
    }
   ],
   "source": [
    "r[12:19]"
   ]
  },
  {
   "cell_type": "code",
   "execution_count": 182,
   "id": "4d812b0e-83d1-49ab-8d0a-22e9cb7a7b4a",
   "metadata": {},
   "outputs": [
    {
     "data": {
      "text/plain": [
       "'short, You need Python'"
      ]
     },
     "execution_count": 182,
     "metadata": {},
     "output_type": "execute_result"
    }
   ],
   "source": [
    "r[12:]"
   ]
  },
  {
   "cell_type": "code",
   "execution_count": 186,
   "id": "8a89aeae-32c0-41f5-807e-c946605ef2c9",
   "metadata": {},
   "outputs": [
    {
     "data": {
      "text/plain": [
       "'Life si too short'"
      ]
     },
     "execution_count": 186,
     "metadata": {},
     "output_type": "execute_result"
    }
   ],
   "source": [
    "r[:17]"
   ]
  },
  {
   "cell_type": "code",
   "execution_count": 190,
   "id": "436f8a64-156c-45e6-bbac-7674115ba70b",
   "metadata": {},
   "outputs": [
    {
     "data": {
      "text/plain": [
       "'Life si too short, You need Python'"
      ]
     },
     "execution_count": 190,
     "metadata": {},
     "output_type": "execute_result"
    }
   ],
   "source": [
    "r[:]"
   ]
  },
  {
   "cell_type": "code",
   "execution_count": 194,
   "id": "f10d81e7-0657-495c-9b7b-9545a568c4b8",
   "metadata": {},
   "outputs": [
    {
     "data": {
      "text/plain": [
       "'You need'"
      ]
     },
     "execution_count": 194,
     "metadata": {},
     "output_type": "execute_result"
    }
   ],
   "source": [
    "r[-15:-7]"
   ]
  },
  {
   "cell_type": "code",
   "execution_count": 196,
   "id": "49c789ea-725c-4fd6-9889-e4d683b73c45",
   "metadata": {},
   "outputs": [],
   "source": [
    "a = \"20240904Sunny\""
   ]
  },
  {
   "cell_type": "code",
   "execution_count": 198,
   "id": "50d76b64-6e9d-4263-ba75-00600a742622",
   "metadata": {},
   "outputs": [],
   "source": [
    "date = a[0:8]"
   ]
  },
  {
   "cell_type": "code",
   "execution_count": 200,
   "id": "07f7ca05-e20e-4947-b99d-bbb63f63a61b",
   "metadata": {},
   "outputs": [
    {
     "data": {
      "text/plain": [
       "'20240904'"
      ]
     },
     "execution_count": 200,
     "metadata": {},
     "output_type": "execute_result"
    }
   ],
   "source": [
    "date"
   ]
  },
  {
   "cell_type": "code",
   "execution_count": 202,
   "id": "e4cd866c-5b8b-4bdc-bd3c-e553e83784c3",
   "metadata": {},
   "outputs": [],
   "source": [
    "weather = a[8:13]"
   ]
  },
  {
   "cell_type": "code",
   "execution_count": 204,
   "id": "885e01af-f019-47fc-912a-29eabbb3f450",
   "metadata": {},
   "outputs": [
    {
     "data": {
      "text/plain": [
       "'Sunny'"
      ]
     },
     "execution_count": 204,
     "metadata": {},
     "output_type": "execute_result"
    }
   ],
   "source": [
    "weather"
   ]
  },
  {
   "cell_type": "code",
   "execution_count": 208,
   "id": "2232e36a-be71-4a61-af52-f0ac58a0a665",
   "metadata": {},
   "outputs": [
    {
     "data": {
      "text/plain": [
       "('2024', '0904')"
      ]
     },
     "execution_count": 208,
     "metadata": {},
     "output_type": "execute_result"
    }
   ],
   "source": [
    "a[:4],a[4:8]"
   ]
  },
  {
   "cell_type": "code",
   "execution_count": 210,
   "id": "8299091d-91a6-4872-a4de-6180d821d1a6",
   "metadata": {},
   "outputs": [],
   "source": [
    "a = \"pithon\""
   ]
  },
  {
   "cell_type": "code",
   "execution_count": 214,
   "id": "4d76577c-f69e-4804-8b1b-1c69f3a9d8e0",
   "metadata": {},
   "outputs": [
    {
     "ename": "TypeError",
     "evalue": "'str' object does not support item assignment",
     "output_type": "error",
     "traceback": [
      "\u001b[1;31m---------------------------------------------------------------------------\u001b[0m",
      "\u001b[1;31mTypeError\u001b[0m                                 Traceback (most recent call last)",
      "Cell \u001b[1;32mIn[214], line 1\u001b[0m\n\u001b[1;32m----> 1\u001b[0m a[\u001b[38;5;241m1\u001b[39m] \u001b[38;5;241m=\u001b[39m \u001b[38;5;124m'\u001b[39m\u001b[38;5;124my\u001b[39m\u001b[38;5;124m'\u001b[39m\n",
      "\u001b[1;31mTypeError\u001b[0m: 'str' object does not support item assignment"
     ]
    }
   ],
   "source": [
    "a[1] = 'y'"
   ]
  },
  {
   "cell_type": "code",
   "execution_count": 218,
   "id": "985f07e7-d1fb-4489-b72d-91b6f3a84e04",
   "metadata": {},
   "outputs": [
    {
     "data": {
      "text/plain": [
       "'python'"
      ]
     },
     "execution_count": 218,
     "metadata": {},
     "output_type": "execute_result"
    }
   ],
   "source": [
    "a[0]+\"y\"+a[2:6]"
   ]
  },
  {
   "cell_type": "code",
   "execution_count": 222,
   "id": "ba242657-aff0-4000-8c3c-3403bded071e",
   "metadata": {},
   "outputs": [
    {
     "data": {
      "text/plain": [
       "'I eat 3 apples'"
      ]
     },
     "execution_count": 222,
     "metadata": {},
     "output_type": "execute_result"
    }
   ],
   "source": [
    "\"I eat %d apples\"%3"
   ]
  },
  {
   "cell_type": "code",
   "execution_count": 224,
   "id": "7f08333f-7fc0-4d98-a499-13abcdb5beb7",
   "metadata": {},
   "outputs": [
    {
     "data": {
      "text/plain": [
       "'I eat five apples'"
      ]
     },
     "execution_count": 224,
     "metadata": {},
     "output_type": "execute_result"
    }
   ],
   "source": [
    "\"I eat %s apples\"%\"five\""
   ]
  },
  {
   "cell_type": "code",
   "execution_count": 226,
   "id": "e00a54a7-0d23-45f5-957c-851319f71185",
   "metadata": {},
   "outputs": [
    {
     "data": {
      "text/plain": [
       "'I ate 10 apple. so I was sick for three days.'"
      ]
     },
     "execution_count": 226,
     "metadata": {},
     "output_type": "execute_result"
    }
   ],
   "source": [
    "number =10\n",
    "day = \"three\"\n",
    "\"I ate %d apple. so I was sick for %s days.\"%(number, day)"
   ]
  },
  {
   "cell_type": "code",
   "execution_count": 228,
   "id": "8a466eed-5cb4-4bdb-8e04-9eaf2e5856c6",
   "metadata": {},
   "outputs": [],
   "source": [
    "#Error is 98%"
   ]
  },
  {
   "cell_type": "code",
   "execution_count": 234,
   "id": "1f54de69-bc7b-4354-9fd0-303f778b4071",
   "metadata": {},
   "outputs": [
    {
     "data": {
      "text/plain": [
       "'Error is 98%'"
      ]
     },
     "execution_count": 234,
     "metadata": {},
     "output_type": "execute_result"
    }
   ],
   "source": [
    "\"Error is %d%%\"%98"
   ]
  },
  {
   "cell_type": "code",
   "execution_count": 236,
   "id": "77785b2c-8036-4d6f-a49b-da83c4b42a3e",
   "metadata": {},
   "outputs": [
    {
     "data": {
      "text/plain": [
       "'3.42'"
      ]
     },
     "execution_count": 236,
     "metadata": {},
     "output_type": "execute_result"
    }
   ],
   "source": [
    "# 소수점 표현하기\n",
    "\"%0.2f\"%3.42134234"
   ]
  },
  {
   "cell_type": "markdown",
   "id": "20a31fd9-cd10-4122-9710-2098af8c8b8c",
   "metadata": {},
   "source": [
    "### 포맷함수를 사용한 포매팅"
   ]
  },
  {
   "cell_type": "code",
   "execution_count": 241,
   "id": "47e02d12-dc2b-4e55-a13e-53b1d7915116",
   "metadata": {},
   "outputs": [
    {
     "data": {
      "text/plain": [
       "'i eat 3 apples'"
      ]
     },
     "execution_count": 241,
     "metadata": {},
     "output_type": "execute_result"
    }
   ],
   "source": [
    "\"i eat {0} apples\".format(3)"
   ]
  },
  {
   "cell_type": "code",
   "execution_count": 243,
   "id": "b0e719ad-8e40-475c-ab6a-53201b09a99c",
   "metadata": {},
   "outputs": [
    {
     "data": {
      "text/plain": [
       "'i eat five apples'"
      ]
     },
     "execution_count": 243,
     "metadata": {},
     "output_type": "execute_result"
    }
   ],
   "source": [
    "\"i eat {0} apples\".format(\"five\")"
   ]
  },
  {
   "cell_type": "code",
   "execution_count": 245,
   "id": "bafb1319-4d10-47e8-8bbc-7a9c7ce5e9be",
   "metadata": {},
   "outputs": [
    {
     "data": {
      "text/plain": [
       "'i eat 10 apples'"
      ]
     },
     "execution_count": 245,
     "metadata": {},
     "output_type": "execute_result"
    }
   ],
   "source": [
    "\"i eat {0} apples\".format(number)"
   ]
  },
  {
   "cell_type": "code",
   "execution_count": 249,
   "id": "cdb53e51-4905-4126-87c8-7178797c7712",
   "metadata": {},
   "outputs": [
    {
     "data": {
      "text/plain": [
       "'I ate three apples. so i was sick for 10 days'"
      ]
     },
     "execution_count": 249,
     "metadata": {},
     "output_type": "execute_result"
    }
   ],
   "source": [
    "\"I ate {1} apples. so i was sick for {0} days\".format(number,day)"
   ]
  },
  {
   "cell_type": "code",
   "execution_count": 251,
   "id": "dd3bd4e3-933d-415d-a6ab-59037d012f38",
   "metadata": {},
   "outputs": [
    {
     "data": {
      "text/plain": [
       "'I ate 10 apples. so i was sick for three days'"
      ]
     },
     "execution_count": 251,
     "metadata": {},
     "output_type": "execute_result"
    }
   ],
   "source": [
    "\"I ate {a} apples. so i was sick for {b} days\".format(a=number,b=day)"
   ]
  },
  {
   "cell_type": "code",
   "execution_count": 253,
   "id": "b1d04347-d5b9-495d-bf31-3fc7cebaaebb",
   "metadata": {},
   "outputs": [
    {
     "data": {
      "text/plain": [
       "'3.3123'"
      ]
     },
     "execution_count": 253,
     "metadata": {},
     "output_type": "execute_result"
    }
   ],
   "source": [
    " y = 3.3123434\n",
    "\"{0:0.4f}\".format(y)"
   ]
  },
  {
   "cell_type": "code",
   "execution_count": 255,
   "id": "fe86cac6-aa5d-4f84-aa83-4833d1cc4e4f",
   "metadata": {},
   "outputs": [
    {
     "data": {
      "text/plain": [
       "'{and}'"
      ]
     },
     "execution_count": 255,
     "metadata": {},
     "output_type": "execute_result"
    }
   ],
   "source": [
    "\"{{and}}\".format()"
   ]
  },
  {
   "cell_type": "code",
   "execution_count": 259,
   "id": "d9ad0152-5fe3-4b6c-bf39-c683b9ad0daa",
   "metadata": {},
   "outputs": [
    {
     "data": {
      "text/plain": [
       "'나의 이름은 홍길동입니다. 나이는 30 입니다.'"
      ]
     },
     "execution_count": 259,
     "metadata": {},
     "output_type": "execute_result"
    }
   ],
   "source": [
    "name = \"홍길동\"\n",
    "age = 30\n",
    "\"나의 이름은 {a}입니다. 나이는 {b} 입니다.\".format(a=name,b=age)"
   ]
  },
  {
   "cell_type": "code",
   "execution_count": 263,
   "id": "e8e31534-4eb5-430b-8d0f-697305f0a207",
   "metadata": {},
   "outputs": [
    {
     "data": {
      "text/plain": [
       "'나의 이름은 홍길동입니다. 나이는 31 입니다.'"
      ]
     },
     "execution_count": 263,
     "metadata": {},
     "output_type": "execute_result"
    }
   ],
   "source": [
    "f\"나의 이름은 {name}입니다. 나이는 {age+1} 입니다.\""
   ]
  },
  {
   "cell_type": "code",
   "execution_count": 269,
   "id": "9c470424-24d7-4c3a-a428-5c2bd7f9978c",
   "metadata": {},
   "outputs": [],
   "source": [
    "d = {'name': '홍길동', 'age':30}"
   ]
  },
  {
   "cell_type": "code",
   "execution_count": 271,
   "id": "b3e9299e-dab1-446a-8fe7-a6a76c6c00e6",
   "metadata": {},
   "outputs": [
    {
     "data": {
      "text/plain": [
       "{'name': '홍길동', 'age': 30}"
      ]
     },
     "execution_count": 271,
     "metadata": {},
     "output_type": "execute_result"
    }
   ],
   "source": [
    "d"
   ]
  },
  {
   "cell_type": "code",
   "execution_count": 273,
   "id": "77ef92ad-c6aa-424e-84e7-0c5230132395",
   "metadata": {},
   "outputs": [
    {
     "data": {
      "text/plain": [
       "'홍길동'"
      ]
     },
     "execution_count": 273,
     "metadata": {},
     "output_type": "execute_result"
    }
   ],
   "source": [
    "d['name']"
   ]
  },
  {
   "cell_type": "code",
   "execution_count": 275,
   "id": "33e271b3-d96f-40ec-8343-2dd179a87282",
   "metadata": {},
   "outputs": [
    {
     "data": {
      "text/plain": [
       "'나의 이름은 홍길동입니다. 나이는 30입니다.'"
      ]
     },
     "execution_count": 275,
     "metadata": {},
     "output_type": "execute_result"
    }
   ],
   "source": [
    "f\"나의 이름은 {d['name']}입니다. 나이는 {d['age']}입니다.\""
   ]
  },
  {
   "cell_type": "code",
   "execution_count": 277,
   "id": "ebfd6c2c-6bf4-4dc5-afed-a26b08c9c9ea",
   "metadata": {},
   "outputs": [
    {
     "data": {
      "text/plain": [
       "'3.3123'"
      ]
     },
     "execution_count": 277,
     "metadata": {},
     "output_type": "execute_result"
    }
   ],
   "source": [
    "f'{y:0.4f}'"
   ]
  },
  {
   "cell_type": "markdown",
   "id": "277db7cd-1e07-4a22-97bc-b8859382a642",
   "metadata": {},
   "source": [
    "### 문자열 관련 함수들"
   ]
  },
  {
   "cell_type": "code",
   "execution_count": 282,
   "id": "8e8ad8be-a88d-4610-8d3f-6bcd712e7fc2",
   "metadata": {},
   "outputs": [
    {
     "data": {
      "text/plain": [
       "5"
      ]
     },
     "execution_count": 282,
     "metadata": {},
     "output_type": "execute_result"
    }
   ],
   "source": [
    "a = 'hobby'\n",
    "len(a)"
   ]
  },
  {
   "cell_type": "code",
   "execution_count": 284,
   "id": "03ce01b3-682f-4361-98c0-1db8fadadf4a",
   "metadata": {},
   "outputs": [
    {
     "data": {
      "text/plain": [
       "2"
      ]
     },
     "execution_count": 284,
     "metadata": {},
     "output_type": "execute_result"
    }
   ],
   "source": [
    "#특정 문자열 개수를 세기\n",
    "a.count('b')"
   ]
  },
  {
   "cell_type": "code",
   "execution_count": 288,
   "id": "042fd64d-aad8-4b3e-9cf3-7c15a399ccb3",
   "metadata": {},
   "outputs": [
    {
     "data": {
      "text/plain": [
       "14"
      ]
     },
     "execution_count": 288,
     "metadata": {},
     "output_type": "execute_result"
    }
   ],
   "source": [
    "a = 'python is the best choice'\n",
    "a.find('b')"
   ]
  },
  {
   "cell_type": "code",
   "execution_count": 290,
   "id": "2e14045f-1aeb-4e7a-8d15-be097e1856de",
   "metadata": {},
   "outputs": [
    {
     "data": {
      "text/plain": [
       "-1"
      ]
     },
     "execution_count": 290,
     "metadata": {},
     "output_type": "execute_result"
    }
   ],
   "source": [
    "a.find(\"ree\")"
   ]
  },
  {
   "cell_type": "code",
   "execution_count": 292,
   "id": "3ed57e64-36d9-4b28-ac77-8ba73d7a0e15",
   "metadata": {},
   "outputs": [
    {
     "data": {
      "text/plain": [
       "\u001b[1;31mDocstring:\u001b[0m\n",
       "S.find(sub[, start[, end]]) -> int\n",
       "\n",
       "Return the lowest index in S where substring sub is found,\n",
       "such that sub is contained within S[start:end].  Optional\n",
       "arguments start and end are interpreted as in slice notation.\n",
       "\n",
       "Return -1 on failure.\n",
       "\u001b[1;31mType:\u001b[0m      builtin_function_or_method"
      ]
     },
     "metadata": {},
     "output_type": "display_data"
    }
   ],
   "source": [
    "a.find?"
   ]
  },
  {
   "cell_type": "code",
   "execution_count": 294,
   "id": "a67d44ab-6fcb-4047-947f-c91043da7b7d",
   "metadata": {},
   "outputs": [
    {
     "name": "stdout",
     "output_type": "stream",
     "text": [
      "Help on built-in function find:\n",
      "\n",
      "find(...) method of builtins.str instance\n",
      "    S.find(sub[, start[, end]]) -> int\n",
      "\n",
      "    Return the lowest index in S where substring sub is found,\n",
      "    such that sub is contained within S[start:end].  Optional\n",
      "    arguments start and end are interpreted as in slice notation.\n",
      "\n",
      "    Return -1 on failure.\n",
      "\n"
     ]
    }
   ],
   "source": [
    "help(a.find)"
   ]
  },
  {
   "cell_type": "code",
   "execution_count": 296,
   "id": "a0aea3fe-2e3f-4998-97cd-2fbe8a17280c",
   "metadata": {},
   "outputs": [
    {
     "data": {
      "text/plain": [
       "(8, 8)"
      ]
     },
     "execution_count": 296,
     "metadata": {},
     "output_type": "execute_result"
    }
   ],
   "source": [
    "a = 'Life is too short'\n",
    "a.index('t'), a.find('t')"
   ]
  },
  {
   "cell_type": "code",
   "execution_count": 298,
   "id": "5ccdae4c-ec9f-42b4-920a-e577ce0f6ebf",
   "metadata": {},
   "outputs": [
    {
     "data": {
      "text/plain": [
       "'abcd'"
      ]
     },
     "execution_count": 298,
     "metadata": {},
     "output_type": "execute_result"
    }
   ],
   "source": [
    "# 문자열 삽입 join\n",
    "\"abcd\""
   ]
  },
  {
   "cell_type": "code",
   "execution_count": 302,
   "id": "29f8ff82-0b72-4107-bedd-e17ef1ba4ecb",
   "metadata": {},
   "outputs": [
    {
     "data": {
      "text/plain": [
       "'a,b,c,d'"
      ]
     },
     "execution_count": 302,
     "metadata": {},
     "output_type": "execute_result"
    }
   ],
   "source": [
    "\",\".join(\"abcd\")"
   ]
  },
  {
   "cell_type": "code",
   "execution_count": 304,
   "id": "c9297632-e36f-42a9-9250-2c79fbc6ad9b",
   "metadata": {},
   "outputs": [
    {
     "data": {
      "text/plain": [
       "'a,b,c,d'"
      ]
     },
     "execution_count": 304,
     "metadata": {},
     "output_type": "execute_result"
    }
   ],
   "source": [
    "\",\".join([\"a\",\"b\",\"c\",\"d\"])"
   ]
  },
  {
   "cell_type": "code",
   "execution_count": 306,
   "id": "0b35ec2e-af8d-462d-9df7-8c551022f587",
   "metadata": {},
   "outputs": [
    {
     "data": {
      "text/plain": [
       "'HI'"
      ]
     },
     "execution_count": 306,
     "metadata": {},
     "output_type": "execute_result"
    }
   ],
   "source": [
    "a = \"hi\"\n",
    "a.upper()"
   ]
  },
  {
   "cell_type": "code",
   "execution_count": 308,
   "id": "64b2a7a2-07b9-4c72-8ed3-eee9c212c005",
   "metadata": {},
   "outputs": [
    {
     "data": {
      "text/plain": [
       "\u001b[1;31mSignature:\u001b[0m \u001b[0ma\u001b[0m\u001b[1;33m.\u001b[0m\u001b[0mupper\u001b[0m\u001b[1;33m(\u001b[0m\u001b[1;33m)\u001b[0m\u001b[1;33m\u001b[0m\u001b[1;33m\u001b[0m\u001b[0m\n",
       "\u001b[1;31mDocstring:\u001b[0m Return a copy of the string converted to uppercase.\n",
       "\u001b[1;31mType:\u001b[0m      builtin_function_or_method"
      ]
     },
     "metadata": {},
     "output_type": "display_data"
    }
   ],
   "source": [
    "a.upper?"
   ]
  },
  {
   "cell_type": "code",
   "execution_count": 312,
   "id": "6b120460-e6fc-456e-bc32-639c0314e44b",
   "metadata": {},
   "outputs": [
    {
     "data": {
      "text/plain": [
       "'hi'"
      ]
     },
     "execution_count": 312,
     "metadata": {},
     "output_type": "execute_result"
    }
   ],
   "source": [
    "a = \"HI\"\n",
    "a.lower()"
   ]
  },
  {
   "cell_type": "code",
   "execution_count": 314,
   "id": "dc69b4ce-da7a-4d5e-a6e7-611852b303d9",
   "metadata": {},
   "outputs": [],
   "source": [
    "a = \" hi \""
   ]
  },
  {
   "cell_type": "code",
   "execution_count": 316,
   "id": "8586570f-edcf-4781-b70a-cf2ad6dcdd08",
   "metadata": {},
   "outputs": [
    {
     "data": {
      "text/plain": [
       "' hi '"
      ]
     },
     "execution_count": 316,
     "metadata": {},
     "output_type": "execute_result"
    }
   ],
   "source": [
    "a.rstrip()\n",
    "a"
   ]
  },
  {
   "cell_type": "code",
   "execution_count": 318,
   "id": "723ff109-a48f-49d0-9a3c-4d168e2e51fc",
   "metadata": {},
   "outputs": [
    {
     "data": {
      "text/plain": [
       "'hi '"
      ]
     },
     "execution_count": 318,
     "metadata": {},
     "output_type": "execute_result"
    }
   ],
   "source": [
    "a.lstrip()"
   ]
  },
  {
   "cell_type": "code",
   "execution_count": 320,
   "id": "6c88d7bc-d63a-4dce-996e-d2c6b2511559",
   "metadata": {},
   "outputs": [
    {
     "data": {
      "text/plain": [
       "' hi'"
      ]
     },
     "execution_count": 320,
     "metadata": {},
     "output_type": "execute_result"
    }
   ],
   "source": [
    "a.rstrip()"
   ]
  },
  {
   "cell_type": "code",
   "execution_count": 322,
   "id": "4c6c6a41-3d89-4bab-b5d7-d8df55f390a9",
   "metadata": {},
   "outputs": [],
   "source": [
    "a = \"Life is too short\""
   ]
  },
  {
   "cell_type": "code",
   "execution_count": 324,
   "id": "50f10134-7cd2-4aa8-be47-0cdbdcbb19d6",
   "metadata": {},
   "outputs": [
    {
     "data": {
      "text/plain": [
       "'Your leg is too short'"
      ]
     },
     "execution_count": 324,
     "metadata": {},
     "output_type": "execute_result"
    }
   ],
   "source": [
    "a.replace(\"Life\", \"Your leg\")"
   ]
  },
  {
   "cell_type": "code",
   "execution_count": 326,
   "id": "71d62539-66d5-4a73-a86d-0758de6b619f",
   "metadata": {},
   "outputs": [
    {
     "data": {
      "text/plain": [
       "'Life is too short'"
      ]
     },
     "execution_count": 326,
     "metadata": {},
     "output_type": "execute_result"
    }
   ],
   "source": [
    "a"
   ]
  },
  {
   "cell_type": "code",
   "execution_count": 330,
   "id": "0f696657-a88b-4035-af26-b192e050055c",
   "metadata": {},
   "outputs": [
    {
     "data": {
      "text/plain": [
       "['Life', 'is', 'too', 'short']"
      ]
     },
     "execution_count": 330,
     "metadata": {},
     "output_type": "execute_result"
    }
   ],
   "source": [
    "a.split()"
   ]
  },
  {
   "cell_type": "code",
   "execution_count": 332,
   "id": "f4d4fb90-ea63-4598-a5d7-53614c10874b",
   "metadata": {},
   "outputs": [
    {
     "data": {
      "text/plain": [
       "['Life', 'is', 'too short']"
      ]
     },
     "execution_count": 332,
     "metadata": {},
     "output_type": "execute_result"
    }
   ],
   "source": [
    "a.split(maxsplit=2)"
   ]
  },
  {
   "cell_type": "code",
   "execution_count": 334,
   "id": "334a22de-cbc5-4490-882e-ee8f6cab8a40",
   "metadata": {},
   "outputs": [],
   "source": [
    "b = \"a:b:c:d\""
   ]
  },
  {
   "cell_type": "code",
   "execution_count": 336,
   "id": "1b2a6130-d539-4af6-a1bd-3783dbd107e4",
   "metadata": {},
   "outputs": [
    {
     "data": {
      "text/plain": [
       "['a', 'b', 'c', 'd']"
      ]
     },
     "execution_count": 336,
     "metadata": {},
     "output_type": "execute_result"
    }
   ],
   "source": [
    "b.split(\":\")"
   ]
  },
  {
   "cell_type": "code",
   "execution_count": null,
   "id": "2bdc7296-c0c4-4bed-97b5-66c30647e6b7",
   "metadata": {},
   "outputs": [],
   "source": []
  }
 ],
 "metadata": {
  "kernelspec": {
   "display_name": "Python 3 (ipykernel)",
   "language": "python",
   "name": "python3"
  },
  "language_info": {
   "codemirror_mode": {
    "name": "ipython",
    "version": 3
   },
   "file_extension": ".py",
   "mimetype": "text/x-python",
   "name": "python",
   "nbconvert_exporter": "python",
   "pygments_lexer": "ipython3",
   "version": "3.12.4"
  }
 },
 "nbformat": 4,
 "nbformat_minor": 5
}
