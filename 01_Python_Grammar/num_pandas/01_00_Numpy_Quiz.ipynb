{
 "cells": [
  {
   "cell_type": "markdown",
   "id": "6f17d151",
   "metadata": {
    "tags": [],
    "toc-hr-collapsed": true
   },
   "source": [
    "# Numpy Quiz"
   ]
  },
  {
   "cell_type": "markdown",
   "id": "822f98fc",
   "metadata": {},
   "source": [
    "## Q1. 다음과 같은 리스트를 이용하여 넘파이 배열을 만들고 전체 갯수, 차원, 데이터형, 구조를 출력하여라\n",
    "```\n",
    "['강아지', '원숭이', '꽃', '45', '100']\n",
    "\n",
    "array(['강아지', '원숭이', '꽃', '45', '100'], dtype='<U3')\n",
    "차원 ? 1\n",
    "전체 갯수 ? 5\n",
    "데이터형 ? <U3\n",
    "전체 구조  ? (5,)\n",
    "```"
   ]
  },
  {
   "cell_type": "code",
   "execution_count": 14,
   "id": "57a5c6c5-660c-4f82-99a1-a578a300f8cd",
   "metadata": {},
   "outputs": [
    {
     "data": {
      "text/plain": [
       "(array(['강아지', '원숭이', '꽃', '45', '100'], dtype='<U3'),\n",
       " 1,\n",
       " 5,\n",
       " dtype('<U3'),\n",
       " (5,))"
      ]
     },
     "execution_count": 14,
     "metadata": {},
     "output_type": "execute_result"
    }
   ],
   "source": [
    "import numpy as np\n",
    "d = np.array(['강아지', '원숭이', '꽃', '45', '100'])\n",
    "d, d.ndim,d.size, d.dtype, d.shape\n",
    "\n",
    "\n"
   ]
  },
  {
   "cell_type": "code",
   "execution_count": 220,
   "id": "9a7c8755-7d37-4528-9dc8-510499ecd6e1",
   "metadata": {},
   "outputs": [
    {
     "name": "stdout",
     "output_type": "stream",
     "text": [
      "['강아지' '원숭이' '꽃' '45' '100']\n",
      "차원 : 1\n",
      "갯수 : 5\n",
      "데이터형 :  <U3\n",
      "구조 : (5,)\n"
     ]
    }
   ],
   "source": [
    "import numpy as np\n",
    "data = ['강아지', '원숭이', '꽃', '45', '100']\n",
    "d = np.array(data)\n",
    "print(d)\n",
    "print(\"차원 :\" ,d.ndim )\n",
    "print(\"갯수 :\" ,d.size)\n",
    "print(\"데이터형 : \",d.dtype)\n",
    "print(\"구조 :\",d.shape)"
   ]
  },
  {
   "cell_type": "code",
   "execution_count": 232,
   "id": "dc7856fe-f96a-468f-95c4-015348902e06",
   "metadata": {},
   "outputs": [
    {
     "data": {
      "text/plain": [
       "(2, 4, dtype('<U10'), (2, 2))"
      ]
     },
     "execution_count": 232,
     "metadata": {},
     "output_type": "execute_result"
    }
   ],
   "source": [
    "data = [[\"kk\",'1234567890'],[\"ll\",\"hh\"]]\n",
    "r = np.array(data)\n",
    "r.ndim,r.size,r.dtype,r.shape"
   ]
  },
  {
   "cell_type": "markdown",
   "id": "e1cef698",
   "metadata": {},
   "source": [
    "## Q2. np.ones()를 이용하여2행 3열의 넘파이 배열을 생성하여라\n",
    "\n",
    "array([[1., 1., 1.],\n",
    "       [1., 1., 1.]])"
   ]
  },
  {
   "cell_type": "code",
   "execution_count": 20,
   "id": "fc428147-8468-487e-96e3-21141f9dfe88",
   "metadata": {},
   "outputs": [
    {
     "data": {
      "text/plain": [
       "array([[1., 1., 1.],\n",
       "       [1., 1., 1.]])"
      ]
     },
     "execution_count": 20,
     "metadata": {},
     "output_type": "execute_result"
    }
   ],
   "source": [
    "np.ones((2,3))"
   ]
  },
  {
   "cell_type": "code",
   "execution_count": 236,
   "id": "338923fb-40b6-4370-b19d-bb529cdc4aa7",
   "metadata": {},
   "outputs": [
    {
     "data": {
      "text/plain": [
       "array([[0., 0., 0.],\n",
       "       [0., 0., 0.]])"
      ]
     },
     "execution_count": 236,
     "metadata": {},
     "output_type": "execute_result"
    }
   ],
   "source": [
    "np.ones((2,3))\n",
    "np.zeros((2,3))"
   ]
  },
  {
   "cell_type": "markdown",
   "id": "42c9b79e",
   "metadata": {},
   "source": [
    "## Q3. np.arange(), np.reshape()를 이용하여 다음과 같은 넘파이 배열을 생성하여라\n",
    "```\n",
    "array([[51, 52, 53, 54, 55],\n",
    "       [56, 57, 58, 59, 60],\n",
    "       [61, 62, 63, 64, 65],\n",
    "       [66, 67, 68, 69, 70],\n",
    "       [71, 72, 73, 74, 75],\n",
    "       [76, 77, 78, 79, 80]])\n",
    "```"
   ]
  },
  {
   "cell_type": "code",
   "execution_count": 274,
   "id": "f36d1318-abab-4e6a-8ba3-87e71b36d100",
   "metadata": {},
   "outputs": [
    {
     "data": {
      "text/plain": [
       "array([[51, 52, 53, 54, 55],\n",
       "       [56, 57, 58, 59, 60],\n",
       "       [61, 62, 63, 64, 65],\n",
       "       [66, 67, 68, 69, 70],\n",
       "       [71, 72, 73, 74, 75],\n",
       "       [76, 77, 78, 79, 80]])"
      ]
     },
     "execution_count": 274,
     "metadata": {},
     "output_type": "execute_result"
    }
   ],
   "source": [
    "np.arange(51,81,1).reshape(6,5)"
   ]
  },
  {
   "cell_type": "code",
   "execution_count": 298,
   "id": "0d42c22e-007a-4328-8a7d-ada1fa90ad8b",
   "metadata": {},
   "outputs": [
    {
     "data": {
      "text/plain": [
       "array([[51, 52, 53, 54, 55],\n",
       "       [56, 57, 58, 59, 60],\n",
       "       [61, 62, 63, 64, 65],\n",
       "       [66, 67, 68, 69, 70],\n",
       "       [71, 72, 73, 74, 75],\n",
       "       [76, 77, 78, 79, 80]])"
      ]
     },
     "execution_count": 298,
     "metadata": {},
     "output_type": "execute_result"
    }
   ],
   "source": [
    "np.arange(51,81).reshape(6,5)\n"
   ]
  },
  {
   "cell_type": "markdown",
   "id": "6b0dd4b5",
   "metadata": {},
   "source": [
    "## Q4. Q3의 넘파이 배열의 자료형을 float로 변경하고 데이터형을 출력하여라\n",
    "```\n",
    "array([[51., 52., 53., 54., 55.],\n",
    "       [56., 57., 58., 59., 60.],\n",
    "       [61., 62., 63., 64., 65.],\n",
    "       [66., 67., 68., 69., 70.],\n",
    "       [71., 72., 73., 74., 75.],\n",
    "       [76., 77., 78., 79., 80.]])\n",
    "```\n",
    "-------------------------------------  \n",
    "\n",
    "dtype('float64')"
   ]
  },
  {
   "cell_type": "code",
   "execution_count": 38,
   "id": "200dc541-ca25-4797-a0e8-cec3aae25b4c",
   "metadata": {},
   "outputs": [
    {
     "data": {
      "text/plain": [
       "array([[51., 52., 53., 54., 55.],\n",
       "       [56., 57., 58., 59., 60.],\n",
       "       [61., 62., 63., 64., 65.],\n",
       "       [66., 67., 68., 69., 70.],\n",
       "       [71., 72., 73., 74., 75.],\n",
       "       [76., 77., 78., 79., 80.]])"
      ]
     },
     "execution_count": 38,
     "metadata": {},
     "output_type": "execute_result"
    }
   ],
   "source": [
    "data = np.arange(51,81, dtype=np.float64).reshape(6,5)\n",
    "data"
   ]
  },
  {
   "cell_type": "code",
   "execution_count": 292,
   "id": "39f2d3e7-aa73-4bfc-982d-84b28eab3576",
   "metadata": {},
   "outputs": [
    {
     "data": {
      "text/plain": [
       "array([[51., 52., 53., 54., 55.],\n",
       "       [56., 57., 58., 59., 60.],\n",
       "       [61., 62., 63., 64., 65.],\n",
       "       [66., 67., 68., 69., 70.],\n",
       "       [71., 72., 73., 74., 75.],\n",
       "       [76., 77., 78., 79., 80.]])"
      ]
     },
     "execution_count": 292,
     "metadata": {},
     "output_type": "execute_result"
    }
   ],
   "source": [
    "np.arange(51,81,dtype=np.float64).reshape(6,5)\n"
   ]
  },
  {
   "cell_type": "markdown",
   "id": "906cf1f4",
   "metadata": {},
   "source": [
    "## Q5. 다음과 같이 넘파이 배열을 생성한 후 1차원 배열로 변경하고 슬라이싱하여라 \n",
    "\n",
    "```\n",
    "array([[ 1,  4,  5,  6],\n",
    "       [56, 23, 45, 67],\n",
    "       [ 8,  4,  6, 10]])\n",
    "       \n",
    "array([ 1,  4,  5,  6, 56, 23, 45, 67,  8,  4,  6, 10])\n",
    "\n",
    "\n",
    "array([23, 45, 67,  8,  4,  6])\n",
    "```       "
   ]
  },
  {
   "cell_type": "code",
   "execution_count": 57,
   "id": "90724111-e79d-4da8-a30f-bfa15e788f7e",
   "metadata": {},
   "outputs": [
    {
     "name": "stdout",
     "output_type": "stream",
     "text": [
      "[ 1  4  5  6 56 23 45 67  8  4  6 10]\n",
      "[23 45 67  8  4  6]\n"
     ]
    }
   ],
   "source": [
    "ll = np.array([[ 1,  4,  5,  6],\n",
    "       [56, 23, 45, 67],\n",
    "       [ 8,  4,  6, 10]])\n",
    "\n",
    "print(ll.reshape(-1))\n",
    "print(ll.reshape(-1)[5:-1])"
   ]
  },
  {
   "cell_type": "code",
   "execution_count": 314,
   "id": "269b5c8f-d517-49fe-a002-fbae8540e2ab",
   "metadata": {},
   "outputs": [
    {
     "data": {
      "text/plain": [
       "array([23, 45, 67,  8,  4,  6])"
      ]
     },
     "execution_count": 314,
     "metadata": {},
     "output_type": "execute_result"
    }
   ],
   "source": [
    "rr = np.array([[ 1,  4,  5,  6],\n",
    "       [56, 23, 45, 67],\n",
    "       [ 8,  4,  6, 10]])\n",
    "\n",
    "rr.reshape(-1)[5:-1]"
   ]
  },
  {
   "cell_type": "markdown",
   "id": "46e67feb",
   "metadata": {},
   "source": [
    "## Q6. 다음과 같은 넘파이 배열을 생성한 후 아이템을 교체하여라 \n",
    "\n",
    "```\n",
    "array([ 1,  2,  3,  4,  5,  6,  7,  8,  9, 10])\n",
    "\n",
    "array([10,  2,  3,  4,  5,  6,  7,  0,  0,  0])\n",
    "\n",
    "```"
   ]
  },
  {
   "cell_type": "code",
   "execution_count": 77,
   "id": "c7cd6fbe-380b-4e29-98f8-902b110a7207",
   "metadata": {},
   "outputs": [
    {
     "data": {
      "text/plain": [
       "[10, 2, 3, 4, 5, 6, 7, 0, 0, 0]"
      ]
     },
     "execution_count": 77,
     "metadata": {},
     "output_type": "execute_result"
    }
   ],
   "source": [
    "[10 if i==1  else i if i<8 else 0  for i in np.arange(1,11)]"
   ]
  },
  {
   "cell_type": "code",
   "execution_count": 324,
   "id": "93e03751-445f-450b-a0af-db7598c39c37",
   "metadata": {},
   "outputs": [
    {
     "data": {
      "text/plain": [
       "[10, 2, 3, 4, 5, 6, 7, 0, 0, 0]"
      ]
     },
     "execution_count": 324,
     "metadata": {},
     "output_type": "execute_result"
    }
   ],
   "source": [
    "[10 if i==1 else i if i<8 else 0 for i in np.arange(1,11)]"
   ]
  },
  {
   "cell_type": "code",
   "execution_count": 330,
   "id": "6c93d4c1-0910-4391-b95b-979f123175d1",
   "metadata": {},
   "outputs": [
    {
     "data": {
      "text/plain": [
       "array([10,  2,  3,  4,  5,  6,  7,  0,  0,  0])"
      ]
     },
     "execution_count": 330,
     "metadata": {},
     "output_type": "execute_result"
    }
   ],
   "source": [
    "arr = np.arange(1,11)\n",
    "arr[0] = 10\n",
    "arr[7:] = 0\n",
    "arr"
   ]
  },
  {
   "cell_type": "markdown",
   "id": "cf265b90",
   "metadata": {},
   "source": [
    "## Q7. 2자리의 숫자로 구성된 넘파이 배열(5행5열)을 만들어라. 숫자는 난수를 이용한다. \n",
    "\n",
    "```\n",
    "[[63 85 71 67 15]\n",
    " [31 81 69 17 97]\n",
    " [25 41 33 23 39]\n",
    " [39 43 59 33 43]\n",
    " [23 51 65 91 23]]\n",
    "\n",
    "```"
   ]
  },
  {
   "cell_type": "code",
   "execution_count": 97,
   "id": "0520d5ad-2e3a-4aca-acc5-3f08a08845aa",
   "metadata": {},
   "outputs": [
    {
     "data": {
      "text/plain": [
       "array([[54, 75, 33, 26, 88],\n",
       "       [58, 79, 73, 71, 22],\n",
       "       [22, 91, 72, 50, 73],\n",
       "       [73, 39, 40, 32, 48],\n",
       "       [28, 93, 13, 95, 10]])"
      ]
     },
     "execution_count": 97,
     "metadata": {},
     "output_type": "execute_result"
    }
   ],
   "source": [
    "np.random.randint(10,100,(5,5))"
   ]
  },
  {
   "cell_type": "code",
   "execution_count": 362,
   "id": "1efc4ccd-2cb8-4197-8d41-3a039314b53f",
   "metadata": {},
   "outputs": [
    {
     "data": {
      "text/plain": [
       "array([[66, 94, 53, 11, 13],\n",
       "       [36, 92, 33, 61, 37],\n",
       "       [64, 58, 50, 81, 89],\n",
       "       [98, 18, 75, 13, 43],\n",
       "       [50, 89, 35, 36, 54]])"
      ]
     },
     "execution_count": 362,
     "metadata": {},
     "output_type": "execute_result"
    }
   ],
   "source": [
    "np.random.randint(10,100,(5,5))"
   ]
  },
  {
   "cell_type": "markdown",
   "id": "5c5ccecf",
   "metadata": {},
   "source": [
    "## Q8. 1~100 사이의 정수중 7개의 숫자를 무작위로 추출한 후 가장 큰값과 가장 작은 값을 출력하여라.\n",
    "[91, 65, 14, 66, 65, 98, 34]\n",
    "\n",
    "max = 98\n",
    "min = 14"
   ]
  },
  {
   "cell_type": "code",
   "execution_count": null,
   "id": "0402b4bd-0788-4f8f-9b21-dc47c70a459b",
   "metadata": {},
   "outputs": [],
   "source": []
  },
  {
   "cell_type": "code",
   "execution_count": 105,
   "id": "54209548-9daf-4b72-aec9-c6c8c60c7c13",
   "metadata": {},
   "outputs": [
    {
     "name": "stdout",
     "output_type": "stream",
     "text": [
      "[ 88   9 100  57  87  54 100]\n",
      "100\n",
      "9\n"
     ]
    }
   ],
   "source": [
    "r= np.random.randint(1,101,7)\n",
    "print(r)\n",
    "print(np.max(r))\n",
    "print(np.min(r))"
   ]
  },
  {
   "cell_type": "code",
   "execution_count": 385,
   "id": "a478ea45-ea2f-4bfd-9faa-a0898ff13ba3",
   "metadata": {},
   "outputs": [
    {
     "data": {
      "text/plain": [
       "\u001b[1;31mDocstring:\u001b[0m\n",
       "randint(low, high=None, size=None, dtype=int)\n",
       "\n",
       "Return random integers from `low` (inclusive) to `high` (exclusive).\n",
       "\n",
       "Return random integers from the \"discrete uniform\" distribution of\n",
       "the specified dtype in the \"half-open\" interval [`low`, `high`). If\n",
       "`high` is None (the default), then results are from [0, `low`).\n",
       "\n",
       ".. note::\n",
       "    New code should use the `~numpy.random.Generator.integers`\n",
       "    method of a `~numpy.random.Generator` instance instead;\n",
       "    please see the :ref:`random-quick-start`.\n",
       "\n",
       "Parameters\n",
       "----------\n",
       "low : int or array-like of ints\n",
       "    Lowest (signed) integers to be drawn from the distribution (unless\n",
       "    ``high=None``, in which case this parameter is one above the\n",
       "    *highest* such integer).\n",
       "high : int or array-like of ints, optional\n",
       "    If provided, one above the largest (signed) integer to be drawn\n",
       "    from the distribution (see above for behavior if ``high=None``).\n",
       "    If array-like, must contain integer values\n",
       "size : int or tuple of ints, optional\n",
       "    Output shape.  If the given shape is, e.g., ``(m, n, k)``, then\n",
       "    ``m * n * k`` samples are drawn.  Default is None, in which case a\n",
       "    single value is returned.\n",
       "dtype : dtype, optional\n",
       "    Desired dtype of the result. Byteorder must be native.\n",
       "    The default value is int.\n",
       "\n",
       "    .. versionadded:: 1.11.0\n",
       "\n",
       "Returns\n",
       "-------\n",
       "out : int or ndarray of ints\n",
       "    `size`-shaped array of random integers from the appropriate\n",
       "    distribution, or a single such random int if `size` not provided.\n",
       "\n",
       "See Also\n",
       "--------\n",
       "random_integers : similar to `randint`, only for the closed\n",
       "    interval [`low`, `high`], and 1 is the lowest value if `high` is\n",
       "    omitted.\n",
       "random.Generator.integers: which should be used for new code.\n",
       "\n",
       "Examples\n",
       "--------\n",
       ">>> np.random.randint(2, size=10)\n",
       "array([1, 0, 0, 0, 1, 1, 0, 0, 1, 0]) # random\n",
       ">>> np.random.randint(1, size=10)\n",
       "array([0, 0, 0, 0, 0, 0, 0, 0, 0, 0])\n",
       "\n",
       "Generate a 2 x 4 array of ints between 0 and 4, inclusive:\n",
       "\n",
       ">>> np.random.randint(5, size=(2, 4))\n",
       "array([[4, 0, 2, 1], # random\n",
       "       [3, 2, 2, 0]])\n",
       "\n",
       "Generate a 1 x 3 array with 3 different upper bounds\n",
       "\n",
       ">>> np.random.randint(1, [3, 5, 10])\n",
       "array([2, 2, 9]) # random\n",
       "\n",
       "Generate a 1 by 3 array with 3 different lower bounds\n",
       "\n",
       ">>> np.random.randint([1, 5, 7], 10)\n",
       "array([9, 8, 7]) # random\n",
       "\n",
       "Generate a 2 by 4 array using broadcasting with dtype of uint8\n",
       "\n",
       ">>> np.random.randint([1, 3, 5, 7], [[10], [20]], dtype=np.uint8)\n",
       "array([[ 8,  6,  9,  7], # random\n",
       "       [ 1, 16,  9, 12]], dtype=uint8)\n",
       "\u001b[1;31mType:\u001b[0m      builtin_function_or_method"
      ]
     },
     "metadata": {},
     "output_type": "display_data"
    }
   ],
   "source": [
    "np.random.randint?"
   ]
  },
  {
   "cell_type": "code",
   "execution_count": 379,
   "id": "d421bb75-9c13-45ef-9a30-9eea87753007",
   "metadata": {},
   "outputs": [
    {
     "data": {
      "text/plain": [
       "array([23, 84, 80, 99, 40, 32, 26])"
      ]
     },
     "execution_count": 379,
     "metadata": {},
     "output_type": "execute_result"
    }
   ],
   "source": [
    "r=np.random.randint(1,101,7)\n",
    "r"
   ]
  },
  {
   "cell_type": "code",
   "execution_count": 381,
   "id": "e58dbdc1-867b-47e2-8233-840fa8ce33a2",
   "metadata": {},
   "outputs": [
    {
     "name": "stdout",
     "output_type": "stream",
     "text": [
      "99\n"
     ]
    }
   ],
   "source": [
    "print(np.max(r))"
   ]
  },
  {
   "cell_type": "code",
   "execution_count": 383,
   "id": "8de4a522-b26e-4035-a793-067247d37bd7",
   "metadata": {},
   "outputs": [
    {
     "name": "stdout",
     "output_type": "stream",
     "text": [
      "23\n"
     ]
    }
   ],
   "source": [
    "print(np.min(r))"
   ]
  },
  {
   "cell_type": "code",
   "execution_count": null,
   "id": "a3dc6f16-7f64-4146-baed-381b2352f32a",
   "metadata": {},
   "outputs": [],
   "source": []
  },
  {
   "cell_type": "markdown",
   "id": "24dcaa28",
   "metadata": {},
   "source": [
    "## Q9. 다음과 같은 3개의 넘파이 배열을 생성한 후 다음과 같이 합쳐라\n",
    "```\n",
    "[[1, 2, 3],\n",
    " [4, 5, 6],\n",
    " [7, 8, 9]]\n",
    "\n",
    "\n",
    "[[11, 12, 13],\n",
    " [14, 15, 16],\n",
    " [17, 18, 19]]\n",
    "\n",
    "\n",
    "[[21, 22, 23],\n",
    " [24, 25, 26],\n",
    " [27, 28, 29]]\n",
    "```\n",
    " ----------\n",
    "  Result1 \n",
    "```\n",
    " [[ 1,  2,  3, 11, 12, 13, 21, 22, 23],\n",
    "  [ 4,  5,  6, 14, 15, 16, 24, 25, 26],\n",
    "  [ 7,  8,  9, 17, 18, 19, 27, 28, 29]] \n",
    "```\n",
    "\n",
    "  ----------\n",
    "  Result2\n",
    "```\n",
    " [[ 1,  2,  3],\n",
    "  [ 4,  5,  6],\n",
    "  [ 7,  8,  9],\n",
    "  [11, 12, 13],\n",
    "  [14, 15, 16],\n",
    "  [17, 18, 19],\n",
    "  [21, 22, 23],\n",
    "  [24, 25, 26],\n",
    "  [27, 28, 29]]\n",
    "```"
   ]
  },
  {
   "cell_type": "code",
   "execution_count": 117,
   "id": "a0442d46-bff4-4b28-b7ff-65ddffd05292",
   "metadata": {},
   "outputs": [
    {
     "name": "stdout",
     "output_type": "stream",
     "text": [
      "[[ 1  2  3 11 12 13 21 22 23]\n",
      " [ 4  5  6 14 15 16 24 25 26]\n",
      " [ 7  8  9 17 18 19 27 28 29]]\n",
      "[[ 1  2  3]\n",
      " [ 4  5  6]\n",
      " [ 7  8  9]\n",
      " [11 12 13]\n",
      " [14 15 16]\n",
      " [17 18 19]\n",
      " [21 22 23]\n",
      " [24 25 26]\n",
      " [27 28 29]]\n"
     ]
    }
   ],
   "source": [
    "a = np.array([[1, 2, 3],\n",
    " [4, 5, 6],\n",
    " [7, 8, 9]])\n",
    "\n",
    "\n",
    "b = np.array([[11, 12, 13],\n",
    " [14, 15, 16],\n",
    " [17, 18, 19]])\n",
    "\n",
    "\n",
    "c = np.array([[21, 22, 23],\n",
    " [24, 25, 26],\n",
    " [27, 28, 29]])\n",
    "\n",
    "print(np.hstack((a,b,c)))\n",
    "print(np.vstack((a,b,c)))"
   ]
  },
  {
   "cell_type": "code",
   "execution_count": 438,
   "id": "f3de6207-4fba-4c43-902b-10bd6c773e20",
   "metadata": {},
   "outputs": [
    {
     "name": "stdout",
     "output_type": "stream",
     "text": [
      "[[ 1  2  3 11 12 13 21 22 23]\n",
      " [ 4  5  6 14 15 16 24 25 26]\n",
      " [ 7  8  9 17 18 19 27 28 29]]\n",
      "[[ 1  2  3 11 12 13 21 22 23]\n",
      " [ 4  5  6 14 15 16 24 25 26]\n",
      " [ 7  8  9 17 18 19 27 28 29]]\n",
      "[[ 1  2  3]\n",
      " [ 4  5  6]\n",
      " [ 7  8  9]\n",
      " [11 12 13]\n",
      " [14 15 16]\n",
      " [17 18 19]\n",
      " [21 22 23]\n",
      " [24 25 26]\n",
      " [27 28 29]]\n",
      "[[ 1  2  3]\n",
      " [ 4  5  6]\n",
      " [ 7  8  9]\n",
      " [11 12 13]\n",
      " [14 15 16]\n",
      " [17 18 19]\n",
      " [21 22 23]\n",
      " [24 25 26]\n",
      " [27 28 29]]\n"
     ]
    }
   ],
   "source": [
    "a = [[1, 2, 3],\n",
    " [4, 5, 6],\n",
    " [7, 8, 9]]\n",
    "\n",
    "\n",
    "b = [[11, 12, 13],\n",
    " [14, 15, 16],\n",
    " [17, 18, 19]]\n",
    "\n",
    "\n",
    "c = [[21, 22, 23],\n",
    " [24, 25, 26],\n",
    " [27, 28, 29]]\n",
    "\n",
    "print(np.hstack([a,b,c]))\n",
    "print(np.hstack((a,b,c)))\n",
    "print(np.vstack((a,b,c)))\n",
    "print(np.concatenate([a,b,c] ,axis=0))"
   ]
  },
  {
   "cell_type": "markdown",
   "id": "2d8638be",
   "metadata": {},
   "source": [
    "## Q10. 아래와 같이 넘파이 배열을 생성한 후 50보다 큰 숫자만 필터링하여라. \n",
    "\n",
    "```\n",
    "arr = np.random.choice(100, 40, replace=False)\n",
    "\n",
    "Before => \n",
    "\n",
    "[40, 63,  8,  2, 35, 84, 72, 48, 78, 86, 87, 58,  0, 49, 14, 55, 11,\n",
    "       73, 39, 26, 75, 27, 99, 46, 25, 22, 34, 83, 24, 47, 31, 57, 62, 19,\n",
    "       36, 15, 17, 10, 98, 90]\n",
    "\n",
    "After =>\n",
    "\n",
    "[63, 84, 72, 78, 86, 87, 58, 55, 73, 75, 99, 83, 57, 62, 98, 90]\n",
    "\n",
    "```"
   ]
  },
  {
   "cell_type": "code",
   "execution_count": 444,
   "id": "03c22039-7e21-48fd-9cba-bec220da6ee2",
   "metadata": {},
   "outputs": [
    {
     "data": {
      "text/plain": [
       "array([22, 26, 93,  5, 82, 14, 33, 27,  8, 70, 88, 72, 79, 80, 17, 39, 73,\n",
       "       25, 35, 45, 81, 67, 54, 28, 58, 77, 59,  7, 98, 57, 41, 20, 91, 29,\n",
       "        2, 95, 51,  9, 83, 13])"
      ]
     },
     "execution_count": 444,
     "metadata": {},
     "output_type": "execute_result"
    }
   ],
   "source": [
    "arr = np.random.choice(100, 40, replace=False)\n",
    "arr"
   ]
  },
  {
   "cell_type": "code",
   "execution_count": 452,
   "id": "00166074-8b5e-477d-b8ee-2e2a5bfd37a6",
   "metadata": {},
   "outputs": [
    {
     "data": {
      "text/plain": [
       "[93,\n",
       " 82,\n",
       " 70,\n",
       " 88,\n",
       " 72,\n",
       " 79,\n",
       " 80,\n",
       " 73,\n",
       " 81,\n",
       " 67,\n",
       " 54,\n",
       " 58,\n",
       " 77,\n",
       " 59,\n",
       " 98,\n",
       " 57,\n",
       " 91,\n",
       " 95,\n",
       " 51,\n",
       " 83]"
      ]
     },
     "execution_count": 452,
     "metadata": {},
     "output_type": "execute_result"
    }
   ],
   "source": [
    "[i  for i in arr if i > 50 ]"
   ]
  },
  {
   "cell_type": "code",
   "execution_count": 454,
   "id": "de7df8a9-5c0f-497f-999d-b7e57b90838c",
   "metadata": {},
   "outputs": [
    {
     "data": {
      "text/plain": [
       "(array([22, 26, 93,  5, 82, 14, 33, 27,  8, 70, 88, 72, 79, 80, 17, 39, 73,\n",
       "        25, 35, 45, 81, 67, 54, 28, 58, 77, 59,  7, 98, 57, 41, 20, 91, 29,\n",
       "         2, 95, 51,  9, 83, 13]),\n",
       " array([93, 82, 70, 88, 72, 79, 80, 73, 81, 67, 54, 58, 77, 59, 98, 57, 91,\n",
       "        95, 51, 83]),\n",
       " array([93, 82, 70, 88, 72, 79, 80, 73, 81, 67, 54, 58, 77, 59, 98, 57, 91,\n",
       "        95, 51, 83]))"
      ]
     },
     "execution_count": 454,
     "metadata": {},
     "output_type": "execute_result"
    }
   ],
   "source": [
    "arr, arr[np.where(arr>50)] ,arr[arr>50]"
   ]
  },
  {
   "cell_type": "code",
   "execution_count": 462,
   "id": "5b1118fc-7198-48de-9855-83a791ca6b15",
   "metadata": {},
   "outputs": [
    {
     "data": {
      "text/plain": [
       "(array([ 2,  4,  9, 10, 11, 12, 13, 16, 20, 21, 22, 24, 25, 26, 28, 29, 32,\n",
       "        35, 36, 38], dtype=int64),)"
      ]
     },
     "execution_count": 462,
     "metadata": {},
     "output_type": "execute_result"
    }
   ],
   "source": [
    "np.where(arr>50)"
   ]
  },
  {
   "cell_type": "code",
   "execution_count": 458,
   "id": "af4d0823-d834-4d14-803a-57fd0164f078",
   "metadata": {},
   "outputs": [
    {
     "data": {
      "text/plain": [
       "array([False, False,  True, False,  True, False, False, False, False,\n",
       "        True,  True,  True,  True,  True, False, False,  True, False,\n",
       "       False, False,  True,  True,  True, False,  True,  True,  True,\n",
       "       False,  True,  True, False, False,  True, False, False,  True,\n",
       "        True, False,  True, False])"
      ]
     },
     "execution_count": 458,
     "metadata": {},
     "output_type": "execute_result"
    }
   ],
   "source": [
    "arr>50"
   ]
  },
  {
   "cell_type": "markdown",
   "id": "249ef810",
   "metadata": {},
   "source": [
    "## Quiz11. 종합\n",
    "```\n",
    "kor = np.array( [60,55,70,30,20,90])\n",
    "1. 국어점수가 가장큰값을 구하여라\n",
    "2. 국어점수가 80점이상인 값을 구하여라\n",
    "3. 국어 점수가 50점이상 80점 이하인 값을 구하여라\n",
    "4. 국어점수의 평균을 구하여라\n",
    "5. 국어점수의 총합을 구하여라.\n",
    "6. 국어점수가 40점이하인 데이터를 삭제하여라\n",
    "7. 국어점수가 50점이상인 데이터에 가산점 10%를 부여하여라\n",
    "8. 국어점수 top 3를 구하여라\n",
    "9. 국어점수가 70점이상이면 '합격' , 아니면 '불합격'으로 출력하라\n",
    "```"
   ]
  },
  {
   "cell_type": "code",
   "execution_count": 554,
   "id": "6b06b69c-2a3b-4b74-851a-47136f39d51f",
   "metadata": {},
   "outputs": [
    {
     "data": {
      "text/plain": [
       "array([60, 55, 70, 30, 20, 90])"
      ]
     },
     "execution_count": 554,
     "metadata": {},
     "output_type": "execute_result"
    }
   ],
   "source": [
    "kor = np.array( [60,55,70,30,20,90])\n",
    "kor"
   ]
  },
  {
   "cell_type": "code",
   "execution_count": 466,
   "id": "e68cdf6f-ce0f-45c5-a2e4-d54c05a89a4e",
   "metadata": {},
   "outputs": [
    {
     "data": {
      "text/plain": [
       "90"
      ]
     },
     "execution_count": 466,
     "metadata": {},
     "output_type": "execute_result"
    }
   ],
   "source": [
    "np.max(kor)"
   ]
  },
  {
   "cell_type": "code",
   "execution_count": 470,
   "id": "78da8812-f2e0-4e44-ac3d-da54d0bc3150",
   "metadata": {},
   "outputs": [
    {
     "data": {
      "text/plain": [
       "array([90])"
      ]
     },
     "execution_count": 470,
     "metadata": {},
     "output_type": "execute_result"
    }
   ],
   "source": [
    "kor[kor> 80]"
   ]
  },
  {
   "cell_type": "code",
   "execution_count": 478,
   "id": "562dec01-5b09-4c9a-9ac8-7c3dc67476b8",
   "metadata": {},
   "outputs": [
    {
     "data": {
      "text/plain": [
       "array([60, 55, 70])"
      ]
     },
     "execution_count": 478,
     "metadata": {},
     "output_type": "execute_result"
    }
   ],
   "source": [
    "kor[(kor >= 50) & (kor <= 80)]"
   ]
  },
  {
   "cell_type": "code",
   "execution_count": 489,
   "id": "a606eccb-db0d-4fa0-aae7-fd8f79129d5f",
   "metadata": {},
   "outputs": [
    {
     "name": "stdout",
     "output_type": "stream",
     "text": [
      "54.166666666666664\n"
     ]
    },
    {
     "data": {
      "text/plain": [
       "(54.166666666666664, 325)"
      ]
     },
     "execution_count": 489,
     "metadata": {},
     "output_type": "execute_result"
    }
   ],
   "source": [
    "print((60+55+70+30+20+90)/6)\n",
    "np.mean(kor), np.sum(kor)"
   ]
  },
  {
   "cell_type": "code",
   "execution_count": 503,
   "id": "5270dabd-707d-45ec-9d42-0d1f420f5521",
   "metadata": {},
   "outputs": [
    {
     "name": "stdout",
     "output_type": "stream",
     "text": [
      "[60 55 70 90]\n",
      "[60 55 70 30 20 90]\n"
     ]
    }
   ],
   "source": [
    "r=np.delete(kor,kor <= 40)\n",
    "print(r)\n",
    "print(kor)"
   ]
  },
  {
   "cell_type": "code",
   "execution_count": 531,
   "id": "521a9be1-9b7e-415b-9e58-ac179178ef7a",
   "metadata": {},
   "outputs": [
    {
     "data": {
      "text/plain": [
       "[66.0, 60.50000000000001, 77.0, 30, 20, 99.00000000000001]"
      ]
     },
     "execution_count": 531,
     "metadata": {},
     "output_type": "execute_result"
    }
   ],
   "source": [
    "np.where(kor < 50, kor, kor*1.1)     # 1 <-> n\n",
    "[i*1.1 if i>=50 else i for i in kor] # n"
   ]
  },
  {
   "cell_type": "code",
   "execution_count": 564,
   "id": "8269d9f0-4558-47a9-85bd-3294eb83a37d",
   "metadata": {},
   "outputs": [
    {
     "data": {
      "text/plain": [
       "array([90, 70, 60])"
      ]
     },
     "execution_count": 564,
     "metadata": {},
     "output_type": "execute_result"
    }
   ],
   "source": [
    "r=np.sort(kor)[::-1][:3]\n",
    "r"
   ]
  },
  {
   "cell_type": "code",
   "execution_count": 566,
   "id": "29b3fd9b-68b5-4576-b8f2-706a38872fdc",
   "metadata": {},
   "outputs": [
    {
     "data": {
      "text/plain": [
       "['불합격', '불합격', '합격', '불합격', '불합격', '합격']"
      ]
     },
     "execution_count": 566,
     "metadata": {},
     "output_type": "execute_result"
    }
   ],
   "source": [
    "[\"합격\" if i==True else \"불합격\" for i in kor>=70]"
   ]
  },
  {
   "cell_type": "code",
   "execution_count": 133,
   "id": "1768aac7-8f49-4715-bab1-cd892b561ab2",
   "metadata": {},
   "outputs": [],
   "source": [
    "kor = np.array( [60,55,70,30,20,90])\n"
   ]
  },
  {
   "cell_type": "code",
   "execution_count": 135,
   "id": "306a7066-dc57-4935-bfcb-56c3c1bf3080",
   "metadata": {},
   "outputs": [
    {
     "data": {
      "text/plain": [
       "90"
      ]
     },
     "execution_count": 135,
     "metadata": {},
     "output_type": "execute_result"
    }
   ],
   "source": [
    "np.max(kor)"
   ]
  },
  {
   "cell_type": "code",
   "execution_count": 147,
   "id": "3551683e-f1e8-4503-8764-fa516dcf7d46",
   "metadata": {},
   "outputs": [
    {
     "data": {
      "text/plain": [
       "array([90])"
      ]
     },
     "execution_count": 147,
     "metadata": {},
     "output_type": "execute_result"
    }
   ],
   "source": [
    "kor[kor>80]"
   ]
  },
  {
   "cell_type": "code",
   "execution_count": 173,
   "id": "b1fc7c72-d571-4aae-9ffc-5a5daebdc33c",
   "metadata": {},
   "outputs": [
    {
     "data": {
      "text/plain": [
       "array([60, 55, 70])"
      ]
     },
     "execution_count": 173,
     "metadata": {},
     "output_type": "execute_result"
    }
   ],
   "source": [
    "kor[(50 <= kor) & (kor <= 80)]"
   ]
  },
  {
   "cell_type": "code",
   "execution_count": 175,
   "id": "fe8e9ae4-c9d2-4e31-b39d-da76ca4d64cc",
   "metadata": {},
   "outputs": [
    {
     "data": {
      "text/plain": [
       "54.166666666666664"
      ]
     },
     "execution_count": 175,
     "metadata": {},
     "output_type": "execute_result"
    }
   ],
   "source": [
    "np.average(kor)"
   ]
  },
  {
   "cell_type": "code",
   "execution_count": 177,
   "id": "8e1c3bc6-7e21-4bae-bd7c-b96c39f5a084",
   "metadata": {},
   "outputs": [
    {
     "data": {
      "text/plain": [
       "325"
      ]
     },
     "execution_count": 177,
     "metadata": {},
     "output_type": "execute_result"
    }
   ],
   "source": [
    "np.sum(kor)"
   ]
  },
  {
   "cell_type": "code",
   "execution_count": 180,
   "id": "9a0f084a-290a-4511-80b2-0695f7c58ee0",
   "metadata": {},
   "outputs": [
    {
     "data": {
      "text/plain": [
       "array([60, 55, 70, 90])"
      ]
     },
     "execution_count": 180,
     "metadata": {},
     "output_type": "execute_result"
    }
   ],
   "source": [
    "np.delete(kor,kor<40)"
   ]
  },
  {
   "cell_type": "code",
   "execution_count": 184,
   "id": "8c31e788-5b82-4123-b830-bf9910081492",
   "metadata": {},
   "outputs": [
    {
     "data": {
      "text/plain": [
       "[66.0, 60.50000000000001, 77.0, 30, 20, 99.00000000000001]"
      ]
     },
     "execution_count": 184,
     "metadata": {},
     "output_type": "execute_result"
    }
   ],
   "source": [
    "[i*1.1 if i > 50 else i for i in kor]"
   ]
  },
  {
   "cell_type": "code",
   "execution_count": 190,
   "id": "c01d470d-3f2c-4e9b-9ec9-dc551164e59d",
   "metadata": {},
   "outputs": [
    {
     "data": {
      "text/plain": [
       "array([90, 70, 60])"
      ]
     },
     "execution_count": 190,
     "metadata": {},
     "output_type": "execute_result"
    }
   ],
   "source": [
    "np.sort(kor)[::-1][:3]"
   ]
  },
  {
   "cell_type": "code",
   "execution_count": 196,
   "id": "65ccd3ac-6eae-49bc-9207-1a317349d77e",
   "metadata": {},
   "outputs": [
    {
     "name": "stdout",
     "output_type": "stream",
     "text": [
      "['불합격', '불합격', '합격', '불합격', '불합격', '합격']\n"
     ]
    }
   ],
   "source": [
    "r = [ \"합격\" if i >= 70 else \"불합격\" for i in kor] \n",
    "print(r)"
   ]
  },
  {
   "cell_type": "code",
   "execution_count": 576,
   "id": "96335828-c060-4b3e-8eaf-b48a2ac3ef43",
   "metadata": {},
   "outputs": [
    {
     "data": {
      "text/plain": [
       "\u001b[1;31mCall signature:\u001b[0m  \u001b[0mnp\u001b[0m\u001b[1;33m.\u001b[0m\u001b[0mwhere\u001b[0m\u001b[1;33m(\u001b[0m\u001b[1;33m*\u001b[0m\u001b[0margs\u001b[0m\u001b[1;33m,\u001b[0m \u001b[1;33m**\u001b[0m\u001b[0mkwargs\u001b[0m\u001b[1;33m)\u001b[0m\u001b[1;33m\u001b[0m\u001b[1;33m\u001b[0m\u001b[0m\n",
       "\u001b[1;31mType:\u001b[0m            _ArrayFunctionDispatcher\n",
       "\u001b[1;31mString form:\u001b[0m     <built-in function where>\n",
       "\u001b[1;31mDocstring:\u001b[0m      \n",
       "where(condition, [x, y], /)\n",
       "\n",
       "Return elements chosen from `x` or `y` depending on `condition`.\n",
       "\n",
       ".. note::\n",
       "    When only `condition` is provided, this function is a shorthand for\n",
       "    ``np.asarray(condition).nonzero()``. Using `nonzero` directly should be\n",
       "    preferred, as it behaves correctly for subclasses. The rest of this\n",
       "    documentation covers only the case where all three arguments are\n",
       "    provided.\n",
       "\n",
       "Parameters\n",
       "----------\n",
       "condition : array_like, bool\n",
       "    Where True, yield `x`, otherwise yield `y`.\n",
       "x, y : array_like\n",
       "    Values from which to choose. `x`, `y` and `condition` need to be\n",
       "    broadcastable to some shape.\n",
       "\n",
       "Returns\n",
       "-------\n",
       "out : ndarray\n",
       "    An array with elements from `x` where `condition` is True, and elements\n",
       "    from `y` elsewhere.\n",
       "\n",
       "See Also\n",
       "--------\n",
       "choose\n",
       "nonzero : The function that is called when x and y are omitted\n",
       "\n",
       "Notes\n",
       "-----\n",
       "If all the arrays are 1-D, `where` is equivalent to::\n",
       "\n",
       "    [xv if c else yv\n",
       "     for c, xv, yv in zip(condition, x, y)]\n",
       "\n",
       "Examples\n",
       "--------\n",
       ">>> a = np.arange(10)\n",
       ">>> a\n",
       "array([0, 1, 2, 3, 4, 5, 6, 7, 8, 9])\n",
       ">>> np.where(a < 5, a, 10*a)\n",
       "array([ 0,  1,  2,  3,  4, 50, 60, 70, 80, 90])\n",
       "\n",
       "This can be used on multidimensional arrays too:\n",
       "\n",
       ">>> np.where([[True, False], [True, True]],\n",
       "...          [[1, 2], [3, 4]],\n",
       "...          [[9, 8], [7, 6]])\n",
       "array([[1, 8],\n",
       "       [3, 4]])\n",
       "\n",
       "The shapes of x, y, and the condition are broadcast together:\n",
       "\n",
       ">>> x, y = np.ogrid[:3, :4]\n",
       ">>> np.where(x < y, x, 10 + y)  # both x and 10+y are broadcast\n",
       "array([[10,  0,  0,  0],\n",
       "       [10, 11,  1,  1],\n",
       "       [10, 11, 12,  2]])\n",
       "\n",
       ">>> a = np.array([[0, 1, 2],\n",
       "...               [0, 2, 4],\n",
       "...               [0, 3, 6]])\n",
       ">>> np.where(a < 4, a, -1)  # -1 is broadcast\n",
       "array([[ 0,  1,  2],\n",
       "       [ 0,  2, -1],\n",
       "       [ 0,  3, -1]])\n",
       "\u001b[1;31mClass docstring:\u001b[0m\n",
       "Class to wrap functions with checks for __array_function__ overrides.\n",
       "\n",
       "All arguments are required, and can only be passed by position.\n",
       "\n",
       "Parameters\n",
       "----------\n",
       "dispatcher : function or None\n",
       "    The dispatcher function that returns a single sequence-like object\n",
       "    of all arguments relevant.  It must have the same signature (except\n",
       "    the default values) as the actual implementation.\n",
       "    If ``None``, this is a ``like=`` dispatcher and the\n",
       "    ``_ArrayFunctionDispatcher`` must be called with ``like`` as the\n",
       "    first (additional and positional) argument.\n",
       "implementation : function\n",
       "    Function that implements the operation on NumPy arrays without\n",
       "    overrides.  Arguments passed calling the ``_ArrayFunctionDispatcher``\n",
       "    will be forwarded to this (and the ``dispatcher``) as if using\n",
       "    ``*args, **kwargs``.\n",
       "\n",
       "Attributes\n",
       "----------\n",
       "_implementation : function\n",
       "    The original implementation passed in."
      ]
     },
     "metadata": {},
     "output_type": "display_data"
    }
   ],
   "source": [
    "kor>=70\n",
    "np.where(kor>=70, \"합격\", \"불합격\")"
   ]
  },
  {
   "cell_type": "markdown",
   "id": "715b435c-f689-48c0-a1ba-8ea2982fdd93",
   "metadata": {
    "tags": [],
    "toc-hr-collapsed": true
   },
   "source": [
    "# Numpy Quiz Answer"
   ]
  },
  {
   "cell_type": "code",
   "execution_count": null,
   "id": "d4232f58-8770-4629-ae77-49f5c0e8fbe7",
   "metadata": {},
   "outputs": [],
   "source": []
  },
  {
   "cell_type": "code",
   "execution_count": null,
   "id": "89131a63-0026-4960-a5b1-f0c3202085c7",
   "metadata": {},
   "outputs": [],
   "source": []
  },
  {
   "cell_type": "code",
   "execution_count": null,
   "id": "ab1b9a53-31cc-4d76-abef-3cd61fc4cc4a",
   "metadata": {},
   "outputs": [],
   "source": []
  },
  {
   "cell_type": "markdown",
   "id": "d2bc320b-688e-4c2d-9aa4-d12e8e7329a7",
   "metadata": {},
   "source": [
    "## Q1. 다음과 같은 리스트를 이용하여 넘파이 배열을 만들고 전체 갯수, 차원, 데이터형, 구조를 출력하여라\n",
    "```\n",
    "['강아지', '원숭이', '꽃', '45', '100']\n",
    "array(['강아지', '원숭이', '꽃', '45', '100'], dtype='<U3')\n",
    "차원 ? 1\n",
    "전체 갯수 ? 5\n",
    "데이터형 ? <U3\n",
    "전체 구조  ? (5,)\n",
    "```"
   ]
  },
  {
   "cell_type": "code",
   "execution_count": 1,
   "id": "b0e8a582-7507-4dcd-9ab2-4219929de1ee",
   "metadata": {},
   "outputs": [],
   "source": [
    "import numpy as np"
   ]
  },
  {
   "cell_type": "code",
   "execution_count": 4,
   "id": "fdeb39c1-6a25-4ce4-82e2-37b7352d24da",
   "metadata": {
    "ExecuteTime": {
     "end_time": "2023-10-31T17:28:18.247075Z",
     "start_time": "2023-10-31T17:28:18.238754Z"
    }
   },
   "outputs": [
    {
     "data": {
      "text/plain": [
       "(array(['강아지', '원숭이', '꽃', '45', '100'], dtype='<U11'),\n",
       " 1,\n",
       " 5,\n",
       " numpy.ndarray,\n",
       " dtype('<U11'),\n",
       " (5,))"
      ]
     },
     "execution_count": 4,
     "metadata": {},
     "output_type": "execute_result"
    }
   ],
   "source": [
    "a = np.array(['강아지', '원숭이', '꽃', 45, 100])\n",
    "a, a.ndim, a.size, type(a), a.dtype, a.shape"
   ]
  },
  {
   "cell_type": "markdown",
   "id": "a7b83989-d07b-42fd-8714-3d6be548d962",
   "metadata": {},
   "source": [
    "## Q2. np.ones()를 이용하여 2행 3열의 넘파이 배열을 생성하여라\n",
    "```\n",
    "array([[1., 1., 1.],\n",
    "       [1., 1., 1.]])\n",
    "```"
   ]
  },
  {
   "cell_type": "code",
   "execution_count": 6,
   "id": "d8fe8612-d656-478d-a46e-daca6ee64060",
   "metadata": {
    "ExecuteTime": {
     "end_time": "2021-11-23T08:50:18.403707Z",
     "start_time": "2021-11-23T08:50:18.398720Z"
    }
   },
   "outputs": [
    {
     "data": {
      "text/plain": [
       "array([[1., 1., 1.],\n",
       "       [1., 1., 1.]])"
      ]
     },
     "execution_count": 6,
     "metadata": {},
     "output_type": "execute_result"
    }
   ],
   "source": [
    "np.ones( (2, 3) )"
   ]
  },
  {
   "cell_type": "markdown",
   "id": "1444a3f4-b113-46f3-ad52-6d0331e2a808",
   "metadata": {},
   "source": [
    "## Q3. np.arange(), np.reshape()를 이용하여 다음과 같은 넘파이 배열을 생성하여라\n",
    "```\n",
    "array([[51, 52, 53, 54, 55],\n",
    "       [56, 57, 58, 59, 60],\n",
    "       [61, 62, 63, 64, 65],\n",
    "       [66, 67, 68, 69, 70],\n",
    "       [71, 72, 73, 74, 75],\n",
    "       [76, 77, 78, 79, 80]])\n",
    "```"
   ]
  },
  {
   "cell_type": "code",
   "execution_count": 8,
   "id": "390648bc-f5d0-4dc2-8862-8f6b0d94bfdb",
   "metadata": {
    "ExecuteTime": {
     "end_time": "2021-11-24T00:25:00.549649Z",
     "start_time": "2021-11-24T00:25:00.543660Z"
    },
    "scrolled": true
   },
   "outputs": [
    {
     "data": {
      "text/plain": [
       "array([[51, 52, 53, 54, 55],\n",
       "       [56, 57, 58, 59, 60],\n",
       "       [61, 62, 63, 64, 65],\n",
       "       [66, 67, 68, 69, 70],\n",
       "       [71, 72, 73, 74, 75],\n",
       "       [76, 77, 78, 79, 80]])"
      ]
     },
     "execution_count": 8,
     "metadata": {},
     "output_type": "execute_result"
    }
   ],
   "source": [
    "arr = np.arange(51,81).reshape(6,5)\n",
    "# np.arange(51,81).reshape(-1,5)\n",
    "arr"
   ]
  },
  {
   "cell_type": "markdown",
   "id": "1353d2f5-73ff-4971-b227-c11571127ea4",
   "metadata": {},
   "source": [
    "## Q4. Q3의 넘파이 배열의 자료형을 float로 변경하고 데이터형을 출력하여라\n",
    "```\n",
    "array([[51., 52., 53., 54., 55.],\n",
    "       [56., 57., 58., 59., 60.],\n",
    "       [61., 62., 63., 64., 65.],\n",
    "       [66., 67., 68., 69., 70.],\n",
    "       [71., 72., 73., 74., 75.],\n",
    "       [76., 77., 78., 79., 80.]])\n",
    "```\n",
    "-------------------------------------  \n",
    "\n",
    "dtype('float64')"
   ]
  },
  {
   "cell_type": "code",
   "execution_count": 9,
   "id": "961d0cb1-cca3-4076-94a8-a0226e0b01b4",
   "metadata": {
    "ExecuteTime": {
     "end_time": "2021-11-24T00:25:02.941446Z",
     "start_time": "2021-11-24T00:25:02.924526Z"
    }
   },
   "outputs": [
    {
     "data": {
      "text/plain": [
       "dtype('float64')"
      ]
     },
     "execution_count": 9,
     "metadata": {},
     "output_type": "execute_result"
    }
   ],
   "source": [
    "arr = arr.astype(float)\n",
    "arr.dtype"
   ]
  },
  {
   "cell_type": "markdown",
   "id": "ff278033-d6d3-4db1-86a2-00dbcdbd998f",
   "metadata": {},
   "source": [
    "## Q5. 다음과 같이 넘파이 배열을 생성한 후 1차원 배열로 변경하고 슬라이싱하여라 \n",
    "\n",
    "```\n",
    "array([[ 1,  4,  5,  6],\n",
    "       [56, 23, 45, 67],\n",
    "       [ 8,  4,  6, 10]])\n",
    "       \n",
    "array([ 1,  4,  5,  6, 56, 23, 45, 67,  8,  4,  6, 10])\n",
    "\n",
    "\n",
    "array([23, 45, 67,  8,  4,  6])\n",
    "```       "
   ]
  },
  {
   "cell_type": "code",
   "execution_count": 10,
   "id": "3dd43fc3-c53c-4de2-a8a5-c5258f049846",
   "metadata": {
    "ExecuteTime": {
     "end_time": "2021-11-24T00:28:34.761603Z",
     "start_time": "2021-11-24T00:28:34.751630Z"
    }
   },
   "outputs": [
    {
     "name": "stdout",
     "output_type": "stream",
     "text": [
      "[23 45 67  8  4  6]\n",
      "[23 45 67  8  4  6]\n"
     ]
    }
   ],
   "source": [
    "arr2d = np.array([[ 1,  4,  5,  6], [56, 23, 45, 67], [ 8,  4,  6, 10]])\n",
    "print(arr2d.flatten()[5:11])\n",
    "print(arr2d.flatten()[5:-1])"
   ]
  },
  {
   "cell_type": "markdown",
   "id": "0e077dce-6656-4d7d-b13b-715fd49b841d",
   "metadata": {},
   "source": [
    "## Q6. 다음과 같은 넘파이 배열을 생성한 후 아이템을 교체하여라 \n",
    "\n",
    "```\n",
    "array([ 1,  2,  3,  4,  5,  6,  7,  8,  9, 10])\n",
    "\n",
    "array([10,  2,  3,  4,  5,  6,  7,  0,  0,  0])\n",
    "\n",
    "```"
   ]
  },
  {
   "cell_type": "code",
   "execution_count": 11,
   "id": "ba727246-e266-47cd-afb1-21395f5a3d59",
   "metadata": {
    "ExecuteTime": {
     "end_time": "2021-11-24T00:31:24.685935Z",
     "start_time": "2021-11-24T00:31:24.665988Z"
    }
   },
   "outputs": [
    {
     "data": {
      "text/plain": [
       "array([10,  2,  3,  4,  5,  6,  7,  0,  0,  0])"
      ]
     },
     "execution_count": 11,
     "metadata": {},
     "output_type": "execute_result"
    }
   ],
   "source": [
    "arr = np.array([ 1,  2,  3,  4,  5,  6,  7,  8,  9, 10])\n",
    "arr[0] = 10\n",
    "arr[7:] = 0\n",
    "arr"
   ]
  },
  {
   "cell_type": "code",
   "execution_count": 326,
   "id": "f7d28971-ecb8-4c04-92da-8bcc26fe68a4",
   "metadata": {},
   "outputs": [
    {
     "data": {
      "text/plain": [
       "array([10,  2,  3,  4,  5,  6,  7,  0,  0,  0])"
      ]
     },
     "execution_count": 326,
     "metadata": {},
     "output_type": "execute_result"
    }
   ],
   "source": [
    "arr = np.array([ 1,  2,  3,  4,  5,  6,  7,  8,  9, 10])\n",
    "arr[0] = 10\n",
    "arr[7:] = 0\n",
    "arr"
   ]
  },
  {
   "cell_type": "markdown",
   "id": "dd20781c-db26-40d7-b30c-8db9ad8b921a",
   "metadata": {},
   "source": [
    "## Q7. 2자리의 숫자로 구성된 넘파이 배열(5행5열)을 만들어라. 숫자는 난수를 이용한다. \n",
    "\n",
    "```\n",
    "[[63 85 71 67 15]\n",
    " [31 81 69 17 97]\n",
    " [25 41 33 23 39]\n",
    " [39 43 59 33 43]\n",
    " [23 51 65 91 23]]\n",
    "\n",
    "```"
   ]
  },
  {
   "cell_type": "code",
   "execution_count": 12,
   "id": "68665198-af99-4d98-90a7-691f506d59f5",
   "metadata": {
    "ExecuteTime": {
     "end_time": "2021-11-24T00:33:15.839381Z",
     "start_time": "2021-11-24T00:33:15.825430Z"
    }
   },
   "outputs": [
    {
     "data": {
      "text/plain": [
       "array([[90, 30, 97, 56, 85],\n",
       "       [14, 50, 44, 80, 53],\n",
       "       [63, 61, 53, 76, 84],\n",
       "       [44, 90, 12, 20, 21],\n",
       "       [60, 58, 98, 57, 42]])"
      ]
     },
     "execution_count": 12,
     "metadata": {},
     "output_type": "execute_result"
    }
   ],
   "source": [
    "np.random.randint(10,99,25).reshape(5,5)\n",
    "np.random.randint(10,99,(5,5))"
   ]
  },
  {
   "cell_type": "markdown",
   "id": "2c116d89-fe20-467e-acc1-1941d68c386f",
   "metadata": {},
   "source": [
    "## Q8. 1~100 사이의 정수중 7개의 숫자를 무작위로 추출한 후 가장 큰값과 가장 작은 값을 출력하여라.\n",
    "[91, 65, 14, 66, 65, 98, 34]\n",
    "\n",
    "max = 98\n",
    "min = 14"
   ]
  },
  {
   "cell_type": "code",
   "execution_count": 11,
   "id": "369422ff-44bd-4577-ba7d-a92a87a5cdcf",
   "metadata": {
    "ExecuteTime": {
     "end_time": "2021-11-24T00:34:35.620374Z",
     "start_time": "2021-11-24T00:34:35.607409Z"
    },
    "scrolled": true
   },
   "outputs": [
    {
     "data": {
      "text/plain": [
       "(array([71, 90,  9, 49, 55, 57, 34]), 90, 9)"
      ]
     },
     "execution_count": 11,
     "metadata": {},
     "output_type": "execute_result"
    }
   ],
   "source": [
    "num = np.random.randint(1,100,7)\n",
    "num, np.max(num), np.min(num)"
   ]
  },
  {
   "cell_type": "markdown",
   "id": "f5fa7cc6-8b9c-41fc-b630-f8e9c63df075",
   "metadata": {},
   "source": [
    "## Q9. 다음과 같은 3개의 넘파이 배열을 생성한 후 다음과 같이 합쳐라\n",
    "```\n",
    "[[1, 2, 3],\n",
    " [4, 5, 6],\n",
    " [7, 8, 9]]\n",
    "\n",
    "\n",
    "[[11, 12, 13],\n",
    " [14, 15, 16],\n",
    " [17, 18, 19]]\n",
    "\n",
    "\n",
    "[[21, 22, 23],\n",
    " [24, 25, 26],\n",
    " [27, 28, 29]]\n",
    "\n",
    " ----------\n",
    "  Result1 \n",
    "\n",
    " [[ 1,  2,  3, 11, 12, 13, 21, 22, 23],\n",
    "  [ 4,  5,  6, 14, 15, 16, 24, 25, 26],\n",
    "  [ 7,  8,  9, 17, 18, 19, 27, 28, 29]] \n",
    "\n",
    "\n",
    "  ----------\n",
    "  Result2\n",
    "\n",
    " [[ 1,  2,  3],\n",
    "  [ 4,  5,  6],\n",
    "  [ 7,  8,  9],\n",
    "  [11, 12, 13],\n",
    "  [14, 15, 16],\n",
    "  [17, 18, 19],\n",
    "  [21, 22, 23],\n",
    "  [24, 25, 26],\n",
    "  [27, 28, 29]]\n",
    "```"
   ]
  },
  {
   "cell_type": "code",
   "execution_count": 13,
   "id": "0b2a547f-a26f-4be3-9a53-a2bf4559f44e",
   "metadata": {
    "ExecuteTime": {
     "end_time": "2021-11-24T00:40:26.980457Z",
     "start_time": "2021-11-24T00:40:26.958504Z"
    }
   },
   "outputs": [
    {
     "data": {
      "text/plain": [
       "(array([[ 1,  2,  3],\n",
       "        [ 4,  5,  6],\n",
       "        [ 7,  8,  9],\n",
       "        [11, 12, 13],\n",
       "        [14, 15, 16],\n",
       "        [17, 18, 19],\n",
       "        [21, 22, 23],\n",
       "        [24, 25, 26],\n",
       "        [27, 28, 29]]),\n",
       " array([[ 1,  2,  3, 11, 12, 13, 21, 22, 23],\n",
       "        [ 4,  5,  6, 14, 15, 16, 24, 25, 26],\n",
       "        [ 7,  8,  9, 17, 18, 19, 27, 28, 29]]))"
      ]
     },
     "execution_count": 13,
     "metadata": {},
     "output_type": "execute_result"
    }
   ],
   "source": [
    "a = np.array([[1, 2, 3], [4, 5, 6], [7, 8, 9]])\n",
    "b = np.array([[11, 12, 13], [14, 15, 16], [17, 18, 19]])\n",
    "c = np.array([[21, 22, 23], [24, 25, 26], [27, 28, 29]])\n",
    "\n",
    "# result1 \n",
    "result2 = np.hstack((a, b, c))\n",
    "\n",
    "# result2 \n",
    "result1 = np.vstack((a, b, c))\n",
    "\n",
    "result1, result2"
   ]
  },
  {
   "cell_type": "markdown",
   "id": "f984df69-8b67-422b-9cc9-e41373da19ca",
   "metadata": {},
   "source": [
    "## Q10. 아래와 같이 넘파이 배열을 생성한 후 50보다 큰 숫자만 필터링하여라. \n",
    "\n",
    "```\n",
    "arr = np.random.choice(100, 40, replace=False)\n",
    "\n",
    "Before => \n",
    "\n",
    "[40, 63,  8,  2, 35, 84, 72, 48, 78, 86, 87, 58,  0, 49, 14, 55, 11,\n",
    "       73, 39, 26, 75, 27, 99, 46, 25, 22, 34, 83, 24, 47, 31, 57, 62, 19,\n",
    "       36, 15, 17, 10, 98, 90]\n",
    "\n",
    "\n",
    "After =>\n",
    "\n",
    "[63, 84, 72, 78, 86, 87, 58, 55, 73, 75, 99, 83, 57, 62, 98, 90]\n",
    "\n",
    "\n",
    "```"
   ]
  },
  {
   "cell_type": "code",
   "execution_count": 14,
   "id": "27bae697-c248-4c7f-be99-abce0447a3e1",
   "metadata": {
    "ExecuteTime": {
     "end_time": "2021-11-24T04:12:29.152196Z",
     "start_time": "2021-11-24T04:12:29.147229Z"
    }
   },
   "outputs": [
    {
     "data": {
      "text/plain": [
       "(array([51,  4, 39, 64, 16, 85, 86, 88, 56, 76, 70, 15, 18,  5, 40, 25, 23,\n",
       "        62, 57, 11, 28, 47, 52, 49, 54, 83, 35, 96, 46, 53, 81, 82, 34, 97,\n",
       "        59, 84, 67, 27,  6, 42]),\n",
       " array([51, 64, 85, 86, 88, 56, 76, 70, 62, 57, 52, 54, 83, 96, 53, 81, 82,\n",
       "        97, 59, 84, 67]),\n",
       " array([51, 64, 85, 86, 88, 56, 76, 70, 62, 57, 52, 54, 83, 96, 53, 81, 82,\n",
       "        97, 59, 84, 67]))"
      ]
     },
     "execution_count": 14,
     "metadata": {},
     "output_type": "execute_result"
    }
   ],
   "source": [
    "# 중복없이, 100까지 숫자중 40개를 추출가능, randint는 중복생김\n",
    "n = np.random.choice(100, 40, replace=False)\n",
    "# 50보다 큰 숫자만 필터링\n",
    "n, n[np.where(n>50)] , n[n>50]"
   ]
  },
  {
   "cell_type": "markdown",
   "id": "e718cf37-5e18-4c0f-ac11-76f8cd510f1c",
   "metadata": {},
   "source": [
    "## Quiz11. 종합\n",
    "```\n",
    "kor = np.array( [60,55,70,30,20,90])\n",
    "1. 국어점수가 가장큰값을 구하여라\n",
    "2. 국어점수가 80점이상인 값을 구하여라\n",
    "3. 국어 점수가 50점이상 80점 이하인 값을 구하여라\n",
    "4. 국어점수의 평균을 구하여라\n",
    "5. 국어점수의 총합을 구하여라.\n",
    "6. 국어점수가 40점이하인 데이터를 삭제하여라\n",
    "7. 국어점수가 50점이상인 데이터에 가산점 10%를 부여하여라\n",
    "8. 국어점수 top 3를 구하여라\n",
    "9. 국어점수가 70점이상이면 '합격' , 아니면 '불합격'으로 출력하라\n",
    "```"
   ]
  },
  {
   "cell_type": "code",
   "execution_count": 15,
   "id": "f687ef7c-4da0-4839-bfff-f2baf4879093",
   "metadata": {
    "ExecuteTime": {
     "end_time": "2021-11-24T02:33:52.238430Z",
     "start_time": "2021-11-24T02:33:52.227460Z"
    }
   },
   "outputs": [],
   "source": [
    "kor = np.array( [60,55,70,30,20,90])"
   ]
  },
  {
   "cell_type": "code",
   "execution_count": 16,
   "id": "9dc86b8d-6bae-45e1-b4ea-0861802b8537",
   "metadata": {
    "ExecuteTime": {
     "end_time": "2021-11-24T02:34:53.359039Z",
     "start_time": "2021-11-24T02:34:53.339106Z"
    }
   },
   "outputs": [
    {
     "data": {
      "text/plain": [
       "90"
      ]
     },
     "execution_count": 16,
     "metadata": {},
     "output_type": "execute_result"
    }
   ],
   "source": [
    "# 국어 점수가 가장 큰값\n",
    "max(kor)"
   ]
  },
  {
   "cell_type": "code",
   "execution_count": 17,
   "id": "c592a269-4fa5-4b02-b83e-2da40fe23907",
   "metadata": {
    "ExecuteTime": {
     "end_time": "2021-11-24T02:37:02.636995Z",
     "start_time": "2021-11-24T02:37:02.618045Z"
    }
   },
   "outputs": [
    {
     "data": {
      "text/plain": [
       "array([90])"
      ]
     },
     "execution_count": 17,
     "metadata": {},
     "output_type": "execute_result"
    }
   ],
   "source": [
    "# 국어점수가 80점이상인 값을 구하여라\n",
    "kor[(kor>=80)]"
   ]
  },
  {
   "cell_type": "code",
   "execution_count": 141,
   "id": "74053d31-5ee6-4769-90c0-f5a312817c1f",
   "metadata": {
    "ExecuteTime": {
     "end_time": "2021-11-24T02:37:21.108369Z",
     "start_time": "2021-11-24T02:37:21.098396Z"
    }
   },
   "outputs": [
    {
     "data": {
      "text/plain": [
       "array([60, 55, 70])"
      ]
     },
     "execution_count": 141,
     "metadata": {},
     "output_type": "execute_result"
    }
   ],
   "source": [
    "#  국어 점수가 50점이상 80점 이하인 값을 구하여라\n",
    "kor[(kor>= 50) & (kor <=80)]"
   ]
  },
  {
   "cell_type": "code",
   "execution_count": 19,
   "id": "6ff5d373-eaf9-49de-9601-6164c57430e8",
   "metadata": {
    "ExecuteTime": {
     "end_time": "2021-11-24T04:18:29.200637Z",
     "start_time": "2021-11-24T04:18:29.187672Z"
    }
   },
   "outputs": [
    {
     "data": {
      "text/plain": [
       "(54.166666666666664, 54.167)"
      ]
     },
     "execution_count": 19,
     "metadata": {},
     "output_type": "execute_result"
    }
   ],
   "source": [
    "# 국어점수의 평균을 구하여라\n",
    "np.average(kor), round(kor.mean(),3)"
   ]
  },
  {
   "cell_type": "code",
   "execution_count": 20,
   "id": "d315d1ca-4ae4-404e-afd9-836d86154d11",
   "metadata": {
    "ExecuteTime": {
     "end_time": "2021-11-24T02:38:01.791001Z",
     "start_time": "2021-11-24T02:38:01.783024Z"
    },
    "scrolled": true
   },
   "outputs": [
    {
     "data": {
      "text/plain": [
       "325"
      ]
     },
     "execution_count": 20,
     "metadata": {},
     "output_type": "execute_result"
    }
   ],
   "source": [
    "# 국어점수의 총합을 구하여라.\n",
    "np.sum(kor)"
   ]
  },
  {
   "cell_type": "code",
   "execution_count": 22,
   "id": "13650b0b-007b-4029-ae7f-cb466a30ccaf",
   "metadata": {
    "ExecuteTime": {
     "end_time": "2021-11-24T04:19:34.284000Z",
     "start_time": "2021-11-24T04:19:34.270051Z"
    }
   },
   "outputs": [
    {
     "data": {
      "text/plain": [
       "(array([60, 55, 70, 30, 20, 90]), array([30, 20]), array([60, 55, 70, 90]))"
      ]
     },
     "execution_count": 22,
     "metadata": {},
     "output_type": "execute_result"
    }
   ],
   "source": [
    "# 국어점수가 40점이하인 데이터를 삭제하여라\n",
    "import copy\n",
    "kor1 = kor.copy()\n",
    "num = kor[kor<=40]\n",
    "kor1, num, np.delete(kor1, np.where(kor<=40))"
   ]
  },
  {
   "cell_type": "code",
   "execution_count": 23,
   "id": "55f33212-3a16-4bdf-b75a-c4027f35b1c7",
   "metadata": {
    "ExecuteTime": {
     "end_time": "2021-11-24T04:20:29.720042Z",
     "start_time": "2021-11-24T04:20:29.705082Z"
    }
   },
   "outputs": [
    {
     "data": {
      "text/plain": [
       "array([66. , 60.5, 77. , 30. , 20. , 99. ])"
      ]
     },
     "execution_count": 23,
     "metadata": {},
     "output_type": "execute_result"
    }
   ],
   "source": [
    "# 국어점수가 50점이상인 데이터에 가산점 10%를 부여하여라\n",
    "np.where(kor>=50, kor*1.1, kor )"
   ]
  },
  {
   "cell_type": "code",
   "execution_count": 24,
   "id": "5c2169fb-39da-450a-884d-51bc50428a39",
   "metadata": {},
   "outputs": [
    {
     "data": {
      "text/plain": [
       "array([20, 30, 55, 60, 70, 90])"
      ]
     },
     "execution_count": 24,
     "metadata": {},
     "output_type": "execute_result"
    }
   ],
   "source": [
    "# 국어점수 top 3를 구하여라\n",
    "np.sort(kor)"
   ]
  },
  {
   "cell_type": "code",
   "execution_count": 26,
   "id": "947a4647-1b8f-46d8-8547-32e51b478a05",
   "metadata": {},
   "outputs": [
    {
     "data": {
      "text/plain": [
       "array([90, 70, 60, 55, 30, 20])"
      ]
     },
     "execution_count": 26,
     "metadata": {},
     "output_type": "execute_result"
    }
   ],
   "source": [
    "np.sort(kor)[::-1]"
   ]
  },
  {
   "cell_type": "code",
   "execution_count": 27,
   "id": "2aeb822b-7f6c-498e-b0f6-ec9cb279d3ba",
   "metadata": {},
   "outputs": [
    {
     "data": {
      "text/plain": [
       "array([5, 2, 0], dtype=int64)"
      ]
     },
     "execution_count": 27,
     "metadata": {},
     "output_type": "execute_result"
    }
   ],
   "source": [
    "np.argsort(kor)[::-1][:3]"
   ]
  },
  {
   "cell_type": "code",
   "execution_count": 22,
   "id": "53bea385-daca-404a-b49d-83aaec5e7265",
   "metadata": {
    "ExecuteTime": {
     "end_time": "2021-11-24T04:27:03.562255Z",
     "start_time": "2021-11-24T04:27:03.553279Z"
    }
   },
   "outputs": [
    {
     "data": {
      "text/plain": [
       "(array([90, 70, 60]), array([90, 70, 60]))"
      ]
     },
     "execution_count": 22,
     "metadata": {},
     "output_type": "execute_result"
    }
   ],
   "source": [
    "# 국어점수 top 3를 구하여라\n",
    "np.sort(kor)[::-1][:3], kor[np.argsort(kor)[::-1][:3]] # 인덱스값으로 실제 값 출력"
   ]
  },
  {
   "cell_type": "code",
   "execution_count": 28,
   "id": "00b94db0-f268-436a-a523-d1284a8b1b20",
   "metadata": {
    "ExecuteTime": {
     "end_time": "2021-11-24T04:29:56.679622Z",
     "start_time": "2021-11-24T04:29:56.669649Z"
    }
   },
   "outputs": [
    {
     "data": {
      "text/plain": [
       "(array([60, 55, 70, 30, 20, 90]),\n",
       " array(['불합격', '불합격', '합격', '불합격', '불합격', '합격'], dtype='<U3'))"
      ]
     },
     "execution_count": 28,
     "metadata": {},
     "output_type": "execute_result"
    }
   ],
   "source": [
    "# 국어점수가 70점이상이면 '합격' , 아니면 '불합격으로' 아래와 같이 출력하시요\n",
    "kor, np.where(kor>=70, \"합격\", \"불합격\")"
   ]
  }
 ],
 "metadata": {
  "kernelspec": {
   "display_name": "Python 3 (ipykernel)",
   "language": "python",
   "name": "python3"
  },
  "language_info": {
   "codemirror_mode": {
    "name": "ipython",
    "version": 3
   },
   "file_extension": ".py",
   "mimetype": "text/x-python",
   "name": "python",
   "nbconvert_exporter": "python",
   "pygments_lexer": "ipython3",
   "version": "3.12.4"
  },
  "toc": {
   "base_numbering": 1,
   "nav_menu": {},
   "number_sections": true,
   "sideBar": true,
   "skip_h1_title": false,
   "title_cell": "Table of Contents",
   "title_sidebar": "Contents",
   "toc_cell": false,
   "toc_position": {
    "height": "calc(100% - 180px)",
    "left": "10px",
    "top": "150px",
    "width": "232px"
   },
   "toc_section_display": true,
   "toc_window_display": true
  },
  "varInspector": {
   "cols": {
    "lenName": 16,
    "lenType": 16,
    "lenVar": 40
   },
   "kernels_config": {
    "python": {
     "delete_cmd_postfix": "",
     "delete_cmd_prefix": "del ",
     "library": "var_list.py",
     "varRefreshCmd": "print(var_dic_list())"
    },
    "r": {
     "delete_cmd_postfix": ") ",
     "delete_cmd_prefix": "rm(",
     "library": "var_list.r",
     "varRefreshCmd": "cat(var_dic_list()) "
    }
   },
   "types_to_exclude": [
    "module",
    "function",
    "builtin_function_or_method",
    "instance",
    "_Feature"
   ],
   "window_display": false
  }
 },
 "nbformat": 4,
 "nbformat_minor": 5
}
