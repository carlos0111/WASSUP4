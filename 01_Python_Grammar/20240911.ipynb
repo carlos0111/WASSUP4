{
 "cells": [
  {
   "cell_type": "code",
   "execution_count": 3,
   "id": "6521a7bb-90a3-4b42-b277-42e6dd82dc15",
   "metadata": {},
   "outputs": [],
   "source": [
    "import numpy as np"
   ]
  },
  {
   "cell_type": "code",
   "execution_count": 43,
   "id": "e4e299df-8673-4a9c-83c5-fbbb49d4a23a",
   "metadata": {},
   "outputs": [
    {
     "name": "stdout",
     "output_type": "stream",
     "text": [
      "[[ 0  3  6  9 12]\n",
      " [ 1  4  7 10 13]\n",
      " [ 2  5  8 11 14]]\n"
     ]
    }
   ],
   "source": [
    "a = np.arange(15, dtype=np.int64).reshape(3,5, order=\"F\")\n",
    "print(a)"
   ]
  },
  {
   "cell_type": "code",
   "execution_count": 41,
   "id": "583c3fdc-d47c-4232-84ff-608541b07771",
   "metadata": {},
   "outputs": [
    {
     "name": "stdout",
     "output_type": "stream",
     "text": [
      "<class 'numpy.ndarray'>\n",
      "(3, 5)\n",
      "int64\n",
      "2\n",
      "15\n"
     ]
    }
   ],
   "source": [
    "print(type(a))\n",
    "print(a.shape)\n",
    "print(a.dtype)\n",
    "print(a.ndim)\n",
    "print(a.size)\n",
    "# print(dir(np))"
   ]
  },
  {
   "cell_type": "code",
   "execution_count": 75,
   "id": "91cdf710-3768-4b74-b65f-aafe1cb5113f",
   "metadata": {},
   "outputs": [
    {
     "name": "stdout",
     "output_type": "stream",
     "text": [
      "[1, 2, 3, 4, 5]\n",
      "=====\n",
      "[[1, 2, 3, 4, 5], [6, 7, 8, 9, 10]]\n",
      "=====\n",
      "[1, 2, 3, 4, 5]\n",
      "-----\n",
      "[6, 7, 8, 9, 10]\n",
      "-----\n",
      "=====\n",
      "1\n",
      "2\n",
      "3\n",
      "4\n",
      "5\n",
      "-----\n",
      "6\n",
      "7\n",
      "8\n",
      "9\n",
      "10\n",
      "-----\n",
      "=====\n",
      "[1, 2, 3, 4, 5]\n",
      "-----\n",
      "[6, 7, 8, 9, 10]\n",
      "-----\n",
      "=====\n",
      "[[1, 2, 3, 4, 5], [6, 7, 8, 9, 10]]\n"
     ]
    }
   ],
   "source": [
    "array = [1,2,3,4,5]\n",
    "array2 = [6,7,8,9,10]\n",
    "new_array = []\n",
    "for i in array :\n",
    "    new_array.append(i)\n",
    "print(new_array)\n",
    "print(\"=====\")\n",
    "\n",
    "\n",
    "\n",
    "array_sum = [array,array2]\n",
    "new_array_sum = []\n",
    "for i in array_sum :\n",
    "    new_array_sum.append(i)\n",
    "print(new_array_sum)\n",
    "print(\"=====\")\n",
    "\n",
    "array_sum = [array,array2]\n",
    "new_array_sum = []\n",
    "for i in array_sum :\n",
    "    print(i)\n",
    "    print(\"-----\")\n",
    "print(\"=====\")\n",
    "\n",
    "\n",
    "array_sum = [array,array2]\n",
    "new_array_sum = []\n",
    "for i in array_sum :\n",
    "    for j in i:\n",
    "        print(j)\n",
    "    print(\"-----\")\n",
    "print(\"=====\")\n",
    "\n",
    "\n",
    "array_sum = [array,array2]\n",
    "for i in array_sum :\n",
    "    inner = []\n",
    "    for j in i :\n",
    "        inner.append(j)\n",
    "    print(inner)\n",
    "    print(\"-----\")\n",
    "print(\"=====\")\n",
    "\n",
    "\n",
    "new_array_sum = []\n",
    "for i in array_sum :\n",
    "    inner = []\n",
    "    for j in i :\n",
    "        inner.append(j)\n",
    "    new_array_sum.append(inner)\n",
    "print(new_array_sum)\n",
    "    "
   ]
  },
  {
   "cell_type": "code",
   "execution_count": 119,
   "id": "f9774808-18b6-4208-b998-b8a660803bcd",
   "metadata": {},
   "outputs": [],
   "source": [
    "b = np.array([-1,2,5,-3,0,7,-9,7,-4,-7],dtype=np.int64)\n",
    "# print(b.reshape(2,5,order=\"F\"))"
   ]
  },
  {
   "cell_type": "code",
   "execution_count": 85,
   "id": "5f43fa0d-bd69-46ea-b8f2-22b2cd0a348b",
   "metadata": {},
   "outputs": [
    {
     "name": "stdout",
     "output_type": "stream",
     "text": [
      "<class 'tuple'>\n",
      "<class 'numpy.ndarray'>\n"
     ]
    }
   ],
   "source": [
    "t = (10,20,30,40,50)\n",
    "print(type(t))\n",
    "t = np.array(t)\n",
    "print(type(t))"
   ]
  },
  {
   "cell_type": "code",
   "execution_count": 105,
   "id": "6424f1b3-6acf-49e4-b007-eb365e2760d6",
   "metadata": {},
   "outputs": [
    {
     "name": "stdout",
     "output_type": "stream",
     "text": [
      "<class 'numpy.ndarray'>\n",
      "1\n"
     ]
    },
    {
     "ename": "ValueError",
     "evalue": "cannot reshape array of size 1 into shape (2,3)",
     "output_type": "error",
     "traceback": [
      "\u001b[1;31m---------------------------------------------------------------------------\u001b[0m",
      "\u001b[1;31mValueError\u001b[0m                                Traceback (most recent call last)",
      "Cell \u001b[1;32mIn[105], line 4\u001b[0m\n\u001b[0;32m      2\u001b[0m \u001b[38;5;28mprint\u001b[39m(\u001b[38;5;28mtype\u001b[39m(t))\n\u001b[0;32m      3\u001b[0m \u001b[38;5;28mprint\u001b[39m(t\u001b[38;5;241m.\u001b[39msize)\n\u001b[1;32m----> 4\u001b[0m r \u001b[38;5;241m=\u001b[39m t\u001b[38;5;241m.\u001b[39mreshape(\u001b[38;5;241m2\u001b[39m,\u001b[38;5;241m3\u001b[39m)\n",
      "\u001b[1;31mValueError\u001b[0m: cannot reshape array of size 1 into shape (2,3)"
     ]
    }
   ],
   "source": [
    "t = np.array(\"hello2\")\n",
    "print(type(t))\n",
    "print(t.size)\n",
    "r = t.reshape(2,3)"
   ]
  },
  {
   "cell_type": "code",
   "execution_count": 103,
   "id": "edbc6b94-3307-434a-a765-a26ec31d3390",
   "metadata": {},
   "outputs": [
    {
     "name": "stdout",
     "output_type": "stream",
     "text": [
      "<class 'numpy.ndarray'>\n"
     ]
    }
   ],
   "source": [
    "s = {10,20,30,40,50}\n",
    "s = np.array(s)\n",
    "print(type(s))"
   ]
  },
  {
   "cell_type": "code",
   "execution_count": 121,
   "id": "6968f964-19e4-470f-871e-e6551d6d56d2",
   "metadata": {},
   "outputs": [
    {
     "name": "stdout",
     "output_type": "stream",
     "text": [
      "(10,)\n",
      "1\n",
      "int64\n",
      "[-1  2  5 -3  0  7 -9  7 -4 -7]\n"
     ]
    }
   ],
   "source": [
    "print(b.shape)\n",
    "print(b.ndim)\n",
    "print(b.dtype)\n",
    "print(b)"
   ]
  },
  {
   "cell_type": "code",
   "execution_count": 123,
   "id": "f1645a6f-2657-4bcb-8aa2-34d56bdd84f8",
   "metadata": {},
   "outputs": [
    {
     "name": "stdout",
     "output_type": "stream",
     "text": [
      "[1 2 5 3 0 7 9 7 4 7]\n"
     ]
    }
   ],
   "source": [
    "print(np.abs(b))"
   ]
  },
  {
   "cell_type": "code",
   "execution_count": 127,
   "id": "d5dd54cf-a52b-4cc0-8a22-87bd834812a5",
   "metadata": {},
   "outputs": [
    {
     "name": "stdout",
     "output_type": "stream",
     "text": [
      "[1.         1.41421356 2.23606798 1.73205081 0.         2.64575131\n",
      " 3.         2.64575131 2.         2.64575131]\n"
     ]
    }
   ],
   "source": [
    "print(np.sqrt(abs(b)))"
   ]
  },
  {
   "cell_type": "code",
   "execution_count": 129,
   "id": "0f9e7fa4-0a42-4900-89cf-476174a0bd39",
   "metadata": {},
   "outputs": [
    {
     "name": "stdout",
     "output_type": "stream",
     "text": [
      "[ 1  4 25  9  0 49 81 49 16 49]\n"
     ]
    }
   ],
   "source": [
    "print(np.square(b))"
   ]
  },
  {
   "cell_type": "code",
   "execution_count": 133,
   "id": "6dc924d5-fb68-4cd4-87dd-667915d359bd",
   "metadata": {},
   "outputs": [
    {
     "name": "stdout",
     "output_type": "stream",
     "text": [
      "[ True False False  True False False  True False  True  True]\n"
     ]
    },
    {
     "name": "stderr",
     "output_type": "stream",
     "text": [
      "C:\\Users\\min\\AppData\\Local\\Temp\\ipykernel_23092\\3348548598.py:1: RuntimeWarning: invalid value encountered in sqrt\n",
      "  print(np.isnan(np.sqrt(b)))\n"
     ]
    }
   ],
   "source": [
    "print(np.isnan(np.sqrt(b)))"
   ]
  },
  {
   "cell_type": "code",
   "execution_count": 147,
   "id": "1fef324d-ed39-46ae-ac87-356d90dd43e4",
   "metadata": {},
   "outputs": [
    {
     "name": "stdout",
     "output_type": "stream",
     "text": [
      "[-1  2  5 -3  0  7 -9  7 -4 -7]\n",
      "-3\n",
      "[-9 -7 -4 -3 -1  0  2  5  7  7]\n",
      "-0.3\n",
      "7\n",
      "-9\n",
      "5\n"
     ]
    }
   ],
   "source": [
    "print(b)\n",
    "print(np.sum(b))\n",
    "print(np.sort(b))\n",
    "print(np.mean(b))\n",
    "print(np.max(b))\n",
    "print(np.min(b))\n",
    "print(np.argmax(b))"
   ]
  },
  {
   "cell_type": "code",
   "execution_count": null,
   "id": "af527d49-a515-41d1-9eba-9b66a6ed2597",
   "metadata": {},
   "outputs": [],
   "source": []
  }
 ],
 "metadata": {
  "kernelspec": {
   "display_name": "Python 3 (ipykernel)",
   "language": "python",
   "name": "python3"
  },
  "language_info": {
   "codemirror_mode": {
    "name": "ipython",
    "version": 3
   },
   "file_extension": ".py",
   "mimetype": "text/x-python",
   "name": "python",
   "nbconvert_exporter": "python",
   "pygments_lexer": "ipython3",
   "version": "3.12.4"
  }
 },
 "nbformat": 4,
 "nbformat_minor": 5
}
