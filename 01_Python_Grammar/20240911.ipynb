{
 "cells": [
  {
   "cell_type": "code",
   "execution_count": 3,
   "id": "6521a7bb-90a3-4b42-b277-42e6dd82dc15",
   "metadata": {},
   "outputs": [],
   "source": [
    "import numpy as np"
   ]
  },
  {
   "cell_type": "code",
   "execution_count": 43,
   "id": "e4e299df-8673-4a9c-83c5-fbbb49d4a23a",
   "metadata": {},
   "outputs": [
    {
     "name": "stdout",
     "output_type": "stream",
     "text": [
      "[[ 0  3  6  9 12]\n",
      " [ 1  4  7 10 13]\n",
      " [ 2  5  8 11 14]]\n"
     ]
    }
   ],
   "source": [
    "a = np.arange(15, dtype=np.int64).reshape(3,5, order=\"F\")\n",
    "print(a)"
   ]
  },
  {
   "cell_type": "code",
   "execution_count": 41,
   "id": "583c3fdc-d47c-4232-84ff-608541b07771",
   "metadata": {},
   "outputs": [
    {
     "name": "stdout",
     "output_type": "stream",
     "text": [
      "<class 'numpy.ndarray'>\n",
      "(3, 5)\n",
      "int64\n",
      "2\n",
      "15\n"
     ]
    }
   ],
   "source": [
    "print(type(a))\n",
    "print(a.shape)\n",
    "print(a.dtype)\n",
    "print(a.ndim)\n",
    "print(a.size)\n",
    "# print(dir(np))"
   ]
  },
  {
   "cell_type": "code",
   "execution_count": 75,
   "id": "91cdf710-3768-4b74-b65f-aafe1cb5113f",
   "metadata": {},
   "outputs": [
    {
     "name": "stdout",
     "output_type": "stream",
     "text": [
      "[1, 2, 3, 4, 5]\n",
      "=====\n",
      "[[1, 2, 3, 4, 5], [6, 7, 8, 9, 10]]\n",
      "=====\n",
      "[1, 2, 3, 4, 5]\n",
      "-----\n",
      "[6, 7, 8, 9, 10]\n",
      "-----\n",
      "=====\n",
      "1\n",
      "2\n",
      "3\n",
      "4\n",
      "5\n",
      "-----\n",
      "6\n",
      "7\n",
      "8\n",
      "9\n",
      "10\n",
      "-----\n",
      "=====\n",
      "[1, 2, 3, 4, 5]\n",
      "-----\n",
      "[6, 7, 8, 9, 10]\n",
      "-----\n",
      "=====\n",
      "[[1, 2, 3, 4, 5], [6, 7, 8, 9, 10]]\n"
     ]
    }
   ],
   "source": [
    "array = [1,2,3,4,5]\n",
    "array2 = [6,7,8,9,10]\n",
    "new_array = []\n",
    "for i in array :\n",
    "    new_array.append(i)\n",
    "print(new_array)\n",
    "print(\"=====\")\n",
    "\n",
    "\n",
    "\n",
    "array_sum = [array,array2]\n",
    "new_array_sum = []\n",
    "for i in array_sum :\n",
    "    new_array_sum.append(i)\n",
    "print(new_array_sum)\n",
    "print(\"=====\")\n",
    "\n",
    "array_sum = [array,array2]\n",
    "new_array_sum = []\n",
    "for i in array_sum :\n",
    "    print(i)\n",
    "    print(\"-----\")\n",
    "print(\"=====\")\n",
    "\n",
    "\n",
    "array_sum = [array,array2]\n",
    "new_array_sum = []\n",
    "for i in array_sum :\n",
    "    for j in i:\n",
    "        print(j)\n",
    "    print(\"-----\")\n",
    "print(\"=====\")\n",
    "\n",
    "\n",
    "array_sum = [array,array2]\n",
    "for i in array_sum :\n",
    "    inner = []\n",
    "    for j in i :\n",
    "        inner.append(j)\n",
    "    print(inner)\n",
    "    print(\"-----\")\n",
    "print(\"=====\")\n",
    "\n",
    "\n",
    "new_array_sum = []\n",
    "for i in array_sum :\n",
    "    inner = []\n",
    "    for j in i :\n",
    "        inner.append(j)\n",
    "    new_array_sum.append(inner)\n",
    "print(new_array_sum)\n",
    "    "
   ]
  },
  {
   "cell_type": "code",
   "execution_count": 119,
   "id": "f9774808-18b6-4208-b998-b8a660803bcd",
   "metadata": {},
   "outputs": [],
   "source": [
    "b = np.array([-1,2,5,-3,0,7,-9,7,-4,-7],dtype=np.int64)\n",
    "# print(b.reshape(2,5,order=\"F\"))"
   ]
  },
  {
   "cell_type": "code",
   "execution_count": 85,
   "id": "5f43fa0d-bd69-46ea-b8f2-22b2cd0a348b",
   "metadata": {},
   "outputs": [
    {
     "name": "stdout",
     "output_type": "stream",
     "text": [
      "<class 'tuple'>\n",
      "<class 'numpy.ndarray'>\n"
     ]
    }
   ],
   "source": [
    "t = (10,20,30,40,50)\n",
    "print(type(t))\n",
    "t = np.array(t)\n",
    "print(type(t))"
   ]
  },
  {
   "cell_type": "code",
   "execution_count": 105,
   "id": "6424f1b3-6acf-49e4-b007-eb365e2760d6",
   "metadata": {},
   "outputs": [
    {
     "name": "stdout",
     "output_type": "stream",
     "text": [
      "<class 'numpy.ndarray'>\n",
      "1\n"
     ]
    },
    {
     "ename": "ValueError",
     "evalue": "cannot reshape array of size 1 into shape (2,3)",
     "output_type": "error",
     "traceback": [
      "\u001b[1;31m---------------------------------------------------------------------------\u001b[0m",
      "\u001b[1;31mValueError\u001b[0m                                Traceback (most recent call last)",
      "Cell \u001b[1;32mIn[105], line 4\u001b[0m\n\u001b[0;32m      2\u001b[0m \u001b[38;5;28mprint\u001b[39m(\u001b[38;5;28mtype\u001b[39m(t))\n\u001b[0;32m      3\u001b[0m \u001b[38;5;28mprint\u001b[39m(t\u001b[38;5;241m.\u001b[39msize)\n\u001b[1;32m----> 4\u001b[0m r \u001b[38;5;241m=\u001b[39m t\u001b[38;5;241m.\u001b[39mreshape(\u001b[38;5;241m2\u001b[39m,\u001b[38;5;241m3\u001b[39m)\n",
      "\u001b[1;31mValueError\u001b[0m: cannot reshape array of size 1 into shape (2,3)"
     ]
    }
   ],
   "source": [
    "t = np.array(\"hello2\")\n",
    "print(type(t))\n",
    "print(t.size)\n",
    "r = t.reshape(2,3)"
   ]
  },
  {
   "cell_type": "code",
   "execution_count": 103,
   "id": "edbc6b94-3307-434a-a765-a26ec31d3390",
   "metadata": {},
   "outputs": [
    {
     "name": "stdout",
     "output_type": "stream",
     "text": [
      "<class 'numpy.ndarray'>\n"
     ]
    }
   ],
   "source": [
    "s = {10,20,30,40,50}\n",
    "s = np.array(s)\n",
    "print(type(s))"
   ]
  },
  {
   "cell_type": "code",
   "execution_count": 121,
   "id": "6968f964-19e4-470f-871e-e6551d6d56d2",
   "metadata": {},
   "outputs": [
    {
     "name": "stdout",
     "output_type": "stream",
     "text": [
      "(10,)\n",
      "1\n",
      "int64\n",
      "[-1  2  5 -3  0  7 -9  7 -4 -7]\n"
     ]
    }
   ],
   "source": [
    "print(b.shape)\n",
    "print(b.ndim)\n",
    "print(b.dtype)\n",
    "print(b)"
   ]
  },
  {
   "cell_type": "code",
   "execution_count": 123,
   "id": "f1645a6f-2657-4bcb-8aa2-34d56bdd84f8",
   "metadata": {},
   "outputs": [
    {
     "name": "stdout",
     "output_type": "stream",
     "text": [
      "[1 2 5 3 0 7 9 7 4 7]\n"
     ]
    }
   ],
   "source": [
    "print(np.abs(b))"
   ]
  },
  {
   "cell_type": "code",
   "execution_count": 127,
   "id": "d5dd54cf-a52b-4cc0-8a22-87bd834812a5",
   "metadata": {},
   "outputs": [
    {
     "name": "stdout",
     "output_type": "stream",
     "text": [
      "[1.         1.41421356 2.23606798 1.73205081 0.         2.64575131\n",
      " 3.         2.64575131 2.         2.64575131]\n"
     ]
    }
   ],
   "source": [
    "print(np.sqrt(abs(b)))"
   ]
  },
  {
   "cell_type": "code",
   "execution_count": 129,
   "id": "0f9e7fa4-0a42-4900-89cf-476174a0bd39",
   "metadata": {},
   "outputs": [
    {
     "name": "stdout",
     "output_type": "stream",
     "text": [
      "[ 1  4 25  9  0 49 81 49 16 49]\n"
     ]
    }
   ],
   "source": [
    "print(np.square(b))"
   ]
  },
  {
   "cell_type": "code",
   "execution_count": 133,
   "id": "6dc924d5-fb68-4cd4-87dd-667915d359bd",
   "metadata": {},
   "outputs": [
    {
     "name": "stdout",
     "output_type": "stream",
     "text": [
      "[ True False False  True False False  True False  True  True]\n"
     ]
    },
    {
     "name": "stderr",
     "output_type": "stream",
     "text": [
      "C:\\Users\\min\\AppData\\Local\\Temp\\ipykernel_23092\\3348548598.py:1: RuntimeWarning: invalid value encountered in sqrt\n",
      "  print(np.isnan(np.sqrt(b)))\n"
     ]
    }
   ],
   "source": [
    "print(np.isnan(np.sqrt(b)))"
   ]
  },
  {
   "cell_type": "code",
   "execution_count": 156,
   "id": "1fef324d-ed39-46ae-ac87-356d90dd43e4",
   "metadata": {},
   "outputs": [
    {
     "name": "stdout",
     "output_type": "stream",
     "text": [
      "[-1  2  5 -3  0  7 -9  7 -4 -7]\n",
      "-3\n",
      "-0.3\n",
      "7\n",
      "-9\n",
      "5\n",
      "6\n",
      "[-9 -7 -4 -3 -1  0  2  5  7  7]\n",
      "[ 7  7  5  2  0 -1 -3 -4 -7 -9]\n",
      "-0.5\n"
     ]
    }
   ],
   "source": [
    "print(b)\n",
    "print(np.sum(b))\n",
    "print(np.mean(b))\n",
    "print(np.max(b))\n",
    "print(np.min(b))\n",
    "print(np.argmax(b))\n",
    "print(np.argmin(b))\n",
    "print(np.sort(b))\n",
    "print(np.sort(b)[::-1])\n",
    "print(np.median(b))"
   ]
  },
  {
   "cell_type": "code",
   "execution_count": 192,
   "id": "af527d49-a515-41d1-9eba-9b66a6ed2597",
   "metadata": {},
   "outputs": [
    {
     "name": "stdout",
     "output_type": "stream",
     "text": [
      "<class 'list'>\n",
      "[[1, 2, 3], [4, 5, 6]]\n",
      "<class 'numpy.ndarray'>\n",
      "[[1 2 3]\n",
      " [4 5 6]]\n",
      "21\n",
      "[5 7 9]\n",
      "[ 6 15]\n",
      "3.5\n",
      "[2.5 3.5 4.5]\n",
      "[2. 5.]\n",
      "[1.5 1.5 1.5]\n",
      "[2.25 2.25 2.25]\n"
     ]
    }
   ],
   "source": [
    "c = [[ 1,2,3,],\n",
    "     [4,5,6]]\n",
    "print(type(c))\n",
    "print(c)\n",
    "c = np.array(c)\n",
    "print(type(c))\n",
    "print(c)\n",
    "print(np.sum(c))\n",
    "print(np.sum(c, axis=0))\n",
    "print(np.sum(c, axis=1))\n",
    "print(np.mean(c))\n",
    "print(np.mean(c, axis=0))\n",
    "print(np.mean(c, axis=1))\n",
    "\n",
    "print(np.std(c, axis=0))\n",
    "print(np.var(c, axis=0))"
   ]
  },
  {
   "cell_type": "code",
   "execution_count": 212,
   "id": "e7c40ec8-3ecf-4c76-bba7-9c21a24f3d97",
   "metadata": {},
   "outputs": [
    {
     "name": "stdout",
     "output_type": "stream",
     "text": [
      "[10, 20, 30, 40, 50]\n",
      "[12 22 32 42 52]\n",
      "[11 22 33 44 55]\n",
      "[ 100  400  900 1600 2500]\n",
      "[ -5.44021111  18.25890501 -29.64094872  29.80452642 -13.11874269]\n",
      "[False False False  True  True]\n",
      "[11 22 33 44 55]\n",
      "[ 9 18 27 36 45]\n",
      "[ 10  40  90 160 250]\n",
      "[10. 10. 10. 10. 10.]\n"
     ]
    }
   ],
   "source": [
    "d = [10,20,30,40,50]\n",
    "print(d)\n",
    "d = np.array(d)\n",
    "print(d+2)\n",
    "\n",
    "e = np.array([1,2,3,4,5])\n",
    "print(d + e)\n",
    "print(d ** 2)\n",
    "print(d * np.sin(d))\n",
    "print(d > 35 )\n",
    "\n",
    "print(np.add(d,e))\n",
    "print(np.subtract(d,e))\n",
    "print(np.multiply(d,e))\n",
    "print(np.divide(d,e))"
   ]
  },
  {
   "cell_type": "code",
   "execution_count": 228,
   "id": "27ab9ce5-4b38-48c5-8c54-0d3e34911f9d",
   "metadata": {},
   "outputs": [
    {
     "name": "stdout",
     "output_type": "stream",
     "text": [
      "[[2 1]\n",
      " [4 5]]\n",
      "[[0 0]\n",
      " [3 4]]\n",
      "[[3 4]\n",
      " [5 4]]\n",
      "[[3 4]\n",
      " [5 4]]\n",
      "[[3 4]\n",
      " [5 4]]\n"
     ]
    }
   ],
   "source": [
    "f = np.array([[0,1],[1,1]])\n",
    "g = np.array([[2,0],[3,4]])\n",
    "\n",
    "print(f+g)\n",
    "print(f*g)\n",
    "print(f@g)\n",
    "print(np.dot(f,g))\n",
    "print(f.dot(g))"
   ]
  },
  {
   "cell_type": "code",
   "execution_count": 242,
   "id": "b1815378-cd46-461c-83fb-f5d522f5f218",
   "metadata": {},
   "outputs": [
    {
     "name": "stdout",
     "output_type": "stream",
     "text": [
      "[0. 0. 0. 0. 0. 0. 0. 0. 0. 0.]\n",
      "[[0. 0. 0. 0. 0.]\n",
      " [0. 0. 0. 0. 0.]\n",
      " [0. 0. 0. 0. 0.]\n",
      " [0. 0. 0. 0. 0.]\n",
      " [0. 0. 0. 0. 0.]]\n",
      "[1. 1. 1. 1. 1. 1. 1. 1. 1. 1.]\n"
     ]
    }
   ],
   "source": [
    "h = np.zeros(10)\n",
    "print(h)\n",
    "h = np.zeros((5,5))\n",
    "print(h)\n",
    "h = np.ones(10)\n",
    "print(h)\n"
   ]
  },
  {
   "cell_type": "code",
   "execution_count": 256,
   "id": "c217e2f4-cddf-4486-a519-cc3fdf49baee",
   "metadata": {},
   "outputs": [
    {
     "name": "stdout",
     "output_type": "stream",
     "text": [
      "<class 'numpy.ndarray'>\n",
      "[62  2 23 31 59 20 30 96 10 68]\n",
      "[[0.02021812 0.8304012  0.98753401 0.81740779 0.65363713]\n",
      " [0.92004896 0.14881062 0.37217204 0.85789946 0.70703077]\n",
      " [0.47446427 0.5337995  0.28100384 0.842754   0.64659632]\n",
      " [0.69497736 0.73225512 0.01457265 0.05918844 0.26114968]\n",
      " [0.42660666 0.59859002 0.94794138 0.2628342  0.7486167 ]]\n"
     ]
    }
   ],
   "source": [
    "# np.random.random\n",
    "# np.random.randint\n",
    "# np.random.rand\n",
    "# np.random.randn\n",
    "# np.random.nomral\n",
    "\n",
    "k = np.random.random(10) * 100\n",
    "k = np.array([int(i) for i in k])\n",
    "print(type(k))\n",
    "print(k)\n",
    "k = np.random.random((5,5))\n",
    "print(k)"
   ]
  },
  {
   "cell_type": "code",
   "execution_count": 260,
   "id": "5c700769-05e8-44a8-837b-aa5c491eafb1",
   "metadata": {},
   "outputs": [
    {
     "name": "stdout",
     "output_type": "stream",
     "text": [
      "[[13 15 17 16 17]\n",
      " [18 10 15 12 18]\n",
      " [14 17 12 18 16]\n",
      " [11 11 14 13 14]\n",
      " [14 15 17 14 12]]\n"
     ]
    }
   ],
   "source": [
    "k = np.random.randint(10,20,(5,5))\n",
    "print(k)"
   ]
  },
  {
   "cell_type": "code",
   "execution_count": 270,
   "id": "1e685359-f580-4978-9c2d-0e3785ce0d65",
   "metadata": {},
   "outputs": [
    {
     "name": "stdout",
     "output_type": "stream",
     "text": [
      "[[6 7 8 6 7]\n",
      " [6 1 7 1 9]\n",
      " [1 5 1 7 3]\n",
      " [4 1 4 5 6]\n",
      " [4 2 6 6 1]]\n"
     ]
    }
   ],
   "source": [
    "m = np.random.randint(0,10,(5,5))\n"
   ]
  },
  {
   "cell_type": "code",
   "execution_count": 296,
   "id": "b66517a4-6340-495d-86f6-1535cc01bbe9",
   "metadata": {},
   "outputs": [
    {
     "name": "stdout",
     "output_type": "stream",
     "text": [
      "[[6 7 8 6 7]\n",
      " [6 1 7 1 9]]\n"
     ]
    }
   ],
   "source": [
    "print(m[:2])"
   ]
  },
  {
   "cell_type": "code",
   "execution_count": 310,
   "id": "38982ccd-5a88-44c0-8719-230d68d833f4",
   "metadata": {},
   "outputs": [
    {
     "name": "stdout",
     "output_type": "stream",
     "text": [
      "[10 12 14]\n"
     ]
    }
   ],
   "source": [
    "w = np.arange(10,20)\n",
    "print(w[0:5:2])"
   ]
  },
  {
   "cell_type": "code",
   "execution_count": 336,
   "id": "66ea2db8-ef02-4d49-b587-21ccd4312748",
   "metadata": {},
   "outputs": [
    {
     "name": "stdout",
     "output_type": "stream",
     "text": [
      "[[1, 2, 3, 4, 5], [6, 7, 8, 9, 10]]\n",
      "[[1 2]\n",
      " [6 7]]\n"
     ]
    }
   ],
   "source": [
    "r = [[1,2,3,4,5],[6,7,8,9,10],[11,12,13,14,15]]\n",
    "print(r[0:2])\n",
    "w = np.array(r)\n",
    "print(w[0:2,0:2])"
   ]
  },
  {
   "cell_type": "code",
   "execution_count": 342,
   "id": "72aaa7b8-cf71-4a56-bf0c-dbac28afb1fd",
   "metadata": {},
   "outputs": [
    {
     "name": "stdout",
     "output_type": "stream",
     "text": [
      "[[ 1  2  3  4  5]\n",
      " [ 6  7  8  9 10]\n",
      " [11 12 13 14 15]]\n"
     ]
    }
   ],
   "source": [
    "s = np.arange(1,16).reshape(3,5)\n",
    "print(s)"
   ]
  },
  {
   "cell_type": "code",
   "execution_count": 352,
   "id": "5925e2e7-cfbd-49b3-b2ca-4a98f36235c8",
   "metadata": {},
   "outputs": [
    {
     "name": "stdout",
     "output_type": "stream",
     "text": [
      "13\n",
      "[[ 1  2  3  4  5]\n",
      " [ 6  7  8  9 10]\n",
      " [11 12 13 14 15]]\n",
      "[[15 14 13 12 11]\n",
      " [10  9  8  7  6]\n",
      " [ 5  4  3  2  1]]\n",
      "[[ 1  2  3  4  5]\n",
      " [11 12 13 14 15]]\n"
     ]
    }
   ],
   "source": [
    "print(s[2][2])\n",
    "print(s[:][:])\n",
    "print(s[::-1,::-1])\n",
    "print(s[[0,2]])"
   ]
  },
  {
   "cell_type": "code",
   "execution_count": 354,
   "id": "f5b629e9-78b8-4cd2-8d3d-2e9ea62dd5a3",
   "metadata": {},
   "outputs": [
    {
     "name": "stdout",
     "output_type": "stream",
     "text": [
      "[[ 2  3  4]\n",
      " [ 7  8  9]\n",
      " [12 13 14]]\n"
     ]
    }
   ],
   "source": [
    "print(s[:,[1,2,3]])"
   ]
  },
  {
   "cell_type": "code",
   "execution_count": 374,
   "id": "fdf4bf80-e27b-474f-8d8f-f6902437bae8",
   "metadata": {},
   "outputs": [
    {
     "name": "stdout",
     "output_type": "stream",
     "text": [
      "[ 2 14]\n"
     ]
    }
   ],
   "source": [
    "print(s[[0,2],[1,3]])"
   ]
  },
  {
   "cell_type": "code",
   "execution_count": 376,
   "id": "c6153f96-b570-4800-9b2b-e7cb23d23230",
   "metadata": {},
   "outputs": [
    {
     "name": "stdout",
     "output_type": "stream",
     "text": [
      "[[ 1  2  3  4  5]\n",
      " [ 6  7  8  9 10]\n",
      " [11 12 13 14 15]]\n",
      "[[ 1  6 11]\n",
      " [ 2  7 12]\n",
      " [ 3  8 13]\n",
      " [ 4  9 14]\n",
      " [ 5 10 15]]\n"
     ]
    }
   ],
   "source": [
    "print(s)\n",
    "print(s.T)"
   ]
  },
  {
   "cell_type": "code",
   "execution_count": 398,
   "id": "74da1c39-fb71-4ebb-9079-2e656b51a51a",
   "metadata": {},
   "outputs": [
    {
     "name": "stdout",
     "output_type": "stream",
     "text": [
      "(1, 4)\n",
      "(2, 5)\n",
      "(3, 6)\n",
      "[(1, 4), (2, 5), (3, 6)]\n",
      "[1, 2, 3, 4, 5, 6]\n"
     ]
    }
   ],
   "source": [
    "a = [1,2,3]\n",
    "b = [4,5,6]\n",
    "for ab  in zip(a,b):\n",
    "    print(ab)\n",
    "\n",
    "print(list(zip(a,b)))\n",
    "print(a+b)"
   ]
  },
  {
   "cell_type": "code",
   "execution_count": 390,
   "id": "dce8e6bd-0dea-43d2-b418-1c9fc3092dbd",
   "metadata": {},
   "outputs": [
    {
     "name": "stdout",
     "output_type": "stream",
     "text": [
      "[[58. 61.]\n",
      " [29. 85.]]\n",
      "[[82. 76.]\n",
      " [38. 33.]]\n"
     ]
    }
   ],
   "source": [
    "c = np.floor(np.random.rand(2,2)*100)\n",
    "print(c)\n",
    "\n",
    "d = np.floor(np.random.rand(2,2)*100)\n",
    "print(d)"
   ]
  },
  {
   "cell_type": "code",
   "execution_count": 392,
   "id": "c9449ab1-b161-4315-bee1-ee3939a403be",
   "metadata": {},
   "outputs": [
    {
     "name": "stdout",
     "output_type": "stream",
     "text": [
      "[[58. 61. 82. 76.]\n",
      " [29. 85. 38. 33.]]\n"
     ]
    }
   ],
   "source": [
    "print(np.hstack((c,d)))"
   ]
  },
  {
   "cell_type": "code",
   "execution_count": 394,
   "id": "2da3598a-5f16-46a7-b725-2ddf43d36c24",
   "metadata": {},
   "outputs": [
    {
     "data": {
      "text/plain": [
       "(array([[58., 61.],\n",
       "        [29., 85.]]),\n",
       " array([[82., 76.],\n",
       "        [38., 33.]]))"
      ]
     },
     "execution_count": 394,
     "metadata": {},
     "output_type": "execute_result"
    }
   ],
   "source": [
    "(c,d)"
   ]
  },
  {
   "cell_type": "code",
   "execution_count": 396,
   "id": "623078cd-3116-405e-87b7-42f7ea13792d",
   "metadata": {},
   "outputs": [
    {
     "name": "stdout",
     "output_type": "stream",
     "text": [
      "[[58. 61.]\n",
      " [29. 85.]\n",
      " [82. 76.]\n",
      " [38. 33.]]\n"
     ]
    }
   ],
   "source": [
    "print(np.vstack((c,d)))"
   ]
  },
  {
   "cell_type": "code",
   "execution_count": 406,
   "id": "ef73250c-28a2-4d2a-a4a4-8566bc260ba9",
   "metadata": {},
   "outputs": [
    {
     "name": "stdout",
     "output_type": "stream",
     "text": [
      "[[54.  5. 38. 69. 36.  3. 97. 85. 11. 54. 31. 52.  3. 37. 14.]\n",
      " [80.  4. 94. 32. 35. 29. 21. 43. 40. 63. 82. 56. 98. 74. 97.]]\n",
      "[array([[54.,  5., 38., 69., 36.],\n",
      "       [80.,  4., 94., 32., 35.]]), array([[ 3., 97., 85., 11., 54.],\n",
      "       [29., 21., 43., 40., 63.]]), array([[31., 52.,  3., 37., 14.],\n",
      "       [82., 56., 98., 74., 97.]])]\n",
      "[array([[54.,  5., 38.],\n",
      "       [80.,  4., 94.]]), array([[69., 36.,  3., 97.],\n",
      "       [32., 35., 29., 21.]]), array([[85., 11., 54., 31., 52.],\n",
      "       [43., 40., 63., 82., 56.]]), array([[ 3., 37., 14.],\n",
      "       [98., 74., 97.]])]\n"
     ]
    }
   ],
   "source": [
    "e = np.floor(np.random.rand(2,15)*100)\n",
    "print(e)\n",
    "print(np.hsplit(e,3))\n",
    "print(np.hsplit(e,(3,7,12)))"
   ]
  },
  {
   "cell_type": "code",
   "execution_count": 408,
   "id": "b9b4f107-6b29-4f5f-951c-9c71d2cbdb71",
   "metadata": {},
   "outputs": [],
   "source": [
    "f = np.array([1,2,3,4,5])\n",
    "g = np.array(['A','B','C','D','E'])\n",
    "h = np.array([True,True,False,False,True])"
   ]
  },
  {
   "cell_type": "code",
   "execution_count": 410,
   "id": "0a72c731-d374-47f1-9bfe-25c9d09dc768",
   "metadata": {},
   "outputs": [
    {
     "name": "stdout",
     "output_type": "stream",
     "text": [
      "[1 2 3 4 5]\n",
      "['A' 'B' 'C' 'D' 'E']\n",
      "[ True  True False False  True]\n"
     ]
    }
   ],
   "source": [
    "print(f)\n",
    "print(g)\n",
    "print(h)"
   ]
  },
  {
   "cell_type": "code",
   "execution_count": 414,
   "id": "64f7a72b-7767-46cb-a2e5-af91b632bdb1",
   "metadata": {},
   "outputs": [
    {
     "name": "stdout",
     "output_type": "stream",
     "text": [
      "[[1, 'A', True], [2, 'B', True], [3, 'C', False], [4, 'D', False], [5, 'E', True]]\n"
     ]
    }
   ],
   "source": [
    "print([[x,y,z] for x,y,z in zip(f,g,h)])"
   ]
  },
  {
   "cell_type": "code",
   "execution_count": 422,
   "id": "23f38d57-2c4b-4ef5-b4fe-d0aef96e2326",
   "metadata": {},
   "outputs": [
    {
     "name": "stdout",
     "output_type": "stream",
     "text": [
      "[1, 2, 'C', 'D', 5]\n"
     ]
    }
   ],
   "source": [
    "print([x if z else y for x,y,z in zip(f,g,h)])"
   ]
  },
  {
   "cell_type": "code",
   "execution_count": 428,
   "id": "cb2c3b3d-60af-4ee7-8027-15c47edfb643",
   "metadata": {},
   "outputs": [
    {
     "name": "stdout",
     "output_type": "stream",
     "text": [
      "['1' '2' 'C' 'D' '5']\n",
      "['작다' '작다' '크다.' '크다.' '크다.']\n",
      "['참' '참' '거짓' '거짓' '참']\n"
     ]
    }
   ],
   "source": [
    "print(np.where(h,f,g))\n",
    "print(np.where(f<3, \"작다\",\"크다.\"))\n",
    "print(np.where(h,'참','거짓'))\n"
   ]
  },
  {
   "cell_type": "code",
   "execution_count": 439,
   "id": "45c86713-129c-4d0d-8994-08fc549a00cd",
   "metadata": {},
   "outputs": [
    {
     "name": "stdout",
     "output_type": "stream",
     "text": [
      "[0 1 2 3 4 5 6 7 8 9]\n",
      "[0 1 2 3 4 5 6 7 8 9]\n"
     ]
    }
   ],
   "source": [
    "i = np.arange(10)\n",
    "np.save('i.npy',i)\n",
    "r = np.load('i.npy')\n",
    "print(r)\n",
    "\n",
    "j = np.arange(10)\n",
    "k = np.arange(10)\n",
    "np.savez('jk.npz',x=j, y=k )\n",
    "jk = np.load('jk.npz')\n",
    "\n",
    "print(jk['x'])"
   ]
  },
  {
   "cell_type": "code",
   "execution_count": null,
   "id": "9242345f-b555-48d9-a3eb-629f1c61b4fe",
   "metadata": {},
   "outputs": [],
   "source": []
  }
 ],
 "metadata": {
  "kernelspec": {
   "display_name": "Python 3 (ipykernel)",
   "language": "python",
   "name": "python3"
  },
  "language_info": {
   "codemirror_mode": {
    "name": "ipython",
    "version": 3
   },
   "file_extension": ".py",
   "mimetype": "text/x-python",
   "name": "python",
   "nbconvert_exporter": "python",
   "pygments_lexer": "ipython3",
   "version": "3.12.4"
  }
 },
 "nbformat": 4,
 "nbformat_minor": 5
}
