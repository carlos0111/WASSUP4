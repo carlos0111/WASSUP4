{
 "cells": [
  {
   "cell_type": "markdown",
   "id": "0dac6bde-ee68-4fae-ac0c-ba70eda09d34",
   "metadata": {},
   "source": [
    "# 리스트"
   ]
  },
  {
   "cell_type": "code",
   "execution_count": 2,
   "id": "021b8db4-d906-48cb-81e1-699211952ae9",
   "metadata": {},
   "outputs": [
    {
     "data": {
      "text/plain": [
       "[1, 3, 5, 7, 9]"
      ]
     },
     "execution_count": 2,
     "metadata": {},
     "output_type": "execute_result"
    }
   ],
   "source": [
    "odd = [1,3,5,7,9]\n",
    "odd"
   ]
  },
  {
   "cell_type": "code",
   "execution_count": 8,
   "id": "56fa5a61-e0b1-48f6-9c34-8d64c576cdf3",
   "metadata": {},
   "outputs": [
    {
     "data": {
      "text/plain": [
       "([],\n",
       " [1, 2, 3],\n",
       " ['Life', 'is', 'too', 'short'],\n",
       " [1, 2, 'Life', 'is'],\n",
       " [1, 2, ['Life', 'is']],\n",
       " [])"
      ]
     },
     "execution_count": 8,
     "metadata": {},
     "output_type": "execute_result"
    }
   ],
   "source": [
    "a = []\n",
    "b = [1,2,3]\n",
    "c = ['Life', 'is', 'too','short']\n",
    "d = [1,2,'Life','is']\n",
    "e = [1,2,['Life','is']]\n",
    "f = list()\n",
    "a,b,c,d,e,f"
   ]
  },
  {
   "cell_type": "code",
   "execution_count": 10,
   "id": "65633737-ec85-4ecf-9096-331b8172000d",
   "metadata": {},
   "outputs": [
    {
     "data": {
      "text/plain": [
       "list"
      ]
     },
     "execution_count": 10,
     "metadata": {},
     "output_type": "execute_result"
    }
   ],
   "source": [
    "type(a)"
   ]
  },
  {
   "cell_type": "code",
   "execution_count": 12,
   "id": "769b3de7-3878-4c38-b2b6-02a1e2a337d4",
   "metadata": {},
   "outputs": [],
   "source": [
    "a = [1,2,3]"
   ]
  },
  {
   "cell_type": "code",
   "execution_count": 14,
   "id": "53b2ac74-41c0-425b-9a95-f17f348f1686",
   "metadata": {},
   "outputs": [
    {
     "data": {
      "text/plain": [
       "[1, 2, 3]"
      ]
     },
     "execution_count": 14,
     "metadata": {},
     "output_type": "execute_result"
    }
   ],
   "source": [
    "a"
   ]
  },
  {
   "cell_type": "code",
   "execution_count": 16,
   "id": "f70644a5-dc9f-456c-a00f-3583b7932821",
   "metadata": {},
   "outputs": [
    {
     "data": {
      "text/plain": [
       "1"
      ]
     },
     "execution_count": 16,
     "metadata": {},
     "output_type": "execute_result"
    }
   ],
   "source": [
    "a[0]"
   ]
  },
  {
   "cell_type": "code",
   "execution_count": 18,
   "id": "d3de547e-48e5-4b26-8d6b-ce62c679be3e",
   "metadata": {},
   "outputs": [
    {
     "data": {
      "text/plain": [
       "4"
      ]
     },
     "execution_count": 18,
     "metadata": {},
     "output_type": "execute_result"
    }
   ],
   "source": [
    "a[0]+a[2]"
   ]
  },
  {
   "cell_type": "code",
   "execution_count": 20,
   "id": "82b6206d-0a13-4b04-ac35-240a742ffbe6",
   "metadata": {},
   "outputs": [
    {
     "data": {
      "text/plain": [
       "3"
      ]
     },
     "execution_count": 20,
     "metadata": {},
     "output_type": "execute_result"
    }
   ],
   "source": [
    "a[-1]"
   ]
  },
  {
   "cell_type": "code",
   "execution_count": 22,
   "id": "d90ce322-1689-4200-82f7-3ba29db0e9f5",
   "metadata": {},
   "outputs": [
    {
     "data": {
      "text/plain": [
       "[1, 2, 3, ['a', 'b', 'c']]"
      ]
     },
     "execution_count": 22,
     "metadata": {},
     "output_type": "execute_result"
    }
   ],
   "source": [
    "a = [1,2,3,['a','b','c']]\n",
    "a"
   ]
  },
  {
   "cell_type": "code",
   "execution_count": 24,
   "id": "c1c0dd78-a371-46c6-904b-597fb82a0d37",
   "metadata": {},
   "outputs": [
    {
     "data": {
      "text/plain": [
       "4"
      ]
     },
     "execution_count": 24,
     "metadata": {},
     "output_type": "execute_result"
    }
   ],
   "source": [
    "len(a)"
   ]
  },
  {
   "cell_type": "code",
   "execution_count": 32,
   "id": "4a3f988c-33d2-456b-9d9e-94acaa85f70c",
   "metadata": {},
   "outputs": [
    {
     "data": {
      "text/plain": [
       "'b'"
      ]
     },
     "execution_count": 32,
     "metadata": {},
     "output_type": "execute_result"
    }
   ],
   "source": [
    "a[3][1]"
   ]
  },
  {
   "cell_type": "code",
   "execution_count": 34,
   "id": "2c14193d-9491-439d-98df-dcfd1615238a",
   "metadata": {},
   "outputs": [
    {
     "data": {
      "text/plain": [
       "[1, 2, ['a', 'b', ['Life', 'is']]]"
      ]
     },
     "execution_count": 34,
     "metadata": {},
     "output_type": "execute_result"
    }
   ],
   "source": [
    "a = [1,2,['a','b',[\"Life\",\"is\"]]]\n",
    "a"
   ]
  },
  {
   "cell_type": "code",
   "execution_count": 38,
   "id": "fdc3f4a5-d709-4fa3-a79f-2390d9264cf5",
   "metadata": {},
   "outputs": [
    {
     "data": {
      "text/plain": [
       "'Life'"
      ]
     },
     "execution_count": 38,
     "metadata": {},
     "output_type": "execute_result"
    }
   ],
   "source": [
    "a[2][2][0]"
   ]
  },
  {
   "cell_type": "markdown",
   "id": "d65e5260-bd76-4f27-abad-5326f89bffb4",
   "metadata": {},
   "source": [
    "## 슬라이싱"
   ]
  },
  {
   "cell_type": "code",
   "execution_count": 43,
   "id": "2f3a5e88-48b9-432a-9f6b-bd2b7577f9af",
   "metadata": {},
   "outputs": [
    {
     "data": {
      "text/plain": [
       "[1, 2]"
      ]
     },
     "execution_count": 43,
     "metadata": {},
     "output_type": "execute_result"
    }
   ],
   "source": [
    "a = [1,2,3,4,5]\n",
    "a[0:2]"
   ]
  },
  {
   "cell_type": "code",
   "execution_count": 45,
   "id": "47bfed1d-e5a9-4d5e-afac-4f8fe062038e",
   "metadata": {},
   "outputs": [],
   "source": [
    "a = [1,2,3,['a','b','c'],4,5]"
   ]
  },
  {
   "cell_type": "code",
   "execution_count": 47,
   "id": "649a38e3-cbba-4777-bc54-b3475b732c43",
   "metadata": {},
   "outputs": [
    {
     "name": "stdout",
     "output_type": "stream",
     "text": [
      "[1, 2, 3, ['a', 'b', 'c'], 4, 5]\n"
     ]
    }
   ],
   "source": [
    "print(a)"
   ]
  },
  {
   "cell_type": "code",
   "execution_count": 49,
   "id": "c303c263-6289-4ee2-8504-dad8bb75b43e",
   "metadata": {},
   "outputs": [
    {
     "data": {
      "text/plain": [
       "[3, ['a', 'b', 'c'], 4]"
      ]
     },
     "execution_count": 49,
     "metadata": {},
     "output_type": "execute_result"
    }
   ],
   "source": [
    "a[2:5]"
   ]
  },
  {
   "cell_type": "code",
   "execution_count": 51,
   "id": "bb399ee1-d6fa-4fdd-987d-1f990c9f27eb",
   "metadata": {},
   "outputs": [
    {
     "data": {
      "text/plain": [
       "['a', 'b']"
      ]
     },
     "execution_count": 51,
     "metadata": {},
     "output_type": "execute_result"
    }
   ],
   "source": [
    "a[3][0:2]"
   ]
  },
  {
   "cell_type": "markdown",
   "id": "95f06e7d-0382-4b2f-9ab6-b83568563c95",
   "metadata": {},
   "source": [
    "### 리스트 연산"
   ]
  },
  {
   "cell_type": "code",
   "execution_count": 54,
   "id": "b3661c1f-41ab-449c-981f-20163446b180",
   "metadata": {},
   "outputs": [
    {
     "data": {
      "text/plain": [
       "[1, 2, 3, 4, 5, 6]"
      ]
     },
     "execution_count": 54,
     "metadata": {},
     "output_type": "execute_result"
    }
   ],
   "source": [
    "a = [1,2,3]\n",
    "b = [4,5,6]\n",
    "a + b"
   ]
  },
  {
   "cell_type": "code",
   "execution_count": 62,
   "id": "5f3f5605-5892-4393-ac69-f45c8b032579",
   "metadata": {},
   "outputs": [
    {
     "data": {
      "text/plain": [
       "int"
      ]
     },
     "execution_count": 62,
     "metadata": {},
     "output_type": "execute_result"
    }
   ],
   "source": [
    "type(a[0])"
   ]
  },
  {
   "cell_type": "code",
   "execution_count": 64,
   "id": "52ee0094-9856-41a2-8f95-e67fdf804844",
   "metadata": {},
   "outputs": [
    {
     "data": {
      "text/plain": [
       "'3'"
      ]
     },
     "execution_count": 64,
     "metadata": {},
     "output_type": "execute_result"
    }
   ],
   "source": [
    "str(a[2])"
   ]
  },
  {
   "cell_type": "code",
   "execution_count": 66,
   "id": "1b41e677-03b2-47c9-bbd1-c1b955b08a63",
   "metadata": {},
   "outputs": [
    {
     "data": {
      "text/plain": [
       "[1, 2, 4]"
      ]
     },
     "execution_count": 66,
     "metadata": {},
     "output_type": "execute_result"
    }
   ],
   "source": [
    "a =[1,2,3]\n",
    "a[2] =4\n",
    "a"
   ]
  },
  {
   "cell_type": "code",
   "execution_count": 68,
   "id": "4d775545-99c9-46ae-958a-2369d69dac2f",
   "metadata": {},
   "outputs": [
    {
     "data": {
      "text/plain": [
       "[1, 4]"
      ]
     },
     "execution_count": 68,
     "metadata": {},
     "output_type": "execute_result"
    }
   ],
   "source": [
    "del a[1]\n",
    "a\n"
   ]
  },
  {
   "cell_type": "code",
   "execution_count": 74,
   "id": "642d7da1-7f87-4577-a410-f1011e84c77d",
   "metadata": {},
   "outputs": [],
   "source": [
    "a = [1,2,3,4,5]\n",
    "del a[2]"
   ]
  },
  {
   "cell_type": "code",
   "execution_count": 76,
   "id": "8352e3ee-6cb5-47e7-8b24-0f48f9a9fc2a",
   "metadata": {},
   "outputs": [
    {
     "data": {
      "text/plain": [
       "[1, 2, 4, 5]"
      ]
     },
     "execution_count": 76,
     "metadata": {},
     "output_type": "execute_result"
    }
   ],
   "source": [
    "a"
   ]
  },
  {
   "cell_type": "code",
   "execution_count": 78,
   "id": "620aeee2-7dc9-4fe3-b54a-f6437c74a502",
   "metadata": {},
   "outputs": [],
   "source": [
    "del a[2:]"
   ]
  },
  {
   "cell_type": "code",
   "execution_count": 80,
   "id": "47049eb4-f363-4ab7-aa56-7a1fe1537290",
   "metadata": {},
   "outputs": [
    {
     "data": {
      "text/plain": [
       "[1, 2]"
      ]
     },
     "execution_count": 80,
     "metadata": {},
     "output_type": "execute_result"
    }
   ],
   "source": [
    "a"
   ]
  },
  {
   "cell_type": "markdown",
   "id": "807dc54f-8227-4241-aee4-f921765fecb5",
   "metadata": {},
   "source": [
    "## 리스트 관련 함수 (메서드)"
   ]
  },
  {
   "cell_type": "code",
   "execution_count": 91,
   "id": "a9090577-a200-4621-b35d-dc428fc961b3",
   "metadata": {},
   "outputs": [],
   "source": [
    "# 리스트에 요소 ㅜ가하기 append\n",
    "a = [1,2,3]\n",
    "a.append(4)"
   ]
  },
  {
   "cell_type": "code",
   "execution_count": 93,
   "id": "870a9e44-e3f2-4673-8dae-54e76c9cce6b",
   "metadata": {},
   "outputs": [
    {
     "data": {
      "text/plain": [
       "[1, 2, 3, 4]"
      ]
     },
     "execution_count": 93,
     "metadata": {},
     "output_type": "execute_result"
    }
   ],
   "source": [
    "a"
   ]
  },
  {
   "cell_type": "code",
   "execution_count": 95,
   "id": "8977ab6a-6065-4bdf-a43f-10ecfc4bf2c2",
   "metadata": {},
   "outputs": [],
   "source": [
    "a.append([5,6])"
   ]
  },
  {
   "cell_type": "code",
   "execution_count": 97,
   "id": "20d12f0d-4cda-4bfc-b0b9-d73d22941d6b",
   "metadata": {},
   "outputs": [
    {
     "data": {
      "text/plain": [
       "[1, 2, 3, 4, [5, 6]]"
      ]
     },
     "execution_count": 97,
     "metadata": {},
     "output_type": "execute_result"
    }
   ],
   "source": [
    "a"
   ]
  },
  {
   "cell_type": "code",
   "execution_count": 101,
   "id": "2d779b4b-e5cb-4959-80c4-983a77991741",
   "metadata": {},
   "outputs": [
    {
     "data": {
      "text/plain": [
       "[1, 3, 4, 5]"
      ]
     },
     "execution_count": 101,
     "metadata": {},
     "output_type": "execute_result"
    }
   ],
   "source": [
    "a = [1,3,4,5]\n",
    "a.sort()\n",
    "a"
   ]
  },
  {
   "cell_type": "code",
   "execution_count": 109,
   "id": "4601baba-8ece-4051-aa7f-012aafd491d2",
   "metadata": {},
   "outputs": [
    {
     "data": {
      "text/plain": [
       "['a', 'b', 'c']"
      ]
     },
     "execution_count": 109,
     "metadata": {},
     "output_type": "execute_result"
    }
   ],
   "source": [
    "a=[\"a\",'b',\"c\"]\n",
    "a.sort()\n",
    "a"
   ]
  },
  {
   "cell_type": "code",
   "execution_count": 111,
   "id": "f655789e-c6a5-451e-8ef7-ac99b4d9f448",
   "metadata": {},
   "outputs": [
    {
     "data": {
      "text/plain": [
       "\u001b[1;31mSignature:\u001b[0m \u001b[0ma\u001b[0m\u001b[1;33m.\u001b[0m\u001b[0msort\u001b[0m\u001b[1;33m(\u001b[0m\u001b[1;33m*\u001b[0m\u001b[1;33m,\u001b[0m \u001b[0mkey\u001b[0m\u001b[1;33m=\u001b[0m\u001b[1;32mNone\u001b[0m\u001b[1;33m,\u001b[0m \u001b[0mreverse\u001b[0m\u001b[1;33m=\u001b[0m\u001b[1;32mFalse\u001b[0m\u001b[1;33m)\u001b[0m\u001b[1;33m\u001b[0m\u001b[1;33m\u001b[0m\u001b[0m\n",
       "\u001b[1;31mDocstring:\u001b[0m\n",
       "Sort the list in ascending order and return None.\n",
       "\n",
       "The sort is in-place (i.e. the list itself is modified) and stable (i.e. the\n",
       "order of two equal elements is maintained).\n",
       "\n",
       "If a key function is given, apply it once to each list item and sort them,\n",
       "ascending or descending, according to their function values.\n",
       "\n",
       "The reverse flag can be set to sort in descending order.\n",
       "\u001b[1;31mType:\u001b[0m      builtin_function_or_method"
      ]
     },
     "metadata": {},
     "output_type": "display_data"
    }
   ],
   "source": [
    "a.sort?"
   ]
  },
  {
   "cell_type": "code",
   "execution_count": 115,
   "id": "9156d8bc-a216-4f12-b964-e984e14a284d",
   "metadata": {},
   "outputs": [
    {
     "data": {
      "text/plain": [
       "['c', 'b', 'a']"
      ]
     },
     "execution_count": 115,
     "metadata": {},
     "output_type": "execute_result"
    }
   ],
   "source": [
    "a.sort(reverse=True)\n",
    "a"
   ]
  },
  {
   "cell_type": "markdown",
   "id": "59257dd2-bd2d-4bc2-8972-bb24082220c4",
   "metadata": {},
   "source": [
    "# 리스트 뒤집기 REVERSE"
   ]
  },
  {
   "cell_type": "code",
   "execution_count": 122,
   "id": "b6b81187-6483-406d-90c1-3cf8d17ef4ac",
   "metadata": {},
   "outputs": [
    {
     "data": {
      "text/plain": [
       "['b', 'c', 'a']"
      ]
     },
     "execution_count": 122,
     "metadata": {},
     "output_type": "execute_result"
    }
   ],
   "source": [
    "a = ['a','c','b']\n",
    "a.reverse()\n",
    "a"
   ]
  },
  {
   "cell_type": "code",
   "execution_count": 126,
   "id": "01d2366c-e8eb-4ecf-bacf-e84e6fdaf6b9",
   "metadata": {},
   "outputs": [
    {
     "data": {
      "text/plain": [
       "1"
      ]
     },
     "execution_count": 126,
     "metadata": {},
     "output_type": "execute_result"
    }
   ],
   "source": [
    "# 인덱스 반환 index\n",
    "a = [1,2,3]\n",
    "a.index(2)"
   ]
  },
  {
   "cell_type": "markdown",
   "id": "e9df0b79-e8b8-409e-9b93-041c58dfd396",
   "metadata": {},
   "source": [
    "# 리스트 요소 삽입 INSERT"
   ]
  },
  {
   "cell_type": "code",
   "execution_count": 129,
   "id": "902afe42-ec2d-4231-a866-0a6564ad30e9",
   "metadata": {},
   "outputs": [
    {
     "data": {
      "text/plain": [
       "\u001b[1;31mSignature:\u001b[0m \u001b[0ma\u001b[0m\u001b[1;33m.\u001b[0m\u001b[0minsert\u001b[0m\u001b[1;33m(\u001b[0m\u001b[0mindex\u001b[0m\u001b[1;33m,\u001b[0m \u001b[0mobject\u001b[0m\u001b[1;33m,\u001b[0m \u001b[1;33m/\u001b[0m\u001b[1;33m)\u001b[0m\u001b[1;33m\u001b[0m\u001b[1;33m\u001b[0m\u001b[0m\n",
       "\u001b[1;31mDocstring:\u001b[0m Insert object before index.\n",
       "\u001b[1;31mType:\u001b[0m      builtin_function_or_method"
      ]
     },
     "metadata": {},
     "output_type": "display_data"
    }
   ],
   "source": [
    "a = [1,2,3]\n",
    "a.insert?"
   ]
  },
  {
   "cell_type": "code",
   "execution_count": 131,
   "id": "b0f680a1-a26a-4c23-bb4f-ad387416cba6",
   "metadata": {},
   "outputs": [],
   "source": [
    "a.insert(0,4)"
   ]
  },
  {
   "cell_type": "code",
   "execution_count": 133,
   "id": "cfd001a3-282d-4528-a420-56904d6c1294",
   "metadata": {},
   "outputs": [
    {
     "data": {
      "text/plain": [
       "[4, 1, 2, 3]"
      ]
     },
     "execution_count": 133,
     "metadata": {},
     "output_type": "execute_result"
    }
   ],
   "source": [
    "a"
   ]
  },
  {
   "cell_type": "code",
   "execution_count": 135,
   "id": "4b324503-4437-4de6-987d-050e0db56083",
   "metadata": {},
   "outputs": [],
   "source": [
    "a.insert(3,5)"
   ]
  },
  {
   "cell_type": "code",
   "execution_count": 137,
   "id": "ad9851d4-7b95-4df9-bb63-11b8f41a6800",
   "metadata": {},
   "outputs": [
    {
     "data": {
      "text/plain": [
       "[4, 1, 2, 5, 3]"
      ]
     },
     "execution_count": 137,
     "metadata": {},
     "output_type": "execute_result"
    }
   ],
   "source": [
    "a"
   ]
  },
  {
   "cell_type": "code",
   "execution_count": 139,
   "id": "bdc04d53-c0d9-45ee-90e7-914c818dcbf8",
   "metadata": {},
   "outputs": [
    {
     "data": {
      "text/plain": [
       "[1, 2, 1, 2, 3]"
      ]
     },
     "execution_count": 139,
     "metadata": {},
     "output_type": "execute_result"
    }
   ],
   "source": [
    "# 리스트 요소 제거 revoe\n",
    "a = [1,2,3,1,2,3]\n",
    "a.remove(3)\n",
    "a"
   ]
  },
  {
   "cell_type": "code",
   "execution_count": 141,
   "id": "1c96720e-02ec-4bf8-9d37-93feaa2686c7",
   "metadata": {},
   "outputs": [
    {
     "data": {
      "text/plain": [
       "\u001b[1;31mSignature:\u001b[0m \u001b[0ma\u001b[0m\u001b[1;33m.\u001b[0m\u001b[0mremove\u001b[0m\u001b[1;33m(\u001b[0m\u001b[0mvalue\u001b[0m\u001b[1;33m,\u001b[0m \u001b[1;33m/\u001b[0m\u001b[1;33m)\u001b[0m\u001b[1;33m\u001b[0m\u001b[1;33m\u001b[0m\u001b[0m\n",
       "\u001b[1;31mDocstring:\u001b[0m\n",
       "Remove first occurrence of value.\n",
       "\n",
       "Raises ValueError if the value is not present.\n",
       "\u001b[1;31mType:\u001b[0m      builtin_function_or_method"
      ]
     },
     "metadata": {},
     "output_type": "display_data"
    }
   ],
   "source": [
    "a.remove?"
   ]
  },
  {
   "cell_type": "code",
   "execution_count": 145,
   "id": "944ca5d3-5a77-4eff-9277-826648552c46",
   "metadata": {},
   "outputs": [
    {
     "data": {
      "text/plain": [
       "3"
      ]
     },
     "execution_count": 145,
     "metadata": {},
     "output_type": "execute_result"
    }
   ],
   "source": [
    "a= [1,2,3]\n",
    "a.pop()"
   ]
  },
  {
   "cell_type": "code",
   "execution_count": 149,
   "id": "216e9038-1b86-4b37-9561-09db24cdae91",
   "metadata": {},
   "outputs": [
    {
     "data": {
      "text/plain": [
       "2"
      ]
     },
     "execution_count": 149,
     "metadata": {},
     "output_type": "execute_result"
    }
   ],
   "source": [
    "a = [1,2,3,1]\n",
    "a.count(1)"
   ]
  },
  {
   "cell_type": "code",
   "execution_count": 155,
   "id": "63b02865-6bb9-4720-86da-15488ffb4d8a",
   "metadata": {},
   "outputs": [
    {
     "data": {
      "text/plain": [
       "[1, 2, 3, 4, 5]"
      ]
     },
     "execution_count": 155,
     "metadata": {},
     "output_type": "execute_result"
    }
   ],
   "source": [
    "# 리스트 확장 extend\n",
    "a= [1,2,3]\n",
    "a.extend([4,5])\n",
    "a"
   ]
  },
  {
   "cell_type": "code",
   "execution_count": 157,
   "id": "a394d3e0-25f8-4de8-8395-8595ba07908f",
   "metadata": {},
   "outputs": [
    {
     "data": {
      "text/plain": [
       "((), (1,), (1, 2, 3), (1, 2, 3), ('a', 'b', ('ab', 'cd')))"
      ]
     },
     "execution_count": 157,
     "metadata": {},
     "output_type": "execute_result"
    }
   ],
   "source": [
    "t1= ()\n",
    "t2= (1,)\n",
    "t3 = (1,2,3)\n",
    "t4 = 1,2,3\n",
    "t5 = ('a','b',('ab','cd'))\n",
    "t1,t2,t3,t4,t5"
   ]
  },
  {
   "cell_type": "code",
   "execution_count": 165,
   "id": "7595c575-1a7e-475f-8288-e8513c8823f4",
   "metadata": {},
   "outputs": [
    {
     "data": {
      "text/plain": [
       "tuple"
      ]
     },
     "execution_count": 165,
     "metadata": {},
     "output_type": "execute_result"
    }
   ],
   "source": [
    "type(t1)"
   ]
  },
  {
   "cell_type": "code",
   "execution_count": 171,
   "id": "765634e3-c187-4f65-8e5f-06a3cdcd6361",
   "metadata": {},
   "outputs": [],
   "source": [
    "t6 =(1,)"
   ]
  },
  {
   "cell_type": "code",
   "execution_count": 173,
   "id": "5b780422-8fa5-4d4a-948d-5de718cbb9e4",
   "metadata": {},
   "outputs": [
    {
     "data": {
      "text/plain": [
       "((1,), tuple)"
      ]
     },
     "execution_count": 173,
     "metadata": {},
     "output_type": "execute_result"
    }
   ],
   "source": [
    "t6, type(t6)"
   ]
  },
  {
   "cell_type": "code",
   "execution_count": 177,
   "id": "cf3df489-10a3-4a6c-9d37-879904ebaf55",
   "metadata": {},
   "outputs": [
    {
     "data": {
      "text/plain": [
       "(3, 4)"
      ]
     },
     "execution_count": 177,
     "metadata": {},
     "output_type": "execute_result"
    }
   ],
   "source": [
    "t2=(3,4)\n",
    "t1+ t2"
   ]
  },
  {
   "cell_type": "code",
   "execution_count": 179,
   "id": "e8cd9abd-9dfb-45fc-b7ce-97eed4fb6130",
   "metadata": {},
   "outputs": [
    {
     "data": {
      "text/plain": [
       "(3, 4, 3, 4, 3, 4)"
      ]
     },
     "execution_count": 179,
     "metadata": {},
     "output_type": "execute_result"
    }
   ],
   "source": [
    "t2 * 3"
   ]
  },
  {
   "cell_type": "code",
   "execution_count": 181,
   "id": "dda6e096-48fd-424c-b312-88bbe68ee6d4",
   "metadata": {},
   "outputs": [
    {
     "data": {
      "text/plain": [
       "0"
      ]
     },
     "execution_count": 181,
     "metadata": {},
     "output_type": "execute_result"
    }
   ],
   "source": [
    "len(t1)"
   ]
  },
  {
   "cell_type": "markdown",
   "id": "7891b8ae-eb83-4802-b98b-b6a987d23406",
   "metadata": {},
   "source": [
    "# 딕셔너리"
   ]
  },
  {
   "cell_type": "code",
   "execution_count": 188,
   "id": "6da284a4-4df6-45ef-a3ca-3c9963b071b7",
   "metadata": {},
   "outputs": [],
   "source": [
    "# 연관배열 , 해시"
   ]
  },
  {
   "cell_type": "code",
   "execution_count": 190,
   "id": "04d7396d-a00b-4e87-ab22-4ebd0714f5fa",
   "metadata": {},
   "outputs": [
    {
     "data": {
      "text/plain": [
       "{'name': 'pay', 'phone': '010-1234-1234', 'birth': '1118'}"
      ]
     },
     "execution_count": 190,
     "metadata": {},
     "output_type": "execute_result"
    }
   ],
   "source": [
    "dic = {'name':'pay',\"phone\":\"010-1234-1234\",\"birth\":\"1118\"}\n",
    "dic"
   ]
  },
  {
   "cell_type": "code",
   "execution_count": 192,
   "id": "6d0130ab-d395-4135-a733-9758e196de53",
   "metadata": {},
   "outputs": [
    {
     "data": {
      "text/plain": [
       "{'a': [1, 2, 3]}"
      ]
     },
     "execution_count": 192,
     "metadata": {},
     "output_type": "execute_result"
    }
   ],
   "source": [
    "a = {'a': [1,2,3]}\n",
    "a"
   ]
  },
  {
   "cell_type": "code",
   "execution_count": 194,
   "id": "5f070293-d4ab-494e-85f0-ddb0295acdda",
   "metadata": {},
   "outputs": [
    {
     "ename": "TypeError",
     "evalue": "unhashable type: 'list'",
     "output_type": "error",
     "traceback": [
      "\u001b[1;31m---------------------------------------------------------------------------\u001b[0m",
      "\u001b[1;31mTypeError\u001b[0m                                 Traceback (most recent call last)",
      "Cell \u001b[1;32mIn[194], line 1\u001b[0m\n\u001b[1;32m----> 1\u001b[0m b \u001b[38;5;241m=\u001b[39m {[\u001b[38;5;241m1\u001b[39m,\u001b[38;5;241m2\u001b[39m,\u001b[38;5;241m3\u001b[39m]: \u001b[38;5;124m\"\u001b[39m\u001b[38;5;124mdddd\u001b[39m\u001b[38;5;124m\"\u001b[39m}\n",
      "\u001b[1;31mTypeError\u001b[0m: unhashable type: 'list'"
     ]
    }
   ],
   "source": [
    "b = {[1,2,3]: \"dddd\"}"
   ]
  },
  {
   "cell_type": "code",
   "execution_count": 196,
   "id": "14322229-7ecd-41d0-b9b3-1248f659a9ab",
   "metadata": {},
   "outputs": [
    {
     "data": {
      "text/plain": [
       "{1: 'a'}"
      ]
     },
     "execution_count": 196,
     "metadata": {},
     "output_type": "execute_result"
    }
   ],
   "source": [
    "a = {1:'a'}\n",
    "a"
   ]
  },
  {
   "cell_type": "code",
   "execution_count": 198,
   "id": "df30ab33-7d83-4ef7-9cb6-531652fd0010",
   "metadata": {},
   "outputs": [
    {
     "data": {
      "text/plain": [
       "{1: 'a'}"
      ]
     },
     "execution_count": 198,
     "metadata": {},
     "output_type": "execute_result"
    }
   ],
   "source": [
    "a = {1:'a'}\n",
    "a"
   ]
  },
  {
   "cell_type": "code",
   "execution_count": 200,
   "id": "302a91e7-1e63-439d-b0e5-8ae4bb1fc77e",
   "metadata": {},
   "outputs": [
    {
     "data": {
      "text/plain": [
       "{1: 'a', 'name': 'pay'}"
      ]
     },
     "execution_count": 200,
     "metadata": {},
     "output_type": "execute_result"
    }
   ],
   "source": [
    "a['name'] = 'pay'\n",
    "a"
   ]
  },
  {
   "cell_type": "code",
   "execution_count": 202,
   "id": "f3379088-5edc-4c3b-a398-49351fa8f0c3",
   "metadata": {},
   "outputs": [],
   "source": [
    "a[3] = [1,2,3]"
   ]
  },
  {
   "cell_type": "code",
   "execution_count": 204,
   "id": "9260de79-a39f-4db5-864b-05edd4a66aa5",
   "metadata": {},
   "outputs": [
    {
     "data": {
      "text/plain": [
       "{1: 'a', 'name': 'pay', 3: [1, 2, 3]}"
      ]
     },
     "execution_count": 204,
     "metadata": {},
     "output_type": "execute_result"
    }
   ],
   "source": [
    "a"
   ]
  },
  {
   "cell_type": "code",
   "execution_count": 206,
   "id": "1e977ab6-19ab-4829-8b07-61f32dbae67b",
   "metadata": {},
   "outputs": [],
   "source": [
    "del a[1]"
   ]
  },
  {
   "cell_type": "code",
   "execution_count": 208,
   "id": "368caf32-cb49-4958-a51c-a69fdf2cc6f0",
   "metadata": {},
   "outputs": [
    {
     "data": {
      "text/plain": [
       "{'name': 'pay', 3: [1, 2, 3]}"
      ]
     },
     "execution_count": 208,
     "metadata": {},
     "output_type": "execute_result"
    }
   ],
   "source": [
    "a"
   ]
  },
  {
   "cell_type": "markdown",
   "id": "b635c53d-00d1-4938-a925-ad593795fd25",
   "metadata": {},
   "source": [
    "### 딕셔너리 다루기"
   ]
  },
  {
   "cell_type": "code",
   "execution_count": 213,
   "id": "70f542cd-dca4-4d5c-a844-1b9098249830",
   "metadata": {},
   "outputs": [
    {
     "name": "stdout",
     "output_type": "stream",
     "text": [
      "name\n",
      "3\n"
     ]
    }
   ],
   "source": [
    "\n",
    "for k in a.keys():\n",
    "    print(k)"
   ]
  },
  {
   "cell_type": "code",
   "execution_count": 215,
   "id": "2a2388e3-88d2-4c87-94fe-cba86c447b8e",
   "metadata": {},
   "outputs": [
    {
     "data": {
      "text/plain": [
       "dict_keys(['name', 3])"
      ]
     },
     "execution_count": 215,
     "metadata": {},
     "output_type": "execute_result"
    }
   ],
   "source": [
    "a.keys()"
   ]
  },
  {
   "cell_type": "code",
   "execution_count": 219,
   "id": "825e7563-7d10-48f4-93d1-389317b71030",
   "metadata": {},
   "outputs": [
    {
     "data": {
      "text/plain": [
       "dict_keys"
      ]
     },
     "execution_count": 219,
     "metadata": {},
     "output_type": "execute_result"
    }
   ],
   "source": [
    "type(a.keys())"
   ]
  },
  {
   "cell_type": "code",
   "execution_count": 221,
   "id": "470a3ca2-cf57-47f2-8742-4c793afc1ba7",
   "metadata": {},
   "outputs": [
    {
     "data": {
      "text/plain": [
       "['name', 3]"
      ]
     },
     "execution_count": 221,
     "metadata": {},
     "output_type": "execute_result"
    }
   ],
   "source": [
    "list(a.keys())"
   ]
  },
  {
   "cell_type": "code",
   "execution_count": 225,
   "id": "4b134127-b3b3-4ad9-adc2-faa2ea124d24",
   "metadata": {},
   "outputs": [
    {
     "data": {
      "text/plain": [
       "['pay', [1, 2, 3]]"
      ]
     },
     "execution_count": 225,
     "metadata": {},
     "output_type": "execute_result"
    }
   ],
   "source": [
    "list(a.values())"
   ]
  },
  {
   "cell_type": "code",
   "execution_count": 227,
   "id": "e5dc0965-1d9e-431c-9dc4-03b6e465610c",
   "metadata": {},
   "outputs": [
    {
     "data": {
      "text/plain": [
       "dict_items([('name', 'pay'), ('phone', '010-1234-1234'), ('birth', '1118')])"
      ]
     },
     "execution_count": 227,
     "metadata": {},
     "output_type": "execute_result"
    }
   ],
   "source": [
    "dic.items()"
   ]
  },
  {
   "cell_type": "code",
   "execution_count": 229,
   "id": "2f7e2a8f-04d4-450b-8662-65f857f0954d",
   "metadata": {},
   "outputs": [],
   "source": [
    "dic.clear()"
   ]
  },
  {
   "cell_type": "code",
   "execution_count": 231,
   "id": "c914299f-baa1-428f-a676-a79fb1bbba28",
   "metadata": {},
   "outputs": [
    {
     "data": {
      "text/plain": [
       "{}"
      ]
     },
     "execution_count": 231,
     "metadata": {},
     "output_type": "execute_result"
    }
   ],
   "source": [
    "dic"
   ]
  },
  {
   "cell_type": "code",
   "execution_count": 233,
   "id": "877f79f4-737a-4c13-bf17-3566ef99b1f6",
   "metadata": {},
   "outputs": [],
   "source": [
    "a = {'name':'pay',\"phone\":\"010-1234-1234\",\"birth\":\"1118\"}\n"
   ]
  },
  {
   "cell_type": "code",
   "execution_count": 235,
   "id": "cddbfe69-533f-4ec7-bdee-f61ab21fd02c",
   "metadata": {},
   "outputs": [
    {
     "data": {
      "text/plain": [
       "'pay'"
      ]
     },
     "execution_count": 235,
     "metadata": {},
     "output_type": "execute_result"
    }
   ],
   "source": [
    "a['name']"
   ]
  },
  {
   "cell_type": "code",
   "execution_count": 237,
   "id": "e4d398cf-15ca-4596-968b-c08484220e3e",
   "metadata": {},
   "outputs": [
    {
     "data": {
      "text/plain": [
       "'pay'"
      ]
     },
     "execution_count": 237,
     "metadata": {},
     "output_type": "execute_result"
    }
   ],
   "source": [
    "a.get('name')"
   ]
  },
  {
   "cell_type": "code",
   "execution_count": 257,
   "id": "fdd1bb8e-5624-426c-a725-81fe02216aca",
   "metadata": {},
   "outputs": [
    {
     "data": {
      "text/plain": [
       "\u001b[1;31mSignature:\u001b[0m \u001b[0ma\u001b[0m\u001b[1;33m.\u001b[0m\u001b[0mget\u001b[0m\u001b[1;33m(\u001b[0m\u001b[0mkey\u001b[0m\u001b[1;33m,\u001b[0m \u001b[0mdefault\u001b[0m\u001b[1;33m=\u001b[0m\u001b[1;32mNone\u001b[0m\u001b[1;33m,\u001b[0m \u001b[1;33m/\u001b[0m\u001b[1;33m)\u001b[0m\u001b[1;33m\u001b[0m\u001b[1;33m\u001b[0m\u001b[0m\n",
       "\u001b[1;31mDocstring:\u001b[0m Return the value for key if key is in the dictionary, else default.\n",
       "\u001b[1;31mType:\u001b[0m      builtin_function_or_method"
      ]
     },
     "metadata": {},
     "output_type": "display_data"
    }
   ],
   "source": [
    "r = a.get('nokey','defaultkey')\n",
    "a.get?"
   ]
  },
  {
   "cell_type": "code",
   "execution_count": 259,
   "id": "1ee19ca9-6881-4cf4-b50b-03ed78bd80b6",
   "metadata": {},
   "outputs": [
    {
     "name": "stdout",
     "output_type": "stream",
     "text": [
      "defaultkey\n"
     ]
    }
   ],
   "source": [
    "print(r)"
   ]
  },
  {
   "cell_type": "code",
   "execution_count": 261,
   "id": "b4be5fb4-9a58-417c-9994-b5df22b9b7b6",
   "metadata": {},
   "outputs": [
    {
     "data": {
      "text/plain": [
       "True"
      ]
     },
     "execution_count": 261,
     "metadata": {},
     "output_type": "execute_result"
    }
   ],
   "source": [
    "'name' in a"
   ]
  },
  {
   "cell_type": "markdown",
   "id": "3eb5753c-e105-47ba-beb0-a0e9df08337c",
   "metadata": {},
   "source": [
    "## 집합"
   ]
  },
  {
   "cell_type": "code",
   "execution_count": 266,
   "id": "55d8b0ba-40df-4ff3-97ff-9fb969aa0467",
   "metadata": {},
   "outputs": [
    {
     "data": {
      "text/plain": [
       "({1, 2, 3}, set)"
      ]
     },
     "execution_count": 266,
     "metadata": {},
     "output_type": "execute_result"
    }
   ],
   "source": [
    "s1 = set([1,2,3])\n",
    "s1, type(s1)"
   ]
  },
  {
   "cell_type": "code",
   "execution_count": 268,
   "id": "709cf48e-e03d-4b08-890f-998e179874ef",
   "metadata": {},
   "outputs": [
    {
     "data": {
      "text/plain": [
       "{'H', 'e', 'l', 'o'}"
      ]
     },
     "execution_count": 268,
     "metadata": {},
     "output_type": "execute_result"
    }
   ],
   "source": [
    "s2 = set(\"Hello\")\n",
    "s2"
   ]
  },
  {
   "cell_type": "code",
   "execution_count": 272,
   "id": "b4c239b5-b805-4627-a0cd-b1d31dadd566",
   "metadata": {},
   "outputs": [
    {
     "data": {
      "text/plain": [
       "[1, 2, 3]"
      ]
     },
     "execution_count": 272,
     "metadata": {},
     "output_type": "execute_result"
    }
   ],
   "source": [
    "l1 = list(s1)\n",
    "l1"
   ]
  },
  {
   "cell_type": "code",
   "execution_count": 274,
   "id": "9928d3d8-3836-4d1e-933b-868a9532d519",
   "metadata": {},
   "outputs": [
    {
     "data": {
      "text/plain": [
       "1"
      ]
     },
     "execution_count": 274,
     "metadata": {},
     "output_type": "execute_result"
    }
   ],
   "source": [
    "l1[0]"
   ]
  },
  {
   "cell_type": "code",
   "execution_count": 276,
   "id": "65cc7b30-468a-4241-b4e4-c2e280506a01",
   "metadata": {},
   "outputs": [
    {
     "data": {
      "text/plain": [
       "(1, 2, 3)"
      ]
     },
     "execution_count": 276,
     "metadata": {},
     "output_type": "execute_result"
    }
   ],
   "source": [
    "tuple(s1)"
   ]
  },
  {
   "cell_type": "code",
   "execution_count": 278,
   "id": "14f3a2e4-77b5-4149-9de6-6f021804fb0f",
   "metadata": {},
   "outputs": [],
   "source": [
    "s1 = set([1,2,3,4,5,6])\n",
    "s2 = set([4,5,6,7,8,9])"
   ]
  },
  {
   "cell_type": "code",
   "execution_count": 280,
   "id": "b1eaad37-97f9-48ad-b797-a37e4343c047",
   "metadata": {},
   "outputs": [
    {
     "data": {
      "text/plain": [
       "{4, 5, 6}"
      ]
     },
     "execution_count": 280,
     "metadata": {},
     "output_type": "execute_result"
    }
   ],
   "source": [
    "s1 & s2"
   ]
  },
  {
   "cell_type": "code",
   "execution_count": 282,
   "id": "c8f87ed5-24ba-4825-bf9b-c0b58fae3470",
   "metadata": {},
   "outputs": [
    {
     "data": {
      "text/plain": [
       "{4, 5, 6}"
      ]
     },
     "execution_count": 282,
     "metadata": {},
     "output_type": "execute_result"
    }
   ],
   "source": [
    "s1.intersection(s2)"
   ]
  },
  {
   "cell_type": "code",
   "execution_count": 284,
   "id": "af459c29-53a8-4642-8aa8-718796e053bf",
   "metadata": {},
   "outputs": [
    {
     "data": {
      "text/plain": [
       "{1, 2, 3, 4, 5, 6, 7, 8, 9}"
      ]
     },
     "execution_count": 284,
     "metadata": {},
     "output_type": "execute_result"
    }
   ],
   "source": [
    "s1 | s2"
   ]
  },
  {
   "cell_type": "code",
   "execution_count": 286,
   "id": "19129af8-1839-40fe-bef6-b57abd2fd1d1",
   "metadata": {},
   "outputs": [
    {
     "data": {
      "text/plain": [
       "{1, 2, 3, 4, 5, 6, 7, 8, 9}"
      ]
     },
     "execution_count": 286,
     "metadata": {},
     "output_type": "execute_result"
    }
   ],
   "source": [
    "s1.union(s2)"
   ]
  },
  {
   "cell_type": "code",
   "execution_count": 288,
   "id": "335042b3-73f9-4e18-a6a6-872b287ea67b",
   "metadata": {},
   "outputs": [
    {
     "data": {
      "text/plain": [
       "{1, 2, 3}"
      ]
     },
     "execution_count": 288,
     "metadata": {},
     "output_type": "execute_result"
    }
   ],
   "source": [
    "s1 - s2"
   ]
  },
  {
   "cell_type": "code",
   "execution_count": 290,
   "id": "6361b9c3-e7f4-4204-84f9-5772e189a3c2",
   "metadata": {},
   "outputs": [
    {
     "data": {
      "text/plain": [
       "{1, 2, 3}"
      ]
     },
     "execution_count": 290,
     "metadata": {},
     "output_type": "execute_result"
    }
   ],
   "source": [
    "s1.difference(s2)"
   ]
  },
  {
   "cell_type": "code",
   "execution_count": 292,
   "id": "0735258c-42e0-49bf-a405-61993315de0f",
   "metadata": {},
   "outputs": [
    {
     "data": {
      "text/plain": [
       "{0, 1, 2, 3, 4, 5, 6}"
      ]
     },
     "execution_count": 292,
     "metadata": {},
     "output_type": "execute_result"
    }
   ],
   "source": [
    "# 값 1개 추가하기 add\n",
    "s1.add(0)\n",
    "s1"
   ]
  },
  {
   "cell_type": "code",
   "execution_count": 298,
   "id": "2172834c-efca-49a0-bb34-3a8d5538e346",
   "metadata": {},
   "outputs": [
    {
     "data": {
      "text/plain": [
       "{0, 1, 2, 3, 4, 5, 6, 7, 8, 9}"
      ]
     },
     "execution_count": 298,
     "metadata": {},
     "output_type": "execute_result"
    }
   ],
   "source": [
    "s1.update([7,8,9])\n",
    "s1"
   ]
  },
  {
   "cell_type": "code",
   "execution_count": 300,
   "id": "89eae47e-417d-47ee-9497-12589b89cdc4",
   "metadata": {},
   "outputs": [
    {
     "data": {
      "text/plain": [
       "{1, 2, 3, 4, 5, 6, 7, 8, 9}"
      ]
     },
     "execution_count": 300,
     "metadata": {},
     "output_type": "execute_result"
    }
   ],
   "source": [
    "s1.remove(0)\n",
    "s1"
   ]
  },
  {
   "cell_type": "markdown",
   "id": "05581cd5-098c-4ecf-b913-817f624a79da",
   "metadata": {},
   "source": [
    "## 불린 (논리)"
   ]
  },
  {
   "cell_type": "code",
   "execution_count": 303,
   "id": "adc8fe24-623c-4532-b136-27e315034448",
   "metadata": {},
   "outputs": [
    {
     "data": {
      "text/plain": [
       "(bool, bool)"
      ]
     },
     "execution_count": 303,
     "metadata": {},
     "output_type": "execute_result"
    }
   ],
   "source": [
    "a  = True\n",
    "b  = False\n",
    "type(a), type(b)"
   ]
  },
  {
   "cell_type": "code",
   "execution_count": 305,
   "id": "47b805f2-8148-440f-867d-18fe90154942",
   "metadata": {},
   "outputs": [
    {
     "data": {
      "text/plain": [
       "True"
      ]
     },
     "execution_count": 305,
     "metadata": {},
     "output_type": "execute_result"
    }
   ],
   "source": [
    "1==1"
   ]
  },
  {
   "cell_type": "code",
   "execution_count": 307,
   "id": "7f7d921a-f05e-4408-a5e9-0407bfe497ed",
   "metadata": {},
   "outputs": [
    {
     "data": {
      "text/plain": [
       "True"
      ]
     },
     "execution_count": 307,
     "metadata": {},
     "output_type": "execute_result"
    }
   ],
   "source": [
    "2>1"
   ]
  },
  {
   "cell_type": "code",
   "execution_count": 309,
   "id": "9c72ec5c-ac0c-4a9b-bff8-44a2d3110e0d",
   "metadata": {},
   "outputs": [
    {
     "data": {
      "text/plain": [
       "False"
      ]
     },
     "execution_count": 309,
     "metadata": {},
     "output_type": "execute_result"
    }
   ],
   "source": [
    "2<1"
   ]
  },
  {
   "cell_type": "code",
   "execution_count": 317,
   "id": "9b052265-aa91-4c80-990d-30363f444eb6",
   "metadata": {},
   "outputs": [],
   "source": [
    "a = [1,2,3,4]"
   ]
  },
  {
   "cell_type": "code",
   "execution_count": 319,
   "id": "9419712a-7f66-4e0f-a709-6a903cea93d0",
   "metadata": {},
   "outputs": [
    {
     "name": "stdout",
     "output_type": "stream",
     "text": [
      "[1, 2, 3] 4\n",
      "[1, 2] 3\n",
      "[1] 2\n",
      "[] 1\n"
     ]
    }
   ],
   "source": [
    "while a :\n",
    "    print(a, a.pop())"
   ]
  },
  {
   "cell_type": "code",
   "execution_count": 323,
   "id": "9c660869-b905-4e5a-ac6a-dac942de9334",
   "metadata": {},
   "outputs": [
    {
     "name": "stdout",
     "output_type": "stream",
     "text": [
      "참\n"
     ]
    }
   ],
   "source": [
    "if [1,2,3] : \n",
    "    print('참')\n",
    "else :\n",
    "    print('거짓')"
   ]
  },
  {
   "cell_type": "code",
   "execution_count": 325,
   "id": "51a7574b-0361-4abe-b1dd-80d43e541db1",
   "metadata": {},
   "outputs": [
    {
     "name": "stdout",
     "output_type": "stream",
     "text": [
      "거짓\n"
     ]
    }
   ],
   "source": [
    "if [] :\n",
    "    print('참')\n",
    "else : \n",
    "    print('거짓')"
   ]
  },
  {
   "cell_type": "code",
   "execution_count": 327,
   "id": "5e2a302b-54f4-4216-a44e-69df15298204",
   "metadata": {},
   "outputs": [
    {
     "data": {
      "text/plain": [
       "True"
      ]
     },
     "execution_count": 327,
     "metadata": {},
     "output_type": "execute_result"
    }
   ],
   "source": [
    "#불 연산\n",
    "bool('python')"
   ]
  },
  {
   "cell_type": "code",
   "execution_count": 329,
   "id": "5d64c72d-45d4-4531-a551-6719ffb9183e",
   "metadata": {},
   "outputs": [
    {
     "data": {
      "text/plain": [
       "False"
      ]
     },
     "execution_count": 329,
     "metadata": {},
     "output_type": "execute_result"
    }
   ],
   "source": [
    "bool('')"
   ]
  },
  {
   "cell_type": "code",
   "execution_count": 331,
   "id": "cdc44fd3-ba7c-4666-b8d8-e263d681b676",
   "metadata": {},
   "outputs": [
    {
     "data": {
      "text/plain": [
       "2362748830592"
      ]
     },
     "execution_count": 331,
     "metadata": {},
     "output_type": "execute_result"
    }
   ],
   "source": [
    "a = [1,2,3]\n",
    "id(a)"
   ]
  },
  {
   "cell_type": "code",
   "execution_count": 333,
   "id": "e57d7d62-b8aa-46b8-8df4-6bd6f2d7b61c",
   "metadata": {},
   "outputs": [
    {
     "data": {
      "text/plain": [
       "[1, 2, 3]"
      ]
     },
     "execution_count": 333,
     "metadata": {},
     "output_type": "execute_result"
    }
   ],
   "source": [
    "b = a\n",
    "b"
   ]
  },
  {
   "cell_type": "code",
   "execution_count": 335,
   "id": "d0a549a7-367d-461a-9300-1b6affed952b",
   "metadata": {},
   "outputs": [],
   "source": [
    "b[1]=9"
   ]
  },
  {
   "cell_type": "code",
   "execution_count": 337,
   "id": "23b8f37f-f55b-42bc-b3f6-9b49d0a8f9a5",
   "metadata": {},
   "outputs": [
    {
     "data": {
      "text/plain": [
       "[1, 9, 3]"
      ]
     },
     "execution_count": 337,
     "metadata": {},
     "output_type": "execute_result"
    }
   ],
   "source": [
    "b"
   ]
  },
  {
   "cell_type": "code",
   "execution_count": 339,
   "id": "e8a3ae31-9535-4c01-8191-0fbdf3ea5486",
   "metadata": {},
   "outputs": [
    {
     "data": {
      "text/plain": [
       "[1, 9, 3]"
      ]
     },
     "execution_count": 339,
     "metadata": {},
     "output_type": "execute_result"
    }
   ],
   "source": [
    "a"
   ]
  },
  {
   "cell_type": "code",
   "execution_count": 341,
   "id": "e45bd3ce-e200-4149-8cae-e65dac915016",
   "metadata": {},
   "outputs": [],
   "source": [
    "a= 1"
   ]
  },
  {
   "cell_type": "code",
   "execution_count": 343,
   "id": "9bb40fef-3e7f-4329-a5ff-aae24ef97f96",
   "metadata": {},
   "outputs": [
    {
     "data": {
      "text/plain": [
       "140722004310456"
      ]
     },
     "execution_count": 343,
     "metadata": {},
     "output_type": "execute_result"
    }
   ],
   "source": [
    "id(a)"
   ]
  },
  {
   "cell_type": "code",
   "execution_count": 345,
   "id": "fe803e1f-d008-46dc-93a6-ec3b4373c641",
   "metadata": {},
   "outputs": [],
   "source": [
    "a = 2"
   ]
  },
  {
   "cell_type": "code",
   "execution_count": 347,
   "id": "c82ea6a3-9225-432a-96da-b250b2bbc20d",
   "metadata": {},
   "outputs": [
    {
     "data": {
      "text/plain": [
       "140722004310488"
      ]
     },
     "execution_count": 347,
     "metadata": {},
     "output_type": "execute_result"
    }
   ],
   "source": [
    "id(a)"
   ]
  },
  {
   "cell_type": "code",
   "execution_count": 349,
   "id": "02343a3a-a0b5-4e20-a47d-1567023d268f",
   "metadata": {},
   "outputs": [
    {
     "data": {
      "text/plain": [
       "False"
      ]
     },
     "execution_count": 349,
     "metadata": {},
     "output_type": "execute_result"
    }
   ],
   "source": [
    "a is b"
   ]
  },
  {
   "cell_type": "markdown",
   "id": "181e2404-f9e2-45cc-94d4-8e3257d2b41f",
   "metadata": {},
   "source": [
    "###  변수 다루기"
   ]
  },
  {
   "cell_type": "code",
   "execution_count": 356,
   "id": "26b786d7-9fb6-4ac4-9904-44563eafaa30",
   "metadata": {},
   "outputs": [
    {
     "data": {
      "text/plain": [
       "([1, 2, 3, 4, 5], [1, 2, 3, 4, 5])"
      ]
     },
     "execution_count": 356,
     "metadata": {},
     "output_type": "execute_result"
    }
   ],
   "source": [
    "a = [1,2,3,4,5]\n",
    "a , a[:]"
   ]
  },
  {
   "cell_type": "code",
   "execution_count": 358,
   "id": "a23487f6-624b-488c-9896-66a6f4cc1195",
   "metadata": {},
   "outputs": [
    {
     "data": {
      "text/plain": [
       "[1, 2, 3, 4, 5]"
      ]
     },
     "execution_count": 358,
     "metadata": {},
     "output_type": "execute_result"
    }
   ],
   "source": [
    "b = a[:]\n",
    "b"
   ]
  },
  {
   "cell_type": "code",
   "execution_count": 360,
   "id": "15d4a905-9337-4c0d-a851-6ceaba20b678",
   "metadata": {},
   "outputs": [
    {
     "data": {
      "text/plain": [
       "False"
      ]
     },
     "execution_count": 360,
     "metadata": {},
     "output_type": "execute_result"
    }
   ],
   "source": [
    "a is b"
   ]
  },
  {
   "cell_type": "code",
   "execution_count": 362,
   "id": "d9072946-631f-433c-910f-6a7ed1a86679",
   "metadata": {},
   "outputs": [],
   "source": [
    "from copy import copy"
   ]
  },
  {
   "cell_type": "code",
   "execution_count": 364,
   "id": "c525d824-5ff9-4593-901b-0b88e0f6b668",
   "metadata": {},
   "outputs": [
    {
     "data": {
      "text/plain": [
       "([1, 2, 3], [1, 2, 3])"
      ]
     },
     "execution_count": 364,
     "metadata": {},
     "output_type": "execute_result"
    }
   ],
   "source": [
    "a = [1,2,3]\n",
    "b = copy(a)\n",
    "a,b"
   ]
  },
  {
   "cell_type": "code",
   "execution_count": 366,
   "id": "6a46a75f-9a3b-4974-9969-4850bbd1c03b",
   "metadata": {},
   "outputs": [
    {
     "data": {
      "text/plain": [
       "(2362764069056, 2362764053504)"
      ]
     },
     "execution_count": 366,
     "metadata": {},
     "output_type": "execute_result"
    }
   ],
   "source": [
    "id(a) , id(b)"
   ]
  },
  {
   "cell_type": "code",
   "execution_count": 368,
   "id": "a6957de8-efe5-4ab0-a79f-1a8dc507854d",
   "metadata": {},
   "outputs": [
    {
     "data": {
      "text/plain": [
       "False"
      ]
     },
     "execution_count": 368,
     "metadata": {},
     "output_type": "execute_result"
    }
   ],
   "source": [
    "c = a.copy()\n",
    "a is c"
   ]
  },
  {
   "cell_type": "code",
   "execution_count": 372,
   "id": "6071c8af-053c-4ec5-b07b-530871c5b833",
   "metadata": {},
   "outputs": [],
   "source": [
    "a,b = ('python','life')"
   ]
  },
  {
   "cell_type": "code",
   "execution_count": 374,
   "id": "442b36ac-1132-44fa-a228-b5d9d0148c94",
   "metadata": {},
   "outputs": [
    {
     "data": {
      "text/plain": [
       "'python'"
      ]
     },
     "execution_count": 374,
     "metadata": {},
     "output_type": "execute_result"
    }
   ],
   "source": [
    "a"
   ]
  },
  {
   "cell_type": "code",
   "execution_count": 376,
   "id": "6e401ca1-fdec-46e4-b821-6a11edbf2291",
   "metadata": {},
   "outputs": [],
   "source": [
    "[a,b] = ['python','life']"
   ]
  },
  {
   "cell_type": "code",
   "execution_count": 378,
   "id": "a4bdb119-ad49-41fa-81f2-e9f473e6ed49",
   "metadata": {},
   "outputs": [
    {
     "data": {
      "text/plain": [
       "'python'"
      ]
     },
     "execution_count": 378,
     "metadata": {},
     "output_type": "execute_result"
    }
   ],
   "source": [
    "a\n"
   ]
  },
  {
   "cell_type": "code",
   "execution_count": 380,
   "id": "06b4ef77-6de1-4f10-8df0-80643d1efb2e",
   "metadata": {},
   "outputs": [],
   "source": [
    "a=3\n",
    "b =5\n",
    "a,b = b,a"
   ]
  },
  {
   "cell_type": "code",
   "execution_count": 382,
   "id": "21a3fb35-38ac-4a9e-85de-43e341dd0ffd",
   "metadata": {},
   "outputs": [
    {
     "data": {
      "text/plain": [
       "(5, 3)"
      ]
     },
     "execution_count": 382,
     "metadata": {},
     "output_type": "execute_result"
    }
   ],
   "source": [
    "a,b"
   ]
  },
  {
   "cell_type": "code",
   "execution_count": null,
   "id": "37b18e4c-375f-44e6-92a9-2bed170ac8b8",
   "metadata": {},
   "outputs": [],
   "source": []
  }
 ],
 "metadata": {
  "kernelspec": {
   "display_name": "Python 3 (ipykernel)",
   "language": "python",
   "name": "python3"
  },
  "language_info": {
   "codemirror_mode": {
    "name": "ipython",
    "version": 3
   },
   "file_extension": ".py",
   "mimetype": "text/x-python",
   "name": "python",
   "nbconvert_exporter": "python",
   "pygments_lexer": "ipython3",
   "version": "3.12.4"
  }
 },
 "nbformat": 4,
 "nbformat_minor": 5
}
