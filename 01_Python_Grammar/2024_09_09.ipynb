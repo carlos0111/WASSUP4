{
 "cells": [
  {
   "cell_type": "code",
   "execution_count": 1,
   "id": "950cd72a-0c42-4fb6-93af-48c4da68a8e5",
   "metadata": {},
   "outputs": [
    {
     "name": "stdout",
     "output_type": "stream",
     "text": [
      "1번 학생 축하합니다. 합격입니다. \n",
      "3번 학생 축하합니다. 합격입니다. \n",
      "5번 학생 축하합니다. 합격입니다. \n"
     ]
    }
   ],
   "source": [
    "# marks2.py\n",
    "marks = [90, 25, 67, 45, 80]\n",
    "\n",
    "number = 0 \n",
    "for mark in marks: \n",
    "    number = number +1 \n",
    "    if mark < 60:\n",
    "        continue \n",
    "    print(\"%d번 학생 축하합니다. 합격입니다. \" % number)\n"
   ]
  },
  {
   "cell_type": "code",
   "execution_count": 3,
   "id": "a4a311f5-5204-4693-b4fe-0a049964522f",
   "metadata": {},
   "outputs": [
    {
     "data": {
      "text/plain": [
       "\u001b[1;31mInit signature:\u001b[0m \u001b[0mrange\u001b[0m\u001b[1;33m(\u001b[0m\u001b[0mself\u001b[0m\u001b[1;33m,\u001b[0m \u001b[1;33m/\u001b[0m\u001b[1;33m,\u001b[0m \u001b[1;33m*\u001b[0m\u001b[0margs\u001b[0m\u001b[1;33m,\u001b[0m \u001b[1;33m**\u001b[0m\u001b[0mkwargs\u001b[0m\u001b[1;33m)\u001b[0m\u001b[1;33m\u001b[0m\u001b[1;33m\u001b[0m\u001b[0m\n",
       "\u001b[1;31mDocstring:\u001b[0m     \n",
       "range(stop) -> range object\n",
       "range(start, stop[, step]) -> range object\n",
       "\n",
       "Return an object that produces a sequence of integers from start (inclusive)\n",
       "to stop (exclusive) by step.  range(i, j) produces i, i+1, i+2, ..., j-1.\n",
       "start defaults to 0, and stop is omitted!  range(4) produces 0, 1, 2, 3.\n",
       "These are exactly the valid indices for a list of 4 elements.\n",
       "When step is given, it specifies the increment (or decrement).\n",
       "\u001b[1;31mType:\u001b[0m           type\n",
       "\u001b[1;31mSubclasses:\u001b[0m     "
      ]
     },
     "metadata": {},
     "output_type": "display_data"
    }
   ],
   "source": [
    "range?"
   ]
  },
  {
   "cell_type": "code",
   "execution_count": 13,
   "id": "5b7596e0-3eb3-4250-97f0-8cfd6f1e74ec",
   "metadata": {},
   "outputs": [
    {
     "name": "stdout",
     "output_type": "stream",
     "text": [
      "55\n"
     ]
    }
   ],
   "source": [
    "l=0\n",
    "for i in range(1,11):\n",
    "    l+=i\n",
    "print(l)"
   ]
  },
  {
   "cell_type": "code",
   "execution_count": 17,
   "id": "717995f9-50cd-441f-ab6f-d0df7d274f25",
   "metadata": {},
   "outputs": [
    {
     "name": "stdout",
     "output_type": "stream",
     "text": [
      "1번 학생 축하합니다. 합격입니다. \n",
      "3번 학생 축하합니다. 합격입니다. \n",
      "5번 학생 축하합니다. 합격입니다. \n"
     ]
    }
   ],
   "source": [
    "# marks2.py\n",
    "marks = [90, 25, 67, 45, 80]\n",
    "for i in range(len(marks)): \n",
    "    if marks[i] < 60:\n",
    "        continue \n",
    "    print(\"%d번 학생 축하합니다. 합격입니다. \" % (i+1))"
   ]
  },
  {
   "cell_type": "code",
   "execution_count": 21,
   "id": "3b060745-0323-480e-9c37-6ecada846f32",
   "metadata": {},
   "outputs": [
    {
     "name": "stdout",
     "output_type": "stream",
     "text": [
      " 2 x 1 = 2  2 x 2 = 4  2 x 3 = 6  2 x 4 = 8  2 x 5 = 10  2 x 6 = 12  2 x 7 = 14  2 x 8 = 16  2 x 9 = 18 \n",
      " 3 x 1 = 3  3 x 2 = 6  3 x 3 = 9  3 x 4 = 12  3 x 5 = 15  3 x 6 = 18  3 x 7 = 21  3 x 8 = 24  3 x 9 = 27 \n",
      " 4 x 1 = 4  4 x 2 = 8  4 x 3 = 12  4 x 4 = 16  4 x 5 = 20  4 x 6 = 24  4 x 7 = 28  4 x 8 = 32  4 x 9 = 36 \n",
      " 5 x 1 = 5  5 x 2 = 10  5 x 3 = 15  5 x 4 = 20  5 x 5 = 25  5 x 6 = 30  5 x 7 = 35  5 x 8 = 40  5 x 9 = 45 \n",
      " 6 x 1 = 6  6 x 2 = 12  6 x 3 = 18  6 x 4 = 24  6 x 5 = 30  6 x 6 = 36  6 x 7 = 42  6 x 8 = 48  6 x 9 = 54 \n",
      " 7 x 1 = 7  7 x 2 = 14  7 x 3 = 21  7 x 4 = 28  7 x 5 = 35  7 x 6 = 42  7 x 7 = 49  7 x 8 = 56  7 x 9 = 63 \n",
      " 8 x 1 = 8  8 x 2 = 16  8 x 3 = 24  8 x 4 = 32  8 x 5 = 40  8 x 6 = 48  8 x 7 = 56  8 x 8 = 64  8 x 9 = 72 \n",
      " 9 x 1 = 9  9 x 2 = 18  9 x 3 = 27  9 x 4 = 36  9 x 5 = 45  9 x 6 = 54  9 x 7 = 63  9 x 8 = 72  9 x 9 = 81 \n"
     ]
    }
   ],
   "source": [
    "for i in range(2,10):        # 1번 for문\n",
    "     for j in range(1, 10):   # 2번 for문\n",
    "         print(f\" {i} x {j} = {i*j}\" , end=\" \") \n",
    "     print('') \n",
    "\n"
   ]
  },
  {
   "cell_type": "code",
   "execution_count": 25,
   "id": "52dfc01e-ebc0-4431-b258-d31adb4c898a",
   "metadata": {},
   "outputs": [
    {
     "name": "stdout",
     "output_type": "stream",
     "text": [
      "List Comprehension Time: 0.08417701721191406\n",
      "For loop Time: 0.1316220760345459\n"
     ]
    }
   ],
   "source": [
    "import time\n",
    "\n",
    "start = time.time() \n",
    "numbers = [i for i in range(1000000)] \n",
    "end = time.time() \n",
    "print('List Comprehension Time:', end-start)\n",
    "\n",
    "start = time.time() \n",
    "numbers = []\n",
    "for i in range(1000000):\n",
    "    numbers.append(i)\n",
    "end = time.time() \n",
    "print('For loop Time:', end-start)\n"
   ]
  },
  {
   "cell_type": "code",
   "execution_count": 66,
   "id": "d011e72f-6863-4945-9098-85bd211ed316",
   "metadata": {},
   "outputs": [
    {
     "name": "stdout",
     "output_type": "stream",
     "text": [
      "1 : 추가 , 2: 전체보기, 3: 검색, 4: 수정 , 5: 삭제 , 6 : 끝\n"
     ]
    },
    {
     "name": "stdin",
     "output_type": "stream",
     "text": [
      "선택 3\n",
      "검색 :  남상민\n"
     ]
    },
    {
     "name": "stdout",
     "output_type": "stream",
     "text": [
      "없는 사람\n"
     ]
    },
    {
     "name": "stdin",
     "output_type": "stream",
     "text": [
      "선택 3\n",
      "검색 :  남상만\n"
     ]
    },
    {
     "name": "stdout",
     "output_type": "stream",
     "text": [
      "없는 사람\n"
     ]
    },
    {
     "name": "stdin",
     "output_type": "stream",
     "text": [
      "선택 6\n"
     ]
    },
    {
     "name": "stdout",
     "output_type": "stream",
     "text": [
      "끝\n"
     ]
    }
   ],
   "source": [
    "all = {\"남상만\":\"010-3795-5109\", \"남상민2\":\"010-3797-5109\"}\n",
    "\n",
    "print(\"1 : 추가 , 2: 전체보기, 3: 검색, 4: 수정 , 5: 삭제 , 6 : 끝\")\n",
    "while True:\n",
    "    try :\n",
    "        a = input(\"선택\")\n",
    "        if a==\"1\" :\n",
    "            name_num_str=input(\"입력 : \")\n",
    "            name_num_list = name_num_str.split(\" \")\n",
    "            name = name_num_list[0]\n",
    "            num = name_num_list[1]\n",
    "            \n",
    "            if all.get(name) == None :\n",
    "                all[name] = num\n",
    "            else : \n",
    "                print(\"있는 사람\")\n",
    "        elif a == \"2\":\n",
    "            for i in all.keys() :\n",
    "                print(f'{i} : {all[i]}')\n",
    "    \n",
    "        elif a == \"3\" :\n",
    "            search=input(\"검색 : \")\n",
    "            if all.get(search) :\n",
    "                print(all.get(search))\n",
    "            else : \n",
    "                print(\"없는 사람\")\n",
    "        elif a == \"4\" : \n",
    "            \n",
    "            update =input(\"수정 : \")\n",
    "            update_list = update.split(\" \")\n",
    "            update_name = update_list[0]\n",
    "            update_num = update_list[1]\n",
    "            if all.get(update_name) :\n",
    "                all[update_name] = update_num\n",
    "            else : \n",
    "                print(\"없는 사람\")\n",
    "        elif a == \"5\":\n",
    "            delete=input(\"삭제 : \")\n",
    "            if all.get(delete) :\n",
    "                del all[delete]\n",
    "        elif a == \"6\":\n",
    "            print(\"끝\")\n",
    "            break;\n",
    "        else : \n",
    "            print(\"다시 선택해 주세요\")\n",
    "    except :\n",
    "        print(\"잘못 입력하셨어요\")"
   ]
  },
  {
   "cell_type": "code",
   "execution_count": null,
   "id": "f4d62891-9325-4037-a797-ae384c845504",
   "metadata": {},
   "outputs": [],
   "source": []
  }
 ],
 "metadata": {
  "kernelspec": {
   "display_name": "Python 3 (ipykernel)",
   "language": "python",
   "name": "python3"
  },
  "language_info": {
   "codemirror_mode": {
    "name": "ipython",
    "version": 3
   },
   "file_extension": ".py",
   "mimetype": "text/x-python",
   "name": "python",
   "nbconvert_exporter": "python",
   "pygments_lexer": "ipython3",
   "version": "3.12.4"
  }
 },
 "nbformat": 4,
 "nbformat_minor": 5
}
