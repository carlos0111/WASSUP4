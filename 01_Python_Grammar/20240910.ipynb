{
 "cells": [
  {
   "cell_type": "code",
   "execution_count": 12,
   "id": "560ad1f1-5677-4c70-95f4-a430671ae4f0",
   "metadata": {},
   "outputs": [
    {
     "name": "stdout",
     "output_type": "stream",
     "text": [
      "rr\n",
      "9\n"
     ]
    }
   ],
   "source": [
    "def kk(a=\"kk\"):\n",
    "    print(a)\n",
    "kk(\"rr\")    \n",
    "\n",
    "def add(a,b):\n",
    "    return a + b\n",
    "\n",
    "c = add(4,5)\n",
    "print(c)"
   ]
  },
  {
   "cell_type": "code",
   "execution_count": 14,
   "id": "706c1013-5535-4cfe-8cf1-93da6eaa7fbd",
   "metadata": {},
   "outputs": [
    {
     "data": {
      "text/plain": [
       "7"
      ]
     },
     "execution_count": 14,
     "metadata": {},
     "output_type": "execute_result"
    }
   ],
   "source": [
    "## 입력값과 리터값에 따른 함수의 형태\n",
    "def add(a,b):\n",
    "    result = a+ b\n",
    "    return result\n",
    "\n",
    "add(3,4)"
   ]
  },
  {
   "cell_type": "code",
   "execution_count": 16,
   "id": "62106bcc-93cd-45e9-b728-9fe753166298",
   "metadata": {},
   "outputs": [
    {
     "data": {
      "text/plain": [
       "'Hi'"
      ]
     },
     "execution_count": 16,
     "metadata": {},
     "output_type": "execute_result"
    }
   ],
   "source": [
    "def say():\n",
    "    return 'Hi'\n",
    "say()"
   ]
  },
  {
   "cell_type": "code",
   "execution_count": 18,
   "id": "e0c2116f-eb2d-4e4f-9825-c245e71f76a1",
   "metadata": {},
   "outputs": [],
   "source": [
    "def add(a,b):\n",
    "    print(\"%d, %d의 합은 %d입니다.\"% (a,b,a+b))"
   ]
  },
  {
   "cell_type": "code",
   "execution_count": 20,
   "id": "d2e3bcb1-c061-4831-b1cb-407313a11f24",
   "metadata": {},
   "outputs": [
    {
     "name": "stdout",
     "output_type": "stream",
     "text": [
      "3, 4의 합은 7입니다.\n"
     ]
    }
   ],
   "source": [
    "add(3,4)"
   ]
  },
  {
   "cell_type": "code",
   "execution_count": 24,
   "id": "626f92a0-b373-47a6-ad95-c4ef4864c651",
   "metadata": {},
   "outputs": [
    {
     "name": "stdout",
     "output_type": "stream",
     "text": [
      "3, 4의 합은 7입니다.\n"
     ]
    }
   ],
   "source": [
    "c = add(3,4)"
   ]
  },
  {
   "cell_type": "code",
   "execution_count": 26,
   "id": "bb09bfa9-e779-4cde-a762-400c752a4cb6",
   "metadata": {},
   "outputs": [
    {
     "name": "stdout",
     "output_type": "stream",
     "text": [
      "None\n"
     ]
    }
   ],
   "source": [
    "print(c)"
   ]
  },
  {
   "cell_type": "code",
   "execution_count": 48,
   "id": "5293985b-4f3d-415a-b079-cab1c08fba74",
   "metadata": {},
   "outputs": [
    {
     "name": "stdout",
     "output_type": "stream",
     "text": [
      "10\n"
     ]
    }
   ],
   "source": [
    "for i in [1,2,3,4]:\n",
    "    if i == 1 :\n",
    "        result = i\n",
    "    else : \n",
    "        result += i\n",
    "\n",
    "print(result)\n",
    "\n",
    "\n",
    "\n",
    "    "
   ]
  },
  {
   "cell_type": "code",
   "execution_count": 44,
   "id": "ff72f540-73eb-4685-9a9d-949c83d38647",
   "metadata": {},
   "outputs": [],
   "source": [
    "def add_man(*rrr):\n",
    "    result = 0\n",
    "    print(rrr)\n",
    "    for i in rrr :\n",
    "        result = result + i\n",
    "    return result "
   ]
  },
  {
   "cell_type": "code",
   "execution_count": 46,
   "id": "cb168d5e-8d4e-4fea-bee9-944d55d982f1",
   "metadata": {},
   "outputs": [
    {
     "name": "stdout",
     "output_type": "stream",
     "text": [
      "(1, 2, 3, 4, 5)\n"
     ]
    },
    {
     "data": {
      "text/plain": [
       "15"
      ]
     },
     "execution_count": 46,
     "metadata": {},
     "output_type": "execute_result"
    }
   ],
   "source": [
    "add_man(1,2,3,4,5)"
   ]
  },
  {
   "cell_type": "code",
   "execution_count": 64,
   "id": "b0f6d07b-1762-405e-afff-cc710eb40ea3",
   "metadata": {},
   "outputs": [
    {
     "data": {
      "text/plain": [
       "120"
      ]
     },
     "execution_count": 64,
     "metadata": {},
     "output_type": "execute_result"
    }
   ],
   "source": [
    "## quiz\n",
    "def mul_sum(*args,mul=True):\n",
    "    if mul :\n",
    "        re = 1\n",
    "        for a in args:\n",
    "            re *= a\n",
    "    else :\n",
    "        re = 0\n",
    "        for a in args:\n",
    "            re += a\n",
    "    return re\n",
    "mul_sum( 1,2,3,4,5,mul=True)\n",
    "        "
   ]
  },
  {
   "cell_type": "code",
   "execution_count": 66,
   "id": "9389257b-bf47-49ff-8be4-e4ef4176edd5",
   "metadata": {},
   "outputs": [
    {
     "data": {
      "text/plain": [
       "(7, 12)"
      ]
     },
     "execution_count": 66,
     "metadata": {},
     "output_type": "execute_result"
    }
   ],
   "source": [
    "def add_and_mul(a,b):\n",
    "    return a+b, a*b\n",
    "\n",
    "add_and_mul(3,4)"
   ]
  },
  {
   "cell_type": "code",
   "execution_count": 72,
   "id": "6231d134-6ec0-4f39-8587-4ee218c1bd18",
   "metadata": {},
   "outputs": [],
   "source": [
    "def say_nick(nick):\n",
    "    if nick == \"바보\" : \n",
    "        return '옥상으로 따라와'\n",
    "    print(f'나의 별명은 {nick}입니다.')"
   ]
  },
  {
   "cell_type": "code",
   "execution_count": 76,
   "id": "36bc3c67-b10c-494e-8ff5-0e57b6e454b2",
   "metadata": {},
   "outputs": [
    {
     "data": {
      "text/plain": [
       "'옥상으로 따라와'"
      ]
     },
     "execution_count": 76,
     "metadata": {},
     "output_type": "execute_result"
    }
   ],
   "source": [
    "say_nick(\"바보\")"
   ]
  },
  {
   "cell_type": "code",
   "execution_count": 78,
   "id": "ba52a395-f521-49b5-9c29-95d1b4e60899",
   "metadata": {},
   "outputs": [],
   "source": [
    "def say_myself(name,age,man=True):\n",
    "    print(f'나의 이름은 {name} 입니다.')\n",
    "    print(f'나이는 {age}입니다.')\n",
    "    if man:\n",
    "        print(\"삐빅, 남자입니다.\")\n",
    "    else :\n",
    "        print(\"삐빅, 여자입니다.\")\n",
    "        "
   ]
  },
  {
   "cell_type": "code",
   "execution_count": 80,
   "id": "0f0877bf-f8a5-4e91-8ef7-c4a81f619571",
   "metadata": {},
   "outputs": [
    {
     "name": "stdout",
     "output_type": "stream",
     "text": [
      "나의 이름은 맹광국 입니다.\n",
      "나이는 20입니다.\n",
      "삐빅, 여자입니다.\n"
     ]
    }
   ],
   "source": [
    "say_myself(\"맹광국\",20, False)"
   ]
  },
  {
   "cell_type": "code",
   "execution_count": 108,
   "id": "18c57639-1fb9-48c2-a447-ffed4fce30bb",
   "metadata": {},
   "outputs": [
    {
     "name": "stdout",
     "output_type": "stream",
     "text": [
      "5\n"
     ]
    }
   ],
   "source": [
    "\n",
    "def kkr(kk):\n",
    "    def vvv(r):\n",
    "        l = kk + r\n",
    "        return l\n",
    "    return vvv(3)\n",
    "\n",
    "print(kkr(2))"
   ]
  },
  {
   "cell_type": "code",
   "execution_count": 114,
   "id": "e6edfc0b-75bc-4ab0-81a4-46b79724bf72",
   "metadata": {},
   "outputs": [],
   "source": [
    "f = open('test.txt','w')\n",
    "f.close()"
   ]
  },
  {
   "cell_type": "code",
   "execution_count": 120,
   "id": "5bc85d73-6ef9-425e-9638-61682277d9e1",
   "metadata": {},
   "outputs": [],
   "source": [
    "f = open('test.txt','w')\n",
    "for i in range(1,10):\n",
    "    f.write(f'{i} 번째 줄입니다.\\n')\n",
    "f.close()"
   ]
  },
  {
   "cell_type": "code",
   "execution_count": 1,
   "id": "3976b911-8079-4ffa-9425-f0506849929c",
   "metadata": {},
   "outputs": [
    {
     "name": "stdout",
     "output_type": "stream",
     "text": [
      "['1 번째 줄입니다.\\n', '2 번째 줄입니다.\\n', '3 번째 줄입니다.\\n', '4 번째 줄입니다.\\n', '5 번째 줄입니다.\\n', '6 번째 줄입니다.\\n', '7 번째 줄입니다.\\n', '8 번째 줄입니다.\\n', '9 번째 줄입니다.\\n']\n"
     ]
    }
   ],
   "source": [
    "#readline 함수 이용하기\n",
    "f = open('test.txt','r')\n",
    "print(f.readlines())"
   ]
  },
  {
   "cell_type": "code",
   "execution_count": 7,
   "id": "d0a5f5d0-60ab-43a1-a705-f2d64ff043cb",
   "metadata": {},
   "outputs": [
    {
     "name": "stdout",
     "output_type": "stream",
     "text": [
      "1 번째 줄입니다.2 번째 줄입니다.3 번째 줄입니다.4 번째 줄입니다.5 번째 줄입니다.6 번째 줄입니다.7 번째 줄입니다.8 번째 줄입니다.9 번째 줄입니다."
     ]
    }
   ],
   "source": [
    "f = open(\"test.txt\",'r')\n",
    "lines = f.readlines()\n",
    "for line in lines:\n",
    "    print(line.replace(\"\\n\",\"\"),end=\"\")\n",
    "f.close()"
   ]
  },
  {
   "cell_type": "code",
   "execution_count": 9,
   "id": "ef3a40d7-36b6-426a-9c1e-f41af0505c9e",
   "metadata": {},
   "outputs": [
    {
     "name": "stdout",
     "output_type": "stream",
     "text": [
      "1 번째 줄입니다.\n",
      "2 번째 줄입니다.\n",
      "3 번째 줄입니다.\n",
      "4 번째 줄입니다.\n",
      "5 번째 줄입니다.\n",
      "6 번째 줄입니다.\n",
      "7 번째 줄입니다.\n",
      "8 번째 줄입니다.\n",
      "9 번째 줄입니다.\n",
      "\n"
     ]
    }
   ],
   "source": [
    "f = open(\"test.txt\",\"r\")\n",
    "data = f.read()\n",
    "print(data)\n",
    "f.close()"
   ]
  },
  {
   "cell_type": "code",
   "execution_count": 13,
   "id": "cb1130e5-8f1c-4766-8968-02c508839ddf",
   "metadata": {},
   "outputs": [],
   "source": [
    "f = open(\"test.txt\",\"a\")\n",
    "for i in range(11,21):\n",
    "    f.write(f'{i} 번째 줄입니다.\\n')\n",
    "f.close()"
   ]
  },
  {
   "cell_type": "code",
   "execution_count": 15,
   "id": "09280b9a-ef1d-47ad-8cc2-13807c540f44",
   "metadata": {},
   "outputs": [],
   "source": [
    "f = open(\"foo.txt\", 'w')\n",
    "f.write(\"Life is too short, you need python\")\n",
    "f.close()\n"
   ]
  },
  {
   "cell_type": "code",
   "execution_count": 17,
   "id": "7e93f408-1837-4613-950b-a22c8f1f2dd3",
   "metadata": {},
   "outputs": [],
   "source": [
    "with open(\"foo.txt\", \"w\") as f:\n",
    "    f.write(\"Life is too short, you need python\")"
   ]
  },
  {
   "cell_type": "code",
   "execution_count": null,
   "id": "6b57be59-94f5-40aa-8413-0d0384366eb3",
   "metadata": {},
   "outputs": [],
   "source": []
  }
 ],
 "metadata": {
  "kernelspec": {
   "display_name": "Python 3 (ipykernel)",
   "language": "python",
   "name": "python3"
  },
  "language_info": {
   "codemirror_mode": {
    "name": "ipython",
    "version": 3
   },
   "file_extension": ".py",
   "mimetype": "text/x-python",
   "name": "python",
   "nbconvert_exporter": "python",
   "pygments_lexer": "ipython3",
   "version": "3.12.4"
  }
 },
 "nbformat": 4,
 "nbformat_minor": 5
}
