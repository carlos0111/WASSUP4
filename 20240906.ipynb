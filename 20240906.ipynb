{
 "cells": [
  {
   "cell_type": "code",
   "execution_count": 3,
   "id": "10ab5b21-060d-4493-9413-c3e8804e89dd",
   "metadata": {},
   "outputs": [
    {
     "data": {
      "text/plain": [
       "bool"
      ]
     },
     "execution_count": 3,
     "metadata": {},
     "output_type": "execute_result"
    }
   ],
   "source": [
    "#101\n",
    "type(True) "
   ]
  },
  {
   "cell_type": "code",
   "execution_count": 5,
   "id": "5c572605-7a17-40ab-861a-a0f4e2e787e8",
   "metadata": {},
   "outputs": [
    {
     "name": "stdout",
     "output_type": "stream",
     "text": [
      "False\n"
     ]
    }
   ],
   "source": [
    "#102\n",
    "print(3==5)"
   ]
  },
  {
   "cell_type": "code",
   "execution_count": 7,
   "id": "5f8d20dc-1601-4400-acb4-18a42929102e",
   "metadata": {},
   "outputs": [
    {
     "name": "stdout",
     "output_type": "stream",
     "text": [
      "True\n"
     ]
    }
   ],
   "source": [
    "#103\n",
    "print(3 < 5)"
   ]
  },
  {
   "cell_type": "code",
   "execution_count": 9,
   "id": "85b89ef0-bdc3-4e42-9112-789202e6a8df",
   "metadata": {},
   "outputs": [
    {
     "name": "stdout",
     "output_type": "stream",
     "text": [
      "True\n"
     ]
    }
   ],
   "source": [
    "#104\n",
    "x = 4\n",
    "print(1 < x < 5)"
   ]
  },
  {
   "cell_type": "code",
   "execution_count": 13,
   "id": "0b18ee87-aa17-48ea-a639-5ba87578162d",
   "metadata": {},
   "outputs": [
    {
     "name": "stdout",
     "output_type": "stream",
     "text": [
      "True\n"
     ]
    }
   ],
   "source": [
    "#105\n",
    "print ((3 == 3) and (4 != 3))"
   ]
  },
  {
   "cell_type": "code",
   "execution_count": 15,
   "id": "e8a20d14-90e7-40b0-bd7b-bed1e40d6063",
   "metadata": {},
   "outputs": [
    {
     "ename": "SyntaxError",
     "evalue": "expression cannot contain assignment, perhaps you meant \"==\"? (3774565717.py, line 1)",
     "output_type": "error",
     "traceback": [
      "\u001b[1;36m  Cell \u001b[1;32mIn[15], line 1\u001b[1;36m\u001b[0m\n\u001b[1;33m    print(3 => 4)\u001b[0m\n\u001b[1;37m          ^\u001b[0m\n\u001b[1;31mSyntaxError\u001b[0m\u001b[1;31m:\u001b[0m expression cannot contain assignment, perhaps you meant \"==\"?\n"
     ]
    }
   ],
   "source": [
    "#106\n",
    "print(3 => 4)"
   ]
  },
  {
   "cell_type": "code",
   "execution_count": 17,
   "id": "163c00d1-a5fb-4b44-aec1-814611d0e596",
   "metadata": {},
   "outputs": [],
   "source": [
    "#107\n",
    "if 4 < 3:\n",
    "    print(\"Hello World\")"
   ]
  },
  {
   "cell_type": "code",
   "execution_count": 19,
   "id": "c22b9872-b891-498c-aac6-372c42c3fbf1",
   "metadata": {},
   "outputs": [
    {
     "name": "stdout",
     "output_type": "stream",
     "text": [
      "Hi, there.\n"
     ]
    }
   ],
   "source": [
    "#108\n",
    "if 4 < 3:\n",
    "    print(\"Hello World.\")\n",
    "else:\n",
    "    print(\"Hi, there.\")\n"
   ]
  },
  {
   "cell_type": "code",
   "execution_count": 21,
   "id": "72007a10-4351-4540-8226-7c891b395a36",
   "metadata": {},
   "outputs": [
    {
     "name": "stdout",
     "output_type": "stream",
     "text": [
      "1\n",
      "2\n",
      "4\n"
     ]
    }
   ],
   "source": [
    "#109\n",
    "if True :\n",
    "    print (\"1\")\n",
    "    print (\"2\")\n",
    "else :\n",
    "    print(\"3\")\n",
    "print(\"4\")\n"
   ]
  },
  {
   "cell_type": "code",
   "execution_count": 201,
   "id": "f5fad9d0-e8ba-41a4-8e1d-3d616fdf5b92",
   "metadata": {},
   "outputs": [
    {
     "name": "stdout",
     "output_type": "stream",
     "text": [
      "3\n",
      "5\n"
     ]
    }
   ],
   "source": [
    "#110\n",
    "if True :\n",
    "    if False:\n",
    "        print(\"1\")\n",
    "        print(\"2\")\n",
    "    else:\n",
    "        print(\"3\")\n",
    "else :\n",
    "    print(\"4\")\n",
    "print(\"5\")\n",
    "\n"
   ]
  },
  {
   "cell_type": "code",
   "execution_count": 213,
   "id": "24fb568c-79f7-445c-8a1b-9c57a126c2e8",
   "metadata": {},
   "outputs": [
    {
     "name": "stdin",
     "output_type": "stream",
     "text": [
      "입력 플리즈 :  안녕하세요\n"
     ]
    },
    {
     "name": "stdout",
     "output_type": "stream",
     "text": [
      "안녕하세요안녕하세요\n"
     ]
    }
   ],
   "source": [
    "#111\n",
    "a = input(\"입력 플리즈 : \")\n",
    "print(a * 2)"
   ]
  },
  {
   "cell_type": "code",
   "execution_count": 219,
   "id": "4e4b4231-1524-47ca-9281-5894c6ce141c",
   "metadata": {},
   "outputs": [
    {
     "name": "stdin",
     "output_type": "stream",
     "text": [
      "입력 :  30\n"
     ]
    },
    {
     "name": "stdout",
     "output_type": "stream",
     "text": [
      "40\n"
     ]
    }
   ],
   "source": [
    "#112\n",
    "a = input(\"입력 : \")\n",
    "b=int(a) + 10\n",
    "print(b)\n",
    "#print()\n"
   ]
  },
  {
   "cell_type": "code",
   "execution_count": 239,
   "id": "36ffcc42-c02d-4670-8b80-82b4bb428c33",
   "metadata": {},
   "outputs": [
    {
     "name": "stdin",
     "output_type": "stream",
     "text": [
      "입력 :  30\n"
     ]
    },
    {
     "name": "stdout",
     "output_type": "stream",
     "text": [
      "짝수\n",
      "짝수\n"
     ]
    }
   ],
   "source": [
    "#113\n",
    "a = input(\"입력 : \")\n",
    "if int(a)%2 == 0 :\n",
    "    print(\"짝수\")\n",
    "else :\n",
    "    print(\"홀수\")\n",
    "\n",
    "out_str = \"짝수\" if int(a)%2==0 else \"홀수\"\n",
    "print(out_str)"
   ]
  },
  {
   "cell_type": "code",
   "execution_count": 249,
   "id": "d4e74298-9f31-4ce6-9985-a6134deab4de",
   "metadata": {},
   "outputs": [
    {
     "name": "stdin",
     "output_type": "stream",
     "text": [
      "입력값:  100\n"
     ]
    },
    {
     "name": "stdout",
     "output_type": "stream",
     "text": [
      "120\n"
     ]
    }
   ],
   "source": [
    "#114\n",
    "a = input(\"입력값: \")\n",
    "b = int(a) + 20\n",
    "\n",
    "if b > 255 :\n",
    "    print(255)\n",
    "else :\n",
    "    print(b)"
   ]
  },
  {
   "cell_type": "code",
   "execution_count": 259,
   "id": "63dcc9c3-3e7d-4c4a-9ece-497c240684d2",
   "metadata": {},
   "outputs": [
    {
     "name": "stdin",
     "output_type": "stream",
     "text": [
      "입력값:  277\n"
     ]
    },
    {
     "name": "stdout",
     "output_type": "stream",
     "text": [
      "255\n"
     ]
    }
   ],
   "source": [
    "#115\n",
    "a = input(\"입력값: \")\n",
    "b = int(a) - 20\n",
    "\n",
    "if b < 0 :\n",
    "    print(0)\n",
    "elif b > 255: \n",
    "    print(255)\n",
    "else : \n",
    "    print(b)"
   ]
  },
  {
   "cell_type": "code",
   "execution_count": 293,
   "id": "a44e0be7-f083-4c37-b192-1e9091168d5e",
   "metadata": {},
   "outputs": [
    {
     "name": "stdin",
     "output_type": "stream",
     "text": [
      "현재시간:  11:00\n"
     ]
    },
    {
     "name": "stdout",
     "output_type": "stream",
     "text": [
      "11:00\n",
      "00\n",
      "True\n",
      "정각입니다.\n"
     ]
    }
   ],
   "source": [
    "#116\n",
    "'''\n",
    "if int(time.split(\":\")[1].strip()) == 0:\n",
    "    print(\"정각 입니다.\")\n",
    "else:\n",
    "    print(\"정각이 아닙니다.\")\n",
    "'''\n",
    "'''\n",
    "if  min == \"00\" :\n",
    "    print(\"정각입니다.\")\n",
    "else:\n",
    "    print(\"정각이 아닙니다.\")\n",
    "\n",
    "'''\n",
    "time = input(\"현재시간: \")\n",
    "print(time)\n",
    "\n",
    "min = time[3:]\n",
    "print(min)\n",
    "\n",
    "con = (min == \"00\")\n",
    "print(con)\n",
    "\n",
    "if con :\n",
    "    print(\"정각입니다.\")\n",
    "else:\n",
    "    print(\"정각이 아닙니다.\")\n",
    "\n",
    "#print(time)\n"
   ]
  },
  {
   "cell_type": "code",
   "execution_count": 305,
   "id": "35ee593f-584d-4627-a083-4f8271be484f",
   "metadata": {},
   "outputs": [
    {
     "name": "stdin",
     "output_type": "stream",
     "text": [
      "입력값 :  망고\n"
     ]
    },
    {
     "name": "stdout",
     "output_type": "stream",
     "text": [
      "오답입니다.\n"
     ]
    }
   ],
   "source": [
    "#117\n",
    "\n",
    "\"\"\"\n",
    "out_str = \"정답입니다.\" if a in fruit else \"오답입니다.\"\n",
    "print(out_str)\"\"\"\n",
    "\n",
    "fruit = [\"사과\",\"포도\",\"홍시\"]\n",
    "\n",
    "a = input(\"입력값 : \")\n",
    "\n",
    "con = a in fruit\n",
    "\n",
    "if con :\n",
    "    print(\"정답입니다.\")\n",
    "else :\n",
    "    print(\"오답입니다.\")"
   ]
  },
  {
   "cell_type": "code",
   "execution_count": 315,
   "id": "55bfcb50-9b16-44fe-b785-51bb613526a2",
   "metadata": {},
   "outputs": [
    {
     "name": "stdin",
     "output_type": "stream",
     "text": [
      "종목명 :  Kakao\n"
     ]
    },
    {
     "name": "stdout",
     "output_type": "stream",
     "text": [
      "투자 경고 종목입니다.\n"
     ]
    }
   ],
   "source": [
    "#118\n",
    "\"\"\"upper_list = [a.upper() for a in warn_investment_list]\n",
    "a = input(\"입력값: \")\n",
    "print(\"투자 경고 종목입니다.\") if a.upper() in upper_list else print(\"투자 경고 종목이 아닙니다.\")\n",
    "\"\"\"\n",
    "warn_investment_list = [\"Microsoft\", \"Google\", \"Naver\", \"Kakao\", \"SAMSUNG\", \"LG\"]\n",
    "#print(warn_investment_list) \n",
    "\n",
    "a = input(\"종목명 : \")\n",
    "\n",
    "con = a in warn_investment_list\n",
    "\n",
    "if con : \n",
    "    print(\"투자 경고 종목입니다.\")\n",
    "else:\n",
    "    print(\"투자 경고 종목이 아닙니다.\")\n",
    "\n"
   ]
  },
  {
   "cell_type": "code",
   "execution_count": 343,
   "id": "567e4425-dfd5-4cbc-b12b-d05da7002d29",
   "metadata": {},
   "outputs": [
    {
     "name": "stdin",
     "output_type": "stream",
     "text": [
      "입력값:  겨울\n"
     ]
    },
    {
     "name": "stdout",
     "output_type": "stream",
     "text": [
      "오답입니다\n"
     ]
    }
   ],
   "source": [
    "\"\"\"\n",
    "out_str = \"정답입니다.\" if fruit.get(a) else \"오답입니다.\"\n",
    "print(out_str)\n",
    "\"\"\"\n",
    "#119\n",
    "fruit = {  \"봄\" : \"딸기\", \n",
    "           \"여름\" : \"토마토\", \n",
    "           \"가을\" : \"사과\"\n",
    "        }\n",
    "\n",
    "a = input(\"입력값: \")\n",
    "\n",
    "con = a in fruit.keys()\n",
    "\n",
    "if con :\n",
    "    print(\"정답입니다\")\n",
    "else :\n",
    "    print(\"오답입니다\")\n",
    "    "
   ]
  },
  {
   "cell_type": "code",
   "execution_count": 345,
   "id": "9048e3a4-8c75-4951-af6d-ef1557bfaaac",
   "metadata": {},
   "outputs": [
    {
     "name": "stdin",
     "output_type": "stream",
     "text": [
      "입력값:  봄\n"
     ]
    },
    {
     "name": "stdout",
     "output_type": "stream",
     "text": [
      "오답입니다.\n"
     ]
    }
   ],
   "source": [
    "#120\n",
    "fruit = {\"봄\" : \"딸기\", \"여름\" : \"토마토\", \"가을\" : \"사과\"}\n",
    "\n",
    "\n",
    "a = input(\"입력값: \")\n",
    "out_str = \"정답입니다.\" if a in fruit.values() else \"오답입니다.\"\n",
    "print(out_str)"
   ]
  },
  {
   "cell_type": "code",
   "execution_count": 369,
   "id": "87c8cc82-ca45-4668-b846-f6ebfd83b5e1",
   "metadata": {},
   "outputs": [
    {
     "name": "stdin",
     "output_type": "stream",
     "text": [
      "입력값:  A\n"
     ]
    },
    {
     "name": "stdout",
     "output_type": "stream",
     "text": [
      "a\n"
     ]
    }
   ],
   "source": [
    "\n",
    "\"\"\"\n",
    "out_str = a.upper() if a.islower() else a.lower()\n",
    "print(out_str)\n",
    "\"\"\"\n",
    "#121\n",
    "a = input(\"입력값: \")\n",
    "#print(ord(a))\n",
    "\n",
    "con = 65<= ord(a) <= 90\n",
    "\n",
    "if con : \n",
    "    print(a.lower())\n",
    "else : \n",
    "    print(a.upper)\n",
    "\n",
    "\n"
   ]
  },
  {
   "cell_type": "code",
   "execution_count": 399,
   "id": "386f30ac-4d81-4bea-94aa-f816f4e62aff",
   "metadata": {},
   "outputs": [
    {
     "name": "stdin",
     "output_type": "stream",
     "text": [
      "입력값:  55\n"
     ]
    },
    {
     "name": "stdout",
     "output_type": "stream",
     "text": [
      "grade is C\n"
     ]
    }
   ],
   "source": [
    "#122\n",
    "\n",
    "a = int(input(\"입력값: \"))\n",
    "\n",
    "if 0 <= a <=20:\n",
    "    grade=\"E\"\n",
    "elif a <= 40:\n",
    "    grade=\"D\"\n",
    "elif a <= 60:\n",
    "    grade=\"C\"\n",
    "elif a <= 80:\n",
    "    grade=\"B\"\n",
    "elif a <= 100:\n",
    "    grade=\"A\"\n",
    "\n",
    "print(f'grade is {grade}')"
   ]
  },
  {
   "cell_type": "code",
   "execution_count": 393,
   "id": "2655bb7d-8558-4ba0-8c51-707b8f949807",
   "metadata": {},
   "outputs": [
    {
     "data": {
      "text/plain": [
       "True"
      ]
     },
     "execution_count": 393,
     "metadata": {},
     "output_type": "execute_result"
    }
   ],
   "source": [
    "a= 20\n",
    "a in list( range(0,21))"
   ]
  },
  {
   "cell_type": "code",
   "execution_count": 714,
   "id": "b839d56c-9b11-4d22-99d0-2551f1e13bce",
   "metadata": {},
   "outputs": [
    {
     "name": "stdin",
     "output_type": "stream",
     "text": [
      "입력: 100 달러\n"
     ]
    },
    {
     "name": "stdout",
     "output_type": "stream",
     "text": [
      "100 <class 'int'>\n",
      "달러 <class 'str'>\n",
      "1167\n",
      "116700 원\n"
     ]
    }
   ],
   "source": [
    "#123\n",
    "r = { \n",
    "      \"달러\":1167, \n",
    "      \"엔\":1.096,\n",
    "      \"유로\":1268,\n",
    "      \"위안\":171\n",
    "}\n",
    "\n",
    "a = input(\"입력:\")\n",
    "b = a.split(\" \")\n",
    "\n",
    "l = int(b[0])\n",
    "d = b[1]\n",
    "print(l , type(l))\n",
    "print(d, type(d))\n",
    "print(r.get(d))\n",
    "\n",
    "\n",
    "print(l * r.get(d),\"원\")\n",
    "\n",
    "\n",
    "#print(f'{l * r.get(d)} 원')\n",
    "\n",
    "#print(str(int(a[0])*r[a[1]])+\"원\")\n",
    "\n",
    "\n"
   ]
  },
  {
   "cell_type": "code",
   "execution_count": 149,
   "id": "77f21a41-2571-40af-aa37-8692877e9be0",
   "metadata": {},
   "outputs": [
    {
     "name": "stdin",
     "output_type": "stream",
     "text": [
      "input number1:  7\n",
      "input number2:  3\n",
      "input number3:  11\n"
     ]
    },
    {
     "name": "stdout",
     "output_type": "stream",
     "text": [
      "11\n"
     ]
    }
   ],
   "source": [
    "#124\n",
    "a = int(input(\"input number1: \"))\n",
    "b = int(input(\"input number2: \"))\n",
    "c = int(input(\"input number3: \"))\n",
    "l = a-b\n",
    "r = a-c\n",
    "k = b-c\n",
    "if l > 0 and r > 0:\n",
    "    print(a)\n",
    "elif k >0 :\n",
    "    print(b)\n",
    "else :\n",
    "    print(c)"
   ]
  },
  {
   "cell_type": "code",
   "execution_count": 683,
   "id": "c1d6b7a7-1754-41f8-a374-5b3887cff5c6",
   "metadata": {},
   "outputs": [
    {
     "name": "stdout",
     "output_type": "stream",
     "text": [
      "5.5 kk\n"
     ]
    }
   ],
   "source": [
    "print(f'{float(5.54555):.1f} kk')\n",
    "\n"
   ]
  },
  {
   "cell_type": "code",
   "execution_count": 675,
   "id": "9dc3cf9a-9106-490d-8db6-e12dd90948e9",
   "metadata": {},
   "outputs": [
    {
     "name": "stdin",
     "output_type": "stream",
     "text": [
      "휴대전화 번호 입력:  010\n"
     ]
    },
    {
     "name": "stdout",
     "output_type": "stream",
     "text": [
      "당신은 알수없음 사용자입니다.\n"
     ]
    }
   ],
   "source": [
    "#125\n",
    "mapp = {\"011\":\"SKT\",\"016\":\"KT\",\"019\":\"LGU\",\"010\":\"알수없음\"}\n",
    "num = input(\"휴대전화 번호 입력: \")\n",
    "first = mapp[num.split(\"-\")[0]]\n",
    "print(f\"당신은 {first} 사용자입니다.\")"
   ]
  },
  {
   "cell_type": "code",
   "execution_count": 167,
   "id": "7072d96b-d059-4781-b427-ad8d87632b97",
   "metadata": {},
   "outputs": [
    {
     "name": "stdin",
     "output_type": "stream",
     "text": [
      " 01234\n"
     ]
    },
    {
     "name": "stdout",
     "output_type": "stream",
     "text": [
      "강북구\n"
     ]
    }
   ],
   "source": [
    "#126\n",
    "l = [\"강북구\",\"강북구\",\"강북구\",\"도봉구\",\"도봉구\",\"도봉구\",\"노원구\",\"노원구\",\"노원구\",\"노원구\"]\n",
    "num = input()\n",
    "if num.startswith(\"01\") :\n",
    "    print(l[int(num[2])])\n",
    "else :\n",
    "    print(\"다시 입력 해 주세요\")"
   ]
  },
  {
   "cell_type": "code",
   "execution_count": 177,
   "id": "b4c1863b-8e02-4df6-8c50-6e9dcfc00ac1",
   "metadata": {},
   "outputs": [
    {
     "name": "stdin",
     "output_type": "stream",
     "text": [
      "주민등록번호 :  840111-2034322\n"
     ]
    },
    {
     "name": "stdout",
     "output_type": "stream",
     "text": [
      "여자\n"
     ]
    }
   ],
   "source": [
    "#127\n",
    "num = input(\"주민등록번호 : \")\n",
    "a = num.split(\"-\")[1][0]\n",
    "if a == \"1\" or a == \"3\":\n",
    "    print(\"남자\")\n",
    "else : \n",
    "    print(\"여자\")"
   ]
  },
  {
   "cell_type": "code",
   "execution_count": 187,
   "id": "85f2a887-c5c4-4a16-923a-cb4d3a3f6694",
   "metadata": {},
   "outputs": [
    {
     "name": "stdin",
     "output_type": "stream",
     "text": [
      "주민등록번호 :  840111-1075721\n"
     ]
    },
    {
     "name": "stdout",
     "output_type": "stream",
     "text": [
      "서울\n"
     ]
    }
   ],
   "source": [
    "#128\n",
    "num = input(\"주민등록번호 : \")\n",
    "a = int(num.split(\"-\")[1][1:3])\n",
    "print(\"서울이 아닙니다.\" if a > 8 else \"서울\")"
   ]
  },
  {
   "cell_type": "code",
   "execution_count": 413,
   "id": "07767a8a-d2e1-4e6e-bc9b-30eec2aae203",
   "metadata": {},
   "outputs": [
    {
     "name": "stdin",
     "output_type": "stream",
     "text": [
      "주민등록번호 :  840111-1075777\n"
     ]
    },
    {
     "name": "stdout",
     "output_type": "stream",
     "text": [
      "유효하지 않은 주민등록번호입니다.\n"
     ]
    }
   ],
   "source": [
    "#129\n",
    "num = input(\"주민등록번호 : \")\n",
    "first= int(num[0])*2+int(num[1])*3+int(num[2])*4+int(num[3])*5+int(num[4])*6+int(num[5])*7\n",
    "last= int(num[7])*8+int(num[8])*9+int(num[9])*2+int(num[10])*3+int(num[11])*4+int(num[12])*5\n",
    "if num[-1] == str(11-((first+last)%11))[-1]:\n",
    "    print(\"유효한 주민등록번호입니다.\")\n",
    "else:\n",
    "    print(\"유효하지 않은 주민등록번호입니다.\")\n"
   ]
  },
  {
   "cell_type": "code",
   "execution_count": 419,
   "id": "be0a7e9e-5817-4735-a032-e5f6f9f8a4fc",
   "metadata": {},
   "outputs": [
    {
     "name": "stdout",
     "output_type": "stream",
     "text": [
      "{'opening_price': '76863000', 'closing_price': '75635000', 'min_price': '75000000', 'max_price': '77007000', 'units_traded': '2398.90090589', 'acc_trade_value': '182518811419.82543', 'prev_closing_price': '76877000', 'units_traded_24H': '3064.78410643', 'acc_trade_value_24H': '233837566306.24479', 'fluctate_24H': '-1300000', 'fluctate_rate_24H': '-1.69', 'date': '1725621977790'}\n",
      "상승장\n"
     ]
    }
   ],
   "source": [
    "#130\n",
    "import requests\n",
    "btc = requests.get(\"https://api.bithumb.com/public/ticker/\").json()['data']\n",
    "\n",
    "변동폭 = float(btc['max_price']) - float(btc['min_price'])\n",
    "시가 = float(btc['opening_price'])\n",
    "최고가 = float(btc['max_price'])\n",
    "\n",
    "if (시가+변동폭) > 최고가:\n",
    "    print(\"상승장\")\n",
    "else:\n",
    "    print(\"하락장\")"
   ]
  },
  {
   "cell_type": "code",
   "execution_count": 423,
   "id": "28ba0824-73ae-42c5-8d40-8c152ddb192a",
   "metadata": {},
   "outputs": [
    {
     "name": "stdout",
     "output_type": "stream",
     "text": [
      "사과\n",
      "귤\n",
      "수박\n"
     ]
    }
   ],
   "source": [
    "#131\n",
    "과일 = [\"사과\", \"귤\", \"수박\"]\n",
    "for 변수 in 과일:\n",
    "    print(변수)\n",
    "##리스트 순서대로 출력"
   ]
  },
  {
   "cell_type": "code",
   "execution_count": 427,
   "id": "af5b3372-b3b6-43cc-907b-f00fe53e3b3e",
   "metadata": {},
   "outputs": [
    {
     "name": "stdout",
     "output_type": "stream",
     "text": [
      "#####\n",
      "#####\n",
      "#####\n"
     ]
    }
   ],
   "source": [
    "#132\n",
    "과일 = [\"사과\", \"귤\", \"수박\"]\n",
    "for 변수 in 과일:\n",
    "  print(\"#####\")\n",
    "##리스트 갯수 만큼 ##### 출력"
   ]
  },
  {
   "cell_type": "code",
   "execution_count": 434,
   "id": "bc9b56d2-9fe7-44ad-b928-fa0c22e7ed1f",
   "metadata": {},
   "outputs": [
    {
     "name": "stdout",
     "output_type": "stream",
     "text": [
      "A\n",
      "B\n",
      "C\n",
      "A\n",
      "B\n",
      "C\n"
     ]
    }
   ],
   "source": [
    "#133\n",
    "for 변수 in [\"A\", \"B\", \"C\"]:\r\n",
    "  print(변수)\n",
    "###\n",
    "변수 = \"A\"\n",
    "print(변수)\n",
    "변수 = \"B\"\n",
    "print(변수)\n",
    "변수 = \"C\"\n",
    "print(변수)\n",
    "\r\n"
   ]
  },
  {
   "cell_type": "code",
   "execution_count": 440,
   "id": "dc5a86c6-1271-4726-8799-6d0880d10ad4",
   "metadata": {},
   "outputs": [
    {
     "name": "stdout",
     "output_type": "stream",
     "text": [
      "출력: A\n",
      "출력: B\n",
      "출력: C\n",
      "출력: A\n",
      "출력: B\n",
      "출력: C\n"
     ]
    }
   ],
   "source": [
    "#134\n",
    "for 변수 in [\"A\", \"B\", \"C\"]:\n",
    "  print(\"출력:\", 변수)\n",
    "\n",
    "\n",
    "###\n",
    "변수 = \"A\"\n",
    "print(\"출력:\", 변수)\n",
    "변수 = \"B\"\n",
    "print(\"출력:\", 변수)\n",
    "변수 = \"C\"\n",
    "print(\"출력:\", 변수)"
   ]
  },
  {
   "cell_type": "code",
   "execution_count": 442,
   "id": "9495ec77-aedb-40d0-a387-e8b2ec127aa5",
   "metadata": {},
   "outputs": [
    {
     "name": "stdout",
     "output_type": "stream",
     "text": [
      "변환: a\n",
      "변환: b\n",
      "변환: c\n",
      "출력: a\n",
      "출력: b\n",
      "출력: c\n"
     ]
    }
   ],
   "source": [
    "#135\n",
    "for 변수 in [\"A\", \"B\", \"C\"]:\n",
    "  b = 변수.lower()\n",
    "  print(\"변환:\", b)\n",
    "\n",
    "\n",
    "###\n",
    "변수 = \"A\"\n",
    "b = 변수.lower()\n",
    "print(\"출력:\", b)\n",
    "변수 = \"B\"\n",
    "b = 변수.lower()\n",
    "print(\"출력:\", b)\n",
    "변수 = \"C\"\n",
    "b = 변수.lower()\n",
    "print(\"출력:\", b)"
   ]
  },
  {
   "cell_type": "code",
   "execution_count": 448,
   "id": "eb260601-40bd-418f-b887-57444209692f",
   "metadata": {},
   "outputs": [
    {
     "name": "stdout",
     "output_type": "stream",
     "text": [
      "10\n",
      "20\n",
      "30\n",
      "10\n",
      "20\n",
      "30\n"
     ]
    }
   ],
   "source": [
    "#136\n",
    "변수 = 10\n",
    "print(변수)\n",
    "변수 = 20\n",
    "print(변수)\n",
    "변수 = 30\n",
    "print(변수)\n",
    "\n",
    "\n",
    "###\n",
    "\n",
    "for 변수 in [10,20,30] :\n",
    "    print(변수)"
   ]
  },
  {
   "cell_type": "code",
   "execution_count": 463,
   "id": "c19ca715-a034-4c15-911c-c7c4523d5471",
   "metadata": {},
   "outputs": [
    {
     "name": "stdout",
     "output_type": "stream",
     "text": [
      "10\n",
      "20\n",
      "30\n",
      "10\n",
      "20\n",
      "30\n"
     ]
    }
   ],
   "source": [
    "#137\n",
    "print(10)\n",
    "print(20)\n",
    "print(30)\n",
    "###\n",
    "for a in [10,20,30]:\n",
    "    print(a) "
   ]
  },
  {
   "cell_type": "code",
   "execution_count": 465,
   "id": "ebc9ea65-8216-4c25-86c5-137bb85df2f1",
   "metadata": {},
   "outputs": [
    {
     "name": "stdout",
     "output_type": "stream",
     "text": [
      "10\n",
      "-------\n",
      "20\n",
      "-------\n",
      "30\n",
      "-------\n",
      "10\n",
      "-------\n",
      "20\n",
      "-------\n",
      "30\n",
      "-------\n"
     ]
    }
   ],
   "source": [
    "#138\n",
    "print(10)\n",
    "print(\"-------\")\n",
    "print(20)\n",
    "print(\"-------\")\n",
    "print(30)\n",
    "print(\"-------\")\n",
    "\n",
    "###\n",
    "for a in [10,20,30]:\n",
    "    print(a)\n",
    "    print(\"-------\")"
   ]
  },
  {
   "cell_type": "code",
   "execution_count": 471,
   "id": "1eb14ed2-bc1f-4d52-a580-86fff33f1d4a",
   "metadata": {},
   "outputs": [
    {
     "name": "stdout",
     "output_type": "stream",
     "text": [
      "++++\n",
      "10\n",
      "20\n",
      "30\n",
      "++++\n",
      "10\n",
      "20\n",
      "30\n"
     ]
    }
   ],
   "source": [
    "#139\n",
    "print(\"++++\")\n",
    "print(10)\n",
    "print(20)\n",
    "print(30)\n",
    "\n",
    "###\n",
    "print(\"++++\")\n",
    "for a in [10, 20, 30]:\n",
    "  print(a)\n"
   ]
  },
  {
   "cell_type": "code",
   "execution_count": 483,
   "id": "5f85e38b-eca6-47db-ac70-65bda4cf87c1",
   "metadata": {},
   "outputs": [
    {
     "name": "stdout",
     "output_type": "stream",
     "text": [
      "-------\n",
      "-------\n",
      "-------\n",
      "-------\n",
      "-------\n",
      "-------\n",
      "-------\n",
      "-------\n"
     ]
    }
   ],
   "source": [
    "#140\n",
    "print(\"-------\")\n",
    "print(\"-------\")\n",
    "print(\"-------\")\n",
    "print(\"-------\")\n",
    "\n",
    "###\n",
    "for a in range(4):\n",
    "    print(\"-------\")"
   ]
  },
  {
   "cell_type": "code",
   "execution_count": 497,
   "id": "39c4293f-e3c5-4bff-b3be-43da5cd7804c",
   "metadata": {},
   "outputs": [
    {
     "name": "stdout",
     "output_type": "stream",
     "text": [
      "110\n",
      "210\n",
      "310\n"
     ]
    }
   ],
   "source": [
    "#141\n",
    "리스트 = [100, 200, 300]\n",
    "\n",
    "\n",
    "###\n",
    "리스트 = [100, 200, 300]\n",
    "for a in 리스트:\n",
    "  print(a + 10)\n"
   ]
  },
  {
   "cell_type": "code",
   "execution_count": 503,
   "id": "1a31252d-8218-48c7-a58a-1b39fb50a257",
   "metadata": {},
   "outputs": [
    {
     "name": "stdout",
     "output_type": "stream",
     "text": [
      "오늘의 메뉴: 김밥\n",
      "오늘의 메뉴: 라면\n",
      "오늘의 메뉴: 튀김\n"
     ]
    }
   ],
   "source": [
    "#142\n",
    "리스트 = [\"김밥\", \"라면\", \"튀김\"]\n",
    "for a in 리스트:\n",
    "  print(\"오늘의 메뉴:\", a)\n"
   ]
  },
  {
   "cell_type": "code",
   "execution_count": 505,
   "id": "9a426e7b-2ba2-455d-8444-ae11bc9e6e36",
   "metadata": {},
   "outputs": [
    {
     "name": "stdout",
     "output_type": "stream",
     "text": [
      "6\n",
      "4\n",
      "4\n"
     ]
    }
   ],
   "source": [
    "#143\n",
    "리스트 = [\"SK하이닉스\", \"삼성전자\", \"LG전자\"]\n",
    "for a in 리스트:\n",
    "  print( len(a))"
   ]
  },
  {
   "cell_type": "code",
   "execution_count": 507,
   "id": "8f549ff1-1d0c-41d4-bb76-121dd636e9d4",
   "metadata": {},
   "outputs": [
    {
     "name": "stdout",
     "output_type": "stream",
     "text": [
      "dog  3\n",
      "cat  3\n",
      "parrot  6\n"
     ]
    }
   ],
   "source": [
    "#144\n",
    "리스트 = ['dog', 'cat', 'parrot']\n",
    "for a in 리스트:\n",
    "  print(f'{a}  {len(a)}')"
   ]
  },
  {
   "cell_type": "code",
   "execution_count": 509,
   "id": "2282b3a6-76c9-4d6d-a46d-9b84bf76ce85",
   "metadata": {},
   "outputs": [
    {
     "name": "stdout",
     "output_type": "stream",
     "text": [
      "d\n",
      "c\n",
      "p\n"
     ]
    }
   ],
   "source": [
    "#145\n",
    "리스트 = ['dog', 'cat', 'parrot']\n",
    "for a in 리스트:\n",
    "  print(a[0])"
   ]
  },
  {
   "cell_type": "code",
   "execution_count": 513,
   "id": "d20e4445-2697-435e-bd1f-a56e61900fa3",
   "metadata": {},
   "outputs": [
    {
     "name": "stdout",
     "output_type": "stream",
     "text": [
      "3 x 1\n",
      "3 x 2\n",
      "3 x 3\n"
     ]
    }
   ],
   "source": [
    "#146\n",
    "리스트 = [1, 2, 3]\n",
    "for a in 리스트:\n",
    "  print(f\"3 x {a}\")"
   ]
  },
  {
   "cell_type": "code",
   "execution_count": 515,
   "id": "fd3fd1f9-917b-4ceb-8d24-0be6521e53f5",
   "metadata": {},
   "outputs": [
    {
     "name": "stdout",
     "output_type": "stream",
     "text": [
      "3 x 1 = 3\n",
      "3 x 2 = 6\n",
      "3 x 3 = 9\n"
     ]
    }
   ],
   "source": [
    "#147\n",
    "리스트 = [1, 2, 3]\n",
    "for a in 리스트:\n",
    "  print(f\"3 x {a} = {3*a}\")"
   ]
  },
  {
   "cell_type": "code",
   "execution_count": 521,
   "id": "dff1bebc-dbdf-4d0a-b99d-6514b4ff7ca9",
   "metadata": {},
   "outputs": [
    {
     "name": "stdout",
     "output_type": "stream",
     "text": [
      "나\n",
      "다\n",
      "라\n"
     ]
    }
   ],
   "source": [
    "#148\n",
    "리스트 = [\"가\", \"나\", \"다\", \"라\"]\n",
    "for a in 리스트[1:]:\n",
    "  print(a)"
   ]
  },
  {
   "cell_type": "code",
   "execution_count": 523,
   "id": "bb342806-5fba-4dee-bda9-3d271ed21049",
   "metadata": {},
   "outputs": [
    {
     "name": "stdout",
     "output_type": "stream",
     "text": [
      "가\n",
      "다\n"
     ]
    }
   ],
   "source": [
    "#149\n",
    "리스트 = [\"가\", \"나\", \"다\", \"라\"]\n",
    "for a in 리스트[: :2]:\n",
    "  print(a)"
   ]
  },
  {
   "cell_type": "code",
   "execution_count": 527,
   "id": "7da8be22-6195-434b-9b3c-d7d76743698e",
   "metadata": {},
   "outputs": [
    {
     "name": "stdout",
     "output_type": "stream",
     "text": [
      "라\n",
      "다\n",
      "나\n",
      "가\n"
     ]
    }
   ],
   "source": [
    "#150\n",
    "리스트 = [\"가\", \"나\", \"다\", \"라\"]\n",
    "for 변수 in 리스트[: :-1]:\n",
    "  print(변수)"
   ]
  },
  {
   "cell_type": "code",
   "execution_count": 559,
   "id": "08f04784-f385-46ba-8c2f-99ec6d9d4e1e",
   "metadata": {},
   "outputs": [
    {
     "name": "stdout",
     "output_type": "stream",
     "text": [
      "-20\n",
      "-3\n"
     ]
    }
   ],
   "source": [
    "#151\n",
    "리스트 = [3, -20, -3, 44]\n",
    "for a in 리스트 :\n",
    "    print(a) if a < 0 else \"\" \n",
    "\n"
   ]
  },
  {
   "cell_type": "code",
   "execution_count": 565,
   "id": "54b66d8f-240c-4e6c-ba19-6237e585f0b6",
   "metadata": {},
   "outputs": [
    {
     "name": "stdout",
     "output_type": "stream",
     "text": [
      "3\n"
     ]
    }
   ],
   "source": [
    "#152\n",
    "리스트 = [3, 100, 23, 44]\n",
    "for a in 리스트:\n",
    "  print(a) if a % 3 == 0 else \"\"\n",
    "    \n"
   ]
  },
  {
   "cell_type": "code",
   "execution_count": 569,
   "id": "da71d422-d7e0-4547-9070-57948ba91cd6",
   "metadata": {},
   "outputs": [
    {
     "name": "stdout",
     "output_type": "stream",
     "text": [
      "12\n",
      "18\n"
     ]
    }
   ],
   "source": [
    "#153\n",
    "리스트 = [13, 21, 12, 14, 30, 18]\n",
    "for a in 리스트:\n",
    "  print(a) if (a < 20) and (a % 3 == 0) else \"\""
   ]
  },
  {
   "cell_type": "code",
   "execution_count": 587,
   "id": "338b925f-b3c9-4fd3-9de8-5e78cc996798",
   "metadata": {},
   "outputs": [
    {
     "name": "stdout",
     "output_type": "stream",
     "text": [
      "study\n",
      "python\n",
      "language\n"
     ]
    }
   ],
   "source": [
    "#154\n",
    "리스트 = [\"I\", \"study\", \"python\", \"language\", \"!\"]\n",
    "for a in 리스트:\n",
    "  print(a) if len(a) >= 3 else \"\"\n",
    "    "
   ]
  },
  {
   "cell_type": "code",
   "execution_count": 585,
   "id": "f1a64770-5baa-4afd-842f-b16034c0f670",
   "metadata": {},
   "outputs": [
    {
     "name": "stdout",
     "output_type": "stream",
     "text": [
      "A\n",
      "D\n"
     ]
    }
   ],
   "source": [
    "#155\n",
    "리스트 = [\"A\", \"b\", \"c\", \"D\"]\n",
    "for a in 리스트:\n",
    "  print(a) if a.isupper() else \"\"\n"
   ]
  },
  {
   "cell_type": "code",
   "execution_count": 583,
   "id": "7f542d9e-242a-4783-b472-0bac898a4118",
   "metadata": {},
   "outputs": [
    {
     "name": "stdout",
     "output_type": "stream",
     "text": [
      "b\n",
      "c\n"
     ]
    }
   ],
   "source": [
    "#156\n",
    "리스트 = [\"A\", \"b\", \"c\", \"D\"]\n",
    "for a in 리스트:\n",
    "  print(a) if a.islower() else \"\"\n",
    "    "
   ]
  },
  {
   "cell_type": "code",
   "execution_count": 687,
   "id": "fccb7770-4ace-4ccf-976d-a4df30e7359c",
   "metadata": {},
   "outputs": [
    {
     "name": "stdout",
     "output_type": "stream",
     "text": [
      "Dog\n",
      "Cat\n",
      "Parrot\n"
     ]
    }
   ],
   "source": [
    "#157\n",
    "리스트 = ['dog', 'cat', 'parrot']\n",
    "for r in  [a.capitalize() for a in 리스트]:\n",
    "    print(r)\n"
   ]
  },
  {
   "cell_type": "code",
   "execution_count": 597,
   "id": "1974669a-98b4-4372-af76-da0fd7656dd1",
   "metadata": {},
   "outputs": [
    {
     "name": "stdout",
     "output_type": "stream",
     "text": [
      "hello\n",
      "ex01\n",
      "intro\n"
     ]
    }
   ],
   "source": [
    "#158\n",
    "리스트 = ['hello.py', 'ex01.py', 'intro.hwp']\n",
    "for b in [a.split(\".\")[0] for a in 리스트]:\n",
    "  print(b) "
   ]
  },
  {
   "cell_type": "code",
   "execution_count": 603,
   "id": "885146dc-fcd3-4ebf-a016-3b99cee882cd",
   "metadata": {},
   "outputs": [
    {
     "name": "stdout",
     "output_type": "stream",
     "text": [
      "intra.h\n",
      "define.h\n"
     ]
    }
   ],
   "source": [
    "#159\n",
    "리스트 = ['intra.h', 'intra.c', 'define.h', 'run.py']\n",
    "for a in 리스트:\n",
    "  b = a.split(\".\")[1]\n",
    "  print(a) if b == \"h\" else \"\"\n",
    "    "
   ]
  },
  {
   "cell_type": "code",
   "execution_count": 607,
   "id": "19a2587c-8693-4854-82e1-c4d60355acf1",
   "metadata": {},
   "outputs": [
    {
     "name": "stdout",
     "output_type": "stream",
     "text": [
      "intra.h\n",
      "intra.c\n",
      "define.h\n"
     ]
    }
   ],
   "source": [
    "#160\n",
    "리스트 = ['intra.h', 'intra.c', 'define.h', 'run.py']\n",
    "for a in 리스트:\n",
    "  b = a.split(\".\")[1]\n",
    "  print(a) if (b == \"h\" or b == \"c\") else \"\""
   ]
  },
  {
   "cell_type": "code",
   "execution_count": null,
   "id": "adfb9c92-021b-47f3-9f1e-55dfb6ac1a8b",
   "metadata": {},
   "outputs": [],
   "source": []
  }
 ],
 "metadata": {
  "kernelspec": {
   "display_name": "Python 3 (ipykernel)",
   "language": "python",
   "name": "python3"
  },
  "language_info": {
   "codemirror_mode": {
    "name": "ipython",
    "version": 3
   },
   "file_extension": ".py",
   "mimetype": "text/x-python",
   "name": "python",
   "nbconvert_exporter": "python",
   "pygments_lexer": "ipython3",
   "version": "3.12.4"
  }
 },
 "nbformat": 4,
 "nbformat_minor": 5
}
