{
 "cells": [
  {
   "cell_type": "markdown",
   "id": "5da279a5-6a56-4c19-b63c-b8595ffe01d2",
   "metadata": {},
   "source": [
    "# 안녕\n"
   ]
  },
  {
   "cell_type": "markdown",
   "id": "31780e30-cffc-42f7-af5a-d3fef6ea13ba",
   "metadata": {},
   "source": []
  }
 ],
 "metadata": {
  "kernelspec": {
   "display_name": "Python 3 (ipykernel)",
   "language": "python",
   "name": "python3"
  },
  "language_info": {
   "codemirror_mode": {
    "name": "ipython",
    "version": 3
   },
   "file_extension": ".py",
   "mimetype": "text/x-python",
   "name": "python",
   "nbconvert_exporter": "python",
   "pygments_lexer": "ipython3",
   "version": "3.12.4"
  }
 },
 "nbformat": 4,
 "nbformat_minor": 5
}
